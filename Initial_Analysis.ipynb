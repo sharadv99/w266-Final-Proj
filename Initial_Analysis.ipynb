{
 "cells": [
  {
   "cell_type": "code",
   "execution_count": 1,
   "metadata": {},
   "outputs": [
    {
     "name": "stderr",
     "output_type": "stream",
     "text": [
      "/home/akhil.patel1896/anaconda3/lib/python3.6/site-packages/h5py/__init__.py:36: FutureWarning: Conversion of the second argument of issubdtype from `float` to `np.floating` is deprecated. In future, it will be treated as `np.float64 == np.dtype(float).type`.\n",
      "  from ._conv import register_converters as _register_converters\n",
      "Using TensorFlow backend.\n"
     ]
    }
   ],
   "source": [
    "import time\n",
    "import numpy as np\n",
    "import pandas as pd\n",
    "import os\n",
    "import pickle as pkl\n",
    "from matplotlib import pyplot as plt\n",
    "from collections import defaultdict\n",
    "import nltk\n",
    "import re\n",
    "from nltk.stem import WordNetLemmatizer\n",
    "from nltk.corpus import wordnet\n",
    "from nltk import sent_tokenize\n",
    "from nltk.tokenize import word_tokenize\n",
    "\n",
    "from collections import Counter\n",
    "\n",
    "%matplotlib inline\n",
    "\n",
    "from keras.preprocessing.text import Tokenizer, text_to_word_sequence\n",
    "from keras.preprocessing.sequence import pad_sequences\n",
    "from keras.utils.np_utils import to_categorical\n",
    "from keras.optimizers import SGD\n",
    "from keras.models import load_model\n",
    "\n",
    "from keras.layers import Embedding\n",
    "from keras.layers import Dense, Input, Flatten, Lambda\n",
    "from keras.layers import Conv1D, MaxPooling1D, Embedding, Merge, Dropout, LSTM, GRU, Bidirectional, TimeDistributed\n",
    "from keras.models import Model, load_model\n",
    "\n",
    "from keras import backend as K\n",
    "from keras.engine.topology import Layer, InputSpec\n",
    "from keras import initializers, regularizers, optimizers\n",
    "from keras.callbacks import History, CSVLogger\n",
    "\n",
    "from sklearn.preprocessing import MultiLabelBinarizer\n",
    "from sklearn.model_selection import train_test_split\n",
    "from sklearn.metrics import precision_score, recall_score, f1_score, precision_recall_curve, average_precision_score, auc"
   ]
  },
  {
   "cell_type": "code",
   "execution_count": 2,
   "metadata": {},
   "outputs": [],
   "source": [
    "full_data = pd.read_pickle(\"./local/full_data.pkl\")\n",
    "USE_sent_embed = np.load(\"./local/USE_token_sentence_embeddings.npy\")\n",
    "full_data[\"USE_token_sentence_embeddings\"] = USE_sent_embed.tolist()"
   ]
  },
  {
   "cell_type": "code",
   "execution_count": 3,
   "metadata": {},
   "outputs": [],
   "source": [
    "full_data = full_data.reset_index()"
   ]
  },
  {
   "cell_type": "code",
   "execution_count": 4,
   "metadata": {},
   "outputs": [
    {
     "data": {
      "text/html": [
       "<div>\n",
       "<style scoped>\n",
       "    .dataframe tbody tr th:only-of-type {\n",
       "        vertical-align: middle;\n",
       "    }\n",
       "\n",
       "    .dataframe tbody tr th {\n",
       "        vertical-align: top;\n",
       "    }\n",
       "\n",
       "    .dataframe thead th {\n",
       "        text-align: right;\n",
       "    }\n",
       "</style>\n",
       "<table border=\"1\" class=\"dataframe\">\n",
       "  <thead>\n",
       "    <tr style=\"text-align: right;\">\n",
       "      <th></th>\n",
       "      <th>index</th>\n",
       "      <th>genres</th>\n",
       "      <th>plots</th>\n",
       "      <th>list_genres</th>\n",
       "      <th>list_genres_consol</th>\n",
       "      <th>USE_tokens</th>\n",
       "      <th>tokenized_words</th>\n",
       "      <th>USE_tokens_sentences</th>\n",
       "      <th>flattened_tokens</th>\n",
       "      <th>binarized_labels</th>\n",
       "      <th>USE_token_plot_embeddings</th>\n",
       "      <th>USE_tokens_sentences_padded</th>\n",
       "      <th>USE_token_sentence_embeddings</th>\n",
       "    </tr>\n",
       "  </thead>\n",
       "  <tbody>\n",
       "    <tr>\n",
       "      <th>224298</th>\n",
       "      <td>255848</td>\n",
       "      <td>Family</td>\n",
       "      <td>The Milky Way is a groundbreaking breastfeedin...</td>\n",
       "      <td>[Family]</td>\n",
       "      <td>[Family]</td>\n",
       "      <td>the milky way is a groundbreaking breastfeedin...</td>\n",
       "      <td>[[milky, way, groundbreaking, breastfeeding, d...</td>\n",
       "      <td>[the milky way is a groundbreaking breastfeedi...</td>\n",
       "      <td>[milky, way, groundbreaking, breastfeeding, do...</td>\n",
       "      <td>[0, 0, 0, 0, 0, 1, 0, 0, 0, 0]</td>\n",
       "      <td>[-0.0630050003528595, -0.06460414081811905, 0....</td>\n",
       "      <td>[the milky way is a groundbreaking breastfeedi...</td>\n",
       "      <td>[[-0.058721527457237244, -0.05953942984342575,...</td>\n",
       "    </tr>\n",
       "    <tr>\n",
       "      <th>224299</th>\n",
       "      <td>255849</td>\n",
       "      <td>Comedy</td>\n",
       "      <td>MLE ('My Little Eye') is based on a true story...</td>\n",
       "      <td>[Comedy]</td>\n",
       "      <td>[Comedy]</td>\n",
       "      <td>mle 'my little eye' is based on a true story j...</td>\n",
       "      <td>[[mle, 'my, little, eye, ', base, true, story,...</td>\n",
       "      <td>[mle 'my little eye' is based on a true story ...</td>\n",
       "      <td>[mle, 'my, little, eye, ', base, true, story, ...</td>\n",
       "      <td>[0, 0, 1, 0, 0, 0, 0, 0, 0, 0]</td>\n",
       "      <td>[-0.0229553934186697, 0.054484546184539795, -0...</td>\n",
       "      <td>[mle 'my little eye' is based on a true story ...</td>\n",
       "      <td>[[0.0776275023818016, 0.08402645587921143, 0.0...</td>\n",
       "    </tr>\n",
       "    <tr>\n",
       "      <th>224300</th>\n",
       "      <td>255850</td>\n",
       "      <td>Drama</td>\n",
       "      <td>Helene Blair is the wife of a prominent busine...</td>\n",
       "      <td>[Drama]</td>\n",
       "      <td>[Drama]</td>\n",
       "      <td>helene blair is the wife of a prominent busine...</td>\n",
       "      <td>[[helene, blair, wife, prominent, businessman,...</td>\n",
       "      <td>[helene blair is the wife of a prominent busin...</td>\n",
       "      <td>[helene, blair, wife, prominent, businessman, ...</td>\n",
       "      <td>[0, 0, 0, 0, 1, 0, 0, 0, 0, 0]</td>\n",
       "      <td>[-0.03255483880639076, 0.0390518419444561, 0.0...</td>\n",
       "      <td>[helene blair is the wife of a prominent busin...</td>\n",
       "      <td>[[0.022109340876340866, 0.05398458614945412, 0...</td>\n",
       "    </tr>\n",
       "    <tr>\n",
       "      <th>224301</th>\n",
       "      <td>255851</td>\n",
       "      <td>Action Drama</td>\n",
       "      <td>The film is based on a state, the full moon, w...</td>\n",
       "      <td>[Action, Drama]</td>\n",
       "      <td>[Action, Drama]</td>\n",
       "      <td>the film is based on a state the full moon whi...</td>\n",
       "      <td>[[film, base, state, full, moon, provide, oppo...</td>\n",
       "      <td>[the film is based on a state the full moon wh...</td>\n",
       "      <td>[film, base, state, full, moon, provide, oppor...</td>\n",
       "      <td>[1, 0, 0, 0, 1, 0, 0, 0, 0, 0]</td>\n",
       "      <td>[-0.02337327040731907, -0.026117825880646706, ...</td>\n",
       "      <td>[the film is based on a state the full moon wh...</td>\n",
       "      <td>[[0.01855345256626606, -0.0379323735833168, -0...</td>\n",
       "    </tr>\n",
       "    <tr>\n",
       "      <th>224302</th>\n",
       "      <td>255852</td>\n",
       "      <td>Comedy</td>\n",
       "      <td>The guys at Humungo Toys have a problem. The h...</td>\n",
       "      <td>[Comedy]</td>\n",
       "      <td>[Comedy]</td>\n",
       "      <td>the guys at humungo toys have a problem. the h...</td>\n",
       "      <td>[[guy, humungo, toys, problem, .], [holiday, s...</td>\n",
       "      <td>[the guys at humungo toys have a problem., the...</td>\n",
       "      <td>[guy, humungo, toys, problem, ., holiday, seas...</td>\n",
       "      <td>[0, 0, 1, 0, 0, 0, 0, 0, 0, 0]</td>\n",
       "      <td>[0.07509728521108627, 0.038567110896110535, -0...</td>\n",
       "      <td>[the guys at humungo toys have a problem., the...</td>\n",
       "      <td>[[0.029480447992682457, 0.01175909023731947, -...</td>\n",
       "    </tr>\n",
       "  </tbody>\n",
       "</table>\n",
       "</div>"
      ],
      "text/plain": [
       "         index         genres  \\\n",
       "224298  255848        Family    \n",
       "224299  255849        Comedy    \n",
       "224300  255850         Drama    \n",
       "224301  255851  Action Drama    \n",
       "224302  255852        Comedy    \n",
       "\n",
       "                                                    plots      list_genres  \\\n",
       "224298  The Milky Way is a groundbreaking breastfeedin...         [Family]   \n",
       "224299  MLE ('My Little Eye') is based on a true story...         [Comedy]   \n",
       "224300  Helene Blair is the wife of a prominent busine...          [Drama]   \n",
       "224301  The film is based on a state, the full moon, w...  [Action, Drama]   \n",
       "224302  The guys at Humungo Toys have a problem. The h...         [Comedy]   \n",
       "\n",
       "       list_genres_consol                                         USE_tokens  \\\n",
       "224298           [Family]  the milky way is a groundbreaking breastfeedin...   \n",
       "224299           [Comedy]  mle 'my little eye' is based on a true story j...   \n",
       "224300            [Drama]  helene blair is the wife of a prominent busine...   \n",
       "224301    [Action, Drama]  the film is based on a state the full moon whi...   \n",
       "224302           [Comedy]  the guys at humungo toys have a problem. the h...   \n",
       "\n",
       "                                          tokenized_words  \\\n",
       "224298  [[milky, way, groundbreaking, breastfeeding, d...   \n",
       "224299  [[mle, 'my, little, eye, ', base, true, story,...   \n",
       "224300  [[helene, blair, wife, prominent, businessman,...   \n",
       "224301  [[film, base, state, full, moon, provide, oppo...   \n",
       "224302  [[guy, humungo, toys, problem, .], [holiday, s...   \n",
       "\n",
       "                                     USE_tokens_sentences  \\\n",
       "224298  [the milky way is a groundbreaking breastfeedi...   \n",
       "224299  [mle 'my little eye' is based on a true story ...   \n",
       "224300  [helene blair is the wife of a prominent busin...   \n",
       "224301  [the film is based on a state the full moon wh...   \n",
       "224302  [the guys at humungo toys have a problem., the...   \n",
       "\n",
       "                                         flattened_tokens  \\\n",
       "224298  [milky, way, groundbreaking, breastfeeding, do...   \n",
       "224299  [mle, 'my, little, eye, ', base, true, story, ...   \n",
       "224300  [helene, blair, wife, prominent, businessman, ...   \n",
       "224301  [film, base, state, full, moon, provide, oppor...   \n",
       "224302  [guy, humungo, toys, problem, ., holiday, seas...   \n",
       "\n",
       "                      binarized_labels  \\\n",
       "224298  [0, 0, 0, 0, 0, 1, 0, 0, 0, 0]   \n",
       "224299  [0, 0, 1, 0, 0, 0, 0, 0, 0, 0]   \n",
       "224300  [0, 0, 0, 0, 1, 0, 0, 0, 0, 0]   \n",
       "224301  [1, 0, 0, 0, 1, 0, 0, 0, 0, 0]   \n",
       "224302  [0, 0, 1, 0, 0, 0, 0, 0, 0, 0]   \n",
       "\n",
       "                                USE_token_plot_embeddings  \\\n",
       "224298  [-0.0630050003528595, -0.06460414081811905, 0....   \n",
       "224299  [-0.0229553934186697, 0.054484546184539795, -0...   \n",
       "224300  [-0.03255483880639076, 0.0390518419444561, 0.0...   \n",
       "224301  [-0.02337327040731907, -0.026117825880646706, ...   \n",
       "224302  [0.07509728521108627, 0.038567110896110535, -0...   \n",
       "\n",
       "                              USE_tokens_sentences_padded  \\\n",
       "224298  [the milky way is a groundbreaking breastfeedi...   \n",
       "224299  [mle 'my little eye' is based on a true story ...   \n",
       "224300  [helene blair is the wife of a prominent busin...   \n",
       "224301  [the film is based on a state the full moon wh...   \n",
       "224302  [the guys at humungo toys have a problem., the...   \n",
       "\n",
       "                            USE_token_sentence_embeddings  \n",
       "224298  [[-0.058721527457237244, -0.05953942984342575,...  \n",
       "224299  [[0.0776275023818016, 0.08402645587921143, 0.0...  \n",
       "224300  [[0.022109340876340866, 0.05398458614945412, 0...  \n",
       "224301  [[0.01855345256626606, -0.0379323735833168, -0...  \n",
       "224302  [[0.029480447992682457, 0.01175909023731947, -...  "
      ]
     },
     "execution_count": 4,
     "metadata": {},
     "output_type": "execute_result"
    }
   ],
   "source": [
    "full_data.tail()"
   ]
  },
  {
   "cell_type": "markdown",
   "metadata": {},
   "source": [
    "## Read in train and test txt files"
   ]
  },
  {
   "cell_type": "code",
   "execution_count": 2,
   "metadata": {},
   "outputs": [],
   "source": [
    "train_genres = open(\"train_genres.txt\", encoding=\"utf-8\").read().split('\\n')\n",
    "train_plots = open(\"train_plots.txt\", encoding=\"utf-8\").read().split('\\n')"
   ]
  },
  {
   "cell_type": "code",
   "execution_count": 3,
   "metadata": {},
   "outputs": [],
   "source": [
    "train_data = pd.DataFrame({\"genres\": train_genres, \"plots\": train_plots})"
   ]
  },
  {
   "cell_type": "code",
   "execution_count": 4,
   "metadata": {},
   "outputs": [
    {
     "data": {
      "text/plain": [
       "204682"
      ]
     },
     "execution_count": 4,
     "metadata": {},
     "output_type": "execute_result"
    }
   ],
   "source": [
    "len(train_data)"
   ]
  },
  {
   "cell_type": "code",
   "execution_count": 5,
   "metadata": {},
   "outputs": [
    {
     "data": {
      "text/plain": [
       "['Adventure', 'Animation', 'Comedy', '']"
      ]
     },
     "execution_count": 5,
     "metadata": {},
     "output_type": "execute_result"
    }
   ],
   "source": [
    "train_data.loc[4][\"genres\"].split(\" \")"
   ]
  },
  {
   "cell_type": "code",
   "execution_count": 6,
   "metadata": {},
   "outputs": [],
   "source": [
    "test_genres = open(\"test_genres.txt\", encoding=\"utf-8\").read().split('\\n')\n",
    "test_plots = open(\"test_plots.txt\", encoding=\"utf-8\").read().split('\\n')"
   ]
  },
  {
   "cell_type": "code",
   "execution_count": 7,
   "metadata": {},
   "outputs": [],
   "source": [
    "test_data = pd.DataFrame({\"genres\": test_genres, \"plots\": test_plots})"
   ]
  },
  {
   "cell_type": "code",
   "execution_count": 8,
   "metadata": {},
   "outputs": [
    {
     "data": {
      "text/plain": [
       "51171"
      ]
     },
     "execution_count": 8,
     "metadata": {},
     "output_type": "execute_result"
    }
   ],
   "source": [
    "len(test_data)"
   ]
  },
  {
   "cell_type": "code",
   "execution_count": 9,
   "metadata": {},
   "outputs": [],
   "source": [
    "#Concat dataframes\n",
    "full_data = pd.concat([train_data, test_data], ignore_index= True)"
   ]
  },
  {
   "cell_type": "markdown",
   "metadata": {},
   "source": [
    "# BRIEF EDA"
   ]
  },
  {
   "cell_type": "code",
   "execution_count": 10,
   "metadata": {},
   "outputs": [],
   "source": [
    "#Convert genres to list for easier analysis\n",
    "def list_genres(row):\n",
    "    return row[\"genres\"].split(\" \")[:-1]"
   ]
  },
  {
   "cell_type": "code",
   "execution_count": 11,
   "metadata": {},
   "outputs": [],
   "source": [
    "full_data[\"list_genres\"] = full_data.apply(lambda row: list_genres(row), axis = 1)"
   ]
  },
  {
   "cell_type": "code",
   "execution_count": 12,
   "metadata": {},
   "outputs": [],
   "source": [
    "count_dict = defaultdict(int)"
   ]
  },
  {
   "cell_type": "code",
   "execution_count": 13,
   "metadata": {},
   "outputs": [],
   "source": [
    "#Count num of movies per genre\n",
    "def dict_count(row):\n",
    "    global count_dict\n",
    "    for genre in row[\"list_genres\"]:\n",
    "        count_dict[genre] += 1"
   ]
  },
  {
   "cell_type": "code",
   "execution_count": 14,
   "metadata": {},
   "outputs": [],
   "source": [
    "#RUN ONLY ONCE!!!\n",
    "count_val_series = full_data.apply(lambda row: dict_count(row), axis = 1)"
   ]
  },
  {
   "cell_type": "code",
   "execution_count": 15,
   "metadata": {},
   "outputs": [
    {
     "name": "stdout",
     "output_type": "stream",
     "text": [
      "27.88% of the movies are Comedy\n",
      "45.84% of the movies are Drama\n",
      "2.37% of the movies are Western\n",
      "7.00% of the movies are Adventure\n",
      "6.21% of the movies are Animation\n",
      "9.71% of the movies are Action\n",
      "11.18% of the movies are Thriller\n",
      "8.08% of the movies are Family\n",
      "11.01% of the movies are Romance\n",
      "5.89% of the movies are Fantasy\n",
      "7.77% of the movies are Horror\n",
      "4.77% of the movies are History\n",
      "4.95% of the movies are Music\n",
      "5.60% of the movies are Sci-Fi\n",
      "2.85% of the movies are War\n",
      "7.27% of the movies are Crime\n",
      "2.23% of the movies are Musical\n",
      "5.18% of the movies are Biography\n",
      "5.40% of the movies are Mystery\n",
      "2.37% of the movies are Sport\n"
     ]
    },
    {
     "data": {
      "text/plain": [
       "[Text(0,0,'Comedy'),\n",
       " Text(0,0,'Drama'),\n",
       " Text(0,0,'Western'),\n",
       " Text(0,0,'Adventure'),\n",
       " Text(0,0,'Animation'),\n",
       " Text(0,0,'Action'),\n",
       " Text(0,0,'Thriller'),\n",
       " Text(0,0,'Family'),\n",
       " Text(0,0,'Romance'),\n",
       " Text(0,0,'Fantasy'),\n",
       " Text(0,0,'Horror'),\n",
       " Text(0,0,'History'),\n",
       " Text(0,0,'Music'),\n",
       " Text(0,0,'Sci-Fi'),\n",
       " Text(0,0,'War'),\n",
       " Text(0,0,'Crime'),\n",
       " Text(0,0,'Musical'),\n",
       " Text(0,0,'Biography'),\n",
       " Text(0,0,'Mystery'),\n",
       " Text(0,0,'Sport')]"
      ]
     },
     "execution_count": 15,
     "metadata": {},
     "output_type": "execute_result"
    },
    {
     "data": {
      "image/png": "[encoded data removed]",
      "text/plain": [
       "<Figure size 432x288 with 1 Axes>"
      ]
     },
     "metadata": {},
     "output_type": "display_data"
    }
   ],
   "source": [
    "#Count num of movies per genre\n",
    "for key,val in count_dict.items():\n",
    "    print(\"{:0.2f}% of the movies are {}\".format(100*val/len(full_data), key))\n",
    "\n",
    "\n",
    "\n",
    "fig, ax = plt.subplots(1,1) \n",
    "ax.bar(range(len(count_dict.keys())), list(count_dict.values()))\n",
    "ax.set_xticks(range(len(count_dict.keys())))\n",
    "ax.set_xticklabels(list(count_dict.keys()), rotation='vertical', fontsize=18)\n",
    "\n"
   ]
  },
  {
   "cell_type": "code",
   "execution_count": 16,
   "metadata": {},
   "outputs": [
    {
     "name": "stdout",
     "output_type": "stream",
     "text": [
      "Avg num of genres: 1.835858872086706\n",
      "Median num of genres: 1.0\n",
      "Max number of genres: 11\n",
      "Min number of genres: 1\n"
     ]
    },
    {
     "data": {
      "text/plain": [
       "(array([1.29306e+05, 6.44310e+04, 4.38940e+04, 1.29500e+04, 3.96000e+03,\n",
       "        1.01100e+03, 2.36000e+02, 5.20000e+01, 6.00000e+00, 7.00000e+00]),\n",
       " array([ 1.,  2.,  3.,  4.,  5.,  6.,  7.,  8.,  9., 10., 11.]),\n",
       " <a list of 10 Patch objects>)"
      ]
     },
     "execution_count": 16,
     "metadata": {},
     "output_type": "execute_result"
    },
    {
     "data": {
      "image/png": "[encoded data removed]",
      "text/plain": [
       "<Figure size 432x288 with 1 Axes>"
      ]
     },
     "metadata": {},
     "output_type": "display_data"
    }
   ],
   "source": [
    "#Number of genres per movie\n",
    "genre_labels = full_data[\"list_genres\"].str.len()\n",
    "print(\"Avg num of genres:\", np.mean(genre_labels))\n",
    "print(\"Median num of genres:\", np.median(genre_labels))\n",
    "print(\"Max number of genres:\", np.max(genre_labels))\n",
    "print(\"Min number of genres:\", np.min(genre_labels))\n",
    "\n",
    "\n",
    "plt.hist(genre_labels)"
   ]
  },
  {
   "cell_type": "code",
   "execution_count": 17,
   "metadata": {},
   "outputs": [
    {
     "name": "stdout",
     "output_type": "stream",
     "text": [
      "The average number of characters in a summary is 458.48165446888345, max is 1192\n"
     ]
    }
   ],
   "source": [
    "#average length of plot summary (characters)\n",
    "avg_num_chars = train_data[\"plots\"].str.len().mean()\n",
    "max_num_chars = train_data[\"plots\"].str.len().max()\n",
    "print(f'The average number of characters in a summary is {avg_num_chars}, max is {max_num_chars}')"
   ]
  },
  {
   "cell_type": "code",
   "execution_count": 18,
   "metadata": {
    "scrolled": true
   },
   "outputs": [
    {
     "name": "stdout",
     "output_type": "stream",
     "text": [
      "The average number of words in a summary is 79.8617855991245, max is 195\n",
      "The average number of sentences in a summary is 4.39193969181462, max is 74\n",
      "18.18371635383909\n"
     ]
    }
   ],
   "source": [
    "avg_num_words = train_data[\"plots\"].str.count(\" \").mean() + 1\n",
    "max_num_words = train_data[\"plots\"].str.count(\" \").max() + 1\n",
    "avg_num_periods = train_data[\"plots\"].str.count(\"[\\.\\?!]\").mean()\n",
    "max_num_periods = train_data[\"plots\"].str.count(\"[\\.\\?!]\").max()\n",
    "print(f'The average number of words in a summary is {avg_num_words}, max is {max_num_words}')\n",
    "print(f'The average number of sentences in a summary is {avg_num_periods}, max is {max_num_periods}')\n",
    "print(avg_num_words/avg_num_periods)"
   ]
  },
  {
   "cell_type": "code",
   "execution_count": 19,
   "metadata": {},
   "outputs": [
    {
     "data": {
      "text/plain": [
       "0"
      ]
     },
     "execution_count": 19,
     "metadata": {},
     "output_type": "execute_result"
    }
   ],
   "source": [
    "train_data[\"plots\"].str.count(\"\\n\").max()"
   ]
  },
  {
   "cell_type": "code",
   "execution_count": 20,
   "metadata": {},
   "outputs": [
    {
     "name": "stdout",
     "output_type": "stream",
     "text": [
      "78.86194193920325\n",
      "194\n"
     ]
    }
   ],
   "source": [
    "#Alternative way to calculate plot length\n",
    "print(train_data[\"plots\"].str.lower().str.split().str.len().mean()) #Avg words\n",
    "print(train_data[\"plots\"].str.lower().str.split().str.len().max()) #Max words"
   ]
  },
  {
   "cell_type": "code",
   "execution_count": 21,
   "metadata": {},
   "outputs": [
    {
     "name": "stdout",
     "output_type": "stream",
     "text": [
      "567468\n",
      "16346270\n"
     ]
    }
   ],
   "source": [
    "dict_words = Counter(\" \".join(train_data[\"plots\"]).split(\" \"))\n",
    "print(len(dict_words.keys())) #should be number of unique words\n",
    "print(sum(dict_words.values())) #should be total number of words"
   ]
  },
  {
   "cell_type": "markdown",
   "metadata": {},
   "source": [
    "# Preprocessing"
   ]
  },
  {
   "cell_type": "code",
   "execution_count": 22,
   "metadata": {},
   "outputs": [
    {
     "name": "stdout",
     "output_type": "stream",
     "text": [
      "[nltk_data] Downloading package averaged_perceptron_tagger to\n",
      "[nltk_data]     /home/akhil.patel1896/nltk_data...\n",
      "[nltk_data]   Package averaged_perceptron_tagger is already up-to-\n",
      "[nltk_data]       date!\n",
      "[nltk_data] Downloading package wordnet to\n",
      "[nltk_data]     /home/akhil.patel1896/nltk_data...\n",
      "[nltk_data]   Package wordnet is already up-to-date!\n"
     ]
    }
   ],
   "source": [
    "#Lemmetizing Function\n",
    "nltk.download('averaged_perceptron_tagger')\n",
    "nltk.download('wordnet')\n",
    "lemmatizer = WordNetLemmatizer()\n",
    "def nltk2wn_tag(nltk_tag):\n",
    "    if nltk_tag.startswith('J'):\n",
    "        return wordnet.ADJ\n",
    "    elif nltk_tag.startswith('V'):\n",
    "        return wordnet.VERB\n",
    "    elif nltk_tag.startswith('N'):\n",
    "        return wordnet.NOUN\n",
    "    elif nltk_tag.startswith('R'):\n",
    "        return wordnet.ADV\n",
    "    else:          \n",
    "        return wordnet.NOUN"
   ]
  },
  {
   "cell_type": "code",
   "execution_count": 23,
   "metadata": {},
   "outputs": [],
   "source": [
    "#Tokenize w/lemmetization AFTER removing stopwords \n",
    "#https://machinelearningmastery.com/clean-text-machine-learning-python/\n",
    "def tokenize(plot, stop_words, lemmatize = False):\n",
    "    \n",
    "    def re_sub(pattern, replace):\n",
    "        return re.sub(pattern, replace, plot)\n",
    "    \n",
    "    plot = plot.lower() #lowercase\n",
    "    plot = re_sub(r\"[-+]?[.\\d]*[\\d]+[:,/.\\d]*\", \"DG\") #generic tag for numbers\n",
    "    plot = re_sub(r\"([!?.]){2,}\", r\"\\1\") #Convert multiple punctuations to the last punctuation mark\n",
    "    plot = plot.replace('-',' ') #separating hyphenated words\n",
    "    plot = plot.replace('_','') #remove underscores\n",
    "    plot = re_sub(r'(?<!\\w)([a-zA-Z])\\.', r'\\1') #remove periods from abbreviations\n",
    "    plot = re_sub('[^\\w\\s\\.\\?\\!\\']','') #remove punctuation besides sentence completers and apostrophes\n",
    "    sentences = nltk.sent_tokenize(plot)\n",
    "    words = list(map(nltk.word_tokenize, sentences))\n",
    "    words = [[x for x in w if not x in stop_words] for w in words]\n",
    "\n",
    "    if lemmatize:\n",
    "        output_lem = [nltk.pos_tag(w) for w in words]\n",
    "        return [[lemmatizer.lemmatize(x[0], pos = nltk2wn_tag(x[1])) for x in w] for w in output_lem]\n",
    "    else:\n",
    "        return words"
   ]
  },
  {
   "cell_type": "code",
   "execution_count": 25,
   "metadata": {},
   "outputs": [
    {
     "name": "stdout",
     "output_type": "stream",
     "text": [
      "[nltk_data] Downloading package punkt to\n",
      "[nltk_data]     /home/akhil.patel1896/nltk_data...\n",
      "[nltk_data]   Package punkt is already up-to-date!\n",
      "[nltk_data] Downloading package stopwords to\n",
      "[nltk_data]     /home/akhil.patel1896/nltk_data...\n",
      "[nltk_data]   Package stopwords is already up-to-date!\n"
     ]
    }
   ],
   "source": [
    "nltk.download('punkt')\n",
    "nltk.download('stopwords')\n",
    "stop = nltk.corpus.stopwords.words('english')"
   ]
  },
  {
   "cell_type": "code",
   "execution_count": 28,
   "metadata": {},
   "outputs": [
    {
     "name": "stdout",
     "output_type": "stream",
     "text": [
      "Total Time to tokenize plots: 1484.1539039611816 seconds\n"
     ]
    }
   ],
   "source": [
    "start = time.time()\n",
    "full_data['tokenized_words'] = full_data.apply(lambda row: tokenize(row['plots'], stop, lemmatize = True), axis=1)\n",
    "end = time.time()\n",
    "print(\"Total Time to tokenize plots:\", end - start, \"seconds\")"
   ]
  },
  {
   "cell_type": "code",
   "execution_count": 29,
   "metadata": {},
   "outputs": [],
   "source": [
    "full_data['flattened_tokens'] = full_data.apply(lambda l: [item for sublist in l['tokenized_words'] for item in sublist], axis=1)"
   ]
  },
  {
   "cell_type": "markdown",
   "metadata": {},
   "source": [
    "# Binarize labels"
   ]
  },
  {
   "cell_type": "code",
   "execution_count": 5,
   "metadata": {},
   "outputs": [],
   "source": [
    "mlb = MultiLabelBinarizer()\n",
    "labels = mlb.fit_transform(full_data[\"list_genres_consol\"])\n",
    "full_data[\"binarized_labels\"] = labels.tolist()"
   ]
  },
  {
   "cell_type": "code",
   "execution_count": 6,
   "metadata": {},
   "outputs": [
    {
     "data": {
      "text/plain": [
       "array(['Action', 'Adventure', 'Comedy', 'Crime', 'Drama', 'Family',\n",
       "       'Horror', 'Romance', 'Sci-Fi', 'Thriller'], dtype=object)"
      ]
     },
     "execution_count": 6,
     "metadata": {},
     "output_type": "execute_result"
    }
   ],
   "source": [
    "mlb.classes_"
   ]
  },
  {
   "cell_type": "code",
   "execution_count": 7,
   "metadata": {},
   "outputs": [
    {
     "data": {
      "text/plain": [
       "(224303, 10)"
      ]
     },
     "execution_count": 7,
     "metadata": {},
     "output_type": "execute_result"
    }
   ],
   "source": [
    "labels.shape"
   ]
  },
  {
   "cell_type": "markdown",
   "metadata": {},
   "source": [
    "# Pickle data"
   ]
  },
  {
   "cell_type": "code",
   "execution_count": 54,
   "metadata": {},
   "outputs": [],
   "source": [
    "full_data.to_pickle(\"./full_data.pkl\")"
   ]
  },
  {
   "cell_type": "code",
   "execution_count": 2,
   "metadata": {},
   "outputs": [],
   "source": [
    "full_data = pd.read_pickle(\"./full_data.pkl\")"
   ]
  },
  {
   "cell_type": "code",
   "execution_count": 75,
   "metadata": {},
   "outputs": [
    {
     "data": {
      "text/html": [
       "<div>\n",
       "<style scoped>\n",
       "    .dataframe tbody tr th:only-of-type {\n",
       "        vertical-align: middle;\n",
       "    }\n",
       "\n",
       "    .dataframe tbody tr th {\n",
       "        vertical-align: top;\n",
       "    }\n",
       "\n",
       "    .dataframe thead th {\n",
       "        text-align: right;\n",
       "    }\n",
       "</style>\n",
       "<table border=\"1\" class=\"dataframe\">\n",
       "  <thead>\n",
       "    <tr style=\"text-align: right;\">\n",
       "      <th></th>\n",
       "      <th>index</th>\n",
       "      <th>genres</th>\n",
       "      <th>plots</th>\n",
       "      <th>list_genres</th>\n",
       "      <th>list_genres_consol</th>\n",
       "      <th>USE_tokens</th>\n",
       "      <th>tokenized_words</th>\n",
       "      <th>USE_tokens_sentences</th>\n",
       "      <th>flattened_tokens</th>\n",
       "      <th>binarized_labels</th>\n",
       "      <th>USE_token_plot_embeddings</th>\n",
       "      <th>USE_tokens_sentences_padded</th>\n",
       "      <th>USE_token_sentence_embeddings</th>\n",
       "    </tr>\n",
       "  </thead>\n",
       "  <tbody>\n",
       "    <tr>\n",
       "      <th>0</th>\n",
       "      <td>0</td>\n",
       "      <td>Comedy</td>\n",
       "      <td>A stranded theatrical troupe manages to get ba...</td>\n",
       "      <td>[Comedy]</td>\n",
       "      <td>[Comedy]</td>\n",
       "      <td>a stranded theatrical troupe manages to get ba...</td>\n",
       "      <td>[[stranded, theatrical, troupe, manages, get, ...</td>\n",
       "      <td>[a stranded theatrical troupe manages to get b...</td>\n",
       "      <td>[stranded, theatrical, troupe, manages, get, b...</td>\n",
       "      <td>[0, 0, 0, 0, 1, 0, 0, 0, 0, 0, 0, 0, 0, 0, 0, ...</td>\n",
       "      <td>[0.06496927887201309, 0.02937605045735836, 0.0...</td>\n",
       "      <td>[a stranded theatrical troupe manages to get b...</td>\n",
       "      <td>[[0.04774859547615051, 0.03576108068227768, -0...</td>\n",
       "    </tr>\n",
       "    <tr>\n",
       "      <th>1</th>\n",
       "      <td>1</td>\n",
       "      <td>Drama</td>\n",
       "      <td>While waiting at the bus stop for the woman he...</td>\n",
       "      <td>[Drama]</td>\n",
       "      <td>[Drama]</td>\n",
       "      <td>while waiting at the bus stop for the woman he...</td>\n",
       "      <td>[[wait, bus, stop, woman, intend, marry, jay, ...</td>\n",
       "      <td>[while waiting at the bus stop for the woman h...</td>\n",
       "      <td>[wait, bus, stop, woman, intend, marry, jay, d...</td>\n",
       "      <td>[0, 0, 0, 0, 0, 0, 1, 0, 0, 0, 0, 0, 0, 0, 0, ...</td>\n",
       "      <td>[0.03805602714419365, 0.05806170403957367, -0....</td>\n",
       "      <td>[while waiting at the bus stop for the woman h...</td>\n",
       "      <td>[[0.030491432175040245, 0.00019499639165587723...</td>\n",
       "    </tr>\n",
       "    <tr>\n",
       "      <th>2</th>\n",
       "      <td>3</td>\n",
       "      <td>Drama</td>\n",
       "      <td>Policeman Lasse rehabilitates young prisoners ...</td>\n",
       "      <td>[Drama]</td>\n",
       "      <td>[Drama]</td>\n",
       "      <td>policeman lasse rehabilitates young prisoners ...</td>\n",
       "      <td>[[policeman, lasse, rehabilitate, young, priso...</td>\n",
       "      <td>[policeman lasse rehabilitates young prisoners...</td>\n",
       "      <td>[policeman, lasse, rehabilitate, young, prison...</td>\n",
       "      <td>[0, 0, 0, 0, 0, 0, 1, 0, 0, 0, 0, 0, 0, 0, 0, ...</td>\n",
       "      <td>[-0.031366996467113495, 0.0004756059206556529,...</td>\n",
       "      <td>[policeman lasse rehabilitates young prisoners...</td>\n",
       "      <td>[[-0.02940049022436142, -0.06734874099493027, ...</td>\n",
       "    </tr>\n",
       "    <tr>\n",
       "      <th>3</th>\n",
       "      <td>4</td>\n",
       "      <td>Adventure Animation Comedy</td>\n",
       "      <td>Patricia and Isobelle O'Sullivan arrives at th...</td>\n",
       "      <td>[Adventure, Animation, Comedy]</td>\n",
       "      <td>[Adventure, Comedy]</td>\n",
       "      <td>patricia and isobelle o'sullivan arrives at th...</td>\n",
       "      <td>[[patricia, isobelle, o'sullivan, arrive, st.,...</td>\n",
       "      <td>[patricia and isobelle o'sullivan arrives at t...</td>\n",
       "      <td>[patricia, isobelle, o'sullivan, arrive, st., ...</td>\n",
       "      <td>[0, 1, 1, 0, 1, 0, 0, 0, 0, 0, 0, 0, 0, 0, 0, ...</td>\n",
       "      <td>[-0.06273579597473145, 0.042697515338659286, -...</td>\n",
       "      <td>[patricia and isobelle o'sullivan arrives at t...</td>\n",
       "      <td>[[0.014844884164631367, 0.0431971549987793, 0....</td>\n",
       "    </tr>\n",
       "    <tr>\n",
       "      <th>4</th>\n",
       "      <td>5</td>\n",
       "      <td>Drama</td>\n",
       "      <td>Anna Zaccheo is a beautiful young woman from a...</td>\n",
       "      <td>[Drama]</td>\n",
       "      <td>[Drama]</td>\n",
       "      <td>anna zaccheo is a beautiful young woman from a...</td>\n",
       "      <td>[[anna, zaccheo, beautiful, young, woman, work...</td>\n",
       "      <td>[anna zaccheo is a beautiful young woman from ...</td>\n",
       "      <td>[anna, zaccheo, beautiful, young, woman, work,...</td>\n",
       "      <td>[0, 0, 0, 0, 0, 0, 1, 0, 0, 0, 0, 0, 0, 0, 0, ...</td>\n",
       "      <td>[-0.03793998435139656, 0.03065059520304203, -0...</td>\n",
       "      <td>[anna zaccheo is a beautiful young woman from ...</td>\n",
       "      <td>[[-0.003618143266066909, 0.0034949216060340405...</td>\n",
       "    </tr>\n",
       "  </tbody>\n",
       "</table>\n",
       "</div>"
      ],
      "text/plain": [
       "   index                       genres  \\\n",
       "0      0                      Comedy    \n",
       "1      1                       Drama    \n",
       "2      3                       Drama    \n",
       "3      4  Adventure Animation Comedy    \n",
       "4      5                       Drama    \n",
       "\n",
       "                                               plots  \\\n",
       "0  A stranded theatrical troupe manages to get ba...   \n",
       "1  While waiting at the bus stop for the woman he...   \n",
       "2  Policeman Lasse rehabilitates young prisoners ...   \n",
       "3  Patricia and Isobelle O'Sullivan arrives at th...   \n",
       "4  Anna Zaccheo is a beautiful young woman from a...   \n",
       "\n",
       "                      list_genres   list_genres_consol  \\\n",
       "0                        [Comedy]             [Comedy]   \n",
       "1                         [Drama]              [Drama]   \n",
       "2                         [Drama]              [Drama]   \n",
       "3  [Adventure, Animation, Comedy]  [Adventure, Comedy]   \n",
       "4                         [Drama]              [Drama]   \n",
       "\n",
       "                                          USE_tokens  \\\n",
       "0  a stranded theatrical troupe manages to get ba...   \n",
       "1  while waiting at the bus stop for the woman he...   \n",
       "2  policeman lasse rehabilitates young prisoners ...   \n",
       "3  patricia and isobelle o'sullivan arrives at th...   \n",
       "4  anna zaccheo is a beautiful young woman from a...   \n",
       "\n",
       "                                     tokenized_words  \\\n",
       "0  [[stranded, theatrical, troupe, manages, get, ...   \n",
       "1  [[wait, bus, stop, woman, intend, marry, jay, ...   \n",
       "2  [[policeman, lasse, rehabilitate, young, priso...   \n",
       "3  [[patricia, isobelle, o'sullivan, arrive, st.,...   \n",
       "4  [[anna, zaccheo, beautiful, young, woman, work...   \n",
       "\n",
       "                                USE_tokens_sentences  \\\n",
       "0  [a stranded theatrical troupe manages to get b...   \n",
       "1  [while waiting at the bus stop for the woman h...   \n",
       "2  [policeman lasse rehabilitates young prisoners...   \n",
       "3  [patricia and isobelle o'sullivan arrives at t...   \n",
       "4  [anna zaccheo is a beautiful young woman from ...   \n",
       "\n",
       "                                    flattened_tokens  \\\n",
       "0  [stranded, theatrical, troupe, manages, get, b...   \n",
       "1  [wait, bus, stop, woman, intend, marry, jay, d...   \n",
       "2  [policeman, lasse, rehabilitate, young, prison...   \n",
       "3  [patricia, isobelle, o'sullivan, arrive, st., ...   \n",
       "4  [anna, zaccheo, beautiful, young, woman, work,...   \n",
       "\n",
       "                                    binarized_labels  \\\n",
       "0  [0, 0, 0, 0, 1, 0, 0, 0, 0, 0, 0, 0, 0, 0, 0, ...   \n",
       "1  [0, 0, 0, 0, 0, 0, 1, 0, 0, 0, 0, 0, 0, 0, 0, ...   \n",
       "2  [0, 0, 0, 0, 0, 0, 1, 0, 0, 0, 0, 0, 0, 0, 0, ...   \n",
       "3  [0, 1, 1, 0, 1, 0, 0, 0, 0, 0, 0, 0, 0, 0, 0, ...   \n",
       "4  [0, 0, 0, 0, 0, 0, 1, 0, 0, 0, 0, 0, 0, 0, 0, ...   \n",
       "\n",
       "                           USE_token_plot_embeddings  \\\n",
       "0  [0.06496927887201309, 0.02937605045735836, 0.0...   \n",
       "1  [0.03805602714419365, 0.05806170403957367, -0....   \n",
       "2  [-0.031366996467113495, 0.0004756059206556529,...   \n",
       "3  [-0.06273579597473145, 0.042697515338659286, -...   \n",
       "4  [-0.03793998435139656, 0.03065059520304203, -0...   \n",
       "\n",
       "                         USE_tokens_sentences_padded  \\\n",
       "0  [a stranded theatrical troupe manages to get b...   \n",
       "1  [while waiting at the bus stop for the woman h...   \n",
       "2  [policeman lasse rehabilitates young prisoners...   \n",
       "3  [patricia and isobelle o'sullivan arrives at t...   \n",
       "4  [anna zaccheo is a beautiful young woman from ...   \n",
       "\n",
       "                       USE_token_sentence_embeddings  \n",
       "0  [[0.04774859547615051, 0.03576108068227768, -0...  \n",
       "1  [[0.030491432175040245, 0.00019499639165587723...  \n",
       "2  [[-0.02940049022436142, -0.06734874099493027, ...  \n",
       "3  [[0.014844884164631367, 0.0431971549987793, 0....  \n",
       "4  [[-0.003618143266066909, 0.0034949216060340405...  "
      ]
     },
     "execution_count": 75,
     "metadata": {},
     "output_type": "execute_result"
    }
   ],
   "source": [
    "full_data.head()"
   ]
  },
  {
   "cell_type": "markdown",
   "metadata": {},
   "source": [
    "# Token analysis"
   ]
  },
  {
   "cell_type": "markdown",
   "metadata": {},
   "source": [
    "Iterate over tokenized words and create dictionaries that keep track of number of tokens, length of sentences, and sentences per plot summary"
   ]
  },
  {
   "cell_type": "code",
   "execution_count": 8,
   "metadata": {},
   "outputs": [
    {
     "name": "stdout",
     "output_type": "stream",
     "text": [
      "224303\n"
     ]
    }
   ],
   "source": [
    "word_dict = {}\n",
    "sent_per_summary_dict = {}\n",
    "word_per_sent_dict = {}\n",
    "rows = len(full_data['tokenized_words'])\n",
    "print(rows)#number of plot summaries\n",
    "for i in range(len(full_data['tokenized_words'])):\n",
    "    length = len(full_data['tokenized_words'][i])\n",
    "    if length in sent_per_summary_dict:\n",
    "        sent_per_summary_dict[length] += 1\n",
    "    else:\n",
    "        sent_per_summary_dict[length] = 1\n",
    "    for j in range(length):\n",
    "        word_count = len(full_data['tokenized_words'][i][j])\n",
    "        if word_count in word_per_sent_dict:\n",
    "            word_per_sent_dict[word_count] += 1\n",
    "        else:\n",
    "            word_per_sent_dict[word_count] = 1\n",
    "        for word in full_data['tokenized_words'][i][j]:\n",
    "            if word in word_dict:\n",
    "                word_dict[word] += 1\n",
    "            else:\n",
    "                word_dict[word] = 1"
   ]
  },
  {
   "cell_type": "code",
   "execution_count": 9,
   "metadata": {},
   "outputs": [
    {
     "name": "stdout",
     "output_type": "stream",
     "text": [
      "221821\n",
      "11000055\n"
     ]
    }
   ],
   "source": [
    "print(len(word_dict.keys())) #should be number of unique words\n",
    "print(sum(word_dict.values())) #should be total number of words"
   ]
  },
  {
   "cell_type": "code",
   "execution_count": 35,
   "metadata": {},
   "outputs": [
    {
     "name": "stdout",
     "output_type": "stream",
     "text": [
      "114657\n",
      "80476\n"
     ]
    }
   ],
   "source": [
    "count = 0\n",
    "twoOrOne = 0\n",
    "for value in word_dict.values():\n",
    "    if value == 1:\n",
    "        count +=1\n",
    "    if value <3:\n",
    "        twoOrOne +=1\n",
    "print(len(word_dict.keys()) - count) # words that appear more than once\n",
    "print(len(word_dict.keys()) - twoOrOne) # words that appear more than twice"
   ]
  },
  {
   "cell_type": "code",
   "execution_count": 36,
   "metadata": {},
   "outputs": [
    {
     "name": "stdout",
     "output_type": "stream",
     "text": [
      "112\n",
      "1016033\n",
      "148\n",
      "12.386278792125847\n"
     ]
    }
   ],
   "source": [
    "print(len(word_per_sent_dict.keys())) #should be number of unique sentence lengths\n",
    "print(sum(word_per_sent_dict.values())) #should be number of sentences in all plots\n",
    "print(max(word_per_sent_dict.keys())) #should be largest sentence length\n",
    "total = 0\n",
    "weight_sum = 0\n",
    "for key, value in word_per_sent_dict.items():\n",
    "    total += value\n",
    "    weight_sum += key*value\n",
    "print(weight_sum/total) #should be average sentence length\n",
    "#print(word_per_sent_dict)"
   ]
  },
  {
   "cell_type": "code",
   "execution_count": 37,
   "metadata": {},
   "outputs": [
    {
     "name": "stdout",
     "output_type": "stream",
     "text": [
      "26\n",
      "28\n",
      "3.971159220333551\n"
     ]
    }
   ],
   "source": [
    "print(len(sent_per_summary_dict.keys())) #should be number of unique sentence lengths per summary\n",
    "print(max(sent_per_summary_dict.keys())) #should be highest amount of sentences per summary\n",
    "total = 0\n",
    "weight_sum = 0\n",
    "for key, value in sent_per_summary_dict.items():\n",
    "    total += value\n",
    "    weight_sum += key*value\n",
    "print(weight_sum/total) #should be average sentence count per summary\n",
    "#print(sent_per_summary_dict)"
   ]
  },
  {
   "cell_type": "markdown",
   "metadata": {},
   "source": [
    "# Load GloVe Word Embeddings"
   ]
  },
  {
   "cell_type": "code",
   "execution_count": 10,
   "metadata": {},
   "outputs": [
    {
     "name": "stdout",
     "output_type": "stream",
     "text": [
      "Found 400001 word vectors.\n"
     ]
    }
   ],
   "source": [
    "#compute an index mapping words to known embeddings, by parsing the data dump of pre-trained embeddings\n",
    "embeddings_index = {}\n",
    "GLOVE_DIR = './glove.6B/'\n",
    "f = open(os.path.join(GLOVE_DIR, 'glove.6B.300d.txt'))\n",
    "for line in f:\n",
    "    values = line.split()\n",
    "    word = values[0]\n",
    "    coefs = np.asarray(values[1:], dtype='float32')\n",
    "    embeddings_index[word] = coefs\n",
    "f.close()\n",
    "\n",
    "print('Found %s word vectors.' % len(embeddings_index))"
   ]
  },
  {
   "cell_type": "code",
   "execution_count": 11,
   "metadata": {},
   "outputs": [],
   "source": [
    "#create average word vector. This will later be used in place of unknown words\n",
    "with open(os.path.join(GLOVE_DIR, 'glove.6B.300d.txt'), 'r') as f:\n",
    "    for i, line in enumerate(f):\n",
    "        pass\n",
    "n_vec = i + 1\n",
    "hidden_dim = len(line.split(' ')) - 1\n",
    "\n",
    "vecs = np.zeros((n_vec, hidden_dim), dtype=np.float32)\n",
    "\n",
    "with open(os.path.join(GLOVE_DIR, 'glove.6B.300d.txt'), 'r') as f:\n",
    "    for i, line in enumerate(f):\n",
    "        vecs[i] = np.array([float(n) for n in line.split(' ')[1:]], dtype=np.float32)\n",
    "\n",
    "average_vec = np.mean(vecs, axis=0)\n",
    "#print(average_vec)"
   ]
  },
  {
   "cell_type": "markdown",
   "metadata": {},
   "source": [
    "# Keras Modeling"
   ]
  },
  {
   "cell_type": "markdown",
   "metadata": {},
   "source": [
    "Based on the above token analysis, we set the following hyperparameters at these initial values"
   ]
  },
  {
   "cell_type": "code",
   "execution_count": 12,
   "metadata": {},
   "outputs": [],
   "source": [
    "MAX_SENT_LENGTH = 15 #Gets ~80% of sentences\n",
    "MAX_SENTS = 5 #Gets ~80% of summaries\n",
    "MAX_NB_WORDS = 80000 #Eliminates words seen two or fewer times\n",
    "EMBEDDING_DIM = 300"
   ]
  },
  {
   "cell_type": "code",
   "execution_count": 13,
   "metadata": {},
   "outputs": [],
   "source": [
    "tokenizer = Tokenizer(num_words=MAX_NB_WORDS)\n",
    "tokenizer.fit_on_texts(full_data['flattened_tokens'])"
   ]
  },
  {
   "cell_type": "code",
   "execution_count": 14,
   "metadata": {},
   "outputs": [],
   "source": [
    "data = np.zeros((len(full_data), MAX_SENTS, MAX_SENT_LENGTH), dtype='int32')\n",
    "doc_lst = []\n",
    "\n",
    "# keep the MAX_NB_WORDS most frequent words and replace the rest with 'UNK'\n",
    "# truncate to the first MAX_SENTS sentences per doc and MAX_SENT_LENGTH words per sentence\n",
    "\n",
    "for summary_num, row in full_data.iterrows():\n",
    "    for sent_num, sent in enumerate(row['tokenized_words']):\n",
    "        if sent_num < MAX_SENTS:\n",
    "            word_num = 0\n",
    "            words_in_sent = []\n",
    "            for _, word in enumerate(sent):\n",
    "                if word_num < MAX_SENT_LENGTH: \n",
    "                    try:\n",
    "                        if (word in tokenizer.word_index) and (tokenizer.word_index[word] < MAX_NB_WORDS):\n",
    "                            data[summary_num, sent_num, word_num] = tokenizer.word_index[word]\n",
    "                            words_in_sent.append(word)\n",
    "                        else:\n",
    "                            data[summary_num, sent_num, word_num] = MAX_NB_WORDS\n",
    "                            words_in_sent.append('UNK')\n",
    "                        word_num = word_num + 1\n",
    "                    except IndexError:\n",
    "                        print(summary_num)\n",
    "                        print(sent_num)\n",
    "                        print(word_num)\n",
    "                        print(row)\n",
    "                        print(word)\n",
    "            doc_lst.append(words_in_sent)"
   ]
  },
  {
   "cell_type": "code",
   "execution_count": 15,
   "metadata": {},
   "outputs": [
    {
     "name": "stdout",
     "output_type": "stream",
     "text": [
      "Total 221821 unique tokens.\n",
      "Shape of data tensor: (224303, 5, 15)\n"
     ]
    }
   ],
   "source": [
    "word_index = tokenizer.word_index\n",
    "print('Total %s unique tokens.' % len(word_index))\n",
    "\n",
    "print('Shape of data tensor:', data.shape)"
   ]
  },
  {
   "cell_type": "code",
   "execution_count": 16,
   "metadata": {},
   "outputs": [
    {
     "name": "stdout",
     "output_type": "stream",
     "text": [
      "65067\n",
      "1\n",
      "156753\n"
     ]
    }
   ],
   "source": [
    "#leverage our embedding_index dictionary and our word_index to compute our embedding matrix\n",
    "embedding_matrix = np.zeros((MAX_NB_WORDS+1, EMBEDDING_DIM))\n",
    "count = 0\n",
    "unknown =0\n",
    "added =0\n",
    "for word, i in word_index.items():\n",
    "    embedding_vector = embeddings_index.get(word)\n",
    "    # words not found in embedding index will be all-zeros.\n",
    "    if embedding_vector is not None and i < MAX_NB_WORDS:\n",
    "        embedding_matrix[i] = embedding_vector\n",
    "        added+=1\n",
    "    elif i == MAX_NB_WORDS:\n",
    "        # index MAX_NB_WORDS in data corresponds to 'UNK'\n",
    "        embedding_matrix[i] = average_vec #use average vector for unknown\n",
    "        unknown+=1\n",
    "    else:\n",
    "        count +=1\n",
    "print(added) #of the MAX_NB_WORDS most frequent tokens in our corpus, this many have GloVe embeddings\n",
    "print(unknown)\n",
    "print(count)"
   ]
  },
  {
   "cell_type": "code",
   "execution_count": 17,
   "metadata": {},
   "outputs": [
    {
     "name": "stdout",
     "output_type": "stream",
     "text": [
      "Total absent words are 112713 which is 50.81 % of total words\n"
     ]
    }
   ],
   "source": [
    "embedding_matrix = np.zeros((len(word_index) + 1, EMBEDDING_DIM))\n",
    "absent_words = 0\n",
    "for word, i in word_index.items():\n",
    "    embedding_vector = embeddings_index.get(word)\n",
    "    if embedding_vector is not None:\n",
    "        # words not found in embedding index will be all-zeros.\n",
    "        embedding_matrix[i] = embedding_vector\n",
    "    else:\n",
    "        absent_words += 1\n",
    "print('Total absent words are', absent_words, 'which is', \"%0.2f\" % (absent_words * 100 / len(word_index)), '% of total words')"
   ]
  },
  {
   "cell_type": "code",
   "execution_count": 18,
   "metadata": {},
   "outputs": [],
   "source": [
    "#load this embedding matrix into an Embedding layer.\n",
    "REG_PARAM = 1e-13\n",
    "l2_reg = regularizers.l2(REG_PARAM)\n",
    "\n",
    "embedding_layer = Embedding(MAX_NB_WORDS + 1,\n",
    "                            EMBEDDING_DIM,\n",
    "                            weights=[embedding_matrix],\n",
    "                            input_length=MAX_SENT_LENGTH,\n",
    "                            embeddings_regularizer=l2_reg,\n",
    "                            mask_zero = True, #determines whether masking is performed, i.e. whether the layers ignore the padded zeros in shorter documents\n",
    "                            trainable=False) #prevent weights from being updated during training"
   ]
  },
  {
   "cell_type": "code",
   "execution_count": 19,
   "metadata": {},
   "outputs": [],
   "source": [
    "embedding_layer = Embedding(len(word_index) + 1,\n",
    "                            EMBEDDING_DIM,\n",
    "                            weights=[embedding_matrix], \n",
    "                            input_length=MAX_SENT_LENGTH, \n",
    "                            trainable=False)"
   ]
  },
  {
   "cell_type": "code",
   "execution_count": 32,
   "metadata": {},
   "outputs": [],
   "source": [
    "#https://medium.com/jatana/report-on-text-classification-using-cnn-rnn-han-f0e887214d5f\n",
    "# sentence_input = Input(shape=(MAX_SENT_LENGTH,), dtype='int32')\n",
    "# embedded_sequences = embedding_layer(sentence_input)\n",
    "# l_lstm = Bidirectional(LSTM(100))(embedded_sequences)\n",
    "# sentEncoder = Model(sentence_input, l_lstm)\n",
    "\n",
    "# review_input = Input(shape=(MAX_SENTS,MAX_SENT_LENGTH), dtype='int32')\n",
    "# review_encoder = TimeDistributed(sentEncoder)(review_input)\n",
    "# l_lstm_sent = Bidirectional(LSTM(100))(review_encoder)\n",
    "# preds = Dense(20, activation='softmax')(l_lstm_sent)\n",
    "# model = Model(review_input, preds)"
   ]
  },
  {
   "cell_type": "code",
   "execution_count": 20,
   "metadata": {},
   "outputs": [],
   "source": [
    "#https://github.com/Hsankesara/DeepResearch/blob/master/Hierarchical_Attention_Network/attention_with_context.py\n",
    "#https://medium.com/analytics-vidhya/hierarchical-attention-networks-d220318cf87e\n",
    "from keras.preprocessing.text import Tokenizer,  text_to_word_sequence\n",
    "from keras.engine.topology import Layer\n",
    "from keras import initializers as initializers, regularizers, constraints\n",
    "from keras.callbacks import Callback, ModelCheckpoint\n",
    "from keras.utils.np_utils import to_categorical\n",
    "from keras.layers import Embedding, Input, Dense, LSTM, GRU, Bidirectional, TimeDistributed\n",
    "from keras import backend as K\n",
    "from keras import optimizers\n",
    "from keras.models import Model\n",
    "def dot_product(x, kernel):\n",
    "    \"\"\"\n",
    "    Wrapper for dot product operation, in order to be compatible with both\n",
    "    Theano and Tensorflow\n",
    "    Args:\n",
    "        x (): input\n",
    "        kernel (): weights\n",
    "    Returns:\n",
    "    \"\"\"\n",
    "    if K.backend() == 'tensorflow':\n",
    "        return K.squeeze(K.dot(x, K.expand_dims(kernel)), axis=-1)\n",
    "    else:\n",
    "        return K.dot(x, kernel)\n",
    "\n",
    "class AttentionWithContext(Layer):\n",
    "    \"\"\"\n",
    "    Attention operation, with a context/query vector, for temporal data.\n",
    "    Supports Masking.\n",
    "    Follows the work of Yang et al. [https://www.cs.cmu.edu/~diyiy/docs/naacl16.pdf]\n",
    "    \"Hierarchical Attention Networks for Document Classification\"\n",
    "    by using a context vector to assist the attention\n",
    "    # Input shape\n",
    "        3D tensor with shape: `(samples, steps, features)`.\n",
    "    # Output shape\n",
    "        2D tensor with shape: `(samples, features)`.\n",
    "    How to use:\n",
    "    Just put it on top of an RNN Layer (GRU/LSTM/SimpleRNN) with return_sequences=True.\n",
    "    The dimensions are inferred based on the output shape of the RNN.\n",
    "    Note: The layer has been tested with Keras 2.0.6\n",
    "    Example:\n",
    "        model.add(LSTM(64, return_sequences=True))\n",
    "        model.add(AttentionWithContext())\n",
    "        # next add a Dense layer (for classification/regression) or whatever...\n",
    "    \"\"\"\n",
    "\n",
    "    def __init__(self,\n",
    "                 W_regularizer=None, u_regularizer=None, b_regularizer=None,\n",
    "                 W_constraint=None, u_constraint=None, b_constraint=None,\n",
    "                 bias=True, **kwargs):\n",
    "\n",
    "        self.supports_masking = True\n",
    "        self.init = initializers.get('glorot_uniform')\n",
    "\n",
    "        self.W_regularizer = regularizers.get(W_regularizer)\n",
    "        self.u_regularizer = regularizers.get(u_regularizer)\n",
    "        self.b_regularizer = regularizers.get(b_regularizer)\n",
    "\n",
    "        self.W_constraint = constraints.get(W_constraint)\n",
    "        self.u_constraint = constraints.get(u_constraint)\n",
    "        self.b_constraint = constraints.get(b_constraint)\n",
    "\n",
    "        self.bias = bias\n",
    "        super(AttentionWithContext, self).__init__(**kwargs)\n",
    "\n",
    "    def build(self, input_shape):\n",
    "        assert len(input_shape) == 3\n",
    "\n",
    "        self.W = self.add_weight((input_shape[-1], input_shape[-1],),\n",
    "                                 initializer=self.init,\n",
    "                                 name='{}_W'.format(self.name),\n",
    "                                 regularizer=self.W_regularizer,\n",
    "                                 constraint=self.W_constraint)\n",
    "        if self.bias:\n",
    "            self.b = self.add_weight((input_shape[-1],),\n",
    "                                     initializer='zero',\n",
    "                                     name='{}_b'.format(self.name),\n",
    "                                     regularizer=self.b_regularizer,\n",
    "                                     constraint=self.b_constraint)\n",
    "\n",
    "        self.u = self.add_weight((input_shape[-1],),\n",
    "                                 initializer=self.init,\n",
    "                                 name='{}_u'.format(self.name),\n",
    "                                 regularizer=self.u_regularizer,\n",
    "                                 constraint=self.u_constraint)\n",
    "\n",
    "        super(AttentionWithContext, self).build(input_shape)\n",
    "\n",
    "    def compute_mask(self, input, input_mask=None):\n",
    "        # do not pass the mask to the next layers\n",
    "        return None\n",
    "\n",
    "    def call(self, x, mask=None):\n",
    "        uit = dot_product(x, self.W)\n",
    "\n",
    "        if self.bias:\n",
    "            uit += self.b\n",
    "\n",
    "        uit = K.tanh(uit)\n",
    "        ait = dot_product(uit, self.u)\n",
    "\n",
    "        a = K.exp(ait)\n",
    "\n",
    "        # apply mask after the exp. will be re-normalized next\n",
    "        if mask is not None:\n",
    "            # Cast the mask to floatX to avoid float64 upcasting in theano\n",
    "            a *= K.cast(mask, K.floatx())\n",
    "\n",
    "        # in some cases especially in the early stages of training the sum may be almost zero\n",
    "        # and this results in NaN's. A workaround is to add a very small positive number ε to the sum.\n",
    "        # a /= K.cast(K.sum(a, axis=1, keepdims=True), K.floatx())\n",
    "        a /= K.cast(K.sum(a, axis=1, keepdims=True) + K.epsilon(), K.floatx())\n",
    "\n",
    "        a = K.expand_dims(a)\n",
    "        weighted_input = x * a\n",
    "        return K.sum(weighted_input, axis=1)\n",
    "\n",
    "    def compute_output_shape(self, input_shape):\n",
    "        return input_shape[0], input_shape[-1]"
   ]
  },
  {
   "cell_type": "code",
   "execution_count": 160,
   "metadata": {},
   "outputs": [],
   "source": [
    "# Words level attention model\n",
    "word_input = Input(shape=(MAX_SENT_LENGTH,), dtype='float32')\n",
    "word_sequences = embedding_layer(word_input)\n",
    "word_lstm = Bidirectional(LSTM(150, return_sequences=True, kernel_regularizer=l2_reg))(word_sequences)\n",
    "word_dense = TimeDistributed(Dense(200, kernel_regularizer=l2_reg))(word_lstm)\n",
    "word_att = AttentionWithContext()(word_dense)\n",
    "wordEncoder = Model(word_input, word_att)\n",
    "\n",
    "# Sentence level attention model\n",
    "sent_input = Input(shape=(MAX_SENTS, MAX_SENT_LENGTH), dtype='float32')\n",
    "sent_encoder = TimeDistributed(wordEncoder)(sent_input)\n",
    "sent_lstm = Bidirectional(LSTM(150, return_sequences=True, kernel_regularizer=l2_reg))(sent_encoder)\n",
    "sent_dense = TimeDistributed(Dense(200, kernel_regularizer=l2_reg))(sent_lstm)\n",
    "sent_att = Dropout(0.5)(AttentionWithContext()(sent_dense))\n",
    "preds = Dense(10, activation='sigmoid')(sent_att)\n",
    "model = Model(sent_input, preds)"
   ]
  },
  {
   "cell_type": "code",
   "execution_count": 161,
   "metadata": {},
   "outputs": [],
   "source": [
    "model.compile(loss='binary_crossentropy',optimizer='adam',  metrics=['accuracy'])"
   ]
  },
  {
   "cell_type": "code",
   "execution_count": 162,
   "metadata": {},
   "outputs": [
    {
     "name": "stdout",
     "output_type": "stream",
     "text": [
      "_________________________________________________________________\n",
      "Layer (type)                 Output Shape              Param #   \n",
      "=================================================================\n",
      "input_2 (InputLayer)         (None, 5, 15)             0         \n",
      "_________________________________________________________________\n",
      "time_distributed_2 (TimeDist (None, 5, 200)            67188400  \n",
      "_________________________________________________________________\n",
      "bidirectional_2 (Bidirection (None, 5, 300)            421200    \n",
      "_________________________________________________________________\n",
      "time_distributed_3 (TimeDist (None, 5, 200)            60200     \n",
      "_________________________________________________________________\n",
      "attention_with_context_2 (At (None, 200)               40400     \n",
      "_________________________________________________________________\n",
      "dropout_1 (Dropout)          (None, 200)               0         \n",
      "_________________________________________________________________\n",
      "dense_3 (Dense)              (None, 10)                2010      \n",
      "=================================================================\n",
      "Total params: 67,712,210\n",
      "Trainable params: 1,165,610\n",
      "Non-trainable params: 66,546,600\n",
      "_________________________________________________________________\n"
     ]
    }
   ],
   "source": [
    "model.summary()"
   ]
  },
  {
   "cell_type": "markdown",
   "metadata": {},
   "source": [
    "# Create train/test split"
   ]
  },
  {
   "cell_type": "code",
   "execution_count": 19,
   "metadata": {},
   "outputs": [],
   "source": [
    "x_train, x_test, y_train, y_test = train_test_split(data, labels, test_size=0.10, random_state=42)"
   ]
  },
  {
   "cell_type": "code",
   "execution_count": 20,
   "metadata": {},
   "outputs": [],
   "source": [
    "#Separate training set into train and dev. Roughly 80% of original data is train, 10% dev, 10% test\n",
    "x_train, x_dev, y_train, y_dev = train_test_split(x_train, y_train, test_size=0.11, random_state=42)"
   ]
  },
  {
   "cell_type": "markdown",
   "metadata": {},
   "source": [
    "# Training the model"
   ]
  },
  {
   "cell_type": "code",
   "execution_count": 159,
   "metadata": {},
   "outputs": [],
   "source": [
    "fname = 'han_food'\n",
    "history = History()\n",
    "csv_logger = CSVLogger('./{0}_{1}.log'.format(fname, REG_PARAM), separator=',', append=True)"
   ]
  },
  {
   "cell_type": "code",
   "execution_count": 163,
   "metadata": {},
   "outputs": [],
   "source": [
    "BATCH_SIZE = 500\n",
    "NUM_EPOCHS = 10"
   ]
  },
  {
   "cell_type": "code",
   "execution_count": 164,
   "metadata": {},
   "outputs": [
    {
     "name": "stdout",
     "output_type": "stream",
     "text": [
      "(88272, 5, 15)\n",
      "(88272, 10)\n"
     ]
    }
   ],
   "source": [
    "print(x_train.shape)\n",
    "print(y_train.shape)"
   ]
  },
  {
   "cell_type": "code",
   "execution_count": 211,
   "metadata": {},
   "outputs": [],
   "source": [
    "x_train = np.stack(new_train[\"embedding\"])"
   ]
  },
  {
   "cell_type": "code",
   "execution_count": 213,
   "metadata": {},
   "outputs": [],
   "source": [
    "y_train = np.stack(new_train[\"binarized_labels\"])"
   ]
  },
  {
   "cell_type": "code",
   "execution_count": 214,
   "metadata": {},
   "outputs": [
    {
     "name": "stdout",
     "output_type": "stream",
     "text": [
      "Epoch 1/10\n",
      " - 216s - loss: 0.3144 - acc: 0.8625\n",
      "Epoch 2/10\n",
      " - 217s - loss: 0.2873 - acc: 0.8759\n",
      "Epoch 3/10\n",
      " - 216s - loss: 0.2641 - acc: 0.8871\n",
      "Epoch 4/10\n",
      " - 218s - loss: 0.2433 - acc: 0.8971\n",
      "Epoch 5/10\n",
      " - 216s - loss: 0.2249 - acc: 0.9060\n",
      "Epoch 6/10\n",
      " - 216s - loss: 0.2088 - acc: 0.9135\n",
      "Epoch 7/10\n",
      " - 217s - loss: 0.1929 - acc: 0.9207\n",
      "Epoch 8/10\n",
      " - 216s - loss: 0.1778 - acc: 0.9279\n",
      "Epoch 9/10\n",
      " - 216s - loss: 0.1610 - acc: 0.9355\n",
      "Epoch 10/10\n",
      " - 217s - loss: 0.1485 - acc: 0.9412\n"
     ]
    }
   ],
   "source": [
    "t1 = time.time()\n",
    "\n",
    "model.fit(x_train, y_train, epochs=NUM_EPOCHS, batch_size=BATCH_SIZE, shuffle=False, \n",
    "          callbacks=[history, csv_logger], verbose=2)\n",
    "\n",
    "t2 = time.time()"
   ]
  },
  {
   "cell_type": "code",
   "execution_count": 215,
   "metadata": {},
   "outputs": [
    {
     "data": {
      "text/plain": [
       "(114730, 5, 15)"
      ]
     },
     "execution_count": 215,
     "metadata": {},
     "output_type": "execute_result"
    }
   ],
   "source": [
    "x_train.shape"
   ]
  },
  {
   "cell_type": "code",
   "execution_count": 27,
   "metadata": {},
   "outputs": [],
   "source": [
    "x_dev = np.stack(dev_set[\"embedding\"])\n",
    "y_dev = np.stack(dev_set[\"binarized_labels\"])"
   ]
  },
  {
   "cell_type": "code",
   "execution_count": 36,
   "metadata": {},
   "outputs": [
    {
     "data": {
      "text/plain": [
       "(22206, 5, 15)"
      ]
     },
     "execution_count": 36,
     "metadata": {},
     "output_type": "execute_result"
    }
   ],
   "source": [
    "x_dev.shape"
   ]
  },
  {
   "cell_type": "code",
   "execution_count": 28,
   "metadata": {},
   "outputs": [],
   "source": [
    "x_test = np.stack(test_set[\"embedding\"])\n",
    "y_test = np.stack(test_set[\"binarized_labels\"])"
   ]
  },
  {
   "cell_type": "markdown",
   "metadata": {},
   "source": [
    "# Evaluation and Metrics"
   ]
  },
  {
   "cell_type": "code",
   "execution_count": 21,
   "metadata": {},
   "outputs": [],
   "source": [
    "def indiv_class_scores(y_true, y_pred, threshold, metric = None):\n",
    "    max_pred = np.array(y_pred.max(axis = 1)).reshape(-1,1)\n",
    "    \n",
    "    #Cant predict 0 for all classes - pick max val as label if all preds below threshold\n",
    "    for i in range(len(max_pred)): \n",
    "        if max_pred[i] > threshold:\n",
    "            max_pred[i] = threshold\n",
    "        else:\n",
    "            pass\n",
    "        \n",
    "    y_pred = y_pred >= max_pred\n",
    "    \n",
    "    for i in range(len(mlb.classes_)):\n",
    "        if metric == \"precision\":\n",
    "            score = precision_score(y_true[:,i], y_pred[:,i])\n",
    "            print(\"The {} for {} is {}\".format(metric, mlb.classes_[i], score))\n",
    "        elif metric == \"recall\":\n",
    "            score = recall_score(y_true[:,i], y_pred[:,i])\n",
    "            print(\"The {} for {} is {}\".format(metric, mlb.classes_[i], score))\n",
    "        elif metric == \"f1\":\n",
    "            score = f1_score(y_true[:,i], y_pred[:,i])\n",
    "            print(\"The {} for {} is {}\".format(metric, mlb.classes_[i], score))\n",
    "        else:\n",
    "            return \"Not a valid metric\""
   ]
  },
  {
   "cell_type": "code",
   "execution_count": 22,
   "metadata": {},
   "outputs": [],
   "source": [
    "def auc_pr(y_true, y_pred):\n",
    "    scores = []\n",
    "    for i in range(len(mlb.classes_)):\n",
    "        p, r, d = precision_recall_curve(y_true[:,i], y_pred[:,i])\n",
    "        score = auc(r,p)\n",
    "        scores.append(score)\n",
    "        print(\"The AUC for {} is {}\".format(mlb.classes_[i], score))\n",
    "    macro_score = np.mean(scores)\n",
    "    y_true_raveled = np.ravel(y_true)\n",
    "    y_pred_raveled = np.ravel(y_pred)\n",
    "    p, r, d = precision_recall_curve(y_true_raveled, y_pred_raveled)\n",
    "    micro_score = auc(r,p)\n",
    "    print(\"The micro-avg AUC is {}\".format(micro_score))\n",
    "    print(\"The macro-avg AUC is {}\".format(macro_score))"
   ]
  },
  {
   "cell_type": "code",
   "execution_count": 54,
   "metadata": {},
   "outputs": [],
   "source": [
    "preds = model.predict(x_dev)"
   ]
  },
  {
   "cell_type": "code",
   "execution_count": 219,
   "metadata": {},
   "outputs": [
    {
     "name": "stdout",
     "output_type": "stream",
     "text": [
      "The precision for Action is 0.402457757296467\n",
      "The precision for Adventure is 0.3301544050862852\n",
      "The precision for Comedy is 0.5648510739290377\n",
      "The precision for Crime is 0.3819938962360122\n",
      "The precision for Drama is 0.7200902934537246\n",
      "The precision for Family is 0.3307061790668348\n",
      "The precision for Horror is 0.4196519959058342\n",
      "The precision for Romance is 0.3073998986315256\n",
      "The precision for Sci-Fi is 0.5281293952180028\n",
      "The precision for Thriller is 0.3377826205393626\n"
     ]
    }
   ],
   "source": [
    "indiv_class_scores(y_dev, preds, threshold = 0.5, metric = \"precision\")"
   ]
  },
  {
   "cell_type": "code",
   "execution_count": 220,
   "metadata": {},
   "outputs": [
    {
     "name": "stdout",
     "output_type": "stream",
     "text": [
      "The recall for Action is 0.5267390430237233\n",
      "The recall for Adventure is 0.40433815350389324\n",
      "The recall for Comedy is 0.6733625689630782\n",
      "The recall for Crime is 0.4028969957081545\n",
      "The recall for Drama is 0.6087786259541985\n",
      "The recall for Family is 0.5004770992366412\n",
      "The recall for Horror is 0.6231003039513677\n",
      "The recall for Romance is 0.44497432134996334\n",
      "The recall for Sci-Fi is 0.5070898041863605\n",
      "The recall for Thriller is 0.4392490258590152\n"
     ]
    }
   ],
   "source": [
    "indiv_class_scores(y_dev, preds, threshold=0.5, metric = \"recall\")"
   ]
  },
  {
   "cell_type": "code",
   "execution_count": 221,
   "metadata": {},
   "outputs": [
    {
     "name": "stdout",
     "output_type": "stream",
     "text": [
      "The f1 for Action is 0.45628700801114597\n",
      "The f1 for Adventure is 0.3635\n",
      "The f1 for Comedy is 0.6143520908621579\n",
      "The f1 for Crime is 0.3921671018276762\n",
      "The f1 for Drama is 0.6597724922440538\n",
      "The f1 for Family is 0.39825360668185267\n",
      "The f1 for Horror is 0.5015290519877676\n",
      "The f1 for Romance is 0.3636091127098322\n",
      "The f1 for Sci-Fi is 0.5173957974509128\n",
      "The f1 for Thriller is 0.3818909762858023\n"
     ]
    }
   ],
   "source": [
    "indiv_class_scores(y_dev, preds, threshold= 0.5, metric= \"f1\")"
   ]
  },
  {
   "cell_type": "code",
   "execution_count": 222,
   "metadata": {},
   "outputs": [],
   "source": [
    "y_pred = preds >= 0.5\n",
    "micro_precision = precision_score(y_dev, y_pred, average = 'micro')\n",
    "weighted_macro_precision = precision_score(y_dev, y_pred, average = 'weighted')\n",
    "micro_recall = recall_score(y_dev, y_pred, average = 'micro')\n",
    "weighted_macro_recall = recall_score(y_dev, y_pred, average = 'weighted')\n",
    "micro_f1 = f1_score(y_dev, y_pred, average = 'micro')\n",
    "weighted_macro_f1 = f1_score(y_dev, y_pred, average = 'weighted')\n"
   ]
  },
  {
   "cell_type": "code",
   "execution_count": 223,
   "metadata": {},
   "outputs": [
    {
     "name": "stdout",
     "output_type": "stream",
     "text": [
      "The micro precision is 0.49403059944820665\n",
      "The weighted macro precision is 0.5242056723657279\n",
      "The micro recall is 0.5494894827874798\n",
      "The weighted macro recall is 0.5494894827874798\n",
      "The micro f1 is 0.520286333139627\n",
      "The weighted macro f1 is 0.5301226351594777\n"
     ]
    }
   ],
   "source": [
    "print(\"The micro precision is\", micro_precision)\n",
    "print(\"The weighted macro precision is\", weighted_macro_precision)\n",
    "print(\"The micro recall is\", micro_recall)\n",
    "print(\"The weighted macro recall is\", weighted_macro_recall)\n",
    "print(\"The micro f1 is\", micro_f1)\n",
    "print(\"The weighted macro f1 is\", weighted_macro_f1)"
   ]
  },
  {
   "cell_type": "code",
   "execution_count": 224,
   "metadata": {},
   "outputs": [
    {
     "name": "stdout",
     "output_type": "stream",
     "text": [
      "0.435419072366631\n",
      "0.5061795338908264\n",
      "0.4636278536757651\n"
     ]
    }
   ],
   "source": [
    "print(precision_score(y_dev, y_pred, average = 'macro'))\n",
    "print(recall_score(y_dev, y_pred, average = 'macro'))\n",
    "print(f1_score(y_dev, y_pred, average = 'macro'))"
   ]
  },
  {
   "cell_type": "code",
   "execution_count": 225,
   "metadata": {},
   "outputs": [
    {
     "name": "stdout",
     "output_type": "stream",
     "text": [
      "The AUC for Action is 0.4903701423839396\n",
      "The AUC for Adventure is 0.38834065384581296\n",
      "The AUC for Comedy is 0.66967551647416\n",
      "The AUC for Crime is 0.41615860195134713\n",
      "The AUC for Drama is 0.7628056362383224\n",
      "The AUC for Family is 0.43707839750731275\n",
      "The AUC for Horror is 0.5385865504797993\n",
      "The AUC for Romance is 0.40922827122725586\n",
      "The AUC for Sci-Fi is 0.5365623752669599\n",
      "The AUC for Thriller is 0.4228048270093775\n",
      "The micro-avg AUC is 0.5581218352275433\n",
      "The macro-avg AUC is 0.5071610972384287\n"
     ]
    }
   ],
   "source": [
    "auc_pr(y_dev, y_pred)"
   ]
  },
  {
   "cell_type": "markdown",
   "metadata": {},
   "source": [
    "# Save and Load Models"
   ]
  },
  {
   "cell_type": "code",
   "execution_count": 189,
   "metadata": {},
   "outputs": [
    {
     "data": {
      "text/html": [
       "<div>\n",
       "<style scoped>\n",
       "    .dataframe tbody tr th:only-of-type {\n",
       "        vertical-align: middle;\n",
       "    }\n",
       "\n",
       "    .dataframe tbody tr th {\n",
       "        vertical-align: top;\n",
       "    }\n",
       "\n",
       "    .dataframe thead th {\n",
       "        text-align: right;\n",
       "    }\n",
       "</style>\n",
       "<table border=\"1\" class=\"dataframe\">\n",
       "  <thead>\n",
       "    <tr style=\"text-align: right;\">\n",
       "      <th></th>\n",
       "      <th>index</th>\n",
       "      <th>genres</th>\n",
       "      <th>plots</th>\n",
       "      <th>list_genres</th>\n",
       "      <th>list_genres_consol</th>\n",
       "      <th>USE_tokens</th>\n",
       "      <th>tokenized_words</th>\n",
       "      <th>USE_tokens_sentences</th>\n",
       "      <th>flattened_tokens</th>\n",
       "      <th>binarized_labels</th>\n",
       "      <th>USE_token_plot_embeddings</th>\n",
       "      <th>USE_tokens_sentences_padded</th>\n",
       "      <th>USE_token_sentence_embeddings</th>\n",
       "      <th>embedding</th>\n",
       "    </tr>\n",
       "  </thead>\n",
       "  <tbody>\n",
       "    <tr>\n",
       "      <th>0</th>\n",
       "      <td>0</td>\n",
       "      <td>Comedy</td>\n",
       "      <td>A stranded theatrical troupe manages to get ba...</td>\n",
       "      <td>[Comedy]</td>\n",
       "      <td>[Comedy]</td>\n",
       "      <td>a stranded theatrical troupe manages to get ba...</td>\n",
       "      <td>[[stranded, theatrical, troupe, manages, get, ...</td>\n",
       "      <td>[a stranded theatrical troupe manages to get b...</td>\n",
       "      <td>[stranded, theatrical, troupe, manages, get, b...</td>\n",
       "      <td>[0, 0, 1, 0, 0, 0, 0, 0, 0, 0]</td>\n",
       "      <td>[0.06496927887201309, 0.02937605045735836, 0.0...</td>\n",
       "      <td>[a stranded theatrical troupe manages to get b...</td>\n",
       "      <td>[[0.04774859547615051, 0.03576108068227768, -0...</td>\n",
       "      <td>[[7990, 3881, 3273, 1578, 8, 41, 38, 73, 12, 7...</td>\n",
       "    </tr>\n",
       "    <tr>\n",
       "      <th>1</th>\n",
       "      <td>1</td>\n",
       "      <td>Drama</td>\n",
       "      <td>While waiting at the bus stop for the woman he...</td>\n",
       "      <td>[Drama]</td>\n",
       "      <td>[Drama]</td>\n",
       "      <td>while waiting at the bus stop for the woman he...</td>\n",
       "      <td>[[wait, bus, stop, woman, intend, marry, jay, ...</td>\n",
       "      <td>[while waiting at the bus stop for the woman h...</td>\n",
       "      <td>[wait, bus, stop, woman, intend, marry, jay, d...</td>\n",
       "      <td>[0, 0, 0, 0, 1, 0, 0, 0, 0, 0]</td>\n",
       "      <td>[0.03805602714419365, 0.05806170403957367, -0....</td>\n",
       "      <td>[while waiting at the bus stop for the woman h...</td>\n",
       "      <td>[[0.030491432175040245, 0.00019499639165587723...</td>\n",
       "      <td>[[377, 1364, 179, 25, 1341, 142, 2062, 1510, 4...</td>\n",
       "    </tr>\n",
       "    <tr>\n",
       "      <th>2</th>\n",
       "      <td>3</td>\n",
       "      <td>Drama</td>\n",
       "      <td>Policeman Lasse rehabilitates young prisoners ...</td>\n",
       "      <td>[Drama]</td>\n",
       "      <td>[Drama]</td>\n",
       "      <td>policeman lasse rehabilitates young prisoners ...</td>\n",
       "      <td>[[policeman, lasse, rehabilitate, young, priso...</td>\n",
       "      <td>[policeman lasse rehabilitates young prisoners...</td>\n",
       "      <td>[policeman, lasse, rehabilitate, young, prison...</td>\n",
       "      <td>[0, 0, 0, 0, 1, 0, 0, 0, 0, 0]</td>\n",
       "      <td>[-0.031366996467113495, 0.0004756059206556529,...</td>\n",
       "      <td>[policeman lasse rehabilitates young prisoners...</td>\n",
       "      <td>[[-0.02940049022436142, -0.06734874099493027, ...</td>\n",
       "      <td>[[1291, 13109, 9460, 10, 935, 11, 903, 399, 31...</td>\n",
       "    </tr>\n",
       "    <tr>\n",
       "      <th>3</th>\n",
       "      <td>4</td>\n",
       "      <td>Adventure Animation Comedy</td>\n",
       "      <td>Patricia and Isobelle O'Sullivan arrives at th...</td>\n",
       "      <td>[Adventure, Animation, Comedy]</td>\n",
       "      <td>[Adventure, Comedy]</td>\n",
       "      <td>patricia and isobelle o'sullivan arrives at th...</td>\n",
       "      <td>[[patricia, isobelle, o'sullivan, arrive, st.,...</td>\n",
       "      <td>[patricia and isobelle o'sullivan arrives at t...</td>\n",
       "      <td>[patricia, isobelle, o'sullivan, arrive, st., ...</td>\n",
       "      <td>[0, 1, 1, 0, 0, 0, 0, 0, 0, 0]</td>\n",
       "      <td>[-0.06273579597473145, 0.042697515338659286, -...</td>\n",
       "      <td>[patricia and isobelle o'sullivan arrives at t...</td>\n",
       "      <td>[[0.014844884164631367, 0.0431971549987793, 0....</td>\n",
       "      <td>[[4199, 58589, 23221, 213, 2084, 1632, 279, 30...</td>\n",
       "    </tr>\n",
       "    <tr>\n",
       "      <th>4</th>\n",
       "      <td>5</td>\n",
       "      <td>Drama</td>\n",
       "      <td>Anna Zaccheo is a beautiful young woman from a...</td>\n",
       "      <td>[Drama]</td>\n",
       "      <td>[Drama]</td>\n",
       "      <td>anna zaccheo is a beautiful young woman from a...</td>\n",
       "      <td>[[anna, zaccheo, beautiful, young, woman, work...</td>\n",
       "      <td>[anna zaccheo is a beautiful young woman from ...</td>\n",
       "      <td>[anna, zaccheo, beautiful, young, woman, work,...</td>\n",
       "      <td>[0, 0, 0, 0, 1, 0, 0, 0, 0, 0]</td>\n",
       "      <td>[-0.03793998435139656, 0.03065059520304203, -0...</td>\n",
       "      <td>[anna zaccheo is a beautiful young woman from ...</td>\n",
       "      <td>[[-0.003618143266066909, 0.0034949216060340405...</td>\n",
       "      <td>[[838, 80000, 162, 10, 25, 34, 358, 17246, 4, ...</td>\n",
       "    </tr>\n",
       "  </tbody>\n",
       "</table>\n",
       "</div>"
      ],
      "text/plain": [
       "   index                       genres  \\\n",
       "0      0                      Comedy    \n",
       "1      1                       Drama    \n",
       "2      3                       Drama    \n",
       "3      4  Adventure Animation Comedy    \n",
       "4      5                       Drama    \n",
       "\n",
       "                                               plots  \\\n",
       "0  A stranded theatrical troupe manages to get ba...   \n",
       "1  While waiting at the bus stop for the woman he...   \n",
       "2  Policeman Lasse rehabilitates young prisoners ...   \n",
       "3  Patricia and Isobelle O'Sullivan arrives at th...   \n",
       "4  Anna Zaccheo is a beautiful young woman from a...   \n",
       "\n",
       "                      list_genres   list_genres_consol  \\\n",
       "0                        [Comedy]             [Comedy]   \n",
       "1                         [Drama]              [Drama]   \n",
       "2                         [Drama]              [Drama]   \n",
       "3  [Adventure, Animation, Comedy]  [Adventure, Comedy]   \n",
       "4                         [Drama]              [Drama]   \n",
       "\n",
       "                                          USE_tokens  \\\n",
       "0  a stranded theatrical troupe manages to get ba...   \n",
       "1  while waiting at the bus stop for the woman he...   \n",
       "2  policeman lasse rehabilitates young prisoners ...   \n",
       "3  patricia and isobelle o'sullivan arrives at th...   \n",
       "4  anna zaccheo is a beautiful young woman from a...   \n",
       "\n",
       "                                     tokenized_words  \\\n",
       "0  [[stranded, theatrical, troupe, manages, get, ...   \n",
       "1  [[wait, bus, stop, woman, intend, marry, jay, ...   \n",
       "2  [[policeman, lasse, rehabilitate, young, priso...   \n",
       "3  [[patricia, isobelle, o'sullivan, arrive, st.,...   \n",
       "4  [[anna, zaccheo, beautiful, young, woman, work...   \n",
       "\n",
       "                                USE_tokens_sentences  \\\n",
       "0  [a stranded theatrical troupe manages to get b...   \n",
       "1  [while waiting at the bus stop for the woman h...   \n",
       "2  [policeman lasse rehabilitates young prisoners...   \n",
       "3  [patricia and isobelle o'sullivan arrives at t...   \n",
       "4  [anna zaccheo is a beautiful young woman from ...   \n",
       "\n",
       "                                    flattened_tokens  \\\n",
       "0  [stranded, theatrical, troupe, manages, get, b...   \n",
       "1  [wait, bus, stop, woman, intend, marry, jay, d...   \n",
       "2  [policeman, lasse, rehabilitate, young, prison...   \n",
       "3  [patricia, isobelle, o'sullivan, arrive, st., ...   \n",
       "4  [anna, zaccheo, beautiful, young, woman, work,...   \n",
       "\n",
       "                 binarized_labels  \\\n",
       "0  [0, 0, 1, 0, 0, 0, 0, 0, 0, 0]   \n",
       "1  [0, 0, 0, 0, 1, 0, 0, 0, 0, 0]   \n",
       "2  [0, 0, 0, 0, 1, 0, 0, 0, 0, 0]   \n",
       "3  [0, 1, 1, 0, 0, 0, 0, 0, 0, 0]   \n",
       "4  [0, 0, 0, 0, 1, 0, 0, 0, 0, 0]   \n",
       "\n",
       "                           USE_token_plot_embeddings  \\\n",
       "0  [0.06496927887201309, 0.02937605045735836, 0.0...   \n",
       "1  [0.03805602714419365, 0.05806170403957367, -0....   \n",
       "2  [-0.031366996467113495, 0.0004756059206556529,...   \n",
       "3  [-0.06273579597473145, 0.042697515338659286, -...   \n",
       "4  [-0.03793998435139656, 0.03065059520304203, -0...   \n",
       "\n",
       "                         USE_tokens_sentences_padded  \\\n",
       "0  [a stranded theatrical troupe manages to get b...   \n",
       "1  [while waiting at the bus stop for the woman h...   \n",
       "2  [policeman lasse rehabilitates young prisoners...   \n",
       "3  [patricia and isobelle o'sullivan arrives at t...   \n",
       "4  [anna zaccheo is a beautiful young woman from ...   \n",
       "\n",
       "                       USE_token_sentence_embeddings  \\\n",
       "0  [[0.04774859547615051, 0.03576108068227768, -0...   \n",
       "1  [[0.030491432175040245, 0.00019499639165587723...   \n",
       "2  [[-0.02940049022436142, -0.06734874099493027, ...   \n",
       "3  [[0.014844884164631367, 0.0431971549987793, 0....   \n",
       "4  [[-0.003618143266066909, 0.0034949216060340405...   \n",
       "\n",
       "                                           embedding  \n",
       "0  [[7990, 3881, 3273, 1578, 8, 41, 38, 73, 12, 7...  \n",
       "1  [[377, 1364, 179, 25, 1341, 142, 2062, 1510, 4...  \n",
       "2  [[1291, 13109, 9460, 10, 935, 11, 903, 399, 31...  \n",
       "3  [[4199, 58589, 23221, 213, 2084, 1632, 279, 30...  \n",
       "4  [[838, 80000, 162, 10, 25, 34, 358, 17246, 4, ...  "
      ]
     },
     "execution_count": 189,
     "metadata": {},
     "output_type": "execute_result"
    }
   ],
   "source": [
    "full_data.head()"
   ]
  },
  {
   "cell_type": "code",
   "execution_count": 23,
   "metadata": {},
   "outputs": [],
   "source": [
    "full_data['embedding'] = data.tolist()"
   ]
  },
  {
   "cell_type": "code",
   "execution_count": 226,
   "metadata": {},
   "outputs": [],
   "source": [
    "model.save('./local/HAN_300dim_undersampling_correct.h5')"
   ]
  },
  {
   "cell_type": "code",
   "execution_count": null,
   "metadata": {},
   "outputs": [],
   "source": [
    "model = load_model('./local/HAN_10epochs.h5', custom_objects={'AttentionLayer': AttentionLayer})\n",
    "#model.save('HAN_10epochs.h5')  # creates a HDF5 file 'my_model.h5'"
   ]
  },
  {
   "cell_type": "code",
   "execution_count": 69,
   "metadata": {},
   "outputs": [],
   "source": [
    "model = load_model('./local/USE_FC_500batch_dropout_fulldata.h5')"
   ]
  },
  {
   "cell_type": "code",
   "execution_count": 24,
   "metadata": {},
   "outputs": [],
   "source": [
    "train_set, test_set = train_test_split(full_data, test_size=0.10, random_state=42)\n",
    "\n",
    "#Separate training set into train and dev. Roughly 80% of original data is train, 10% dev, 10% test\n",
    "train_set, dev_set = train_test_split(train_set, test_size=0.11, random_state=42)"
   ]
  },
  {
   "cell_type": "code",
   "execution_count": 25,
   "metadata": {},
   "outputs": [],
   "source": [
    "def undersample_w_out_replacement(df, genre_counts):\n",
    "    \"\"\"There can be duplicates across genre samples, but not within genre samples\"\"\"\n",
    "    max_records = sorted(genre_counts.items(), key=operator.itemgetter(1))[0][1] #num records for min class\n",
    "    new_df = pd.DataFrame(columns=list(df.columns))\n",
    "    for i in list(genre_counts.keys()):\n",
    "        print(i)\n",
    "        sample_df = df[df[\"list_genres_consol\"].apply(lambda x: str(i) in x)]\n",
    "        new_df = new_df.append(sample_df.sample(max_records, replace = False))\n",
    "    return new_df.sample(frac=1) #shuffles the sample dataframe"
   ]
  },
  {
   "cell_type": "code",
   "execution_count": 26,
   "metadata": {},
   "outputs": [
    {
     "data": {
      "text/plain": [
       "[('Sci-Fi', 11473),\n",
       " ('Adventure', 14310),\n",
       " ('Crime', 14942),\n",
       " ('Horror', 15978),\n",
       " ('Family', 16595),\n",
       " ('Action', 19939),\n",
       " ('Romance', 22628),\n",
       " ('Thriller', 22904),\n",
       " ('Comedy', 57193),\n",
       " ('Drama', 93987)]"
      ]
     },
     "execution_count": 26,
     "metadata": {},
     "output_type": "execute_result"
    }
   ],
   "source": [
    "import operator\n",
    "#Distribution of Genres - imbalanced \n",
    "count_dict_norm = defaultdict(int)\n",
    "\n",
    "def dict_count(row, count_dict):\n",
    "    for genre in row:\n",
    "        count_dict[genre] += 1\n",
    "\n",
    "        \n",
    "count_dict_series = train_set[\"list_genres_consol\"].apply(lambda row: dict_count(row, count_dict_norm))\n",
    "\n",
    "sorted(count_dict_norm.items(), key=operator.itemgetter(1))"
   ]
  },
  {
   "cell_type": "code",
   "execution_count": 31,
   "metadata": {},
   "outputs": [
    {
     "name": "stdout",
     "output_type": "stream",
     "text": [
      "Drama\n",
      "Action\n",
      "Romance\n",
      "Horror\n",
      "Comedy\n",
      "Sci-Fi\n",
      "Family\n",
      "Adventure\n",
      "Thriller\n",
      "Crime\n",
      "total time:  4.4035234451293945 seconds\n"
     ]
    }
   ],
   "source": [
    "start = time.time()\n",
    "new_train = undersample_w_out_replacement(train_set, count_dict_norm)\n",
    "end = time.time()\n",
    "print(\"total time: \", end-start, \"seconds\")"
   ]
  },
  {
   "cell_type": "code",
   "execution_count": 194,
   "metadata": {},
   "outputs": [
    {
     "data": {
      "text/plain": [
       "defaultdict(int,\n",
       "            {'Action': 27720,\n",
       "             'Adventure': 21659,\n",
       "             'Comedy': 33155,\n",
       "             'Drama': 49073,\n",
       "             'Romance': 20934,\n",
       "             'Horror': 19112,\n",
       "             'Crime': 20339,\n",
       "             'Thriller': 27628,\n",
       "             'Family': 17453,\n",
       "             'Sci-Fi': 19300})"
      ]
     },
     "execution_count": 194,
     "metadata": {},
     "output_type": "execute_result"
    }
   ],
   "source": [
    "#Sample without replacement - more balanced\n",
    "count_dict_undersample_w_out_replacement = defaultdict(int)\n",
    "count_val_series_2 = new_train[\"list_genres_consol\"].apply(lambda row: dict_count(row, count_dict_undersample_w_out_replacement))\n",
    "count_dict_undersample_w_out_replacement"
   ]
  },
  {
   "cell_type": "code",
   "execution_count": 195,
   "metadata": {},
   "outputs": [
    {
     "data": {
      "text/plain": [
       "[Text(0,0,'Action'),\n",
       " Text(0,0,'Adventure'),\n",
       " Text(0,0,'Comedy'),\n",
       " Text(0,0,'Drama'),\n",
       " Text(0,0,'Romance'),\n",
       " Text(0,0,'Horror'),\n",
       " Text(0,0,'Crime'),\n",
       " Text(0,0,'Thriller'),\n",
       " Text(0,0,'Family'),\n",
       " Text(0,0,'Sci-Fi')]"
      ]
     },
     "execution_count": 195,
     "metadata": {},
     "output_type": "execute_result"
    },
    {
     "data": {
      "image/png": "[encoded data removed]",
      "text/plain": [
       "<Figure size 432x288 with 1 Axes>"
      ]
     },
     "metadata": {},
     "output_type": "display_data"
    }
   ],
   "source": [
    "fig, ax = plt.subplots(1,1) \n",
    "ax.bar(range(len(count_dict_undersample_w_out_replacement.keys())), list(count_dict_undersample_w_out_replacement.values()))\n",
    "ax.set_xticks(range(len(count_dict_undersample_w_out_replacement.keys())))\n",
    "ax.set_xticklabels(list(count_dict_undersample_w_out_replacement.keys()), rotation='vertical', fontsize=18)"
   ]
  },
  {
   "cell_type": "code",
   "execution_count": 196,
   "metadata": {},
   "outputs": [
    {
     "data": {
      "text/html": [
       "<div>\n",
       "<style scoped>\n",
       "    .dataframe tbody tr th:only-of-type {\n",
       "        vertical-align: middle;\n",
       "    }\n",
       "\n",
       "    .dataframe tbody tr th {\n",
       "        vertical-align: top;\n",
       "    }\n",
       "\n",
       "    .dataframe thead th {\n",
       "        text-align: right;\n",
       "    }\n",
       "</style>\n",
       "<table border=\"1\" class=\"dataframe\">\n",
       "  <thead>\n",
       "    <tr style=\"text-align: right;\">\n",
       "      <th></th>\n",
       "      <th>index</th>\n",
       "      <th>genres</th>\n",
       "      <th>plots</th>\n",
       "      <th>list_genres</th>\n",
       "      <th>list_genres_consol</th>\n",
       "      <th>USE_tokens</th>\n",
       "      <th>tokenized_words</th>\n",
       "      <th>USE_tokens_sentences</th>\n",
       "      <th>flattened_tokens</th>\n",
       "      <th>binarized_labels</th>\n",
       "      <th>USE_token_plot_embeddings</th>\n",
       "      <th>USE_tokens_sentences_padded</th>\n",
       "      <th>USE_token_sentence_embeddings</th>\n",
       "      <th>embedding</th>\n",
       "    </tr>\n",
       "  </thead>\n",
       "  <tbody>\n",
       "    <tr>\n",
       "      <th>8416</th>\n",
       "      <td>9499</td>\n",
       "      <td>Action Adventure Comedy Drama Romance</td>\n",
       "      <td>Returning from five years of fighting in the c...</td>\n",
       "      <td>[Action, Adventure, Comedy, Drama, Romance]</td>\n",
       "      <td>[Action, Adventure, Comedy, Drama, Romance]</td>\n",
       "      <td>returning from five years of fighting in the c...</td>\n",
       "      <td>[[return, five, year, fight, crusade, robin, l...</td>\n",
       "      <td>[returning from five years of fighting in the ...</td>\n",
       "      <td>[return, five, year, fight, crusade, robin, lo...</td>\n",
       "      <td>[1, 1, 1, 0, 1, 0, 0, 1, 0, 0]</td>\n",
       "      <td>[-0.06096358597278595, 0.004489850252866745, -...</td>\n",
       "      <td>[returning from five years of fighting in the ...</td>\n",
       "      <td>[[0.01187861431390047, -0.0058340756222605705,...</td>\n",
       "      <td>[[75, 332, 15, 104, 5017, 2463, 28151, 14922, ...</td>\n",
       "    </tr>\n",
       "    <tr>\n",
       "      <th>98848</th>\n",
       "      <td>112589</td>\n",
       "      <td>Comedy Fantasy Horror</td>\n",
       "      <td>Minature green monsters tear through the small...</td>\n",
       "      <td>[Comedy, Fantasy, Horror]</td>\n",
       "      <td>[Comedy, Horror]</td>\n",
       "      <td>minature green monsters tear through the small...</td>\n",
       "      <td>[[minature, green, monster, tear, small, town,...</td>\n",
       "      <td>[minature green monsters tear through the smal...</td>\n",
       "      <td>[minature, green, monster, tear, small, town, ...</td>\n",
       "      <td>[0, 0, 1, 0, 0, 0, 1, 0, 0, 0]</td>\n",
       "      <td>[-0.04945174604654312, -0.045413605868816376, ...</td>\n",
       "      <td>[minature green monsters tear through the smal...</td>\n",
       "      <td>[[-0.07718510180711746, 0.025827711448073387, ...</td>\n",
       "      <td>[[80000, 1420, 729, 1207, 114, 69, 11494, 57, ...</td>\n",
       "    </tr>\n",
       "    <tr>\n",
       "      <th>118792</th>\n",
       "      <td>135343</td>\n",
       "      <td>Comedy Crime Mystery</td>\n",
       "      <td>In modern day London two rival gangs battle fo...</td>\n",
       "      <td>[Comedy, Crime, Mystery]</td>\n",
       "      <td>[Comedy, Crime]</td>\n",
       "      <td>in modern day london two rival gangs battle fo...</td>\n",
       "      <td>[[modern, day, london, two, rival, gang, battl...</td>\n",
       "      <td>[in modern day london two rival gangs battle f...</td>\n",
       "      <td>[modern, day, london, two, rival, gang, battle...</td>\n",
       "      <td>[0, 0, 1, 1, 0, 0, 0, 0, 0, 0]</td>\n",
       "      <td>[-0.020149806514382362, -0.07221858203411102, ...</td>\n",
       "      <td>[in modern day london two rival gangs battle f...</td>\n",
       "      <td>[[-0.025842778384685516, -0.07935530692338943,...</td>\n",
       "      <td>[[412, 28, 517, 19, 725, 214, 228, 9834, 793, ...</td>\n",
       "    </tr>\n",
       "    <tr>\n",
       "      <th>71955</th>\n",
       "      <td>81982</td>\n",
       "      <td>Horror</td>\n",
       "      <td>Fuko Ando (Miori Takimoto) is a 24-years-old g...</td>\n",
       "      <td>[Horror]</td>\n",
       "      <td>[Horror]</td>\n",
       "      <td>fuko ando miori takimoto is a DG years old gra...</td>\n",
       "      <td>[[fuko, ando, miori, takimoto, DG, year, old, ...</td>\n",
       "      <td>[fuko ando miori takimoto is a DG years old gr...</td>\n",
       "      <td>[fuko, ando, miori, takimoto, DG, year, old, g...</td>\n",
       "      <td>[0, 0, 0, 0, 0, 0, 1, 0, 0, 0]</td>\n",
       "      <td>[-0.060144055634737015, 0.002093486487865448, ...</td>\n",
       "      <td>[fuko ando miori takimoto is a DG years old gr...</td>\n",
       "      <td>[[0.05729108303785324, 0.05751098319888115, -0...</td>\n",
       "      <td>[[66844, 26888, 80000, 80000, 5, 15, 26, 1289,...</td>\n",
       "    </tr>\n",
       "    <tr>\n",
       "      <th>97498</th>\n",
       "      <td>111062</td>\n",
       "      <td>Fantasy Horror</td>\n",
       "      <td>An ex-reality star gives up the limelight to g...</td>\n",
       "      <td>[Fantasy, Horror]</td>\n",
       "      <td>[Horror]</td>\n",
       "      <td>an ex reality star gives up the limelight to g...</td>\n",
       "      <td>[[ex, reality, star, give, limelight, give, pu...</td>\n",
       "      <td>[an ex reality star gives up the limelight to ...</td>\n",
       "      <td>[ex, reality, star, give, limelight, give, pub...</td>\n",
       "      <td>[0, 0, 0, 0, 0, 0, 1, 0, 0, 0]</td>\n",
       "      <td>[0.055379338562488556, 0.024881532415747643, 0...</td>\n",
       "      <td>[an ex reality star gives up the limelight to ...</td>\n",
       "      <td>[[0.06213819608092308, -0.01658524014055729, 0...</td>\n",
       "      <td>[[285, 186, 168, 63, 10530, 63, 673, 498, 1037...</td>\n",
       "    </tr>\n",
       "  </tbody>\n",
       "</table>\n",
       "</div>"
      ],
      "text/plain": [
       "         index                                  genres  \\\n",
       "8416      9499  Action Adventure Comedy Drama Romance    \n",
       "98848   112589                  Comedy Fantasy Horror    \n",
       "118792  135343                   Comedy Crime Mystery    \n",
       "71955    81982                                 Horror    \n",
       "97498   111062                         Fantasy Horror    \n",
       "\n",
       "                                                    plots  \\\n",
       "8416    Returning from five years of fighting in the c...   \n",
       "98848   Minature green monsters tear through the small...   \n",
       "118792  In modern day London two rival gangs battle fo...   \n",
       "71955   Fuko Ando (Miori Takimoto) is a 24-years-old g...   \n",
       "97498   An ex-reality star gives up the limelight to g...   \n",
       "\n",
       "                                        list_genres  \\\n",
       "8416    [Action, Adventure, Comedy, Drama, Romance]   \n",
       "98848                     [Comedy, Fantasy, Horror]   \n",
       "118792                     [Comedy, Crime, Mystery]   \n",
       "71955                                      [Horror]   \n",
       "97498                             [Fantasy, Horror]   \n",
       "\n",
       "                                 list_genres_consol  \\\n",
       "8416    [Action, Adventure, Comedy, Drama, Romance]   \n",
       "98848                              [Comedy, Horror]   \n",
       "118792                              [Comedy, Crime]   \n",
       "71955                                      [Horror]   \n",
       "97498                                      [Horror]   \n",
       "\n",
       "                                               USE_tokens  \\\n",
       "8416    returning from five years of fighting in the c...   \n",
       "98848   minature green monsters tear through the small...   \n",
       "118792  in modern day london two rival gangs battle fo...   \n",
       "71955   fuko ando miori takimoto is a DG years old gra...   \n",
       "97498   an ex reality star gives up the limelight to g...   \n",
       "\n",
       "                                          tokenized_words  \\\n",
       "8416    [[return, five, year, fight, crusade, robin, l...   \n",
       "98848   [[minature, green, monster, tear, small, town,...   \n",
       "118792  [[modern, day, london, two, rival, gang, battl...   \n",
       "71955   [[fuko, ando, miori, takimoto, DG, year, old, ...   \n",
       "97498   [[ex, reality, star, give, limelight, give, pu...   \n",
       "\n",
       "                                     USE_tokens_sentences  \\\n",
       "8416    [returning from five years of fighting in the ...   \n",
       "98848   [minature green monsters tear through the smal...   \n",
       "118792  [in modern day london two rival gangs battle f...   \n",
       "71955   [fuko ando miori takimoto is a DG years old gr...   \n",
       "97498   [an ex reality star gives up the limelight to ...   \n",
       "\n",
       "                                         flattened_tokens  \\\n",
       "8416    [return, five, year, fight, crusade, robin, lo...   \n",
       "98848   [minature, green, monster, tear, small, town, ...   \n",
       "118792  [modern, day, london, two, rival, gang, battle...   \n",
       "71955   [fuko, ando, miori, takimoto, DG, year, old, g...   \n",
       "97498   [ex, reality, star, give, limelight, give, pub...   \n",
       "\n",
       "                      binarized_labels  \\\n",
       "8416    [1, 1, 1, 0, 1, 0, 0, 1, 0, 0]   \n",
       "98848   [0, 0, 1, 0, 0, 0, 1, 0, 0, 0]   \n",
       "118792  [0, 0, 1, 1, 0, 0, 0, 0, 0, 0]   \n",
       "71955   [0, 0, 0, 0, 0, 0, 1, 0, 0, 0]   \n",
       "97498   [0, 0, 0, 0, 0, 0, 1, 0, 0, 0]   \n",
       "\n",
       "                                USE_token_plot_embeddings  \\\n",
       "8416    [-0.06096358597278595, 0.004489850252866745, -...   \n",
       "98848   [-0.04945174604654312, -0.045413605868816376, ...   \n",
       "118792  [-0.020149806514382362, -0.07221858203411102, ...   \n",
       "71955   [-0.060144055634737015, 0.002093486487865448, ...   \n",
       "97498   [0.055379338562488556, 0.024881532415747643, 0...   \n",
       "\n",
       "                              USE_tokens_sentences_padded  \\\n",
       "8416    [returning from five years of fighting in the ...   \n",
       "98848   [minature green monsters tear through the smal...   \n",
       "118792  [in modern day london two rival gangs battle f...   \n",
       "71955   [fuko ando miori takimoto is a DG years old gr...   \n",
       "97498   [an ex reality star gives up the limelight to ...   \n",
       "\n",
       "                            USE_token_sentence_embeddings  \\\n",
       "8416    [[0.01187861431390047, -0.0058340756222605705,...   \n",
       "98848   [[-0.07718510180711746, 0.025827711448073387, ...   \n",
       "118792  [[-0.025842778384685516, -0.07935530692338943,...   \n",
       "71955   [[0.05729108303785324, 0.05751098319888115, -0...   \n",
       "97498   [[0.06213819608092308, -0.01658524014055729, 0...   \n",
       "\n",
       "                                                embedding  \n",
       "8416    [[75, 332, 15, 104, 5017, 2463, 28151, 14922, ...  \n",
       "98848   [[80000, 1420, 729, 1207, 114, 69, 11494, 57, ...  \n",
       "118792  [[412, 28, 517, 19, 725, 214, 228, 9834, 793, ...  \n",
       "71955   [[66844, 26888, 80000, 80000, 5, 15, 26, 1289,...  \n",
       "97498   [[285, 186, 168, 63, 10530, 63, 673, 498, 1037...  "
      ]
     },
     "execution_count": 196,
     "metadata": {},
     "output_type": "execute_result"
    }
   ],
   "source": [
    "new_train.head()"
   ]
  },
  {
   "cell_type": "code",
   "execution_count": 24,
   "metadata": {},
   "outputs": [],
   "source": [
    "new_train = new_train.reset_index()"
   ]
  },
  {
   "cell_type": "code",
   "execution_count": 92,
   "metadata": {},
   "outputs": [
    {
     "data": {
      "text/plain": [
       "Int64Index([181848, 148002, 219341, 171262,  86484, 127605, 122122,  65418,\n",
       "             94522, 185318,\n",
       "            ...\n",
       "             27114, 100853,  35237, 216958, 209218, 187937,  54580, 183867,\n",
       "            165722, 202363],\n",
       "           dtype='int64', length=114730)"
      ]
     },
     "execution_count": 92,
     "metadata": {},
     "output_type": "execute_result"
    }
   ],
   "source": [
    "new_train.index"
   ]
  },
  {
   "cell_type": "code",
   "execution_count": 71,
   "metadata": {},
   "outputs": [
    {
     "data": {
      "text/plain": [
       "index                                                                         5005\n",
       "genres                                                               Comedy Drama \n",
       "plots                            A coming-of-age comedy/drama set in Tunisia. T...\n",
       "list_genres                                                        [Comedy, Drama]\n",
       "list_genres_consol                                                 [Comedy, Drama]\n",
       "USE_tokens                       a coming of age comedydrama set in tunisia. tw...\n",
       "tokenized_words                  [[come, age, comedydrama, set, tunisia, .], [t...\n",
       "USE_tokens_sentences             [a coming of age comedydrama set in tunisia., ...\n",
       "flattened_tokens                 [come, age, comedydrama, set, tunisia, ., twel...\n",
       "binarized_labels                                    [0, 0, 1, 0, 1, 0, 0, 0, 0, 0]\n",
       "USE_token_plot_embeddings        [-0.004395386204123497, -0.022659681737422943,...\n",
       "USE_tokens_sentences_padded      [a coming of age comedydrama set in tunisia., ...\n",
       "USE_token_sentence_embeddings    [[-0.03552832454442978, -0.06395671516656876, ...\n",
       "Name: 4450, dtype: object"
      ]
     },
     "execution_count": 71,
     "metadata": {},
     "output_type": "execute_result"
    }
   ],
   "source": [
    "full_data.iloc[4450]"
   ]
  },
  {
   "cell_type": "code",
   "execution_count": 29,
   "metadata": {},
   "outputs": [],
   "source": [
    "def indiv_class_scores_ensemble(y_true, y_pred, threshold):\n",
    "    \"\"\"y_pred is a dictionary of predictions while\n",
    "        y_true is an array of predictions for the dev or test set\"\"\"\n",
    "    \n",
    "    list_of_predictions = []\n",
    "    \n",
    "    for preds in list(y_pred.values()):\n",
    "        max_pred = np.array(preds.max(axis = 1)).reshape(-1,1)\n",
    "    \n",
    "        #Cant predict 0 for all classes - pick max val as label if all preds below threshold\n",
    "        for i in range(len(max_pred)): \n",
    "            if max_pred[i] > threshold:\n",
    "                max_pred[i] = threshold\n",
    "            else:\n",
    "                pass\n",
    "        list_of_predictions.append(preds >= max_pred)\n",
    "    \n",
    "    voted_preds = sum(list_of_predictions)\n",
    "    \n",
    "    max_voted_preds = np.array(voted_preds.max(axis = 1)).reshape(-1,1)\n",
    "    \n",
    "    for i in range(len(max_voted_preds)): \n",
    "        if max_voted_preds[i] > 2.5:\n",
    "            max_voted_preds[i] = 2.5\n",
    "        else:\n",
    "            pass\n",
    "\n",
    "    \n",
    "    y_pred = np.where(voted_preds >= max_voted_preds, 1, 0) #3 for yes is needed to predict a class\n",
    "    \n",
    "    for i in range(len(mlb.classes_)):\n",
    "        score = precision_score(y_true[:,i], y_pred[:,i])\n",
    "        print(\"The precision for {} is {}\".format(mlb.classes_[i], score))\n",
    "    \n",
    "    for i in range(len(mlb.classes_)):  \n",
    "        score = recall_score(y_true[:,i], y_pred[:,i])\n",
    "        print(\"The recall for {} is {}\".format(mlb.classes_[i], score))\n",
    "        \n",
    "    for i in range(len(mlb.classes_)): \n",
    "        score = f1_score(y_true[:,i], y_pred[:,i])\n",
    "        print(\"The f1 for {} is {}\".format(mlb.classes_[i], score))\n",
    "    \n",
    "    micro_precision = precision_score(y_true, y_pred, average = 'micro')\n",
    "    weighted_macro_precision = precision_score(y_true, y_pred, average = 'weighted')\n",
    "    micro_recall = recall_score(y_true, y_pred, average = 'micro')\n",
    "    weighted_macro_recall = recall_score(y_true, y_pred, average = 'weighted')\n",
    "    micro_f1 = f1_score(y_true, y_pred, average = 'micro')\n",
    "    weighted_macro_f1 = f1_score(y_true, y_pred, average = 'weighted')\n",
    "    print(\"The micro precision is\", micro_precision)\n",
    "    print(\"The weighted macro precision is\", weighted_macro_precision)\n",
    "    print(\"The micro recall is\", micro_recall)\n",
    "    print(\"The weighted macro recall is\", weighted_macro_recall)\n",
    "    print(\"The micro f1 is\", micro_f1)\n",
    "    print(\"The weighted macro f1 is\", weighted_macro_f1)\n",
    "    \n",
    "    num_preds = y_pred.sum(axis = 1)\n",
    "    avg_genre_per_pred = np.average(num_preds)\n",
    "    median_genre_per_pred = np.median(num_preds)\n",
    "    print(\"The average number of genres per movie is\", avg_genre_per_pred)\n",
    "    print(\"The median number of genres per movie is\", median_genre_per_pred)\n",
    "        \n",
    "    #return list_of_predictions"
   ]
  },
  {
   "cell_type": "code",
   "execution_count": 33,
   "metadata": {},
   "outputs": [
    {
     "name": "stdout",
     "output_type": "stream",
     "text": [
      "Drama\n",
      "Action\n",
      "Romance\n",
      "Horror\n",
      "Comedy\n",
      "Sci-Fi\n",
      "Family\n",
      "Adventure\n",
      "Thriller\n",
      "Crime\n",
      "Drama\n",
      "Action\n",
      "Romance\n",
      "Horror\n",
      "Comedy\n",
      "Sci-Fi\n",
      "Family\n",
      "Adventure\n",
      "Thriller\n",
      "Crime\n",
      "Drama\n",
      "Action\n",
      "Romance\n",
      "Horror\n",
      "Comedy\n",
      "Sci-Fi\n",
      "Family\n",
      "Adventure\n",
      "Thriller\n",
      "Crime\n",
      "Drama\n",
      "Action\n",
      "Romance\n",
      "Horror\n",
      "Comedy\n",
      "Sci-Fi\n",
      "Family\n",
      "Adventure\n",
      "Thriller\n",
      "Crime\n",
      "Drama\n",
      "Action\n",
      "Romance\n",
      "Horror\n",
      "Comedy\n",
      "Sci-Fi\n",
      "Family\n",
      "Adventure\n",
      "Thriller\n",
      "Crime\n"
     ]
    }
   ],
   "source": [
    "sample_dfs = {}\n",
    "for i in range(1,6):\n",
    "    sample_dfs[\"model{}\".format(i)] = undersample_w_out_replacement(train_set, count_dict_norm)\n",
    "    \n",
    "count_dict_nested = defaultdict(lambda: defaultdict(int))\n",
    "\n",
    "def nested_dict_count(row, count_dict, model):\n",
    "    for genre in row:\n",
    "        count_dict_nested[model][genre] += 1\n",
    "\n",
    "for i in range(1,6):\n",
    "    count_val_series_2 = sample_dfs[\"model{}\".format(i)][\"list_genres_consol\"].apply(lambda row: nested_dict_count(row, count_dict_nested, \n",
    "                                                                                     \"model{}\".format(i)))"
   ]
  },
  {
   "cell_type": "code",
   "execution_count": 34,
   "metadata": {},
   "outputs": [],
   "source": [
    "def train_HAN_model(sample, file, df):\n",
    "    # Words level attention model\n",
    "    word_input = Input(shape=(MAX_SENT_LENGTH,), dtype='float32')\n",
    "    word_sequences = embedding_layer(word_input)\n",
    "    word_lstm = Bidirectional(LSTM(150, return_sequences=True, kernel_regularizer=l2_reg))(word_sequences)\n",
    "    word_dense = TimeDistributed(Dense(200, kernel_regularizer=l2_reg))(word_lstm)\n",
    "    word_att = AttentionWithContext()(word_dense)\n",
    "    wordEncoder = Model(word_input, word_att)\n",
    "\n",
    "    # Sentence level attention model\n",
    "    sent_input = Input(shape=(MAX_SENTS, MAX_SENT_LENGTH), dtype='float32')\n",
    "    sent_encoder = TimeDistributed(wordEncoder)(sent_input)\n",
    "    sent_lstm = Bidirectional(LSTM(150, return_sequences=True, kernel_regularizer=l2_reg))(sent_encoder)\n",
    "    sent_dense = TimeDistributed(Dense(200, kernel_regularizer=l2_reg))(sent_lstm)\n",
    "    sent_att = Dropout(0.5)(AttentionWithContext()(sent_dense))\n",
    "    preds = Dense(10, activation='sigmoid')(sent_att)\n",
    "    model = Model(sent_input, preds)\n",
    "    model.compile(loss='binary_crossentropy', optimizer='adam', metrics = [\"accuracy\"])\n",
    "    model.fit(sample, np.stack(df[\"binarized_labels\"]), epochs = 10, batch_size = 500)\n",
    "    print(\"Predicting\")\n",
    "    predict = model.predict(x_dev)\n",
    "    model.save(file)\n",
    "    return predict\n",
    "\n",
    "def train_HAN_samples(df_dict):\n",
    "\n",
    "    model_num = 1\n",
    "    preds_group = {}\n",
    "\n",
    "    for i in list(df_dict.values()):\n",
    "        print(\"Training model \" + str(model_num))\n",
    "        x_train = np.stack(i[\"embedding\"])\n",
    "        preds_group[\"preds_{}\".format(model_num)] = train_HAN_model(x_train,\n",
    "                                                               \"./local/HAN_300dim_500batch_dropout_sample_{}.h5\".format(model_num),\n",
    "                                                                         i)\n",
    "        model_num += 1\n",
    "        \n",
    "    return preds_group"
   ]
  },
  {
   "cell_type": "code",
   "execution_count": 44,
   "metadata": {},
   "outputs": [
    {
     "name": "stdout",
     "output_type": "stream",
     "text": [
      "Training model 1\n",
      "Epoch 1/10\n",
      "114730/114730 [==============================] - 223s 2ms/step - loss: 0.4272 - acc: 0.8068\n",
      "Epoch 2/10\n",
      "114730/114730 [==============================] - 210s 2ms/step - loss: 0.3807 - acc: 0.8283\n",
      "Epoch 3/10\n",
      "114730/114730 [==============================] - 210s 2ms/step - loss: 0.3643 - acc: 0.8364\n",
      "Epoch 4/10\n",
      "114730/114730 [==============================] - 214s 2ms/step - loss: 0.3481 - acc: 0.8444\n",
      "Epoch 5/10\n",
      "114730/114730 [==============================] - 214s 2ms/step - loss: 0.3304 - acc: 0.8536\n",
      "Epoch 6/10\n",
      "114730/114730 [==============================] - 215s 2ms/step - loss: 0.3104 - acc: 0.8638\n",
      "Epoch 7/10\n",
      "114730/114730 [==============================] - 213s 2ms/step - loss: 0.2893 - acc: 0.8742\n",
      "Epoch 8/10\n",
      "114730/114730 [==============================] - 211s 2ms/step - loss: 0.2687 - acc: 0.8846\n",
      "Epoch 9/10\n",
      "114730/114730 [==============================] - 209s 2ms/step - loss: 0.2479 - acc: 0.8949\n",
      "Epoch 10/10\n",
      "114730/114730 [==============================] - 213s 2ms/step - loss: 0.2292 - acc: 0.9037\n",
      "Predicting\n",
      "Training model 2\n",
      "Epoch 1/10\n",
      "114730/114730 [==============================] - 224s 2ms/step - loss: 0.4271 - acc: 0.8069\n",
      "Epoch 2/10\n",
      "114730/114730 [==============================] - 216s 2ms/step - loss: 0.3820 - acc: 0.8274\n",
      "Epoch 3/10\n",
      "114730/114730 [==============================] - 213s 2ms/step - loss: 0.3659 - acc: 0.8352\n",
      "Epoch 4/10\n",
      "114730/114730 [==============================] - 213s 2ms/step - loss: 0.3497 - acc: 0.8431\n",
      "Epoch 5/10\n",
      "114730/114730 [==============================] - 213s 2ms/step - loss: 0.3319 - acc: 0.8519\n",
      "Epoch 6/10\n",
      "114730/114730 [==============================] - 213s 2ms/step - loss: 0.3124 - acc: 0.8619\n",
      "Epoch 7/10\n",
      "114730/114730 [==============================] - 210s 2ms/step - loss: 0.2920 - acc: 0.8724\n",
      "Epoch 8/10\n",
      "114730/114730 [==============================] - 214s 2ms/step - loss: 0.2707 - acc: 0.8831\n",
      "Epoch 9/10\n",
      "114730/114730 [==============================] - 211s 2ms/step - loss: 0.2502 - acc: 0.8933\n",
      "Epoch 10/10\n",
      "114730/114730 [==============================] - 214s 2ms/step - loss: 0.2311 - acc: 0.9029\n",
      "Predicting\n",
      "Training model 3\n",
      "Epoch 1/10\n",
      "114730/114730 [==============================] - 223s 2ms/step - loss: 0.4278 - acc: 0.8065\n",
      "Epoch 2/10\n",
      "114730/114730 [==============================] - 211s 2ms/step - loss: 0.3817 - acc: 0.8277\n",
      "Epoch 3/10\n",
      "114730/114730 [==============================] - 208s 2ms/step - loss: 0.3657 - acc: 0.8354\n",
      "Epoch 4/10\n",
      "114730/114730 [==============================] - 214s 2ms/step - loss: 0.3502 - acc: 0.8432\n",
      "Epoch 5/10\n",
      "114730/114730 [==============================] - 214s 2ms/step - loss: 0.3324 - acc: 0.8521\n",
      "Epoch 6/10\n",
      "114730/114730 [==============================] - 210s 2ms/step - loss: 0.3132 - acc: 0.8622\n",
      "Epoch 7/10\n",
      "114730/114730 [==============================] - 209s 2ms/step - loss: 0.2933 - acc: 0.8719\n",
      "Epoch 8/10\n",
      "114730/114730 [==============================] - 210s 2ms/step - loss: 0.2725 - acc: 0.8826\n",
      "Epoch 9/10\n",
      "114730/114730 [==============================] - 213s 2ms/step - loss: 0.2521 - acc: 0.8923\n",
      "Epoch 10/10\n",
      "114730/114730 [==============================] - 214s 2ms/step - loss: 0.2324 - acc: 0.9018\n",
      "Predicting\n",
      "Training model 4\n",
      "Epoch 1/10\n",
      "114730/114730 [==============================] - 225s 2ms/step - loss: 0.4288 - acc: 0.8063\n",
      "Epoch 2/10\n",
      "114730/114730 [==============================] - 211s 2ms/step - loss: 0.3820 - acc: 0.8276\n",
      "Epoch 3/10\n",
      "114730/114730 [==============================] - 212s 2ms/step - loss: 0.3660 - acc: 0.8353\n",
      "Epoch 4/10\n",
      "114730/114730 [==============================] - 211s 2ms/step - loss: 0.3495 - acc: 0.8434\n",
      "Epoch 5/10\n",
      "114730/114730 [==============================] - 214s 2ms/step - loss: 0.3317 - acc: 0.8526\n",
      "Epoch 6/10\n",
      "114730/114730 [==============================] - 212s 2ms/step - loss: 0.3117 - acc: 0.8625\n",
      "Epoch 7/10\n",
      "114730/114730 [==============================] - 215s 2ms/step - loss: 0.2910 - acc: 0.8734\n",
      "Epoch 8/10\n",
      "114730/114730 [==============================] - 213s 2ms/step - loss: 0.2698 - acc: 0.8838\n",
      "Epoch 9/10\n",
      "114730/114730 [==============================] - 211s 2ms/step - loss: 0.2500 - acc: 0.8936\n",
      "Epoch 10/10\n",
      "114730/114730 [==============================] - 208s 2ms/step - loss: 0.2303 - acc: 0.9033\n",
      "Predicting\n",
      "Training model 5\n",
      "Epoch 1/10\n",
      "114730/114730 [==============================] - 220s 2ms/step - loss: 0.4276 - acc: 0.8071\n",
      "Epoch 2/10\n",
      "114730/114730 [==============================] - 211s 2ms/step - loss: 0.3814 - acc: 0.8278\n",
      "Epoch 3/10\n",
      "114730/114730 [==============================] - 213s 2ms/step - loss: 0.3652 - acc: 0.8358\n",
      "Epoch 4/10\n",
      "114730/114730 [==============================] - 210s 2ms/step - loss: 0.3489 - acc: 0.8439\n",
      "Epoch 5/10\n",
      "114730/114730 [==============================] - 214s 2ms/step - loss: 0.3311 - acc: 0.8528\n",
      "Epoch 6/10\n",
      "114730/114730 [==============================] - 211s 2ms/step - loss: 0.3118 - acc: 0.8630\n",
      "Epoch 7/10\n",
      "114730/114730 [==============================] - 212s 2ms/step - loss: 0.2907 - acc: 0.8737\n",
      "Epoch 8/10\n",
      "114730/114730 [==============================] - 212s 2ms/step - loss: 0.2705 - acc: 0.8838\n",
      "Epoch 9/10\n",
      "114730/114730 [==============================] - 214s 2ms/step - loss: 0.2496 - acc: 0.8939\n",
      "Epoch 10/10\n",
      "114730/114730 [==============================] - 211s 2ms/step - loss: 0.2293 - acc: 0.9039\n",
      "Predicting\n"
     ]
    }
   ],
   "source": [
    "preds_dict = train_HAN_samples(sample_dfs)"
   ]
  },
  {
   "cell_type": "code",
   "execution_count": 50,
   "metadata": {},
   "outputs": [
    {
     "name": "stdout",
     "output_type": "stream",
     "text": [
      "The precision for Action is 0.4438549955791335\n",
      "The precision for Adventure is 0.3723916532905297\n",
      "The precision for Comedy is 0.6248620816476645\n",
      "The precision for Crime is 0.3698461538461538\n",
      "The precision for Drama is 0.6823243860651057\n",
      "The precision for Family is 0.34130320546505516\n",
      "The precision for Horror is 0.48442422121106055\n",
      "The precision for Romance is 0.3291193486179559\n",
      "The precision for Sci-Fi is 0.48560273304050755\n",
      "The precision for Thriller is 0.3728498372849837\n",
      "The recall for Action is 0.6055488540410132\n",
      "The recall for Adventure is 0.5161290322580645\n",
      "The recall for Comedy is 0.7210355071438675\n",
      "The recall for Crime is 0.6448497854077253\n",
      "The recall for Drama is 0.8291117279666897\n",
      "The recall for Family is 0.6197519083969466\n",
      "The recall for Horror is 0.7011144883485309\n",
      "The recall for Romance is 0.5634629493763756\n",
      "The recall for Sci-Fi is 0.6718433490884538\n",
      "The recall for Thriller is 0.5681898689337584\n",
      "The f1 for Action is 0.5122448979591837\n",
      "The f1 for Adventure is 0.4326340326340326\n",
      "The f1 for Comedy is 0.669512675686326\n",
      "The f1 for Crime is 0.470082127493156\n",
      "The f1 for Drama is 0.7485902255639099\n",
      "The f1 for Family is 0.4401897661809556\n",
      "The f1 for Horror is 0.5729662595735873\n",
      "The f1 for Romance is 0.4155282023535777\n",
      "The f1 for Sci-Fi is 0.5637393767705382\n",
      "The f1 for Thriller is 0.4502456140350877\n",
      "The micro precision is 0.512627345297156\n",
      "The weighted macro precision is 0.5324539248190376\n",
      "The micro recall is 0.7004686715393629\n",
      "The weighted macro recall is 0.7004686715393629\n",
      "The micro f1 is 0.5920049040989307\n",
      "The weighted macro f1 is 0.602101762361846\n"
     ]
    }
   ],
   "source": [
    "indiv_class_scores_ensemble(y_dev, preds_dict, 0.5)"
   ]
  },
  {
   "cell_type": "code",
   "execution_count": 30,
   "metadata": {},
   "outputs": [],
   "source": [
    "def auc_pr_ensemble(y_true, y_pred):\n",
    "    y_pred = np.mean(list(y_pred.values()), axis = 0)\n",
    "    scores = []\n",
    "    for i in range(len(mlb.classes_)):\n",
    "        p, r, d = precision_recall_curve(y_true[:,i], y_pred[:,i])\n",
    "        score = auc(r,p)\n",
    "        scores.append(score)\n",
    "        print(\"The AUC for {} is {}\".format(mlb.classes_[i], score))\n",
    "    macro_score = np.mean(scores)\n",
    "    y_true_raveled = np.ravel(y_true)\n",
    "    y_pred_raveled = np.ravel(y_pred)\n",
    "    p, r, d = precision_recall_curve(y_true_raveled, y_pred_raveled)\n",
    "    micro_score = auc(r,p)\n",
    "    print(\"The micro-avg AUC is {}\".format(micro_score))\n",
    "    print(\"The macro-avg AUC is {}\".format(macro_score))"
   ]
  },
  {
   "cell_type": "code",
   "execution_count": 53,
   "metadata": {
    "scrolled": true
   },
   "outputs": [
    {
     "name": "stdout",
     "output_type": "stream",
     "text": [
      "The AUC for Action is 0.5240888174540498\n",
      "The AUC for Adventure is 0.42422789668860206\n",
      "The AUC for Comedy is 0.7383277141813722\n",
      "The AUC for Crime is 0.4608260551012592\n",
      "The AUC for Drama is 0.7912182634178366\n",
      "The AUC for Family is 0.4849406043901256\n",
      "The AUC for Horror is 0.6142909130155302\n",
      "The AUC for Romance is 0.36248892562381646\n",
      "The AUC for Sci-Fi is 0.6128518544237195\n",
      "The AUC for Thriller is 0.4185164720456757\n",
      "The micro-avg AUC is 0.624944344146521\n",
      "The macro-avg AUC is 0.5431777516341987\n"
     ]
    }
   ],
   "source": [
    "auc_pr_ensemble(y_dev, preds_dict)"
   ]
  },
  {
   "cell_type": "code",
   "execution_count": 49,
   "metadata": {},
   "outputs": [
    {
     "data": {
      "text/plain": [
       "[[7990, 3881, 3273, 1578, 8, 41, 38, 73, 12, 7, 2059, 264, 1, 0, 0],\n",
       " [405, 746, 1, 0, 0, 0, 0, 0, 0, 0, 0, 0, 0, 0, 0],\n",
       " [609, 1528, 21241, 1703, 177, 65, 609, 1528, 1, 0, 0, 0, 0, 0, 0],\n",
       " [73, 12, 13, 3703, 1000, 5204, 5, 75, 2059, 264, 304, 75, 177, 665, 4090],\n",
       " [1703, 897, 246, 2278, 2059, 264, 1528, 21241, 609, 1, 0, 0, 0, 0, 0]]"
      ]
     },
     "execution_count": 49,
     "metadata": {},
     "output_type": "execute_result"
    }
   ],
   "source": [
    "full_data[\"embedding\"][0]"
   ]
  },
  {
   "cell_type": "code",
   "execution_count": 47,
   "metadata": {},
   "outputs": [
    {
     "data": {
      "text/plain": [
       "(224303,)"
      ]
     },
     "execution_count": 47,
     "metadata": {},
     "output_type": "execute_result"
    }
   ],
   "source": [
    "full_data[\"USE_token_sentence_embeddings\"].shape\n",
    "embedding_layer = Embedding(len(word_index) + 1,\n",
    "                            EMBEDDING_DIM,\n",
    "                            weights=[embedding_matrix], \n",
    "                            input_length=MAX_SENT_LENGTH, \n",
    "                            trainable=False)"
   ]
  },
  {
   "cell_type": "code",
   "execution_count": 28,
   "metadata": {},
   "outputs": [],
   "source": [
    "def train_USE_HAN_model(sample, file, df):\n",
    "    # Sentence level attention model)\n",
    "    sent_input = Input(shape=(MAX_SENTS, 512), dtype='float32')\n",
    "    sent_sequences = Lambda(lambda x:x,output_shape=(MAX_SENTS, 512))(sent_input) #UniversalEmbedding,output_shape=(embed_size,))(input_text)\n",
    "    sent_lstm = Bidirectional(LSTM(150, return_sequences=True, kernel_regularizer=l2_reg))(sent_sequences)\n",
    "    sent_dense = TimeDistributed(Dense(200, kernel_regularizer=l2_reg))(sent_lstm)\n",
    "    sent_att = Dropout(0.5)(AttentionWithContext()(sent_dense))\n",
    "    preds = Dense(10, activation='sigmoid')(sent_att)\n",
    "    model = Model(sent_input, preds)\n",
    "    model.compile(loss='binary_crossentropy', optimizer='adam', metrics = [\"accuracy\"])\n",
    "    model.fit(sample, np.stack(df[\"binarized_labels\"]), epochs = 10, batch_size = 500)\n",
    "    print(\"Predicting\")\n",
    "    predict = model.predict(x_dev)\n",
    "    model.save(file)\n",
    "    return predict"
   ]
  },
  {
   "cell_type": "code",
   "execution_count": 29,
   "metadata": {},
   "outputs": [],
   "source": [
    "def train_USE_HAN_samples(df_dict):\n",
    "\n",
    "    model_num = 1\n",
    "    preds_group = {}\n",
    "\n",
    "    for i in list(df_dict.values()):\n",
    "        print(\"Training model \" + str(model_num))\n",
    "        x_train = np.stack(i[\"USE_token_sentence_embeddings\"])\n",
    "        preds_group[\"preds_{}\".format(model_num)] = train_USE_HAN_model(x_train,\n",
    "                                                               \"./local/USE_HAN_300dim_500batch_dropout_sample_{}.h5\".format(model_num),\n",
    "                                                                         i)\n",
    "        model_num += 1\n",
    "        \n",
    "    return preds_group"
   ]
  },
  {
   "cell_type": "code",
   "execution_count": 86,
   "metadata": {},
   "outputs": [
    {
     "name": "stdout",
     "output_type": "stream",
     "text": [
      "Training model 1\n",
      "Epoch 1/10\n",
      "114730/114730 [==============================] - 33s 284us/step - loss: 0.4326 - acc: 0.8041\n",
      "Epoch 2/10\n",
      "114730/114730 [==============================] - 29s 256us/step - loss: 0.3895 - acc: 0.8226\n",
      "Epoch 3/10\n",
      "114730/114730 [==============================] - 29s 252us/step - loss: 0.3828 - acc: 0.8262\n",
      "Epoch 4/10\n",
      "114730/114730 [==============================] - 29s 253us/step - loss: 0.3787 - acc: 0.8282\n",
      "Epoch 5/10\n",
      "114730/114730 [==============================] - 29s 252us/step - loss: 0.3752 - acc: 0.8298\n",
      "Epoch 6/10\n",
      "114730/114730 [==============================] - 29s 254us/step - loss: 0.3722 - acc: 0.8316\n",
      "Epoch 7/10\n",
      "114730/114730 [==============================] - 29s 254us/step - loss: 0.3694 - acc: 0.8327\n",
      "Epoch 8/10\n",
      "114730/114730 [==============================] - 29s 252us/step - loss: 0.3666 - acc: 0.8341\n",
      "Epoch 9/10\n",
      "114730/114730 [==============================] - 29s 253us/step - loss: 0.3639 - acc: 0.8356\n",
      "Epoch 10/10\n",
      "114730/114730 [==============================] - 30s 262us/step - loss: 0.3609 - acc: 0.8370\n",
      "Predicting\n",
      "Training model 2\n",
      "Epoch 1/10\n",
      "114730/114730 [==============================] - 33s 292us/step - loss: 0.4341 - acc: 0.8035\n",
      "Epoch 2/10\n",
      "114730/114730 [==============================] - 30s 263us/step - loss: 0.3903 - acc: 0.8225\n",
      "Epoch 3/10\n",
      "114730/114730 [==============================] - 29s 254us/step - loss: 0.3834 - acc: 0.8260\n",
      "Epoch 4/10\n",
      "114730/114730 [==============================] - 29s 253us/step - loss: 0.3790 - acc: 0.8283\n",
      "Epoch 5/10\n",
      "114730/114730 [==============================] - 30s 264us/step - loss: 0.3754 - acc: 0.8301\n",
      "Epoch 6/10\n",
      "114730/114730 [==============================] - 31s 271us/step - loss: 0.3726 - acc: 0.8315\n",
      "Epoch 7/10\n",
      "114730/114730 [==============================] - 29s 253us/step - loss: 0.3694 - acc: 0.8330\n",
      "Epoch 8/10\n",
      "114730/114730 [==============================] - 29s 253us/step - loss: 0.3668 - acc: 0.8343\n",
      "Epoch 9/10\n",
      "114730/114730 [==============================] - 29s 254us/step - loss: 0.3634 - acc: 0.8358\n",
      "Epoch 10/10\n",
      "114730/114730 [==============================] - 30s 261us/step - loss: 0.3608 - acc: 0.8372\n",
      "Predicting\n",
      "Training model 3\n",
      "Epoch 1/10\n",
      "114730/114730 [==============================] - 34s 292us/step - loss: 0.4362 - acc: 0.8028\n",
      "Epoch 2/10\n",
      "114730/114730 [==============================] - 29s 253us/step - loss: 0.3902 - acc: 0.8226\n",
      "Epoch 3/10\n",
      "114730/114730 [==============================] - 29s 251us/step - loss: 0.3831 - acc: 0.8262\n",
      "Epoch 4/10\n",
      "114730/114730 [==============================] - 29s 253us/step - loss: 0.3785 - acc: 0.8286\n",
      "Epoch 5/10\n",
      "114730/114730 [==============================] - 29s 254us/step - loss: 0.3748 - acc: 0.8304\n",
      "Epoch 6/10\n",
      "114730/114730 [==============================] - 29s 253us/step - loss: 0.3711 - acc: 0.8322\n",
      "Epoch 7/10\n",
      "114730/114730 [==============================] - 29s 257us/step - loss: 0.3683 - acc: 0.8336\n",
      "Epoch 8/10\n",
      "114730/114730 [==============================] - 29s 255us/step - loss: 0.3654 - acc: 0.8352\n",
      "Epoch 9/10\n",
      "114730/114730 [==============================] - 30s 259us/step - loss: 0.3621 - acc: 0.8365\n",
      "Epoch 10/10\n",
      "114730/114730 [==============================] - 30s 261us/step - loss: 0.3591 - acc: 0.8384\n",
      "Predicting\n",
      "Training model 4\n",
      "Epoch 1/10\n",
      "114730/114730 [==============================] - 34s 298us/step - loss: 0.4369 - acc: 0.8026\n",
      "Epoch 2/10\n",
      "114730/114730 [==============================] - 29s 255us/step - loss: 0.3899 - acc: 0.8227\n",
      "Epoch 3/10\n",
      "114730/114730 [==============================] - 29s 255us/step - loss: 0.3833 - acc: 0.8260\n",
      "Epoch 4/10\n",
      "114730/114730 [==============================] - 29s 255us/step - loss: 0.3790 - acc: 0.8285\n",
      "Epoch 5/10\n",
      "114730/114730 [==============================] - 29s 254us/step - loss: 0.3754 - acc: 0.8303\n",
      "Epoch 6/10\n",
      "114730/114730 [==============================] - 29s 254us/step - loss: 0.3722 - acc: 0.8315\n",
      "Epoch 7/10\n",
      "114730/114730 [==============================] - 29s 254us/step - loss: 0.3693 - acc: 0.8332\n",
      "Epoch 8/10\n",
      "114730/114730 [==============================] - 29s 254us/step - loss: 0.3664 - acc: 0.8342\n",
      "Epoch 9/10\n",
      "114730/114730 [==============================] - 30s 264us/step - loss: 0.3637 - acc: 0.8358\n",
      "Epoch 10/10\n",
      "114730/114730 [==============================] - 29s 256us/step - loss: 0.3610 - acc: 0.8370\n",
      "Predicting\n",
      "Training model 5\n",
      "Epoch 1/10\n",
      "114730/114730 [==============================] - 35s 301us/step - loss: 0.4363 - acc: 0.8025\n",
      "Epoch 2/10\n",
      "114730/114730 [==============================] - 30s 260us/step - loss: 0.3905 - acc: 0.8225\n",
      "Epoch 3/10\n",
      "114730/114730 [==============================] - 30s 259us/step - loss: 0.3836 - acc: 0.8257\n",
      "Epoch 4/10\n",
      "114730/114730 [==============================] - 30s 260us/step - loss: 0.3790 - acc: 0.8283\n",
      "Epoch 5/10\n",
      "114730/114730 [==============================] - 30s 260us/step - loss: 0.3753 - acc: 0.8300\n",
      "Epoch 6/10\n",
      "114730/114730 [==============================] - 30s 261us/step - loss: 0.3721 - acc: 0.8319\n",
      "Epoch 7/10\n",
      "114730/114730 [==============================] - 30s 263us/step - loss: 0.3689 - acc: 0.8331\n",
      "Epoch 8/10\n",
      "114730/114730 [==============================] - 31s 266us/step - loss: 0.3657 - acc: 0.8345\n",
      "Epoch 9/10\n",
      "114730/114730 [==============================] - 30s 265us/step - loss: 0.3630 - acc: 0.8357\n",
      "Epoch 10/10\n",
      "114730/114730 [==============================] - 30s 265us/step - loss: 0.3594 - acc: 0.8379\n",
      "Predicting\n"
     ]
    }
   ],
   "source": [
    "USE_preds_dict = train_USE_HAN_samples(sample_dfs)"
   ]
  },
  {
   "cell_type": "code",
   "execution_count": 52,
   "metadata": {},
   "outputs": [],
   "source": [
    "#import tensorflow as tf"
   ]
  },
  {
   "cell_type": "code",
   "execution_count": 73,
   "metadata": {},
   "outputs": [
    {
     "ename": "KeyError",
     "evalue": "0",
     "output_type": "error",
     "traceback": [
      "\u001b[0;31m---------------------------------------------------------------------------\u001b[0m",
      "\u001b[0;31mKeyError\u001b[0m                                  Traceback (most recent call last)",
      "\u001b[0;32m<ipython-input-73-d7c3897ee776>\u001b[0m in \u001b[0;36m<module>\u001b[0;34m()\u001b[0m\n\u001b[0;32m----> 1\u001b[0;31m \u001b[0msample_df\u001b[0m \u001b[0;34m=\u001b[0m \u001b[0msample_dfs\u001b[0m\u001b[0;34m[\u001b[0m\u001b[0;36m0\u001b[0m\u001b[0;34m]\u001b[0m\u001b[0;34m\u001b[0m\u001b[0m\n\u001b[0m",
      "\u001b[0;31mKeyError\u001b[0m: 0"
     ]
    }
   ],
   "source": []
  },
  {
   "cell_type": "code",
   "execution_count": 36,
   "metadata": {},
   "outputs": [],
   "source": [
    "x_dev = np.stack(dev_set[\"USE_token_plot_embeddings\"])\n",
    "y_dev = np.stack(dev_set[\"binarized_labels\"])"
   ]
  },
  {
   "cell_type": "code",
   "execution_count": 87,
   "metadata": {},
   "outputs": [
    {
     "name": "stdout",
     "output_type": "stream",
     "text": [
      "The AUC for Action is 0.5462559639924255\n",
      "The AUC for Adventure is 0.4300937378035205\n",
      "The AUC for Comedy is 0.7174280736870873\n",
      "The AUC for Crime is 0.4299795274999502\n",
      "The AUC for Drama is 0.7950425362264104\n",
      "The AUC for Family is 0.48230767353328247\n",
      "The AUC for Horror is 0.6086722586490639\n",
      "The AUC for Romance is 0.3841523903354247\n",
      "The AUC for Sci-Fi is 0.632598135728725\n",
      "The AUC for Thriller is 0.41421208365987094\n",
      "The micro-avg AUC is 0.6224622140237992\n",
      "The macro-avg AUC is 0.5440742381115761\n"
     ]
    }
   ],
   "source": [
    "auc_pr_ensemble(y_dev, USE_preds_dict)"
   ]
  },
  {
   "cell_type": "code",
   "execution_count": 89,
   "metadata": {},
   "outputs": [
    {
     "name": "stdout",
     "output_type": "stream",
     "text": [
      "The precision for Action is 0.5166051660516605\n",
      "The precision for Adventure is 0.4343867166577397\n",
      "The precision for Comedy is 0.691073219658977\n",
      "The precision for Crime is 0.4192521877486078\n",
      "The precision for Drama is 0.7143422197610948\n",
      "The precision for Family is 0.4357588357588358\n",
      "The precision for Horror is 0.5417028670721112\n",
      "The precision for Romance is 0.3828102082722206\n",
      "The precision for Sci-Fi is 0.5800508259212198\n",
      "The precision for Thriller is 0.4208765473402476\n",
      "The recall for Action is 0.5629272215520708\n",
      "The recall for Adventure is 0.4510567296996663\n",
      "The recall for Comedy is 0.5848069033809591\n",
      "The recall for Crime is 0.5654506437768241\n",
      "The recall for Drama is 0.7833102012491325\n",
      "The recall for Family is 0.5\n",
      "The recall for Horror is 0.6317122593718338\n",
      "The recall for Romance is 0.4787234042553192\n",
      "The recall for Sci-Fi is 0.6164753544902093\n",
      "The recall for Thriller is 0.44562522139567834\n",
      "The f1 for Action is 0.5387723686742352\n",
      "The f1 for Adventure is 0.44256480218281036\n",
      "The f1 for Comedy is 0.6335146732051185\n",
      "The f1 for Crime is 0.4814984010963911\n",
      "The f1 for Drama is 0.7472381976912574\n",
      "The f1 for Family is 0.46567429460119975\n",
      "The f1 for Horror is 0.5832553788587466\n",
      "The f1 for Romance is 0.4254278728606357\n",
      "The f1 for Sci-Fi is 0.597708674304419\n",
      "The f1 for Thriller is 0.43289745354439085\n",
      "The micro precision is 0.5782304065845336\n",
      "The weighted macro precision is 0.5869789241502956\n",
      "The micro recall is 0.6193159627294538\n",
      "The weighted macro recall is 0.6193159627294538\n",
      "The micro f1 is 0.5980684007058285\n",
      "The weighted macro f1 is 0.600347052990655\n"
     ]
    }
   ],
   "source": [
    "indiv_class_scores_ensemble(y_dev, USE_preds_dict, 0.5)"
   ]
  },
  {
   "cell_type": "code",
   "execution_count": 30,
   "metadata": {},
   "outputs": [],
   "source": [
    "def train_USE_HAN_fulldata(data):\n",
    "    model_num = 1\n",
    "    preds_group = {}\n",
    "\n",
    "    print(\"Training model \" + str(model_num))\n",
    "    x_train = np.stack(data[\"USE_token_sentence_embeddings\"])\n",
    "    preds_group[\"preds_{}\".format(model_num)] = train_USE_HAN_model(x_train,\n",
    "                                                               \"./local/USE_HAN_300dim_500batch_dropout_sample_{}.h5\".format(model_num),\n",
    "                                                                         i)\n",
    "    model_num += 1\n",
    "        \n",
    "    return preds_group"
   ]
  },
  {
   "cell_type": "code",
   "execution_count": 95,
   "metadata": {},
   "outputs": [
    {
     "name": "stdout",
     "output_type": "stream",
     "text": [
      "Epoch 1/10\n",
      "179666/179666 [==============================] - 52s 290us/step - loss: 0.3278 - acc: 0.8662\n",
      "Epoch 2/10\n",
      "179666/179666 [==============================] - 47s 263us/step - loss: 0.2937 - acc: 0.8767\n",
      "Epoch 3/10\n",
      "179666/179666 [==============================] - 48s 265us/step - loss: 0.2890 - acc: 0.8787\n",
      "Epoch 4/10\n",
      "179666/179666 [==============================] - 47s 262us/step - loss: 0.2860 - acc: 0.8801\n",
      "Epoch 5/10\n",
      "179666/179666 [==============================] - 46s 259us/step - loss: 0.2835 - acc: 0.8811\n",
      "Epoch 6/10\n",
      "179666/179666 [==============================] - 48s 269us/step - loss: 0.2816 - acc: 0.8819\n",
      "Epoch 7/10\n",
      "179666/179666 [==============================] - 47s 260us/step - loss: 0.2794 - acc: 0.8827\n",
      "Epoch 8/10\n",
      "179666/179666 [==============================] - 47s 262us/step - loss: 0.2780 - acc: 0.8834\n",
      "Epoch 9/10\n",
      "179666/179666 [==============================] - 48s 270us/step - loss: 0.2764 - acc: 0.8840\n",
      "Epoch 10/10\n",
      "179666/179666 [==============================] - 48s 270us/step - loss: 0.2749 - acc: 0.8846\n",
      "Predicting\n"
     ]
    }
   ],
   "source": [
    "fulldata_pred = train_USE_HAN_model(np.stack(train_set[\"USE_token_sentence_embeddings\"]), \"./local/USE_HAN_300dim_500batch_dropout_fulldata.h5\",train_set)"
   ]
  },
  {
   "cell_type": "code",
   "execution_count": 96,
   "metadata": {
    "scrolled": true
   },
   "outputs": [
    {
     "name": "stdout",
     "output_type": "stream",
     "text": [
      "The AUC for Action is 0.5527689577437199\n",
      "The AUC for Adventure is 0.4422147363418738\n",
      "The AUC for Comedy is 0.7305358593913303\n",
      "The AUC for Crime is 0.44035213018055847\n",
      "The AUC for Drama is 0.8085340420157743\n",
      "The AUC for Family is 0.4966782864470115\n",
      "The AUC for Horror is 0.6113529062565832\n",
      "The AUC for Romance is 0.3995672757487425\n",
      "The AUC for Sci-Fi is 0.6287086303480689\n",
      "The AUC for Thriller is 0.4170264439103551\n",
      "The micro-avg AUC is 0.6661143960200353\n",
      "The macro-avg AUC is 0.5527739268384018\n"
     ]
    }
   ],
   "source": [
    "auc_pr(y_dev, fulldata_pred)"
   ]
  },
  {
   "cell_type": "code",
   "execution_count": 98,
   "metadata": {},
   "outputs": [],
   "source": [
    "y_pred = fulldata_pred >= 0.5\n",
    "micro_precision = precision_score(y_dev, y_pred, average = 'micro')\n",
    "weighted_macro_precision = precision_score(y_dev, y_pred, average = 'weighted')\n",
    "micro_recall = recall_score(y_dev, y_pred, average = 'micro')\n",
    "weighted_macro_recall = recall_score(y_dev, y_pred, average = 'weighted')\n",
    "micro_f1 = f1_score(y_dev, y_pred, average = 'micro')\n",
    "weighted_macro_f1 = f1_score(y_dev, y_pred, average = 'weighted')"
   ]
  },
  {
   "cell_type": "code",
   "execution_count": 99,
   "metadata": {},
   "outputs": [
    {
     "name": "stdout",
     "output_type": "stream",
     "text": [
      "The micro precision is 0.7024703317994672\n",
      "The weighted macro precision is 0.6807239201560332\n",
      "The micro recall is 0.4854934999721029\n",
      "The weighted macro recall is 0.4854934999721029\n",
      "The micro f1 is 0.5741669416034312\n",
      "The weighted macro f1 is 0.5378685849368693\n"
     ]
    }
   ],
   "source": [
    "print(\"The micro precision is\", micro_precision)\n",
    "print(\"The weighted macro precision is\", weighted_macro_precision)\n",
    "print(\"The micro recall is\", micro_recall)\n",
    "print(\"The weighted macro recall is\", weighted_macro_recall)\n",
    "print(\"The micro f1 is\", micro_f1)\n",
    "print(\"The weighted macro f1 is\", weighted_macro_f1)"
   ]
  },
  {
   "cell_type": "code",
   "execution_count": 31,
   "metadata": {},
   "outputs": [],
   "source": [
    "def train_USE_FC_model(sample, file, df):\n",
    "    sent_input = Input(shape=(512,), dtype='float32')\n",
    "    sent_sequences = Lambda(lambda x:x,output_shape=(512,))(sent_input) \n",
    "    sent_dense = Dense(200, kernel_regularizer=l2_reg)(sent_sequences)\n",
    "    post_drop = Dropout(0.5)(sent_dense)\n",
    "    preds = Dense(10, activation='sigmoid')(post_drop)\n",
    "    model = Model(sent_input, preds)\n",
    "    model.compile(loss='binary_crossentropy', optimizer='adam', metrics = [\"accuracy\"])\n",
    "    model.fit(sample, np.stack(df[\"binarized_labels\"]), epochs = 10, batch_size = 500)\n",
    "    print(\"Predicting\")\n",
    "    predict = model.predict(x_dev)\n",
    "    model.save(file)\n",
    "    return predict"
   ]
  },
  {
   "cell_type": "code",
   "execution_count": 139,
   "metadata": {},
   "outputs": [
    {
     "name": "stdout",
     "output_type": "stream",
     "text": [
      "Epoch 1/10\n",
      "179666/179666 [==============================] - 6s 36us/step - loss: 0.3288 - acc: 0.8661\n",
      "Epoch 2/10\n",
      "179666/179666 [==============================] - 4s 21us/step - loss: 0.2972 - acc: 0.8749\n",
      "Epoch 3/10\n",
      "179666/179666 [==============================] - 4s 21us/step - loss: 0.2950 - acc: 0.8760\n",
      "Epoch 4/10\n",
      "179666/179666 [==============================] - 4s 21us/step - loss: 0.2938 - acc: 0.8763\n",
      "Epoch 5/10\n",
      "179666/179666 [==============================] - 4s 21us/step - loss: 0.2931 - acc: 0.8768\n",
      "Epoch 6/10\n",
      "179666/179666 [==============================] - 4s 22us/step - loss: 0.2923 - acc: 0.8770\n",
      "Epoch 7/10\n",
      "179666/179666 [==============================] - 4s 22us/step - loss: 0.2920 - acc: 0.8772\n",
      "Epoch 8/10\n",
      "179666/179666 [==============================] - 4s 22us/step - loss: 0.2914 - acc: 0.8774\n",
      "Epoch 9/10\n",
      "179666/179666 [==============================] - 4s 22us/step - loss: 0.2909 - acc: 0.8777\n",
      "Epoch 10/10\n",
      "179666/179666 [==============================] - 4s 21us/step - loss: 0.2907 - acc: 0.8778\n",
      "Predicting\n"
     ]
    }
   ],
   "source": [
    "fulldata_USE_FC_pred = train_USE_FC_model(np.stack(train_set[\"USE_token_plot_embeddings\"]), \"./local/USE_FC_500batch_dropout_fulldata.h5\",train_set)"
   ]
  },
  {
   "cell_type": "code",
   "execution_count": 140,
   "metadata": {},
   "outputs": [
    {
     "name": "stdout",
     "output_type": "stream",
     "text": [
      "The AUC for Action is 0.5453001761711098\n",
      "The AUC for Adventure is 0.3957226378873043\n",
      "The AUC for Comedy is 0.6974327702002612\n",
      "The AUC for Crime is 0.41839870432787946\n",
      "The AUC for Drama is 0.7841624367518782\n",
      "The AUC for Family is 0.45220466134752396\n",
      "The AUC for Horror is 0.5607895843008089\n",
      "The AUC for Romance is 0.38483609153557025\n",
      "The AUC for Sci-Fi is 0.5991009093403481\n",
      "The AUC for Thriller is 0.3869944846698701\n",
      "The micro-avg AUC is 0.6390774992517999\n",
      "The macro-avg AUC is 0.5224942456532553\n"
     ]
    }
   ],
   "source": [
    "auc_pr(y_dev, fulldata_USE_FC_pred)"
   ]
  },
  {
   "cell_type": "code",
   "execution_count": 141,
   "metadata": {},
   "outputs": [
    {
     "name": "stdout",
     "output_type": "stream",
     "text": [
      "The micro precision is 0.6964494732735076\n",
      "The weighted macro precision is 0.6747163963318376\n",
      "The micro recall is 0.44816715951570607\n",
      "The weighted macro recall is 0.44816715951570607\n",
      "The micro f1 is 0.5453804762955545\n",
      "The weighted macro f1 is 0.49958371667356677\n"
     ]
    }
   ],
   "source": [
    "y_pred = fulldata_USE_FC_pred >= 0.5\n",
    "micro_precision = precision_score(y_dev, y_pred, average = 'micro')\n",
    "weighted_macro_precision = precision_score(y_dev, y_pred, average = 'weighted')\n",
    "micro_recall = recall_score(y_dev, y_pred, average = 'micro')\n",
    "weighted_macro_recall = recall_score(y_dev, y_pred, average = 'weighted')\n",
    "micro_f1 = f1_score(y_dev, y_pred, average = 'micro')\n",
    "weighted_macro_f1 = f1_score(y_dev, y_pred, average = 'weighted')\n",
    "print(\"The micro precision is\", micro_precision)\n",
    "print(\"The weighted macro precision is\", weighted_macro_precision)\n",
    "print(\"The micro recall is\", micro_recall)\n",
    "print(\"The weighted macro recall is\", weighted_macro_recall)\n",
    "print(\"The micro f1 is\", micro_f1)\n",
    "print(\"The weighted macro f1 is\", weighted_macro_f1)"
   ]
  },
  {
   "cell_type": "code",
   "execution_count": 32,
   "metadata": {},
   "outputs": [],
   "source": [
    "def train_USE_FC_samples(df_dict):\n",
    "\n",
    "    model_num = 1\n",
    "    preds_group = {}\n",
    "\n",
    "    for i in list(df_dict.values()):\n",
    "        print(\"Training model \" + str(model_num))\n",
    "        x_train = np.stack(i[\"USE_token_plot_embeddings\"])\n",
    "        preds_group[\"preds_{}\".format(model_num)] = train_USE_FC_model(x_train,\n",
    "                                                               \"./local/USE_fulldata_300dim_500batch_dropout_sample_{}.h5\".format(model_num),\n",
    "                                                                         i)\n",
    "        model_num += 1\n",
    "        \n",
    "    return preds_group"
   ]
  },
  {
   "cell_type": "code",
   "execution_count": null,
   "metadata": {},
   "outputs": [
    {
     "name": "stdout",
     "output_type": "stream",
     "text": [
      "Training model 1\n",
      "Epoch 1/10\n",
      "114730/114730 [==============================] - 5s 45us/step - loss: 0.4340 - acc: 0.8034\n",
      "Epoch 2/10\n",
      "114730/114730 [==============================] - 3s 22us/step - loss: 0.3942 - acc: 0.8207\n",
      "Epoch 3/10\n",
      "114730/114730 [==============================] - 3s 22us/step - loss: 0.3912 - acc: 0.8223\n",
      "Epoch 4/10\n",
      "114730/114730 [==============================] - 3s 22us/step - loss: 0.3895 - acc: 0.8233\n",
      "Epoch 5/10\n",
      "114730/114730 [==============================] - 3s 23us/step - loss: 0.3883 - acc: 0.8240\n",
      "Epoch 6/10\n",
      "114730/114730 [==============================] - 3s 22us/step - loss: 0.3877 - acc: 0.8242\n",
      "Epoch 7/10\n",
      "114730/114730 [==============================] - 3s 22us/step - loss: 0.3868 - acc: 0.8247\n",
      "Epoch 8/10\n",
      "114730/114730 [==============================] - 3s 22us/step - loss: 0.3863 - acc: 0.8250\n",
      "Epoch 9/10\n",
      "114730/114730 [==============================] - 3s 22us/step - loss: 0.3857 - acc: 0.8252\n",
      "Epoch 10/10\n",
      "114730/114730 [==============================] - 3s 22us/step - loss: 0.3852 - acc: 0.8255\n",
      "Predicting\n",
      "Training model 2\n",
      "Epoch 1/10\n",
      "114730/114730 [==============================] - 5s 48us/step - loss: 0.4349 - acc: 0.8031\n",
      "Epoch 2/10\n",
      "114730/114730 [==============================] - 3s 22us/step - loss: 0.3940 - acc: 0.8209\n",
      "Epoch 3/10\n",
      "114730/114730 [==============================] - 3s 22us/step - loss: 0.3904 - acc: 0.8229\n",
      "Epoch 4/10\n",
      "114730/114730 [==============================] - 3s 22us/step - loss: 0.3889 - acc: 0.8235\n",
      "Epoch 5/10\n",
      "114730/114730 [==============================] - 2s 22us/step - loss: 0.3877 - acc: 0.8242\n",
      "Epoch 6/10\n",
      "114730/114730 [==============================] - 3s 22us/step - loss: 0.3870 - acc: 0.8245\n",
      "Epoch 7/10\n",
      "114730/114730 [==============================] - 3s 22us/step - loss: 0.3861 - acc: 0.8249\n",
      "Epoch 8/10\n",
      "114730/114730 [==============================] - 3s 22us/step - loss: 0.3855 - acc: 0.8255\n",
      "Epoch 9/10\n",
      "114730/114730 [==============================] - 3s 22us/step - loss: 0.3852 - acc: 0.8255\n",
      "Epoch 10/10\n",
      "114730/114730 [==============================] - 2s 21us/step - loss: 0.3842 - acc: 0.8262\n",
      "Predicting\n",
      "Training model 3\n",
      "Epoch 1/10\n",
      "114730/114730 [==============================] - 5s 45us/step - loss: 0.4335 - acc: 0.8036\n",
      "Epoch 2/10\n",
      "114730/114730 [==============================] - 2s 21us/step - loss: 0.3939 - acc: 0.8210\n",
      "Epoch 3/10\n",
      "114730/114730 [==============================] - 2s 22us/step - loss: 0.3907 - acc: 0.8223\n",
      "Epoch 4/10\n",
      "114730/114730 [==============================] - 3s 22us/step - loss: 0.3891 - acc: 0.8235\n",
      "Epoch 5/10\n",
      "114730/114730 [==============================] - 3s 22us/step - loss: 0.3882 - acc: 0.8239\n",
      "Epoch 6/10\n",
      "114730/114730 [==============================] - 2s 22us/step - loss: 0.3872 - acc: 0.8242\n",
      "Epoch 7/10\n",
      "114730/114730 [==============================] - 3s 22us/step - loss: 0.3863 - acc: 0.8250\n",
      "Epoch 8/10\n",
      "114730/114730 [==============================] - 2s 22us/step - loss: 0.3858 - acc: 0.8251\n",
      "Epoch 9/10\n",
      "114730/114730 [==============================] - 2s 21us/step - loss: 0.3851 - acc: 0.8254\n",
      "Epoch 10/10\n",
      "114730/114730 [==============================] - 2s 22us/step - loss: 0.3848 - acc: 0.8254\n",
      "Predicting\n",
      "Training model 4\n",
      "Epoch 1/10\n",
      "114730/114730 [==============================] - 5s 44us/step - loss: 0.4347 - acc: 0.8035\n",
      "Epoch 2/10\n",
      "114730/114730 [==============================] - 2s 21us/step - loss: 0.3940 - acc: 0.8210\n",
      "Epoch 3/10\n",
      "114730/114730 [==============================] - 3s 24us/step - loss: 0.3908 - acc: 0.8227\n",
      "Epoch 4/10\n",
      "114730/114730 [==============================] - 3s 27us/step - loss: 0.3890 - acc: 0.8233\n",
      "Epoch 5/10\n",
      "114730/114730 [==============================] - 3s 22us/step - loss: 0.3881 - acc: 0.8241\n",
      "Epoch 6/10\n",
      "114730/114730 [==============================] - 2s 22us/step - loss: 0.3871 - acc: 0.8246\n",
      "Epoch 7/10\n",
      "114730/114730 [==============================] - 2s 21us/step - loss: 0.3864 - acc: 0.8250\n",
      "Epoch 8/10\n",
      "114730/114730 [==============================] - 2s 20us/step - loss: 0.3857 - acc: 0.8254\n",
      "Epoch 9/10\n",
      "114730/114730 [==============================] - 2s 19us/step - loss: 0.3851 - acc: 0.8255\n",
      "Epoch 10/10\n",
      "114730/114730 [==============================] - 2s 18us/step - loss: 0.3846 - acc: 0.8258\n",
      "Predicting\n",
      "Training model 5\n"
     ]
    }
   ],
   "source": [
    "USE_FC_samples_preds_dict = train_USE_FC_samples(sample_dfs)"
   ]
  },
  {
   "cell_type": "code",
   "execution_count": null,
   "metadata": {},
   "outputs": [],
   "source": [
    "auc_pr_ensemble(y_dev, USE_FC_samples_preds_dict)"
   ]
  },
  {
   "cell_type": "code",
   "execution_count": null,
   "metadata": {},
   "outputs": [],
   "source": [
    "indiv_class_scores_ensemble(y_dev, USE_FC_samples_preds_dict, 0.5)"
   ]
  },
  {
   "cell_type": "code",
   "execution_count": 58,
   "metadata": {},
   "outputs": [
    {
     "data": {
      "text/plain": [
       "array([0.01384354, 0.02507908, 0.8756969 , 0.01674592, 0.10674362,\n",
       "       0.05267188, 0.02080834, 0.09573961, 0.00467977, 0.02327636],\n",
       "      dtype=float32)"
      ]
     },
     "execution_count": 58,
     "metadata": {},
     "output_type": "execute_result"
    }
   ],
   "source": [
    "preds[0]"
   ]
  },
  {
   "cell_type": "code",
   "execution_count": 43,
   "metadata": {},
   "outputs": [],
   "source": [
    "preds = model.predict(x_dev)"
   ]
  },
  {
   "cell_type": "code",
   "execution_count": 33,
   "metadata": {},
   "outputs": [],
   "source": [
    "def comparePred(pred, actual, dev_set, index):\n",
    "    genres = ['Action', 'Adventure', 'Comedy', 'Crime', 'Drama', 'Family',\n",
    "       'Horror', 'Romance', 'Sci-Fi', 'Thriller']\n",
    "    print(\"Predicted:\")\n",
    "    genreSelected = False\n",
    "    for i in range(10):\n",
    "        if(pred[index][i] >= 0.5):\n",
    "            print(genres[i])\n",
    "            print(pred[index][i])\n",
    "            genreSelected = True\n",
    "    if genreSelected ==False:\n",
    "        print(genres[np.argmax(pred[index])])\n",
    "        print(pred[index][i])\n",
    "\n",
    "    print()\n",
    "    print(\"Actual:\")\n",
    "    for i in range(10):\n",
    "        if actual[index][i] == 1:\n",
    "            print(genres[i])\n",
    "    print()\n",
    "    print(\"Plot:\")\n",
    "    print(dev_set.iloc[index][\"plots\"])\n",
    "    \n",
    "    print()\n",
    "    print(\"Tokens\")\n",
    "    #print(dev_set.iloc[index][\"USE_tokens_sentences_padded\"])\n",
    "    print(dev_set.iloc[index][\"tokenized_words\"])\n",
    "            "
   ]
  },
  {
   "cell_type": "code",
   "execution_count": 45,
   "metadata": {},
   "outputs": [
    {
     "name": "stdout",
     "output_type": "stream",
     "text": [
      "Predicted:\n",
      "Comedy\n",
      "0.8756969\n",
      "\n",
      "Actual:\n",
      "Comedy\n",
      "\n",
      "Plot:\n",
      "Follows Manager Klaus Schlegle and the door-to-door salesmen of At Your Door Service Enterprises (A.Y.D.S.E.). New salesman Bryan Cooper, socially confused Cynthia Patterson, and fitness aficionado Ed Phuket are the sales team. Under the direction of their overly enthusiastic boss Klaus, and with sales routes mapped by bitter receptionist Mildred Mortimer, they go door to door to sell a variety of wacky products. \n",
      "\n",
      "Tokens\n",
      "['follows manager klaus schlegle and the door to door salesmen of at your door service enterprises aydse.', 'new salesman bryan cooper socially confused cynthia patterson and fitness aficionado ed phuket are the sales team.', 'under the direction of their overly enthusiastic boss klaus and with sales routes mapped by bitter receptionist mildred mortimer they go door to door to sell a variety of wacky products.', 'EMPTY', 'EMPTY']\n"
     ]
    }
   ],
   "source": [
    "comparePred(preds, y_dev, dev_set, 0)"
   ]
  },
  {
   "cell_type": "code",
   "execution_count": 46,
   "metadata": {},
   "outputs": [
    {
     "name": "stdout",
     "output_type": "stream",
     "text": [
      "Predicted:\n",
      "Drama\n",
      "0.57791966\n",
      "\n",
      "Actual:\n",
      "Horror\n",
      "Sci-Fi\n",
      "\n",
      "Plot:\n",
      "Theodora, Jody and Carol, collectively The Violas, are on tour when their van breaks down in a small southern beach town. The local police are investigating a mass of mysterious debris on the beach and the disappearance of a little girl's parents after she's found walking the beach in a state of shock. Scientist John Patterson is called in to help investigate. Both John and local mechanic Hector Garcia fall for Violas lead singer Theodora, but she seems to have no interest in them, possibly because of a mysterious past. Hector convinces the girls to stay in town when he offers to repair their van in exchange for playing his party, but the mysterious creature is still on the loose. \n",
      "\n",
      "Tokens\n",
      "['theodora jody and carol collectively the violas are on tour when their van breaks down in a small southern beach town.', \"the local police are investigating a mass of mysterious debris on the beach and the disappearance of a little girl's parents after she's found walking the beach in a state of shock.\", 'scientist john patterson is called in to help investigate.', 'both john and local mechanic hector garcia fall for violas lead singer theodora but she seems to have no interest in them possibly because of a mysterious past.', 'hector convinces the girls to stay in town when he offers to repair their van in exchange for playing his party but the mysterious creature is still on the loose.']\n"
     ]
    }
   ],
   "source": [
    "comparePred(preds, y_dev, dev_set, 1)"
   ]
  },
  {
   "cell_type": "code",
   "execution_count": 47,
   "metadata": {},
   "outputs": [
    {
     "name": "stdout",
     "output_type": "stream",
     "text": [
      "Predicted:\n",
      "Action\n",
      "0.5810109\n",
      "Drama\n",
      "0.5009569\n",
      "\n",
      "Actual:\n",
      "Action\n",
      "Thriller\n",
      "\n",
      "Plot:\n",
      "Gabriel is promised his freedom in return for his service in a rescue operation to save a missing British operative. When Gabriel is captured and taken to the compound where his target and several others are being held, he must devise a plan to take on the entire North Korean military installation and get everyone to safety. \n",
      "\n",
      "Tokens\n",
      "['gabriel is promised his freedom in return for his service in a rescue operation to save a missing british operative.', 'when gabriel is captured and taken to the compound where his target and several others are being held he must devise a plan to take on the entire north korean military installation and get everyone to safety.', 'EMPTY', 'EMPTY', 'EMPTY']\n"
     ]
    }
   ],
   "source": [
    "comparePred(preds, y_dev, dev_set, 2)"
   ]
  },
  {
   "cell_type": "code",
   "execution_count": 83,
   "metadata": {},
   "outputs": [
    {
     "name": "stdout",
     "output_type": "stream",
     "text": [
      "Predicted:\n",
      "Drama\n",
      "0.914151\n",
      "\n",
      "Actual:\n",
      "Drama\n",
      "\n",
      "Plot:\n",
      "Moloya gets a shock of her life when her newly married husband Pranjal suddenly declares that his life ambition is to serve in the rural areas in Assam - something that was not known to her although they have known each other for many years and they have studied medicine together. The clash begins before they could start their home. \n",
      "\n",
      "Tokens\n",
      "['moloya gets a shock of her life when her newly married husband pranjal suddenly declares that his life ambition is to serve in the rural areas in assam something that was not known to her although they have known each other for many years and they have studied medicine together.', 'the clash begins before they could start their home.', 'EMPTY', 'EMPTY', 'EMPTY']\n"
     ]
    }
   ],
   "source": [
    "comparePred(preds, y_dev, dev_set, 3)"
   ]
  },
  {
   "cell_type": "code",
   "execution_count": 84,
   "metadata": {},
   "outputs": [
    {
     "name": "stdout",
     "output_type": "stream",
     "text": [
      "Predicted:\n",
      "Drama\n",
      "0.65094334\n",
      "\n",
      "Actual:\n",
      "Drama\n",
      "\n",
      "Plot:\n",
      "What happens when a natural disaster hits a rural town of only 400 residents? In less than 6 hours Hurricane Irene destroyed all roads in and out of Pittsfield Vermont and the town became an isolated island with no power, phone service or medical facilities. In the face of chaos, would this small community fall apart or come together? \n",
      "\n",
      "Tokens\n",
      "['what happens when a natural disaster hits a rural town of only DG residents?', 'in less than DG hours hurricane irene destroyed all roads in and out of pittsfield vermont and the town became an isolated island with no power phone service or medical facilities.', 'in the face of chaos would this small community fall apart or come together?', 'EMPTY', 'EMPTY']\n"
     ]
    }
   ],
   "source": [
    "comparePred(preds, y_dev, dev_set, 4)"
   ]
  },
  {
   "cell_type": "code",
   "execution_count": 85,
   "metadata": {},
   "outputs": [
    {
     "name": "stdout",
     "output_type": "stream",
     "text": [
      "Predicted:\n",
      "Comedy\n",
      "0.62210685\n",
      "\n",
      "Actual:\n",
      "Drama\n",
      "Romance\n",
      "\n",
      "Plot:\n",
      "Humans are known to be curious beasts. There are times when we all had fantasies that were so odd that we were afraid people would think we're crazy! But the women in this film have waited too long to get what they need. Veronica Vain is a newlywed, and her new mother-in-law Kendra James hears from her best friend Kendra Lust just how to get her into trouble. When Kendra's invited over for dinner she takes the real chance that she and Veronica might almost be caught in the act. Adriana Chechik is just like any other teen. She waits until her parents are out and then rushes to the family computer to look up all the weird and wacky fantasies running through her mind. Little does she know that her seemingly typical stepmom Veronica Avluv is actually an expert. Talking to her is like finding the holy grail when it comes to her biggest fantasy, squirting! \n",
      "\n",
      "Tokens\n",
      "['humans are known to be curious beasts.', \"there are times when we all had fantasies that were so odd that we were afraid people would think we're crazy!\", 'but the women in this film have waited too long to get what they need.', 'veronica vain is a newlywed and her new mother in law kendra james hears from her best friend kendra lust just how to get her into trouble.', \"when kendra's invited over for dinner she takes the real chance that she and veronica might almost be caught in the act.\"]\n"
     ]
    }
   ],
   "source": [
    "comparePred(preds, y_dev, dev_set, 5)"
   ]
  },
  {
   "cell_type": "code",
   "execution_count": 92,
   "metadata": {},
   "outputs": [
    {
     "name": "stdout",
     "output_type": "stream",
     "text": [
      "Predicted:\n",
      "Drama\n",
      "0.12039418\n",
      "\n",
      "Actual:\n",
      "Drama\n",
      "\n",
      "Plot:\n",
      "A jaded, wealthy couple watch a blue movie in their castle home along with her adult son. The son is testy, so they go into town and watch a circus-like thrill ride. The daredevil woman in the show looks exactly like one of the women in the movie, so the man invites her to join them for a nightcap. Tensions among the family seem to rise. She stays overnight, and during her 24 hours in the castle, each of its three residents involves her in a fantasy. She, in turn, keeps asking, \"Who has the gun?\" Will there be violence before it's over? \n",
      "\n",
      "Tokens\n",
      "['a jaded wealthy couple watch a blue movie in their castle home along with her adult son.', 'the son is testy so they go into town and watch a circus like thrill ride.', 'the daredevil woman in the show looks exactly like one of the women in the movie so the man invites her to join them for a nightcap.', 'tensions among the genre seem to rise.', 'she stays overnight and during her DG hours in the castle each of its three residents involves her in a fantasy.']\n"
     ]
    }
   ],
   "source": [
    "comparePred(preds, y_dev, dev_set, 6)"
   ]
  },
  {
   "cell_type": "code",
   "execution_count": 93,
   "metadata": {},
   "outputs": [
    {
     "name": "stdout",
     "output_type": "stream",
     "text": [
      "Predicted:\n",
      "Adventure\n",
      "0.56983435\n",
      "Drama\n",
      "0.5374316\n",
      "\n",
      "Actual:\n",
      "Action\n",
      "Adventure\n",
      "\n",
      "Plot:\n",
      "Adventure does not always need to start in a country ending with Stan. Sometimes it can be found subtly, just around the corner. In February 2011, pro skiers Kaj Zackrisson and Mike Douglas spent two weeks chasing powder across Switzerland by train. Trains started carrying skiers up and across the Alps more than 100 years ago. In a fast world, the train provides a refreshing experience - one that, will hopefully, never be lost. \n",
      "\n",
      "Tokens\n",
      "['genre does not always need to start in a country ending with stan.', 'sometimes it can be found subtly just around the corner.', 'in february DG pro skiers kaj zackrisson and mike douglas spent two weeks chasing powder across switzerland by train.', 'trains started carrying skiers up and across the alps more than DG years ago.', 'in a fast world the train provides a refreshing experience one that will hopefully never be lost.']\n"
     ]
    }
   ],
   "source": [
    "comparePred(preds, y_dev, dev_set, 7)"
   ]
  },
  {
   "cell_type": "code",
   "execution_count": 34,
   "metadata": {},
   "outputs": [],
   "source": [
    "def createConfusionMatrix(pred, actual, dev_set, alwaysPredict = False):\n",
    "    genres = ['Action', 'Adventure', 'Comedy', 'Crime', 'Drama', 'Family',\n",
    "       'Horror', 'Romance', 'Sci-Fi', 'Thriller']\n",
    "    a = np.array(['0', '1', '2', '3', '4', '5', '6', '7', '8', '9', '01', '02', '03', '04', '05','06',\n",
    "                 '07', '08', '09', '12' ,'13', '14', '15', '16', '17', '18', '19', '23', '24', '25', '26', '27',\n",
    "                 '28','29','34', '35','36','37','38','39','45','46','47','48','49','56','57','58','59','67',\n",
    "                 '68','69','78','79','89','99'])\n",
    "    matrix = np.zeros((len(a),len(a)))\n",
    "    for index in range(len(pred)):\n",
    "        genreSelected = False\n",
    "        predictions = np.zeros((10))\n",
    "        #print(\"hi\")\n",
    "        predictedIndices = \"\"\n",
    "        for i in range(10):\n",
    "            if(pred[index][i] >= 0.5):\n",
    "                predictions[i] = 1\n",
    "                genreSelected = True\n",
    "                predictedIndices += str(i)\n",
    "                #print(predictedIndices)\n",
    "        if alwaysPredict and genreSelected ==False:\n",
    "            predictions[np.argmax(pred[index])] = 1\n",
    "            predictedIndices = str(np.argmax(pred[index]))\n",
    "            genreSelected = True\n",
    "        if genreSelected == False:\n",
    "            predictedIndices = '99'\n",
    "        \n",
    "        actualIndices = \"\"\n",
    "        for k in range(10):\n",
    "            if actual[index][k] == 1:\n",
    "                actualIndices += str(k)\n",
    "                #print(actualIndices)\n",
    "        if(len(predictedIndices)<3 and len(actualIndices)<3):\n",
    "            #print(predictedIndices)\n",
    "            #print(actualIndices)\n",
    "            column = np.argwhere(a==predictedIndices)[0][0]\n",
    "            row = np.argwhere(a==actualIndices)[0][0]\n",
    "            matrix[row,column] = matrix[row,column] + 1\n",
    "    return matrix"
   ]
  },
  {
   "cell_type": "code",
   "execution_count": 171,
   "metadata": {},
   "outputs": [
    {
     "data": {
      "text/html": [
       "<div>\n",
       "<style scoped>\n",
       "    .dataframe tbody tr th:only-of-type {\n",
       "        vertical-align: middle;\n",
       "    }\n",
       "\n",
       "    .dataframe tbody tr th {\n",
       "        vertical-align: top;\n",
       "    }\n",
       "\n",
       "    .dataframe thead th {\n",
       "        text-align: right;\n",
       "    }\n",
       "</style>\n",
       "<table border=\"1\" class=\"dataframe\">\n",
       "  <thead>\n",
       "    <tr style=\"text-align: right;\">\n",
       "      <th></th>\n",
       "      <th>index</th>\n",
       "      <th>genres</th>\n",
       "      <th>plots</th>\n",
       "      <th>list_genres</th>\n",
       "      <th>list_genres_consol</th>\n",
       "      <th>USE_tokens</th>\n",
       "      <th>tokenized_words</th>\n",
       "      <th>USE_tokens_sentences</th>\n",
       "      <th>flattened_tokens</th>\n",
       "      <th>binarized_labels</th>\n",
       "      <th>USE_token_plot_embeddings</th>\n",
       "      <th>USE_tokens_sentences_padded</th>\n",
       "      <th>USE_token_sentence_embeddings</th>\n",
       "      <th>embedding</th>\n",
       "    </tr>\n",
       "  </thead>\n",
       "  <tbody>\n",
       "    <tr>\n",
       "      <th>0</th>\n",
       "      <td>0</td>\n",
       "      <td>Comedy</td>\n",
       "      <td>A stranded theatrical troupe manages to get ba...</td>\n",
       "      <td>[Comedy]</td>\n",
       "      <td>[Comedy]</td>\n",
       "      <td>a stranded theatrical troupe manages to get ba...</td>\n",
       "      <td>[[stranded, theatrical, troupe, manages, get, ...</td>\n",
       "      <td>[a stranded theatrical troupe manages to get b...</td>\n",
       "      <td>[stranded, theatrical, troupe, manages, get, b...</td>\n",
       "      <td>[0, 0, 1, 0, 0, 0, 0, 0, 0, 0]</td>\n",
       "      <td>[0.06496927887201309, 0.02937605045735836, 0.0...</td>\n",
       "      <td>[a stranded theatrical troupe manages to get b...</td>\n",
       "      <td>[[0.04774859547615051, 0.03576108068227768, -0...</td>\n",
       "      <td>[[7990, 3881, 3273, 1578, 8, 41, 38, 73, 12, 7...</td>\n",
       "    </tr>\n",
       "    <tr>\n",
       "      <th>1</th>\n",
       "      <td>1</td>\n",
       "      <td>Drama</td>\n",
       "      <td>While waiting at the bus stop for the woman he...</td>\n",
       "      <td>[Drama]</td>\n",
       "      <td>[Drama]</td>\n",
       "      <td>while waiting at the bus stop for the woman he...</td>\n",
       "      <td>[[wait, bus, stop, woman, intend, marry, jay, ...</td>\n",
       "      <td>[while waiting at the bus stop for the woman h...</td>\n",
       "      <td>[wait, bus, stop, woman, intend, marry, jay, d...</td>\n",
       "      <td>[0, 0, 0, 0, 1, 0, 0, 0, 0, 0]</td>\n",
       "      <td>[0.03805602714419365, 0.05806170403957367, -0....</td>\n",
       "      <td>[while waiting at the bus stop for the woman h...</td>\n",
       "      <td>[[0.030491432175040245, 0.00019499639165587723...</td>\n",
       "      <td>[[377, 1364, 179, 25, 1341, 142, 2062, 1510, 4...</td>\n",
       "    </tr>\n",
       "    <tr>\n",
       "      <th>2</th>\n",
       "      <td>3</td>\n",
       "      <td>Drama</td>\n",
       "      <td>Policeman Lasse rehabilitates young prisoners ...</td>\n",
       "      <td>[Drama]</td>\n",
       "      <td>[Drama]</td>\n",
       "      <td>policeman lasse rehabilitates young prisoners ...</td>\n",
       "      <td>[[policeman, lasse, rehabilitate, young, priso...</td>\n",
       "      <td>[policeman lasse rehabilitates young prisoners...</td>\n",
       "      <td>[policeman, lasse, rehabilitate, young, prison...</td>\n",
       "      <td>[0, 0, 0, 0, 1, 0, 0, 0, 0, 0]</td>\n",
       "      <td>[-0.031366996467113495, 0.0004756059206556529,...</td>\n",
       "      <td>[policeman lasse rehabilitates young prisoners...</td>\n",
       "      <td>[[-0.02940049022436142, -0.06734874099493027, ...</td>\n",
       "      <td>[[1291, 13109, 9460, 10, 935, 11, 903, 399, 31...</td>\n",
       "    </tr>\n",
       "    <tr>\n",
       "      <th>3</th>\n",
       "      <td>4</td>\n",
       "      <td>Adventure Animation Comedy</td>\n",
       "      <td>Patricia and Isobelle O'Sullivan arrives at th...</td>\n",
       "      <td>[Adventure, Animation, Comedy]</td>\n",
       "      <td>[Adventure, Comedy]</td>\n",
       "      <td>patricia and isobelle o'sullivan arrives at th...</td>\n",
       "      <td>[[patricia, isobelle, o'sullivan, arrive, st.,...</td>\n",
       "      <td>[patricia and isobelle o'sullivan arrives at t...</td>\n",
       "      <td>[patricia, isobelle, o'sullivan, arrive, st., ...</td>\n",
       "      <td>[0, 1, 1, 0, 0, 0, 0, 0, 0, 0]</td>\n",
       "      <td>[-0.06273579597473145, 0.042697515338659286, -...</td>\n",
       "      <td>[patricia and isobelle o'sullivan arrives at t...</td>\n",
       "      <td>[[0.014844884164631367, 0.0431971549987793, 0....</td>\n",
       "      <td>[[4199, 58589, 23221, 213, 2084, 1632, 279, 30...</td>\n",
       "    </tr>\n",
       "    <tr>\n",
       "      <th>4</th>\n",
       "      <td>5</td>\n",
       "      <td>Drama</td>\n",
       "      <td>Anna Zaccheo is a beautiful young woman from a...</td>\n",
       "      <td>[Drama]</td>\n",
       "      <td>[Drama]</td>\n",
       "      <td>anna zaccheo is a beautiful young woman from a...</td>\n",
       "      <td>[[anna, zaccheo, beautiful, young, woman, work...</td>\n",
       "      <td>[anna zaccheo is a beautiful young woman from ...</td>\n",
       "      <td>[anna, zaccheo, beautiful, young, woman, work,...</td>\n",
       "      <td>[0, 0, 0, 0, 1, 0, 0, 0, 0, 0]</td>\n",
       "      <td>[-0.03793998435139656, 0.03065059520304203, -0...</td>\n",
       "      <td>[anna zaccheo is a beautiful young woman from ...</td>\n",
       "      <td>[[-0.003618143266066909, 0.0034949216060340405...</td>\n",
       "      <td>[[838, 80000, 162, 10, 25, 34, 358, 17246, 4, ...</td>\n",
       "    </tr>\n",
       "  </tbody>\n",
       "</table>\n",
       "</div>"
      ],
      "text/plain": [
       "   index                       genres  \\\n",
       "0      0                      Comedy    \n",
       "1      1                       Drama    \n",
       "2      3                       Drama    \n",
       "3      4  Adventure Animation Comedy    \n",
       "4      5                       Drama    \n",
       "\n",
       "                                               plots  \\\n",
       "0  A stranded theatrical troupe manages to get ba...   \n",
       "1  While waiting at the bus stop for the woman he...   \n",
       "2  Policeman Lasse rehabilitates young prisoners ...   \n",
       "3  Patricia and Isobelle O'Sullivan arrives at th...   \n",
       "4  Anna Zaccheo is a beautiful young woman from a...   \n",
       "\n",
       "                      list_genres   list_genres_consol  \\\n",
       "0                        [Comedy]             [Comedy]   \n",
       "1                         [Drama]              [Drama]   \n",
       "2                         [Drama]              [Drama]   \n",
       "3  [Adventure, Animation, Comedy]  [Adventure, Comedy]   \n",
       "4                         [Drama]              [Drama]   \n",
       "\n",
       "                                          USE_tokens  \\\n",
       "0  a stranded theatrical troupe manages to get ba...   \n",
       "1  while waiting at the bus stop for the woman he...   \n",
       "2  policeman lasse rehabilitates young prisoners ...   \n",
       "3  patricia and isobelle o'sullivan arrives at th...   \n",
       "4  anna zaccheo is a beautiful young woman from a...   \n",
       "\n",
       "                                     tokenized_words  \\\n",
       "0  [[stranded, theatrical, troupe, manages, get, ...   \n",
       "1  [[wait, bus, stop, woman, intend, marry, jay, ...   \n",
       "2  [[policeman, lasse, rehabilitate, young, priso...   \n",
       "3  [[patricia, isobelle, o'sullivan, arrive, st.,...   \n",
       "4  [[anna, zaccheo, beautiful, young, woman, work...   \n",
       "\n",
       "                                USE_tokens_sentences  \\\n",
       "0  [a stranded theatrical troupe manages to get b...   \n",
       "1  [while waiting at the bus stop for the woman h...   \n",
       "2  [policeman lasse rehabilitates young prisoners...   \n",
       "3  [patricia and isobelle o'sullivan arrives at t...   \n",
       "4  [anna zaccheo is a beautiful young woman from ...   \n",
       "\n",
       "                                    flattened_tokens  \\\n",
       "0  [stranded, theatrical, troupe, manages, get, b...   \n",
       "1  [wait, bus, stop, woman, intend, marry, jay, d...   \n",
       "2  [policeman, lasse, rehabilitate, young, prison...   \n",
       "3  [patricia, isobelle, o'sullivan, arrive, st., ...   \n",
       "4  [anna, zaccheo, beautiful, young, woman, work,...   \n",
       "\n",
       "                 binarized_labels  \\\n",
       "0  [0, 0, 1, 0, 0, 0, 0, 0, 0, 0]   \n",
       "1  [0, 0, 0, 0, 1, 0, 0, 0, 0, 0]   \n",
       "2  [0, 0, 0, 0, 1, 0, 0, 0, 0, 0]   \n",
       "3  [0, 1, 1, 0, 0, 0, 0, 0, 0, 0]   \n",
       "4  [0, 0, 0, 0, 1, 0, 0, 0, 0, 0]   \n",
       "\n",
       "                           USE_token_plot_embeddings  \\\n",
       "0  [0.06496927887201309, 0.02937605045735836, 0.0...   \n",
       "1  [0.03805602714419365, 0.05806170403957367, -0....   \n",
       "2  [-0.031366996467113495, 0.0004756059206556529,...   \n",
       "3  [-0.06273579597473145, 0.042697515338659286, -...   \n",
       "4  [-0.03793998435139656, 0.03065059520304203, -0...   \n",
       "\n",
       "                         USE_tokens_sentences_padded  \\\n",
       "0  [a stranded theatrical troupe manages to get b...   \n",
       "1  [while waiting at the bus stop for the woman h...   \n",
       "2  [policeman lasse rehabilitates young prisoners...   \n",
       "3  [patricia and isobelle o'sullivan arrives at t...   \n",
       "4  [anna zaccheo is a beautiful young woman from ...   \n",
       "\n",
       "                       USE_token_sentence_embeddings  \\\n",
       "0  [[0.04774859547615051, 0.03576108068227768, -0...   \n",
       "1  [[0.030491432175040245, 0.00019499639165587723...   \n",
       "2  [[-0.02940049022436142, -0.06734874099493027, ...   \n",
       "3  [[0.014844884164631367, 0.0431971549987793, 0....   \n",
       "4  [[-0.003618143266066909, 0.0034949216060340405...   \n",
       "\n",
       "                                           embedding  \n",
       "0  [[7990, 3881, 3273, 1578, 8, 41, 38, 73, 12, 7...  \n",
       "1  [[377, 1364, 179, 25, 1341, 142, 2062, 1510, 4...  \n",
       "2  [[1291, 13109, 9460, 10, 935, 11, 903, 399, 31...  \n",
       "3  [[4199, 58589, 23221, 213, 2084, 1632, 279, 30...  \n",
       "4  [[838, 80000, 162, 10, 25, 34, 358, 17246, 4, ...  "
      ]
     },
     "execution_count": 171,
     "metadata": {},
     "output_type": "execute_result"
    }
   ],
   "source": [
    "full_data.head()"
   ]
  },
  {
   "cell_type": "code",
   "execution_count": 88,
   "metadata": {},
   "outputs": [],
   "source": [
    "a = np.array(['0', '1', '2', '3', '4', '5', '6', '7', '8', '9', '01', '02', '03', '04', '05','06',\n",
    "                 '07', '08', '09', '12' ,'13', '14', '15', '16', '17', '18', '19', '23', '24', '25', '26', '27',\n",
    "                 '28','29','34', '35','36','37','38','39','45','46','47','48','49','56','57','58','59','67',\n",
    "                 '68','69','78','79','89'])"
   ]
  },
  {
   "cell_type": "code",
   "execution_count": 129,
   "metadata": {},
   "outputs": [],
   "source": [
    "matrix = createConfusionMatrix(preds, y_dev, dev_set, alwaysPredict = False)"
   ]
  },
  {
   "cell_type": "code",
   "execution_count": 109,
   "metadata": {},
   "outputs": [
    {
     "data": {
      "text/plain": [
       "array([[ 114.,    8.,   37., ...,    0.,    0.,    0.],\n",
       "       [  22.,   87.,   68., ...,    0.,    0.,    0.],\n",
       "       [  22.,    8., 1925., ...,    0.,    0.,    0.],\n",
       "       ...,\n",
       "       [   0.,    0.,    1., ...,    0.,    0.,    0.],\n",
       "       [   0.,    0.,    0., ...,    0.,    0.,    0.],\n",
       "       [   1.,    0.,    2., ...,    0.,    0.,    1.]])"
      ]
     },
     "execution_count": 109,
     "metadata": {},
     "output_type": "execute_result"
    }
   ],
   "source": [
    "np.rint(matrix)"
   ]
  },
  {
   "cell_type": "code",
   "execution_count": 101,
   "metadata": {},
   "outputs": [],
   "source": [
    "np.set_printoptions(suppress=True)"
   ]
  },
  {
   "cell_type": "code",
   "execution_count": 115,
   "metadata": {},
   "outputs": [],
   "source": [
    "np.set_printoptions(threshold=10000)\n"
   ]
  },
  {
   "cell_type": "code",
   "execution_count": 130,
   "metadata": {},
   "outputs": [
    {
     "data": {
      "text/plain": [
       "(56, 56)"
      ]
     },
     "execution_count": 130,
     "metadata": {},
     "output_type": "execute_result"
    }
   ],
   "source": [
    "matrix.shape"
   ]
  },
  {
   "cell_type": "code",
   "execution_count": 131,
   "metadata": {},
   "outputs": [
    {
     "data": {
      "text/plain": [
       "array([[  96.,    4.,   23.,    0.,  122.,    0.,    3.,    0.,   13.,\n",
       "           1.],\n",
       "       [  13.,   56.,   41.,    0.,  110.,    3.,    6.,    0.,   11.,\n",
       "           1.],\n",
       "       [  13.,    4., 1751.,   10.,  695.,    6.,   32.,    2.,   10.,\n",
       "           1.],\n",
       "       [   5.,    0.,   13.,   11.,  105.,    0.,    2.,    0.,    0.,\n",
       "           5.],\n",
       "       [  14.,   10.,  375.,    4., 4294.,   15.,   23.,    0.,   11.,\n",
       "           4.],\n",
       "       [   1.,    8.,   86.,    0.,  224.,   46.,    3.,    0.,    4.,\n",
       "           0.],\n",
       "       [   6.,    2.,   75.,    3.,  156.,    1.,  197.,    0.,    5.,\n",
       "           9.],\n",
       "       [   1.,    0.,   50.,    1.,  150.,    1.,    0.,    0.,    0.,\n",
       "           0.],\n",
       "       [   5.,    0.,   18.,    0.,   64.,    0.,    7.,    0.,   93.,\n",
       "           4.],\n",
       "       [   4.,    1.,   36.,    6.,  235.,    0.,   19.,    0.,    4.,\n",
       "          19.]])"
      ]
     },
     "execution_count": 131,
     "metadata": {},
     "output_type": "execute_result"
    }
   ],
   "source": [
    "matrix[0:10,0:10]"
   ]
  },
  {
   "cell_type": "code",
   "execution_count": 31,
   "metadata": {},
   "outputs": [],
   "source": [
    "x_test = np.stack(test_set[\"USE_token_sentence_embeddings\"])"
   ]
  },
  {
   "cell_type": "code",
   "execution_count": 32,
   "metadata": {},
   "outputs": [],
   "source": [
    "model1 = load_model('./local/USE_HAN_300dim_500batch_dropout_sample_1.h5', custom_objects={'AttentionWithContext': AttentionWithContext})\n",
    "model2 = load_model('./local/USE_HAN_300dim_500batch_dropout_sample_2.h5', custom_objects={'AttentionWithContext': AttentionWithContext})\n",
    "model3 = load_model('./local/USE_HAN_300dim_500batch_dropout_sample_3.h5', custom_objects={'AttentionWithContext': AttentionWithContext})\n",
    "model4 = load_model('./local/USE_HAN_300dim_500batch_dropout_sample_4.h5', custom_objects={'AttentionWithContext': AttentionWithContext})\n",
    "model5 = load_model('./local/USE_HAN_300dim_500batch_dropout_sample_5.h5', custom_objects={'AttentionWithContext': AttentionWithContext})"
   ]
  },
  {
   "cell_type": "code",
   "execution_count": 33,
   "metadata": {},
   "outputs": [],
   "source": [
    "pred1 = model1.predict(x_test)\n",
    "pred2 = model2.predict(x_test)\n",
    "pred3 = model3.predict(x_test)\n",
    "pred4 = model4.predict(x_test)\n",
    "pred5 = model5.predict(x_test)"
   ]
  },
  {
   "cell_type": "code",
   "execution_count": 142,
   "metadata": {},
   "outputs": [
    {
     "data": {
      "text/plain": [
       "array([0.09668459, 0.14181063, 1.5505122 , 0.09284881, 0.37828785,\n",
       "       0.09042616, 0.12577462, 0.49958137, 0.0239905 , 0.11721288],\n",
       "      dtype=float32)"
      ]
     },
     "execution_count": 142,
     "metadata": {},
     "output_type": "execute_result"
    }
   ],
   "source": []
  },
  {
   "cell_type": "code",
   "execution_count": 35,
   "metadata": {},
   "outputs": [],
   "source": [
    "def createEnsembleConfusionMatrix(pred1, pred2, pred3, pred4, pred5, actual, dev_set, alwaysPredict = False):\n",
    "    genres = ['Action', 'Adventure', 'Comedy', 'Crime', 'Drama', 'Family',\n",
    "       'Horror', 'Romance', 'Sci-Fi', 'Thriller']\n",
    "    a = np.array(['0', '1', '2', '3', '4', '5', '6', '7', '8', '9', '01', '02', '03', '04', '05','06',\n",
    "                 '07', '08', '09', '12' ,'13', '14', '15', '16', '17', '18', '19', '23', '24', '25', '26', '27',\n",
    "                 '28','29','34', '35','36','37','38','39','45','46','47','48','49','56','57','58','59','67',\n",
    "                 '68','69','78','79','89','99'])\n",
    "    d={}\n",
    "    matrix = np.zeros((len(a),len(a)))\n",
    "    pred = pred1+pred2+pred3+pred4+pred5\n",
    "    good_plot =0\n",
    "    good_num_sent_total =0\n",
    "    good_sent_len_total =0\n",
    "    good_truncated = 0\n",
    "    bad_plot =0\n",
    "    bad_num_sent_total =0\n",
    "    bad_sent_len_total =0\n",
    "    bad_truncated = 0\n",
    "    for index in range(len(pred)):\n",
    "        genreSelected = False\n",
    "        predictions = np.zeros((10))\n",
    "        #print(\"hi\")\n",
    "        predictedIndices = \"\"\n",
    "        for i in range(10):\n",
    "            if(pred[index][i] >= 2.5):\n",
    "                predictions[i] = 1\n",
    "                genreSelected = True\n",
    "                predictedIndices += str(i)\n",
    "                #print(predictedIndices)\n",
    "        if alwaysPredict and genreSelected ==False:\n",
    "            predictions[np.argmax(pred[index])] = 1\n",
    "            predictedIndices = str(np.argmax(pred[index]))\n",
    "            genreSelected = True\n",
    "        if genreSelected == False:\n",
    "            predictedIndices = '99'\n",
    "        \n",
    "        actualIndices = \"\"\n",
    "        for k in range(10):\n",
    "            if actual[index][k] == 1:\n",
    "                actualIndices += str(k)\n",
    "                #print(actualIndices)\n",
    "        if(len(predictedIndices)<3 and len(actualIndices)<3):\n",
    "            #print(predictedIndices)\n",
    "            #print(actualIndices)\n",
    "            column = np.argwhere(a==predictedIndices)[0][0]\n",
    "            row = np.argwhere(a==actualIndices)[0][0]\n",
    "            matrix[row,column] = matrix[row,column] + 1\n",
    "            \n",
    "        tokenized_words = dev_set.iloc[index][\"tokenized_words\"]\n",
    "        num_sent = len(tokenized_words)\n",
    "        sent_len = 0\n",
    "        for sent in range(num_sent):\n",
    "            sent_len += len(tokenized_words[sent])\n",
    "        avg_sent_len = sent_len/num_sent\n",
    "        if(num_sent>5):\n",
    "            truncated_sent = True\n",
    "        else:\n",
    "            truncated_sent = False\n",
    "        if predictedIndices == actualIndices:\n",
    "            good_plot +=1\n",
    "            good_num_sent_total += num_sent\n",
    "            good_sent_len_total += avg_sent_len\n",
    "            if truncated_sent:\n",
    "                good_truncated +=1\n",
    "        else:\n",
    "            bad_plot +=1\n",
    "            bad_num_sent_total += num_sent\n",
    "            bad_sent_len_total += avg_sent_len\n",
    "            if truncated_sent:\n",
    "                bad_truncated +=1\n",
    "        if(len(predictedIndices)<2 and len(actualIndices)<2):\n",
    "            if actualIndices not in d:\n",
    "                d[actualIndices] = [1, num_sent,avg_sent_len]\n",
    "            else:\n",
    "                d[actualIndices][0] += 1\n",
    "                d[actualIndices][1] += num_sent\n",
    "                d[actualIndices][2] += avg_sent_len\n",
    "                \n",
    "    for key, value in d.items():\n",
    "        print(genres[int(key)])\n",
    "        print(\"Avg sent number\")\n",
    "        print(value[1]/value[0])\n",
    "        print(\"Avg sentence length\")\n",
    "        print(value[2]/value[0])\n",
    "        \n",
    "    print(\"Good plots:\")\n",
    "    print(\"Avg sent number\")\n",
    "    print(good_num_sent_total/good_plot)\n",
    "    print(\"Avg sentence length\")\n",
    "    print(good_sent_len_total/good_plot)\n",
    "    print(\"Fraction sentence truncated\")\n",
    "    print(good_truncated/good_plot)\n",
    "    print(\"Bad plots:\")\n",
    "    print(\"Avg sent number\")\n",
    "    print(bad_num_sent_total/bad_plot)\n",
    "    print(\"Avg sentence length\")\n",
    "    print(bad_sent_len_total/bad_plot)\n",
    "    print(\"Fraction sentence truncated\")\n",
    "    print(bad_truncated/bad_plot)\n",
    "    return matrix"
   ]
  },
  {
   "cell_type": "code",
   "execution_count": 194,
   "metadata": {},
   "outputs": [
    {
     "data": {
      "text/plain": [
       "12"
      ]
     },
     "execution_count": 194,
     "metadata": {},
     "output_type": "execute_result"
    }
   ],
   "source": [
    "len(dev_set.iloc[0][\"tokenized_words\"][0])"
   ]
  },
  {
   "cell_type": "code",
   "execution_count": 146,
   "metadata": {},
   "outputs": [],
   "source": [
    "matrix_sampled = createEnsembleConfusionMatrix(pred1, pred2, pred3, pred4, pred5, y_dev, dev_set, alwaysPredict = False)"
   ]
  },
  {
   "cell_type": "code",
   "execution_count": 147,
   "metadata": {},
   "outputs": [
    {
     "data": {
      "text/plain": [
       "array([[ 102.,    9.,    8.,    7.,   36.,    6.,    5.,    0.,   10.,\n",
       "           2.],\n",
       "       [  13.,  123.,   22.,    1.,   37.,   16.,   13.,    0.,   15.,\n",
       "           1.],\n",
       "       [  27.,   21., 1293.,   43.,  388.,   40.,   75.,    9.,   31.,\n",
       "          11.],\n",
       "       [   6.,    1.,    6.,   22.,   33.,    2.,    5.,    0.,    1.,\n",
       "           6.],\n",
       "       [  37.,   78.,  246.,   25., 2560.,  104.,   62.,   14.,   47.,\n",
       "          38.],\n",
       "       [   2.,   31.,   32.,    0.,   77.,  174.,    9.,    0.,    3.,\n",
       "           0.],\n",
       "       [   5.,    3.,   27.,    3.,   56.,    3.,  252.,    1.,   10.,\n",
       "          14.],\n",
       "       [   3.,    3.,   23.,    2.,   57.,    3.,    0.,    3.,    0.,\n",
       "           1.],\n",
       "       [   3.,    4.,    3.,    0.,   26.,    1.,    8.,    3.,  124.,\n",
       "           5.],\n",
       "       [   2.,    4.,   14.,   13.,   99.,    0.,   28.,    0.,    7.,\n",
       "          33.]])"
      ]
     },
     "execution_count": 147,
     "metadata": {},
     "output_type": "execute_result"
    }
   ],
   "source": [
    "matrix_sampled[0:10,0:10]"
   ]
  },
  {
   "cell_type": "code",
   "execution_count": 148,
   "metadata": {},
   "outputs": [],
   "source": [
    "matrix_sampled = createEnsembleConfusionMatrix(pred1, pred2, pred3, pred4, pred5, y_dev, dev_set, alwaysPredict = True)"
   ]
  },
  {
   "cell_type": "code",
   "execution_count": 150,
   "metadata": {},
   "outputs": [
    {
     "data": {
      "text/plain": [
       "array([[ 108.,   15.,    8.,    9.,   50.,    9.,    5.,    0.,   12.,\n",
       "           5.],\n",
       "       [  17.,  139.,   28.,    8.,   50.,   23.,   15.,    2.,   16.,\n",
       "           5.],\n",
       "       [  47.,   39., 1437.,   50.,  518.,   66.,   84.,   13.,   43.,\n",
       "          32.],\n",
       "       [   6.,    3.,    9.,   28.,   40.,    3.,    5.,    0.,    1.,\n",
       "           8.],\n",
       "       [  56.,  117.,  326.,   31., 2852.,  149.,   84.,   16.,   59.,\n",
       "          62.],\n",
       "       [   4.,   41.,   44.,    0.,  106.,  204.,   12.,    0.,    5.,\n",
       "           2.],\n",
       "       [  10.,    9.,   30.,    3.,   74.,    5.,  261.,    1.,   13.,\n",
       "          24.],\n",
       "       [   3.,    7.,   32.,    2.,   70.,    6.,    2.,    6.,    1.,\n",
       "           1.],\n",
       "       [   7.,    7.,    7.,    1.,   33.,    4.,   12.,    3.,  132.,\n",
       "          10.],\n",
       "       [   5.,    4.,   26.,   13.,  115.,    0.,   36.,    1.,    9.,\n",
       "          45.]])"
      ]
     },
     "execution_count": 150,
     "metadata": {},
     "output_type": "execute_result"
    }
   ],
   "source": [
    "matrix_sampled[0:10,0:10]"
   ]
  },
  {
   "cell_type": "code",
   "execution_count": 39,
   "metadata": {},
   "outputs": [],
   "source": [
    "model1 = load_model('./local/HAN_300dim_500batch_dropout_sample_1.h5', custom_objects={'AttentionWithContext': AttentionWithContext})\n",
    "model2 = load_model('./local/HAN_300dim_500batch_dropout_sample_2.h5', custom_objects={'AttentionWithContext': AttentionWithContext})\n",
    "model3 = load_model('./local/HAN_300dim_500batch_dropout_sample_3.h5', custom_objects={'AttentionWithContext': AttentionWithContext})\n",
    "model4 = load_model('./local/HAN_300dim_500batch_dropout_sample_4.h5', custom_objects={'AttentionWithContext': AttentionWithContext})\n",
    "model5 = load_model('./local/HAN_300dim_500batch_dropout_sample_5.h5', custom_objects={'AttentionWithContext': AttentionWithContext})\n"
   ]
  },
  {
   "cell_type": "code",
   "execution_count": 38,
   "metadata": {},
   "outputs": [],
   "source": [
    "x_test = np.stack(test_set[\"embedding\"])"
   ]
  },
  {
   "cell_type": "code",
   "execution_count": 40,
   "metadata": {},
   "outputs": [],
   "source": [
    "pred1 = model1.predict(x_test)\n",
    "pred2 = model2.predict(x_test)\n",
    "pred3 = model3.predict(x_test)\n",
    "pred4 = model4.predict(x_test)\n",
    "pred5 = model5.predict(x_test)"
   ]
  },
  {
   "cell_type": "code",
   "execution_count": 157,
   "metadata": {},
   "outputs": [
    {
     "data": {
      "text/plain": [
       "array([[  97.,    5.,    9.,    2.,   22.,    5.,    7.,    1.,   10.,\n",
       "           5.],\n",
       "       [   9.,  123.,   13.,    0.,   30.,   22.,    7.,    1.,    9.,\n",
       "           2.],\n",
       "       [  21.,   22., 1349.,   23.,  310.,   61.,   42.,    9.,   24.,\n",
       "          12.],\n",
       "       [   3.,    1.,    5.,   28.,   32.,    2.,    4.,    0.,    1.,\n",
       "           4.],\n",
       "       [  29.,   75.,  270.,   21., 2283.,  154.,   47.,   17.,   49.,\n",
       "          33.],\n",
       "       [   2.,   20.,   42.,    1.,   65.,  198.,    6.,    1.,    8.,\n",
       "           2.],\n",
       "       [   2.,    4.,   23.,    4.,   50.,    6.,  237.,    0.,    5.,\n",
       "           7.],\n",
       "       [   5.,    4.,   17.,    1.,   46.,    8.,    1.,    8.,    1.,\n",
       "           1.],\n",
       "       [   5.,    9.,    7.,    2.,   12.,    1.,   11.,    1.,  103.,\n",
       "           4.],\n",
       "       [   4.,    2.,   16.,    6.,   88.,    1.,   24.,    1.,    9.,\n",
       "          26.]])"
      ]
     },
     "execution_count": 157,
     "metadata": {},
     "output_type": "execute_result"
    }
   ],
   "source": [
    "matrix_sampled = createEnsembleConfusionMatrix(pred1, pred2, pred3, pred4, pred5, y_dev, dev_set, alwaysPredict = False)\n",
    "matrix_sampled[0:10,0:10]"
   ]
  },
  {
   "cell_type": "code",
   "execution_count": 36,
   "metadata": {},
   "outputs": [],
   "source": [
    "def compareEnsemblePred(pred1, pred2, pred3, pred4, pred5, actual, dev_set, index):\n",
    "    genres = ['Action', 'Adventure', 'Comedy', 'Crime', 'Drama', 'Family',\n",
    "       'Horror', 'Romance', 'Sci-Fi', 'Thriller']\n",
    "    print(\"Predicted:\")\n",
    "    genreSelected = False\n",
    "    pred = pred1+pred2+pred3+pred4+pred5\n",
    "    for i in range(10):\n",
    "        if(pred[index][i] >= 2.5):\n",
    "            print(genres[i])\n",
    "            print(pred[index][i]/5)\n",
    "            genreSelected = True\n",
    "    if genreSelected ==False:\n",
    "        print(genres[np.argmax(pred[index])])\n",
    "        print(pred[index][i])\n",
    "\n",
    "    print()\n",
    "    print(\"Actual:\")\n",
    "    for i in range(10):\n",
    "        if actual[index][i] == 1:\n",
    "            print(genres[i])\n",
    "    print()\n",
    "    print(\"Plot:\")\n",
    "    print(dev_set.iloc[index][\"plots\"])\n",
    "    \n",
    "    print()\n",
    "    print(\"Tokens\")\n",
    "    #print(dev_set.iloc[index][\"USE_tokens_sentences_padded\"])\n",
    "    print(dev_set.iloc[index][\"tokenized_words\"])"
   ]
  },
  {
   "cell_type": "code",
   "execution_count": 48,
   "metadata": {},
   "outputs": [
    {
     "name": "stdout",
     "output_type": "stream",
     "text": [
      "Predicted:\n",
      "Thriller\n",
      "0.6077675342559814\n",
      "\n",
      "Actual:\n",
      "Action\n",
      "\n",
      "Plot:\n",
      "Eve's life is forever altered when her parents vanish without a trace after being attacked by supernatural agents. Growing up on the streets, Eve learns the art of self reliance. When she runs into members of the mysterious \"Order\"-the same organization to which her parents bore allegiance-several unanswered questions from Eve's childhood reemerge. Why were her parents attacked? Who was their assailant? What is the source of her own supernatural powers? \n",
      "\n",
      "Tokens\n",
      "[['eve', \"'s\", 'life', 'forever', 'alter', 'parent', 'vanish', 'without', 'trace', 'attack', 'supernatural', 'agent', '.'], ['grow', 'street', 'eve', 'learn', 'art', 'self', 'reliance', '.'], ['run', 'member', 'mysterious', 'order', 'organization', 'parent', 'bore', 'allegiance', 'several', 'unanswered', 'question', 'eve', \"'s\", 'childhood', 'reemerge', '.'], ['parent', 'attack', '?'], ['assailant', '?'], ['source', 'supernatural', 'power', '?']]\n"
     ]
    }
   ],
   "source": [
    "compareEnsemblePred(pred1, pred2, pred3, pred4, pred5, y_test, test_set, 6)"
   ]
  },
  {
   "cell_type": "code",
   "execution_count": null,
   "metadata": {},
   "outputs": [],
   "source": []
  },
  {
   "cell_type": "code",
   "execution_count": 43,
   "metadata": {},
   "outputs": [
    {
     "name": "stdout",
     "output_type": "stream",
     "text": [
      "Predicted:\n",
      "Drama\n",
      "0.5080879688262939\n",
      "\n",
      "Actual:\n",
      "Drama\n",
      "\n",
      "Plot:\n",
      "A couple and a dog. They live not far from Mexico City. Strange things happen in the house. She is in love. She'd like to be pregnant. He is busy and tired. The woman is undressing inside the house. He falls asleep. She pours wine on his face. A strange visitor dances outside. She stares at us, under the waterfall. They are imagining things. They might be happy in a near future. The film was inspired by a famous Edward Hopper painting, 'Summer evening'. \n",
      "\n",
      "Tokens\n",
      "[['couple', 'dog', '.'], ['live', 'far', 'mexico', 'city', '.'], ['strange', 'thing', 'happen', 'house', '.'], ['love', '.'], [\"'d\", 'like', 'pregnant', '.'], ['busy', 'tire', '.'], ['woman', 'undress', 'inside', 'house', '.'], ['fall', 'asleep', '.'], ['pours', 'wine', 'face', '.'], ['strange', 'visitor', 'dance', 'outside', '.'], ['stare', 'u', 'waterfall', '.'], ['imagine', 'thing', '.'], ['might', 'happy', 'near', 'future', '.'], ['film', 'inspire', 'famous', 'edward', 'hopper', 'paint', \"'summer\", 'even', \"'\", '.']]\n"
     ]
    }
   ],
   "source": [
    "compareEnsemblePred(pred1, pred2, pred3, pred4, pred5, y_test, test_set, 1)"
   ]
  },
  {
   "cell_type": "code",
   "execution_count": 44,
   "metadata": {},
   "outputs": [
    {
     "name": "stdout",
     "output_type": "stream",
     "text": [
      "Predicted:\n",
      "Drama\n",
      "0.8301022529602051\n",
      "\n",
      "Actual:\n",
      "Drama\n",
      "\n",
      "Plot:\n",
      "Aiden Hoynes is a senior cabinet minister who has always put his career before family, with the support of Freya, his devoted wife and mother to their two young children. But when Freya's own political career takes off and threatens to overshadow his, Aiden's life is thrown into chaos. As his political career comes to a standstill, and with his marriage turned upset down, Aiden takes increasing risks in his quest for power. \n",
      "\n",
      "Tokens\n",
      "[['aiden', 'hoynes', 'senior', 'cabinet', 'minister', 'always', 'put', 'career', 'genre', 'support', 'freya', 'devote', 'wife', 'mother', 'two', 'young', 'child', '.'], ['freya', \"'s\", 'political', 'career', 'take', 'threatens', 'overshadow', 'aiden', \"'s\", 'life', 'thrown', 'chaos', '.'], ['political', 'career', 'come', 'standstill', 'marriage', 'turn', 'upset', 'aiden', 'take', 'increase', 'risk', 'quest', 'power', '.']]\n"
     ]
    }
   ],
   "source": [
    "compareEnsemblePred(pred1, pred2, pred3, pred4, pred5, y_test, test_set, 2)"
   ]
  },
  {
   "cell_type": "code",
   "execution_count": 45,
   "metadata": {},
   "outputs": [
    {
     "name": "stdout",
     "output_type": "stream",
     "text": [
      "Predicted:\n",
      "Drama\n",
      "0.641380500793457\n",
      "Family\n",
      "0.8448621749877929\n",
      "\n",
      "Actual:\n",
      "Comedy\n",
      "Drama\n",
      "Family\n",
      "\n",
      "Plot:\n",
      "Oscar is a newborn baby. His mother Anna comes from Poland and his father Francisco from Portugal - they're starting a family in London, away from home. As they get used to the baby and their new life as parents, they also think about the future. What are their dreams? Where will Oscar grow up and which languages will he speak? \n",
      "\n",
      "Tokens\n",
      "[['oscar', 'newborn', 'baby', '.'], ['mother', 'anna', 'come', 'poland', 'father', 'francisco', 'portugal', \"'re\", 'start', 'genre', 'london', 'away', 'home', '.'], ['get', 'use', 'baby', 'new', 'life', 'parent', 'also', 'think', 'future', '.'], ['dream', '?'], ['oscar', 'grow', 'languages', 'speak', '?']]\n"
     ]
    }
   ],
   "source": [
    "compareEnsemblePred(pred1, pred2, pred3, pred4, pred5, y_test, test_set, 3)"
   ]
  },
  {
   "cell_type": "code",
   "execution_count": 46,
   "metadata": {},
   "outputs": [
    {
     "name": "stdout",
     "output_type": "stream",
     "text": [
      "Predicted:\n",
      "Comedy\n",
      "0.9909937858581543\n",
      "\n",
      "Actual:\n",
      "Comedy\n",
      "\n",
      "Plot:\n",
      "\"The Musician\" is a fake documentary aka, mockumentary following MARCUS (Lukas DiSparrow), a wannabe musician with a guitar with no talent. The series show the struggles of a talentless musician being managed by GUIDO (Jordan A. Brown), a special individual with a low IQ and eyes focused mainly on women's cleavages. The story is being caught by KAYLA (Mafalda Pereira) a documentary producer. A strong, hard working, professional, successful (and good looking) woman who was asked by her boss to film it and who has now to deal with those... two lunatics. The series is shot in real life and real situations and public around London. \n",
      "\n",
      "Tokens\n",
      "[['musician', 'fake', 'documentary', 'aka', 'mockumentary', 'follow', 'marcus', 'lukas', 'disparrow', 'wannabe', 'musician', 'guitar', 'talent', '.'], ['series', 'show', 'struggle', 'talentless', 'musician', 'manage', 'guido', 'jordan', 'brown', 'special', 'individual', 'low', 'iq', 'eye', 'focus', 'mainly', 'woman', \"'s\", 'cleavage', '.'], ['story', 'catch', 'kayla', 'mafalda', 'pereira', 'documentary', 'producer', '.'], ['strong', 'hard', 'work', 'professional', 'successful', 'good', 'look', 'woman', 'ask', 'bos', 'film', 'deal', '.'], ['two', 'lunatic', '.'], ['series', 'shot', 'real', 'life', 'real', 'situation', 'public', 'around', 'london', '.']]\n"
     ]
    }
   ],
   "source": [
    "compareEnsemblePred(pred1, pred2, pred3, pred4, pred5, y_test, test_set, 4)"
   ]
  },
  {
   "cell_type": "code",
   "execution_count": null,
   "metadata": {},
   "outputs": [],
   "source": [
    "indiv_class_scores_ensemble(y_test, y_pred, 0.5)"
   ]
  },
  {
   "cell_type": "code",
   "execution_count": 37,
   "metadata": {},
   "outputs": [],
   "source": [
    "model = load_model('./local/HAN_300dim_SingleDropout_500batch.h5', custom_objects={'AttentionWithContext': AttentionWithContext})\n"
   ]
  },
  {
   "cell_type": "code",
   "execution_count": 40,
   "metadata": {},
   "outputs": [],
   "source": [
    "pred = model.predict(x_dev)"
   ]
  },
  {
   "cell_type": "code",
   "execution_count": 41,
   "metadata": {},
   "outputs": [
    {
     "name": "stdout",
     "output_type": "stream",
     "text": [
      "Predicted:\n",
      "Horror\n",
      "0.96231097\n",
      "Thriller\n",
      "0.70068973\n",
      "\n",
      "Actual:\n",
      "Horror\n",
      "Sci-Fi\n",
      "\n",
      "Plot:\n",
      "Theodora, Jody and Carol, collectively The Violas, are on tour when their van breaks down in a small southern beach town. The local police are investigating a mass of mysterious debris on the beach and the disappearance of a little girl's parents after she's found walking the beach in a state of shock. Scientist John Patterson is called in to help investigate. Both John and local mechanic Hector Garcia fall for Violas lead singer Theodora, but she seems to have no interest in them, possibly because of a mysterious past. Hector convinces the girls to stay in town when he offers to repair their van in exchange for playing his party, but the mysterious creature is still on the loose. \n",
      "\n",
      "Tokens\n",
      "[['theodora', 'jody', 'carol', 'collectively', 'violas', 'tour', 'van', 'break', 'small', 'southern', 'beach', 'town', '.'], ['local', 'police', 'investigate', 'mass', 'mysterious', 'debris', 'beach', 'disappearance', 'little', 'girl', \"'s\", 'parent', \"'s\", 'find', 'walking', 'beach', 'state', 'shock', '.'], ['scientist', 'john', 'patterson', 'call', 'help', 'investigate', '.'], ['john', 'local', 'mechanic', 'hector', 'garcia', 'fall', 'viola', 'lead', 'singer', 'theodora', 'seem', 'interest', 'possibly', 'mysterious', 'past', '.'], ['hector', 'convinces', 'girls', 'stay', 'town', 'offer', 'repair', 'van', 'exchange', 'play', 'party', 'mysterious', 'creature', 'still', 'loose', '.']]\n"
     ]
    }
   ],
   "source": [
    "comparePred(pred, y_dev, dev_set, 1)"
   ]
  },
  {
   "cell_type": "code",
   "execution_count": 186,
   "metadata": {},
   "outputs": [
    {
     "name": "stdout",
     "output_type": "stream",
     "text": [
      "Predicted:\n",
      "Action\n",
      "0.80130845\n",
      "Thriller\n",
      "0.8850265\n",
      "\n",
      "Actual:\n",
      "Action\n",
      "Thriller\n",
      "\n",
      "Plot:\n",
      "Gabriel is promised his freedom in return for his service in a rescue operation to save a missing British operative. When Gabriel is captured and taken to the compound where his target and several others are being held, he must devise a plan to take on the entire North Korean military installation and get everyone to safety. \n",
      "\n",
      "Tokens\n",
      "[['gabriel', 'promise', 'freedom', 'return', 'service', 'rescue', 'operation', 'save', 'miss', 'british', 'operative', '.'], ['gabriel', 'capture', 'take', 'compound', 'target', 'several', 'others', 'hold', 'must', 'devise', 'plan', 'take', 'entire', 'north', 'korean', 'military', 'installation', 'get', 'everyone', 'safety', '.']]\n"
     ]
    }
   ],
   "source": [
    "comparePred(pred, y_dev, dev_set, 2)"
   ]
  },
  {
   "cell_type": "code",
   "execution_count": 187,
   "metadata": {},
   "outputs": [
    {
     "name": "stdout",
     "output_type": "stream",
     "text": [
      "Predicted:\n",
      "Drama\n",
      "0.8359106\n",
      "\n",
      "Actual:\n",
      "Drama\n",
      "\n",
      "Plot:\n",
      "A jaded, wealthy couple watch a blue movie in their castle home along with her adult son. The son is testy, so they go into town and watch a circus-like thrill ride. The daredevil woman in the show looks exactly like one of the women in the movie, so the man invites her to join them for a nightcap. Tensions among the family seem to rise. She stays overnight, and during her 24 hours in the castle, each of its three residents involves her in a fantasy. She, in turn, keeps asking, \"Who has the gun?\" Will there be violence before it's over? \n",
      "\n",
      "Tokens\n",
      "[['jade', 'wealthy', 'couple', 'watch', 'blue', 'movie', 'castle', 'home', 'along', 'adult', 'son', '.'], ['son', 'testy', 'go', 'town', 'watch', 'circus', 'like', 'thrill', 'ride', '.'], ['daredevil', 'woman', 'show', 'look', 'exactly', 'like', 'one', 'woman', 'movie', 'man', 'invite', 'join', 'nightcap', '.'], ['tension', 'among', 'genre', 'seem', 'rise', '.'], ['stay', 'overnight', 'DG', 'hour', 'castle', 'three', 'resident', 'involve', 'fantasy', '.'], ['turn', 'keep', 'ask', 'gun', '?'], ['violence', \"'s\", '?']]\n"
     ]
    }
   ],
   "source": [
    "comparePred(pred, y_dev, dev_set, 6)"
   ]
  },
  {
   "cell_type": "code",
   "execution_count": 188,
   "metadata": {},
   "outputs": [
    {
     "name": "stdout",
     "output_type": "stream",
     "text": [
      "Predicted:\n",
      "Drama\n",
      "0.8605767\n",
      "\n",
      "Actual:\n",
      "Action\n",
      "Adventure\n",
      "\n",
      "Plot:\n",
      "Adventure does not always need to start in a country ending with Stan. Sometimes it can be found subtly, just around the corner. In February 2011, pro skiers Kaj Zackrisson and Mike Douglas spent two weeks chasing powder across Switzerland by train. Trains started carrying skiers up and across the Alps more than 100 years ago. In a fast world, the train provides a refreshing experience - one that, will hopefully, never be lost. \n",
      "\n",
      "Tokens\n",
      "[['genre', 'always', 'need', 'start', 'country', 'end', 'stan', '.'], ['sometimes', 'find', 'subtly', 'around', 'corner', '.'], ['february', 'DG', 'pro', 'skier', 'kaj', 'zackrisson', 'mike', 'douglas', 'spend', 'two', 'week', 'chase', 'powder', 'across', 'switzerland', 'train', '.'], ['train', 'start', 'carry', 'skier', 'across', 'alps', 'DG', 'year', 'ago', '.'], ['fast', 'world', 'train', 'provide', 'refreshing', 'experience', 'one', 'hopefully', 'never', 'lose', '.']]\n"
     ]
    }
   ],
   "source": [
    "comparePred(pred, y_dev, dev_set, 7)"
   ]
  },
  {
   "cell_type": "code",
   "execution_count": 210,
   "metadata": {},
   "outputs": [
    {
     "name": "stdout",
     "output_type": "stream",
     "text": [
      "Comedy\n",
      "Avg sent number\n",
      "4.009076348104645\n",
      "Avg sentence length\n",
      "13.6158217086941\n",
      "Drama\n",
      "Avg sent number\n",
      "4.065480188045668\n",
      "Avg sentence length\n",
      "13.299870035497237\n",
      "Thriller\n",
      "Avg sent number\n",
      "4.101694915254237\n",
      "Avg sentence length\n",
      "12.784893731503901\n",
      "Horror\n",
      "Avg sent number\n",
      "4.079881656804734\n",
      "Avg sentence length\n",
      "12.882851870351876\n",
      "Family\n",
      "Avg sent number\n",
      "3.8289855072463768\n",
      "Avg sentence length\n",
      "14.567610811089072\n",
      "Action\n",
      "Avg sent number\n",
      "3.5276073619631902\n",
      "Avg sentence length\n",
      "17.653191644756063\n",
      "Adventure\n",
      "Avg sent number\n",
      "3.865740740740741\n",
      "Avg sentence length\n",
      "15.187537971136829\n",
      "Sci-Fi\n",
      "Avg sent number\n",
      "3.735483870967742\n",
      "Avg sentence length\n",
      "13.400215053763441\n",
      "Romance\n",
      "Avg sent number\n",
      "4.021739130434782\n",
      "Avg sentence length\n",
      "14.408538019951065\n",
      "Crime\n",
      "Avg sent number\n",
      "4.0375\n",
      "Avg sentence length\n",
      "14.693563311688312\n",
      "Good plots:\n",
      "Avg sent number\n",
      "4.017732847199205\n",
      "Avg sentence length\n",
      "13.637123581186026\n",
      "Fraction sentence truncated\n",
      "0.1942326814716606\n",
      "Bad plots:\n",
      "Avg sent number\n",
      "4.011748701459313\n",
      "Avg sentence length\n",
      "13.666415420223315\n",
      "Fraction sentence truncated\n",
      "0.20046994805837248\n"
     ]
    }
   ],
   "source": [
    "matrix_sampled = createEnsembleConfusionMatrix(pred1, pred2, pred3, pred4, pred5, y_dev, dev_set, alwaysPredict = False)\n"
   ]
  },
  {
   "cell_type": "code",
   "execution_count": 58,
   "metadata": {},
   "outputs": [],
   "source": [
    "test_pred = model.predict(x_test)"
   ]
  },
  {
   "cell_type": "code",
   "execution_count": 63,
   "metadata": {},
   "outputs": [],
   "source": [
    "pred1 = model1.predict(x_test)\n",
    "pred2 = model2.predict(x_test)\n",
    "pred3 = model3.predict(x_test)\n",
    "pred4 = model4.predict(x_test)\n",
    "pred5 = model5.predict(x_test)"
   ]
  },
  {
   "cell_type": "code",
   "execution_count": 59,
   "metadata": {},
   "outputs": [],
   "source": [
    "y_pred = test_pred >= 0.5\n",
    "micro_precision = precision_score(y_test, y_pred, average = 'micro')\n",
    "weighted_macro_precision = precision_score(y_test, y_pred, average = 'weighted')\n",
    "micro_recall = recall_score(y_test, y_pred, average = 'micro')\n",
    "weighted_macro_recall = recall_score(y_test, y_pred, average = 'weighted')\n",
    "micro_f1 = f1_score(y_test, y_pred, average = 'micro')\n",
    "weighted_macro_f1 = f1_score(y_test, y_pred, average = 'weighted')"
   ]
  },
  {
   "cell_type": "code",
   "execution_count": 60,
   "metadata": {},
   "outputs": [
    {
     "name": "stdout",
     "output_type": "stream",
     "text": [
      "The micro precision is 0.6322384348622653\n",
      "The weighted macro precision is 0.6211995352355021\n",
      "The micro recall is 0.5387810862049738\n",
      "The weighted macro recall is 0.5387810862049738\n",
      "The micro f1 is 0.5817804136436162\n",
      "The weighted macro f1 is 0.5586170517372452\n"
     ]
    }
   ],
   "source": [
    "print(\"The micro precision is\", micro_precision)\n",
    "print(\"The weighted macro precision is\", weighted_macro_precision)\n",
    "print(\"The micro recall is\", micro_recall)\n",
    "print(\"The weighted macro recall is\", weighted_macro_recall)\n",
    "print(\"The micro f1 is\", micro_f1)\n",
    "print(\"The weighted macro f1 is\", weighted_macro_f1)"
   ]
  },
  {
   "cell_type": "code",
   "execution_count": 61,
   "metadata": {},
   "outputs": [
    {
     "name": "stdout",
     "output_type": "stream",
     "text": [
      "The AUC for Action is 0.5222964514541634\n",
      "The AUC for Adventure is 0.44070703260790955\n",
      "The AUC for Comedy is 0.6925001766483134\n",
      "The AUC for Crime is 0.44075650022318497\n",
      "The AUC for Drama is 0.7997924741174892\n",
      "The AUC for Family is 0.4794556056917446\n",
      "The AUC for Horror is 0.5619527256831085\n",
      "The AUC for Romance is 0.38620023771408907\n",
      "The AUC for Sci-Fi is 0.6086488865799429\n",
      "The AUC for Thriller is 0.4467948064231481\n",
      "The micro-avg AUC is 0.6223850670290946\n",
      "The macro-avg AUC is 0.5379104897143093\n"
     ]
    }
   ],
   "source": [
    "auc_pr(y_test, y_pred)"
   ]
  },
  {
   "cell_type": "code",
   "execution_count": 56,
   "metadata": {},
   "outputs": [],
   "source": [
    "genres = ['Action', 'Adventure', 'Comedy', 'Crime', 'Drama', 'Family',\n",
    "       'Horror', 'Romance', 'Sci-Fi', 'Thriller']"
   ]
  },
  {
   "cell_type": "code",
   "execution_count": 53,
   "metadata": {},
   "outputs": [],
   "source": [
    "def createTopWordCount(pred, actual, dev_set, alwaysPredict = False):\n",
    "    genres = ['Action', 'Adventure', 'Comedy', 'Crime', 'Drama', 'Family',\n",
    "       'Horror', 'Romance', 'Sci-Fi', 'Thriller']\n",
    "    a = np.array(['0', '1', '2', '3', '4', '5', '6', '7', '8', '9', '01', '02', '03', '04', '05','06',\n",
    "                 '07', '08', '09', '12' ,'13', '14', '15', '16', '17', '18', '19', '23', '24', '25', '26', '27',\n",
    "                 '28','29','34', '35','36','37','38','39','45','46','47','48','49','56','57','58','59','67',\n",
    "                 '68','69','78','79','89','99'])\n",
    "    matrix = np.zeros((len(a),len(a)))\n",
    "    pred_word_dict = {'0':{}, '1':{}, '2':{}, '3':{}, '4':{}, '5':{}, '6':{}, '7':{}, '8':{}, '9':{}}\n",
    "    actual_word_dict = {'0':{}, '1':{}, '2':{}, '3':{}, '4':{}, '5':{}, '6':{}, '7':{}, '8':{}, '9':{}}\n",
    "    for index in range(len(pred)):\n",
    "        genreSelected = False\n",
    "        predictions = np.zeros((10))\n",
    "        #print(\"hi\")\n",
    "        predictedIndices = \"\"\n",
    "        for i in range(10):\n",
    "            if(pred[index][i] >= 0.5):\n",
    "                predictions[i] = 1\n",
    "                genreSelected = True\n",
    "                predictedIndices += str(i)\n",
    "                #print(predictedIndices)\n",
    "        if alwaysPredict and genreSelected ==False:\n",
    "            predictions[np.argmax(pred[index])] = 1\n",
    "            predictedIndices = str(np.argmax(pred[index]))\n",
    "            genreSelected = True\n",
    "        if genreSelected == False:\n",
    "            predictedIndices = '99'\n",
    "        \n",
    "        actualIndices = \"\"\n",
    "        for k in range(10):\n",
    "            if actual[index][k] == 1:\n",
    "                actualIndices += str(k)\n",
    "                #print(actualIndices)\n",
    "        \n",
    "        tokens = dev_set.iloc[index]['flattened_tokens']\n",
    "                \n",
    "        if predictedIndices in pred_word_dict:\n",
    "            #for each word in plot, add or update in dictionary\n",
    "            for token in tokens:\n",
    "                if token in pred_word_dict[predictedIndices]:\n",
    "                    pred_word_dict[predictedIndices][token] +=1\n",
    "                else:\n",
    "                    pred_word_dict[predictedIndices][token] = 1\n",
    "        \n",
    "        if actualIndices in actual_word_dict:\n",
    "            #for each word in plot, add or update in dictionary\n",
    "            for token in tokens:\n",
    "                if token in actual_word_dict[actualIndices]:\n",
    "                    actual_word_dict[actualIndices][token] +=1\n",
    "                else:\n",
    "                    actual_word_dict[actualIndices][token] = 1\n",
    "                \n",
    "        \n",
    "        if(len(predictedIndices)<3 and len(actualIndices)<3):\n",
    "            #print(predictedIndices)\n",
    "            #print(actualIndices)\n",
    "            column = np.argwhere(a==predictedIndices)[0][0]\n",
    "            row = np.argwhere(a==actualIndices)[0][0]\n",
    "            matrix[row,column] = matrix[row,column] + 1\n",
    "    \n",
    "    \n",
    "    for key in pred_word_dict:\n",
    "        print(genres[int(key)])\n",
    "        print(\"Predictions\")\n",
    "        A = pred_word_dict[key]\n",
    "        print(sorted(A, key=A.get, reverse=True)[:5])\n",
    "        print(\"Actual\")\n",
    "        B = actual_word_dict[key]\n",
    "        print(sorted(B, key=B.get, reverse=True)[:5])\n",
    "        print()\n",
    "    \n",
    "    return actual_word_dict"
   ]
  },
  {
   "cell_type": "code",
   "execution_count": 42,
   "metadata": {},
   "outputs": [],
   "source": [
    "pred_word_dict = {'0':{}, '1':{}}"
   ]
  },
  {
   "cell_type": "code",
   "execution_count": 43,
   "metadata": {},
   "outputs": [],
   "source": [
    "pred_word_dict['0'] = {4:2}"
   ]
  },
  {
   "cell_type": "code",
   "execution_count": 44,
   "metadata": {},
   "outputs": [
    {
     "data": {
      "text/plain": [
       "{'0': {4: 2}, '1': {}}"
      ]
     },
     "execution_count": 44,
     "metadata": {},
     "output_type": "execute_result"
    }
   ],
   "source": [
    "pred_word_dict"
   ]
  },
  {
   "cell_type": "code",
   "execution_count": 45,
   "metadata": {},
   "outputs": [
    {
     "data": {
      "text/html": [
       "<div>\n",
       "<style scoped>\n",
       "    .dataframe tbody tr th:only-of-type {\n",
       "        vertical-align: middle;\n",
       "    }\n",
       "\n",
       "    .dataframe tbody tr th {\n",
       "        vertical-align: top;\n",
       "    }\n",
       "\n",
       "    .dataframe thead th {\n",
       "        text-align: right;\n",
       "    }\n",
       "</style>\n",
       "<table border=\"1\" class=\"dataframe\">\n",
       "  <thead>\n",
       "    <tr style=\"text-align: right;\">\n",
       "      <th></th>\n",
       "      <th>index</th>\n",
       "      <th>genres</th>\n",
       "      <th>plots</th>\n",
       "      <th>list_genres</th>\n",
       "      <th>list_genres_consol</th>\n",
       "      <th>USE_tokens</th>\n",
       "      <th>tokenized_words</th>\n",
       "      <th>USE_tokens_sentences</th>\n",
       "      <th>flattened_tokens</th>\n",
       "      <th>binarized_labels</th>\n",
       "      <th>USE_token_plot_embeddings</th>\n",
       "      <th>USE_tokens_sentences_padded</th>\n",
       "      <th>USE_token_sentence_embeddings</th>\n",
       "      <th>embedding</th>\n",
       "    </tr>\n",
       "  </thead>\n",
       "  <tbody>\n",
       "    <tr>\n",
       "      <th>0</th>\n",
       "      <td>0</td>\n",
       "      <td>Comedy</td>\n",
       "      <td>A stranded theatrical troupe manages to get ba...</td>\n",
       "      <td>[Comedy]</td>\n",
       "      <td>[Comedy]</td>\n",
       "      <td>a stranded theatrical troupe manages to get ba...</td>\n",
       "      <td>[[stranded, theatrical, troupe, manages, get, ...</td>\n",
       "      <td>[a stranded theatrical troupe manages to get b...</td>\n",
       "      <td>[stranded, theatrical, troupe, manages, get, b...</td>\n",
       "      <td>[0, 0, 1, 0, 0, 0, 0, 0, 0, 0]</td>\n",
       "      <td>[0.06496927887201309, 0.02937605045735836, 0.0...</td>\n",
       "      <td>[a stranded theatrical troupe manages to get b...</td>\n",
       "      <td>[[0.04774859547615051, 0.03576108068227768, -0...</td>\n",
       "      <td>[[7990, 3881, 3273, 1578, 8, 41, 38, 73, 12, 7...</td>\n",
       "    </tr>\n",
       "    <tr>\n",
       "      <th>1</th>\n",
       "      <td>1</td>\n",
       "      <td>Drama</td>\n",
       "      <td>While waiting at the bus stop for the woman he...</td>\n",
       "      <td>[Drama]</td>\n",
       "      <td>[Drama]</td>\n",
       "      <td>while waiting at the bus stop for the woman he...</td>\n",
       "      <td>[[wait, bus, stop, woman, intend, marry, jay, ...</td>\n",
       "      <td>[while waiting at the bus stop for the woman h...</td>\n",
       "      <td>[wait, bus, stop, woman, intend, marry, jay, d...</td>\n",
       "      <td>[0, 0, 0, 0, 1, 0, 0, 0, 0, 0]</td>\n",
       "      <td>[0.03805602714419365, 0.05806170403957367, -0....</td>\n",
       "      <td>[while waiting at the bus stop for the woman h...</td>\n",
       "      <td>[[0.030491432175040245, 0.00019499639165587723...</td>\n",
       "      <td>[[377, 1364, 179, 25, 1341, 142, 2062, 1510, 4...</td>\n",
       "    </tr>\n",
       "    <tr>\n",
       "      <th>2</th>\n",
       "      <td>3</td>\n",
       "      <td>Drama</td>\n",
       "      <td>Policeman Lasse rehabilitates young prisoners ...</td>\n",
       "      <td>[Drama]</td>\n",
       "      <td>[Drama]</td>\n",
       "      <td>policeman lasse rehabilitates young prisoners ...</td>\n",
       "      <td>[[policeman, lasse, rehabilitate, young, priso...</td>\n",
       "      <td>[policeman lasse rehabilitates young prisoners...</td>\n",
       "      <td>[policeman, lasse, rehabilitate, young, prison...</td>\n",
       "      <td>[0, 0, 0, 0, 1, 0, 0, 0, 0, 0]</td>\n",
       "      <td>[-0.031366996467113495, 0.0004756059206556529,...</td>\n",
       "      <td>[policeman lasse rehabilitates young prisoners...</td>\n",
       "      <td>[[-0.02940049022436142, -0.06734874099493027, ...</td>\n",
       "      <td>[[1291, 13109, 9460, 10, 935, 11, 903, 399, 31...</td>\n",
       "    </tr>\n",
       "    <tr>\n",
       "      <th>3</th>\n",
       "      <td>4</td>\n",
       "      <td>Adventure Animation Comedy</td>\n",
       "      <td>Patricia and Isobelle O'Sullivan arrives at th...</td>\n",
       "      <td>[Adventure, Animation, Comedy]</td>\n",
       "      <td>[Adventure, Comedy]</td>\n",
       "      <td>patricia and isobelle o'sullivan arrives at th...</td>\n",
       "      <td>[[patricia, isobelle, o'sullivan, arrive, st.,...</td>\n",
       "      <td>[patricia and isobelle o'sullivan arrives at t...</td>\n",
       "      <td>[patricia, isobelle, o'sullivan, arrive, st., ...</td>\n",
       "      <td>[0, 1, 1, 0, 0, 0, 0, 0, 0, 0]</td>\n",
       "      <td>[-0.06273579597473145, 0.042697515338659286, -...</td>\n",
       "      <td>[patricia and isobelle o'sullivan arrives at t...</td>\n",
       "      <td>[[0.014844884164631367, 0.0431971549987793, 0....</td>\n",
       "      <td>[[4199, 58589, 23221, 213, 2084, 1632, 279, 30...</td>\n",
       "    </tr>\n",
       "    <tr>\n",
       "      <th>4</th>\n",
       "      <td>5</td>\n",
       "      <td>Drama</td>\n",
       "      <td>Anna Zaccheo is a beautiful young woman from a...</td>\n",
       "      <td>[Drama]</td>\n",
       "      <td>[Drama]</td>\n",
       "      <td>anna zaccheo is a beautiful young woman from a...</td>\n",
       "      <td>[[anna, zaccheo, beautiful, young, woman, work...</td>\n",
       "      <td>[anna zaccheo is a beautiful young woman from ...</td>\n",
       "      <td>[anna, zaccheo, beautiful, young, woman, work,...</td>\n",
       "      <td>[0, 0, 0, 0, 1, 0, 0, 0, 0, 0]</td>\n",
       "      <td>[-0.03793998435139656, 0.03065059520304203, -0...</td>\n",
       "      <td>[anna zaccheo is a beautiful young woman from ...</td>\n",
       "      <td>[[-0.003618143266066909, 0.0034949216060340405...</td>\n",
       "      <td>[[838, 80000, 162, 10, 25, 34, 358, 17246, 4, ...</td>\n",
       "    </tr>\n",
       "  </tbody>\n",
       "</table>\n",
       "</div>"
      ],
      "text/plain": [
       "   index                       genres  \\\n",
       "0      0                      Comedy    \n",
       "1      1                       Drama    \n",
       "2      3                       Drama    \n",
       "3      4  Adventure Animation Comedy    \n",
       "4      5                       Drama    \n",
       "\n",
       "                                               plots  \\\n",
       "0  A stranded theatrical troupe manages to get ba...   \n",
       "1  While waiting at the bus stop for the woman he...   \n",
       "2  Policeman Lasse rehabilitates young prisoners ...   \n",
       "3  Patricia and Isobelle O'Sullivan arrives at th...   \n",
       "4  Anna Zaccheo is a beautiful young woman from a...   \n",
       "\n",
       "                      list_genres   list_genres_consol  \\\n",
       "0                        [Comedy]             [Comedy]   \n",
       "1                         [Drama]              [Drama]   \n",
       "2                         [Drama]              [Drama]   \n",
       "3  [Adventure, Animation, Comedy]  [Adventure, Comedy]   \n",
       "4                         [Drama]              [Drama]   \n",
       "\n",
       "                                          USE_tokens  \\\n",
       "0  a stranded theatrical troupe manages to get ba...   \n",
       "1  while waiting at the bus stop for the woman he...   \n",
       "2  policeman lasse rehabilitates young prisoners ...   \n",
       "3  patricia and isobelle o'sullivan arrives at th...   \n",
       "4  anna zaccheo is a beautiful young woman from a...   \n",
       "\n",
       "                                     tokenized_words  \\\n",
       "0  [[stranded, theatrical, troupe, manages, get, ...   \n",
       "1  [[wait, bus, stop, woman, intend, marry, jay, ...   \n",
       "2  [[policeman, lasse, rehabilitate, young, priso...   \n",
       "3  [[patricia, isobelle, o'sullivan, arrive, st.,...   \n",
       "4  [[anna, zaccheo, beautiful, young, woman, work...   \n",
       "\n",
       "                                USE_tokens_sentences  \\\n",
       "0  [a stranded theatrical troupe manages to get b...   \n",
       "1  [while waiting at the bus stop for the woman h...   \n",
       "2  [policeman lasse rehabilitates young prisoners...   \n",
       "3  [patricia and isobelle o'sullivan arrives at t...   \n",
       "4  [anna zaccheo is a beautiful young woman from ...   \n",
       "\n",
       "                                    flattened_tokens  \\\n",
       "0  [stranded, theatrical, troupe, manages, get, b...   \n",
       "1  [wait, bus, stop, woman, intend, marry, jay, d...   \n",
       "2  [policeman, lasse, rehabilitate, young, prison...   \n",
       "3  [patricia, isobelle, o'sullivan, arrive, st., ...   \n",
       "4  [anna, zaccheo, beautiful, young, woman, work,...   \n",
       "\n",
       "                 binarized_labels  \\\n",
       "0  [0, 0, 1, 0, 0, 0, 0, 0, 0, 0]   \n",
       "1  [0, 0, 0, 0, 1, 0, 0, 0, 0, 0]   \n",
       "2  [0, 0, 0, 0, 1, 0, 0, 0, 0, 0]   \n",
       "3  [0, 1, 1, 0, 0, 0, 0, 0, 0, 0]   \n",
       "4  [0, 0, 0, 0, 1, 0, 0, 0, 0, 0]   \n",
       "\n",
       "                           USE_token_plot_embeddings  \\\n",
       "0  [0.06496927887201309, 0.02937605045735836, 0.0...   \n",
       "1  [0.03805602714419365, 0.05806170403957367, -0....   \n",
       "2  [-0.031366996467113495, 0.0004756059206556529,...   \n",
       "3  [-0.06273579597473145, 0.042697515338659286, -...   \n",
       "4  [-0.03793998435139656, 0.03065059520304203, -0...   \n",
       "\n",
       "                         USE_tokens_sentences_padded  \\\n",
       "0  [a stranded theatrical troupe manages to get b...   \n",
       "1  [while waiting at the bus stop for the woman h...   \n",
       "2  [policeman lasse rehabilitates young prisoners...   \n",
       "3  [patricia and isobelle o'sullivan arrives at t...   \n",
       "4  [anna zaccheo is a beautiful young woman from ...   \n",
       "\n",
       "                       USE_token_sentence_embeddings  \\\n",
       "0  [[0.04774859547615051, 0.03576108068227768, -0...   \n",
       "1  [[0.030491432175040245, 0.00019499639165587723...   \n",
       "2  [[-0.02940049022436142, -0.06734874099493027, ...   \n",
       "3  [[0.014844884164631367, 0.0431971549987793, 0....   \n",
       "4  [[-0.003618143266066909, 0.0034949216060340405...   \n",
       "\n",
       "                                           embedding  \n",
       "0  [[7990, 3881, 3273, 1578, 8, 41, 38, 73, 12, 7...  \n",
       "1  [[377, 1364, 179, 25, 1341, 142, 2062, 1510, 4...  \n",
       "2  [[1291, 13109, 9460, 10, 935, 11, 903, 399, 31...  \n",
       "3  [[4199, 58589, 23221, 213, 2084, 1632, 279, 30...  \n",
       "4  [[838, 80000, 162, 10, 25, 34, 358, 17246, 4, ...  "
      ]
     },
     "execution_count": 45,
     "metadata": {},
     "output_type": "execute_result"
    }
   ],
   "source": [
    "full_data.head()"
   ]
  },
  {
   "cell_type": "code",
   "execution_count": 46,
   "metadata": {},
   "outputs": [
    {
     "data": {
      "text/plain": [
       "['b', 'c', 'd', 'e']"
      ]
     },
     "execution_count": 46,
     "metadata": {},
     "output_type": "execute_result"
    }
   ],
   "source": [
    "A = {'a':10, 'b':843, 'c': 39,'d':33, 'e':14}\n",
    "sorted(A, key=A.get, reverse=True)[:4]"
   ]
  },
  {
   "cell_type": "code",
   "execution_count": 52,
   "metadata": {},
   "outputs": [
    {
     "name": "stdout",
     "output_type": "stream",
     "text": [
      "Action\n",
      "Predictions\n",
      "['.', \"'s\", 'DG', 'genre', 'one']\n",
      "Actual\n",
      "['.', \"'s\", 'genre', 'DG', 'vs.']\n",
      "\n",
      "Adventure\n",
      "Predictions\n",
      "['.', \"'s\", 'DG', 'world', 'genre']\n",
      "Actual\n",
      "['.', \"'s\", 'DG', 'world', 'genre']\n",
      "\n",
      "Comedy\n",
      "Predictions\n",
      "['.', \"'s\", 'get', 'genre', 'DG']\n",
      "Actual\n",
      "['.', \"'s\", 'get', 'genre', 'one']\n",
      "\n",
      "Crime\n",
      "Predictions\n",
      "['.', \"'s\", 'murder', 'genre', \"'\"]\n",
      "Actual\n",
      "['.', \"'s\", 'DG', 'genre', 'police']\n",
      "\n",
      "Drama\n",
      "Predictions\n",
      "['.', \"'s\", 'life', 'DG', 'genre']\n",
      "Actual\n",
      "['.', \"'s\", 'life', 'DG', 'one']\n",
      "\n",
      "Family\n",
      "Predictions\n",
      "['.', \"'s\", 'DG', 'child', 'genre']\n",
      "Actual\n",
      "['.', \"'s\", 'DG', 'genre', 'life']\n",
      "\n",
      "Horror\n",
      "Predictions\n",
      "['.', \"'s\", 'genre', 'find', 'one']\n",
      "Actual\n",
      "['.', \"'s\", 'DG', 'genre', 'one']\n",
      "\n",
      "Romance\n",
      "Predictions\n",
      "['.', \"'s\", 'love', 'jerry', 'ca']\n",
      "Actual\n",
      "['.', \"'s\", 'love', 'life', 'get']\n",
      "\n",
      "Sci-Fi\n",
      "Predictions\n",
      "['.', \"'s\", 'DG', 'earth', 'world']\n",
      "Actual\n",
      "['.', \"'s\", 'DG', 'world', 'one']\n",
      "\n",
      "Thriller\n",
      "Predictions\n",
      "['.', \"'s\", 'find', 'one', 'get']\n",
      "Actual\n",
      "['.', \"'s\", 'find', 'life', 'one']\n",
      "\n"
     ]
    }
   ],
   "source": [
    "pred_word_dict = createTopWordCount(pred, y_dev, dev_set, alwaysPredict = False)"
   ]
  },
  {
   "cell_type": "code",
   "execution_count": 54,
   "metadata": {},
   "outputs": [
    {
     "name": "stdout",
     "output_type": "stream",
     "text": [
      "Action\n",
      "Predictions\n",
      "['.', \"'s\", 'DG', 'genre', 'one']\n",
      "Actual\n",
      "['.', \"'s\", 'genre', 'DG', 'vs.']\n",
      "\n",
      "Adventure\n",
      "Predictions\n",
      "['.', \"'s\", 'DG', 'world', 'genre']\n",
      "Actual\n",
      "['.', \"'s\", 'DG', 'world', 'genre']\n",
      "\n",
      "Comedy\n",
      "Predictions\n",
      "['.', \"'s\", 'get', 'genre', 'DG']\n",
      "Actual\n",
      "['.', \"'s\", 'get', 'genre', 'one']\n",
      "\n",
      "Crime\n",
      "Predictions\n",
      "['.', \"'s\", 'murder', 'genre', \"'\"]\n",
      "Actual\n",
      "['.', \"'s\", 'DG', 'genre', 'police']\n",
      "\n",
      "Drama\n",
      "Predictions\n",
      "['.', \"'s\", 'life', 'DG', 'genre']\n",
      "Actual\n",
      "['.', \"'s\", 'life', 'DG', 'one']\n",
      "\n",
      "Family\n",
      "Predictions\n",
      "['.', \"'s\", 'DG', 'child', 'genre']\n",
      "Actual\n",
      "['.', \"'s\", 'DG', 'genre', 'life']\n",
      "\n",
      "Horror\n",
      "Predictions\n",
      "['.', \"'s\", 'genre', 'find', 'one']\n",
      "Actual\n",
      "['.', \"'s\", 'DG', 'genre', 'one']\n",
      "\n",
      "Romance\n",
      "Predictions\n",
      "['.', \"'s\", 'love', 'jerry', 'ca']\n",
      "Actual\n",
      "['.', \"'s\", 'love', 'life', 'get']\n",
      "\n",
      "Sci-Fi\n",
      "Predictions\n",
      "['.', \"'s\", 'DG', 'earth', 'world']\n",
      "Actual\n",
      "['.', \"'s\", 'DG', 'world', 'one']\n",
      "\n",
      "Thriller\n",
      "Predictions\n",
      "['.', \"'s\", 'find', 'one', 'get']\n",
      "Actual\n",
      "['.', \"'s\", 'find', 'life', 'one']\n",
      "\n"
     ]
    }
   ],
   "source": [
    "actual_word_dict = createTopWordCount(pred, y_dev, dev_set, alwaysPredict = False)"
   ]
  },
  {
   "cell_type": "code",
   "execution_count": 57,
   "metadata": {},
   "outputs": [
    {
     "name": "stdout",
     "output_type": "stream",
     "text": [
      "Action\n",
      "Predictions\n",
      "['.', \"'s\", 'DG', 'genre', 'one', 'vs.', 'take', 'world', 'fight', 'get']\n",
      "Actual\n",
      "['.', \"'s\", 'genre', 'DG', 'vs.', 'find', 'one', 'take', 'world', 'get']\n",
      "\n",
      "Adventure\n",
      "Predictions\n",
      "['.', \"'s\", 'DG', 'world', 'genre', 'journey', 'story', 'take', 'one', 'film']\n",
      "Actual\n",
      "['.', \"'s\", 'DG', 'world', 'genre', 'one', 'story', 'life', 'find', 'film']\n",
      "\n",
      "Comedy\n",
      "Predictions\n",
      "['.', \"'s\", 'get', 'genre', 'DG', 'one', 'make', 'take', \"'\", 'find']\n",
      "Actual\n",
      "['.', \"'s\", 'get', 'genre', 'one', 'DG', 'life', 'find', 'make', 'go']\n",
      "\n",
      "Crime\n",
      "Predictions\n",
      "['.', \"'s\", 'murder', 'genre', \"'\", 'story', 'police', 'one', 'DG', 'friend']\n",
      "Actual\n",
      "['.', \"'s\", 'DG', 'genre', 'police', 'one', 'film', 'murder', 'get', 'life']\n",
      "\n",
      "Drama\n",
      "Predictions\n",
      "['.', \"'s\", 'life', 'DG', 'genre', 'one', 'young', 'story', 'find', 'film']\n",
      "Actual\n",
      "['.', \"'s\", 'life', 'DG', 'one', 'genre', 'young', 'story', 'love', 'film']\n",
      "\n",
      "Family\n",
      "Predictions\n",
      "['.', \"'s\", 'DG', 'child', 'genre', 'world', '!', 'kid', 'one', 'year']\n",
      "Actual\n",
      "['.', \"'s\", 'DG', 'genre', 'life', \"'\", 'film', 'child', 'year', 'story']\n",
      "\n",
      "Horror\n",
      "Predictions\n",
      "['.', \"'s\", 'genre', 'find', 'one', 'DG', 'take', 'house', '?', 'film']\n",
      "Actual\n",
      "['.', \"'s\", 'DG', 'genre', 'one', 'find', 'night', 'take', 'go', 'young']\n",
      "\n",
      "Romance\n",
      "Predictions\n",
      "['.', \"'s\", 'love', 'jerry', 'ca', 'go', 'beautiful', 'woman', 'find', 'life']\n",
      "Actual\n",
      "['.', \"'s\", 'love', 'life', 'get', 'meet', 'DG', 'genre', 'girl', 'find']\n",
      "\n",
      "Sci-Fi\n",
      "Predictions\n",
      "['.', \"'s\", 'DG', 'earth', 'world', 'find', 'space', 'alien', 'one', 'human']\n",
      "Actual\n",
      "['.', \"'s\", 'DG', 'world', 'one', 'find', 'life', '?', 'human', 'take']\n",
      "\n",
      "Thriller\n",
      "Predictions\n",
      "['.', \"'s\", 'find', 'one', 'get', 'life', 'man', 'genre', 'go', '?']\n",
      "Actual\n",
      "['.', \"'s\", 'find', 'life', 'one', 'genre', 'get', 'man', '?', 'young']\n",
      "\n"
     ]
    }
   ],
   "source": [
    "for key in pred_word_dict:\n",
    "        print(genres[int(key)])\n",
    "        print(\"Predictions\")\n",
    "        A = pred_word_dict[key]\n",
    "        print(sorted(A, key=A.get, reverse=True)[:10])\n",
    "        print(\"Actual\")\n",
    "        B = actual_word_dict[key]\n",
    "        print(sorted(B, key=B.get, reverse=True)[:10])\n",
    "        print()"
   ]
  },
  {
   "cell_type": "code",
   "execution_count": 67,
   "metadata": {},
   "outputs": [],
   "source": [
    "preds_group={}\n",
    "preds_group[\"preds_1\"]=pred1\n",
    "preds_group[\"preds_2\"]=pred2\n",
    "preds_group[\"preds_3\"]=pred3\n",
    "preds_group[\"preds_4\"]=pred4\n",
    "preds_group[\"preds_5\"]=pred5"
   ]
  },
  {
   "cell_type": "code",
   "execution_count": 68,
   "metadata": {},
   "outputs": [
    {
     "name": "stdout",
     "output_type": "stream",
     "text": [
      "The precision for Action is 0.44673847995212446\n",
      "The precision for Adventure is 0.3742430359305612\n",
      "The precision for Comedy is 0.6175303595046291\n",
      "The precision for Crime is 0.3449660284126004\n",
      "The precision for Drama is 0.6830112888704204\n",
      "The precision for Family is 0.3277777777777778\n",
      "The precision for Horror is 0.4844511052828775\n",
      "The precision for Romance is 0.3248910110026988\n",
      "The precision for Sci-Fi is 0.49396984924623116\n",
      "The precision for Thriller is 0.3842691305377873\n",
      "The recall for Action is 0.6149093904448105\n",
      "The recall for Adventure is 0.5113072255929398\n",
      "The recall for Comedy is 0.7255262042661393\n",
      "The recall for Crime is 0.6215915414579856\n",
      "The recall for Drama is 0.8388194267245046\n",
      "The recall for Family is 0.6223003515821195\n",
      "The recall for Horror is 0.6692546583850931\n",
      "The recall for Romance is 0.5577334283677833\n",
      "The recall for Sci-Fi is 0.7133526850507983\n",
      "The recall for Thriller is 0.5618288881191549\n",
      "The f1 for Action is 0.5175043327556326\n",
      "The f1 for Adventure is 0.43216783216783217\n",
      "The f1 for Comedy is 0.6671862821512081\n",
      "The f1 for Crime is 0.4436941410129096\n",
      "The f1 for Drama is 0.7529393800580241\n",
      "The f1 for Family is 0.42938832091491946\n",
      "The f1 for Horror is 0.5620517278852424\n",
      "The f1 for Romance is 0.4105995015085924\n",
      "The f1 for Sci-Fi is 0.583729216152019\n",
      "The f1 for Thriller is 0.45638716938660673\n",
      "The micro precision is 0.5120105498072631\n",
      "The weighted macro precision is 0.5318120175272013\n",
      "The micro recall is 0.7036076725772276\n",
      "The weighted macro recall is 0.7036076725772276\n",
      "The micro f1 is 0.5927100213720378\n",
      "The weighted macro f1 is 0.6029766381751803\n",
      "The AUC for Action is 0.535324738229539\n",
      "The AUC for Adventure is 0.436963242650528\n",
      "The AUC for Comedy is 0.7327045397251158\n",
      "The AUC for Crime is 0.40914317317677473\n",
      "The AUC for Drama is 0.7911893853220142\n",
      "The AUC for Family is 0.47735078714215984\n",
      "The AUC for Horror is 0.6021449234783465\n",
      "The AUC for Romance is 0.3658379210939353\n",
      "The AUC for Sci-Fi is 0.6499270027561107\n",
      "The AUC for Thriller is 0.4287621484883989\n",
      "The micro-avg AUC is 0.6252859707030586\n",
      "The macro-avg AUC is 0.5429347862062923\n"
     ]
    }
   ],
   "source": [
    "indiv_class_scores_ensemble(y_test, preds_group, 0.5)\n",
    "auc_pr_ensemble(y_test, preds_group)"
   ]
  },
  {
   "cell_type": "code",
   "execution_count": null,
   "metadata": {},
   "outputs": [],
   "source": [
    "model = load_model('./local/USE_FC_500batch_dropout_fulldata.h5')"
   ]
  },
  {
   "cell_type": "code",
   "execution_count": 44,
   "metadata": {},
   "outputs": [],
   "source": [
    "x_test=np.stack(test_set['USE_token_plot_embeddings'])"
   ]
  },
  {
   "cell_type": "code",
   "execution_count": 75,
   "metadata": {},
   "outputs": [],
   "source": [
    "preds = model.predict(x_test)"
   ]
  },
  {
   "cell_type": "code",
   "execution_count": 76,
   "metadata": {},
   "outputs": [
    {
     "name": "stdout",
     "output_type": "stream",
     "text": [
      "The micro precision is 0.696775022484903\n",
      "The weighted macro precision is 0.6722969381657382\n",
      "The micro recall is 0.4535797925727668\n",
      "The weighted macro recall is 0.4535797925727668\n",
      "The micro f1 is 0.5494705912153605\n",
      "The weighted macro f1 is 0.5014266172104744\n",
      "The AUC for Action is 0.53316265732188\n",
      "The AUC for Adventure is 0.40615111233180407\n",
      "The AUC for Comedy is 0.6926807658525674\n",
      "The AUC for Crime is 0.4065204802081949\n",
      "The AUC for Drama is 0.8005631894859778\n",
      "The AUC for Family is 0.4475060937209381\n",
      "The AUC for Horror is 0.5724128459408231\n",
      "The AUC for Romance is 0.40052231793330983\n",
      "The AUC for Sci-Fi is 0.5911636052130528\n",
      "The AUC for Thriller is 0.3781100900616502\n",
      "The micro-avg AUC is 0.6188647152725824\n",
      "The macro-avg AUC is 0.5228793158070199\n"
     ]
    }
   ],
   "source": [
    "y_pred = preds >= 0.5\n",
    "micro_precision = precision_score(y_test, y_pred, average = 'micro')\n",
    "weighted_macro_precision = precision_score(y_test, y_pred, average = 'weighted')\n",
    "micro_recall = recall_score(y_test, y_pred, average = 'micro')\n",
    "weighted_macro_recall = recall_score(y_test, y_pred, average = 'weighted')\n",
    "micro_f1 = f1_score(y_test, y_pred, average = 'micro')\n",
    "weighted_macro_f1 = f1_score(y_test, y_pred, average = 'weighted')\n",
    "print(\"The micro precision is\", micro_precision)\n",
    "print(\"The weighted macro precision is\", weighted_macro_precision)\n",
    "print(\"The micro recall is\", micro_recall)\n",
    "print(\"The weighted macro recall is\", weighted_macro_recall)\n",
    "print(\"The micro f1 is\", micro_f1)\n",
    "print(\"The weighted macro f1 is\", weighted_macro_f1)\n",
    "auc_pr(y_test, y_pred)"
   ]
  },
  {
   "cell_type": "code",
   "execution_count": 45,
   "metadata": {},
   "outputs": [],
   "source": [
    "model1 = load_model('./local/USE_fulldata_300dim_500batch_dropout_sample_1.h5')#, custom_objects={'AttentionWithContext': AttentionWithContext})\n",
    "model2 = load_model('./local/USE_fulldata_300dim_500batch_dropout_sample_2.h5')#, custom_objects={'AttentionWithContext': AttentionWithContext})\n",
    "model3 = load_model('./local/USE_fulldata_300dim_500batch_dropout_sample_3.h5')#, custom_objects={'AttentionWithContext': AttentionWithContext})\n",
    "model4 = load_model('./local/USE_fulldata_300dim_500batch_dropout_sample_4.h5')#, custom_objects={'AttentionWithContext': AttentionWithContext})\n",
    "model5 = load_model('./local/USE_fulldata_300dim_500batch_dropout_sample_5.h5')#, custom_objects={'AttentionWithContext': AttentionWithContext})\n"
   ]
  },
  {
   "cell_type": "code",
   "execution_count": 46,
   "metadata": {},
   "outputs": [],
   "source": [
    "pred1 = model1.predict(x_test)\n",
    "pred2 = model2.predict(x_test)\n",
    "pred3 = model3.predict(x_test)\n",
    "pred4 = model4.predict(x_test)\n",
    "pred5 = model5.predict(x_test)"
   ]
  },
  {
   "cell_type": "code",
   "execution_count": 47,
   "metadata": {},
   "outputs": [],
   "source": [
    "preds_group={}\n",
    "preds_group[\"preds_1\"]=pred1\n",
    "preds_group[\"preds_2\"]=pred2\n",
    "preds_group[\"preds_3\"]=pred3\n",
    "preds_group[\"preds_4\"]=pred4\n",
    "preds_group[\"preds_5\"]=pred5"
   ]
  },
  {
   "cell_type": "code",
   "execution_count": 71,
   "metadata": {},
   "outputs": [
    {
     "name": "stdout",
     "output_type": "stream",
     "text": [
      "The precision for Action is 0.529896013864818\n",
      "The precision for Adventure is 0.44788164088769333\n",
      "The precision for Comedy is 0.6786512988130053\n",
      "The precision for Crime is 0.41795511221945136\n",
      "The precision for Drama is 0.7068352429869617\n",
      "The precision for Family is 0.43494038361845516\n",
      "The precision for Horror is 0.5747716894977168\n",
      "The precision for Romance is 0.4023732470334412\n",
      "The precision for Sci-Fi is 0.5592322964923891\n",
      "The precision for Thriller is 0.45951417004048584\n",
      "The recall for Action is 0.5037067545304778\n",
      "The recall for Adventure is 0.3673469387755102\n",
      "The recall for Comedy is 0.5572821019918067\n",
      "The recall for Crime is 0.46633277685030605\n",
      "The recall for Drama is 0.7608233392872331\n",
      "The recall for Family is 0.4213962832747363\n",
      "The recall for Horror is 0.5212215320910973\n",
      "The recall for Romance is 0.3987883107626515\n",
      "The recall for Sci-Fi is 0.6132075471698113\n",
      "The recall for Thriller is 0.31451333564253553\n",
      "The f1 for Action is 0.5164695945945945\n",
      "The f1 for Adventure is 0.4036363636363637\n",
      "The f1 for Comedy is 0.6120074464784362\n",
      "The f1 for Crime is 0.44082062072593375\n",
      "The f1 for Drama is 0.7328363100114696\n",
      "The f1 for Family is 0.4280612244897959\n",
      "The f1 for Horror is 0.5466883821932681\n",
      "The f1 for Romance is 0.4005727581886522\n",
      "The f1 for Sci-Fi is 0.5849775008653514\n",
      "The f1 for Thriller is 0.3734320378367263\n",
      "The micro precision is 0.5942952333635327\n",
      "The weighted macro precision is 0.590131058935253\n",
      "The micro recall is 0.5669398907103825\n",
      "The weighted macro recall is 0.5669398907103825\n",
      "The micro f1 is 0.5802953556395806\n",
      "The weighted macro f1 is 0.5755260697579909\n",
      "The average number of genres per movie is 1.5254335517810174\n",
      "The median number of genres per movie is 1.0\n",
      "The AUC for Action is 0.5302643780935521\n",
      "The AUC for Adventure is 0.38174256746953006\n",
      "The AUC for Comedy is 0.6827340234738716\n",
      "The AUC for Crime is 0.39846073372619206\n",
      "The AUC for Drama is 0.7734685258393357\n",
      "The AUC for Family is 0.40341673739027806\n",
      "The AUC for Horror is 0.5711999084152659\n",
      "The AUC for Romance is 0.36598090621055845\n",
      "The AUC for Sci-Fi is 0.6175446419140816\n",
      "The AUC for Thriller is 0.3928507342188565\n",
      "The micro-avg AUC is 0.5959013941625186\n",
      "The macro-avg AUC is 0.5117663156751522\n"
     ]
    }
   ],
   "source": [
    "indiv_class_scores_ensemble(y_test, preds_group, 0.5)\n",
    "auc_pr_ensemble(y_test, preds_group)"
   ]
  },
  {
   "cell_type": "code",
   "execution_count": 83,
   "metadata": {},
   "outputs": [],
   "source": [
    "model = load_model('./local/USE_HAN_300dim_500batch_dropout_fulldata.h5', custom_objects={'AttentionWithContext': AttentionWithContext})"
   ]
  },
  {
   "cell_type": "code",
   "execution_count": 54,
   "metadata": {},
   "outputs": [],
   "source": [
    "x_test=np.stack(test_set['USE_token_sentence_embeddings'])"
   ]
  },
  {
   "cell_type": "code",
   "execution_count": 86,
   "metadata": {},
   "outputs": [],
   "source": [
    "preds = model.predict(x_test)"
   ]
  },
  {
   "cell_type": "code",
   "execution_count": 87,
   "metadata": {},
   "outputs": [
    {
     "name": "stdout",
     "output_type": "stream",
     "text": [
      "The micro precision is 0.7050168837433671\n",
      "The weighted macro precision is 0.6849611224588733\n",
      "The micro recall is 0.4889595182335229\n",
      "The weighted macro recall is 0.4889595182335229\n",
      "The micro f1 is 0.5774397471355195\n",
      "The weighted macro f1 is 0.5395439932952331\n",
      "The AUC for Action is 0.5545794497594223\n",
      "The AUC for Adventure is 0.4578306493330154\n",
      "The AUC for Comedy is 0.712000275494714\n",
      "The AUC for Crime is 0.4073912794108979\n",
      "The AUC for Drama is 0.8098598971011846\n",
      "The AUC for Family is 0.49142189890490573\n",
      "The AUC for Horror is 0.581134872008652\n",
      "The AUC for Romance is 0.4135211980980836\n",
      "The AUC for Sci-Fi is 0.6247296866005239\n",
      "The AUC for Thriller is 0.4300614666064895\n",
      "The micro-avg AUC is 0.6378468341300794\n",
      "The macro-avg AUC is 0.548253067331789\n"
     ]
    }
   ],
   "source": [
    "y_pred = preds >= 0.5\n",
    "micro_precision = precision_score(y_test, y_pred, average = 'micro')\n",
    "weighted_macro_precision = precision_score(y_test, y_pred, average = 'weighted')\n",
    "micro_recall = recall_score(y_test, y_pred, average = 'micro')\n",
    "weighted_macro_recall = recall_score(y_test, y_pred, average = 'weighted')\n",
    "micro_f1 = f1_score(y_test, y_pred, average = 'micro')\n",
    "weighted_macro_f1 = f1_score(y_test, y_pred, average = 'weighted')\n",
    "print(\"The micro precision is\", micro_precision)\n",
    "print(\"The weighted macro precision is\", weighted_macro_precision)\n",
    "print(\"The micro recall is\", micro_recall)\n",
    "print(\"The weighted macro recall is\", weighted_macro_recall)\n",
    "print(\"The micro f1 is\", micro_f1)\n",
    "print(\"The weighted macro f1 is\", weighted_macro_f1)\n",
    "auc_pr(y_test, y_pred)"
   ]
  },
  {
   "cell_type": "code",
   "execution_count": 52,
   "metadata": {},
   "outputs": [],
   "source": [
    "model1 = load_model('./local/USE_HAN_300dim_500batch_dropout_sample_1.h5', custom_objects={'AttentionWithContext': AttentionWithContext})\n",
    "model2 = load_model('./local/USE_HAN_300dim_500batch_dropout_sample_2.h5', custom_objects={'AttentionWithContext': AttentionWithContext})\n",
    "model3 = load_model('./local/USE_HAN_300dim_500batch_dropout_sample_3.h5', custom_objects={'AttentionWithContext': AttentionWithContext})\n",
    "model4 = load_model('./local/USE_HAN_300dim_500batch_dropout_sample_4.h5', custom_objects={'AttentionWithContext': AttentionWithContext})\n",
    "model5 = load_model('./local/USE_HAN_300dim_500batch_dropout_sample_5.h5', custom_objects={'AttentionWithContext': AttentionWithContext})\n"
   ]
  },
  {
   "cell_type": "code",
   "execution_count": 55,
   "metadata": {},
   "outputs": [],
   "source": [
    "pred1 = model1.predict(x_test)\n",
    "pred2 = model2.predict(x_test)\n",
    "pred3 = model3.predict(x_test)\n",
    "pred4 = model4.predict(x_test)\n",
    "pred5 = model5.predict(x_test)"
   ]
  },
  {
   "cell_type": "code",
   "execution_count": 41,
   "metadata": {},
   "outputs": [],
   "source": [
    "preds_group={}\n",
    "preds_group[\"preds_1\"]=pred1\n",
    "preds_group[\"preds_2\"]=pred2\n",
    "preds_group[\"preds_3\"]=pred3\n",
    "preds_group[\"preds_4\"]=pred4\n",
    "preds_group[\"preds_5\"]=pred5"
   ]
  },
  {
   "cell_type": "code",
   "execution_count": 42,
   "metadata": {},
   "outputs": [
    {
     "name": "stdout",
     "output_type": "stream",
     "text": [
      "The precision for Action is 0.44673847995212446\n",
      "The precision for Adventure is 0.3742430359305612\n",
      "The precision for Comedy is 0.6175303595046291\n",
      "The precision for Crime is 0.3449660284126004\n",
      "The precision for Drama is 0.6830112888704204\n",
      "The precision for Family is 0.3277777777777778\n",
      "The precision for Horror is 0.4844511052828775\n",
      "The precision for Romance is 0.3248910110026988\n",
      "The precision for Sci-Fi is 0.49396984924623116\n",
      "The precision for Thriller is 0.3842691305377873\n",
      "The recall for Action is 0.6149093904448105\n",
      "The recall for Adventure is 0.5113072255929398\n",
      "The recall for Comedy is 0.7255262042661393\n",
      "The recall for Crime is 0.6215915414579856\n",
      "The recall for Drama is 0.8388194267245046\n",
      "The recall for Family is 0.6223003515821195\n",
      "The recall for Horror is 0.6692546583850931\n",
      "The recall for Romance is 0.5577334283677833\n",
      "The recall for Sci-Fi is 0.7133526850507983\n",
      "The recall for Thriller is 0.5618288881191549\n",
      "The f1 for Action is 0.5175043327556326\n",
      "The f1 for Adventure is 0.43216783216783217\n",
      "The f1 for Comedy is 0.6671862821512081\n",
      "The f1 for Crime is 0.4436941410129096\n",
      "The f1 for Drama is 0.7529393800580241\n",
      "The f1 for Family is 0.42938832091491946\n",
      "The f1 for Horror is 0.5620517278852424\n",
      "The f1 for Romance is 0.4105995015085924\n",
      "The f1 for Sci-Fi is 0.583729216152019\n",
      "The f1 for Thriller is 0.45638716938660673\n",
      "The micro precision is 0.5120105498072631\n",
      "The weighted macro precision is 0.5318120175272013\n",
      "The micro recall is 0.7036076725772276\n",
      "The weighted macro recall is 0.7036076725772276\n",
      "The micro f1 is 0.5927100213720378\n",
      "The weighted macro f1 is 0.6029766381751803\n",
      "The average number of genres per movie is 2.1974053764878962\n",
      "The median number of genres per movie is 2.0\n",
      "The AUC for Action is 0.535324738229539\n",
      "The AUC for Adventure is 0.436963242650528\n",
      "The AUC for Comedy is 0.7327045397251158\n",
      "The AUC for Crime is 0.40914317317677473\n",
      "The AUC for Drama is 0.7911893853220142\n",
      "The AUC for Family is 0.47735078714215984\n",
      "The AUC for Horror is 0.6021449234783465\n",
      "The AUC for Romance is 0.3658379210939353\n",
      "The AUC for Sci-Fi is 0.6499270027561107\n",
      "The AUC for Thriller is 0.4287621484883989\n",
      "The micro-avg AUC is 0.6252859707030586\n",
      "The macro-avg AUC is 0.5429347862062923\n"
     ]
    }
   ],
   "source": [
    "indiv_class_scores_ensemble(y_test, preds_group, 0.5)\n",
    "auc_pr_ensemble(y_test, preds_group)"
   ]
  },
  {
   "cell_type": "code",
   "execution_count": 36,
   "metadata": {},
   "outputs": [],
   "source": [
    "USE_HAN_preds = preds_group"
   ]
  },
  {
   "cell_type": "code",
   "execution_count": 43,
   "metadata": {},
   "outputs": [],
   "source": [
    "HAN_preds = preds_group"
   ]
  },
  {
   "cell_type": "code",
   "execution_count": 48,
   "metadata": {},
   "outputs": [],
   "source": [
    "USE_FC_preds = preds_group"
   ]
  },
  {
   "cell_type": "code",
   "execution_count": 51,
   "metadata": {},
   "outputs": [],
   "source": [
    "HAN_sum = HAN_preds['preds_1'] + HAN_preds['preds_2'] + HAN_preds['preds_3'] + HAN_preds['preds_4'] + HAN_preds['preds_5']"
   ]
  },
  {
   "cell_type": "code",
   "execution_count": 52,
   "metadata": {},
   "outputs": [],
   "source": [
    "USE_HAN_sum = USE_HAN_preds['preds_1'] + USE_HAN_preds['preds_2'] + USE_HAN_preds['preds_3'] + USE_HAN_preds['preds_4'] + USE_HAN_preds['preds_5']"
   ]
  },
  {
   "cell_type": "code",
   "execution_count": 53,
   "metadata": {},
   "outputs": [],
   "source": [
    "USE_FC_sum = USE_FC_preds['preds_1'] + USE_FC_preds['preds_2'] + USE_FC_preds['preds_3'] + USE_FC_preds['preds_4'] + USE_FC_preds['preds_5']"
   ]
  },
  {
   "cell_type": "code",
   "execution_count": 57,
   "metadata": {},
   "outputs": [],
   "source": [
    "import random"
   ]
  },
  {
   "cell_type": "code",
   "execution_count": 49,
   "metadata": {},
   "outputs": [],
   "source": [
    "def compareEnsemblePred(HAN_sum, USE_HAN_sum, USE_FC_sum, actual, test_set, index = -1):\n",
    "    genres = ['Action', 'Adventure', 'Comedy', 'Crime', 'Drama', 'Family',\n",
    "       'Horror', 'Romance', 'Sci-Fi', 'Thriller']\n",
    "    if index == -1:\n",
    "        index = random.randint(0,test_set.shape[0])\n",
    "    print(\"Record \" + str(index))\n",
    "    print(\"Predicted:\")\n",
    "    print(\"HAN:\")\n",
    "    genreSelected = False\n",
    "    for i in range(10):\n",
    "        if(HAN_sum[index][i] >= 2.5):\n",
    "            print(genres[i])\n",
    "            print(HAN_sum[index][i]/5)\n",
    "            genreSelected = True\n",
    "    if genreSelected ==False:\n",
    "        print(genres[np.argmax(HAN_sum[index])])\n",
    "        print(HAN_sum[index][i]/5)\n",
    "    \n",
    "    print(\"USE + HAN:\")\n",
    "    genreSelected = False\n",
    "    for i in range(10):\n",
    "        if(USE_HAN_sum[index][i] >= 2.5):\n",
    "            print(genres[i])\n",
    "            print(USE_HAN_sum[index][i]/5)\n",
    "            genreSelected = True\n",
    "    if genreSelected ==False:\n",
    "        print(genres[np.argmax(USE_HAN_sum[index])])\n",
    "        print(USE_HAN_sum[index][i]/5)\n",
    "\n",
    "    print(\"USE + FC:\")\n",
    "    genreSelected = False\n",
    "    for i in range(10):\n",
    "        if(USE_FC_sum[index][i] >= 2.5):\n",
    "            print(genres[i])\n",
    "            print(USE_FC_sum[index][i]/5)\n",
    "            genreSelected = True\n",
    "    if genreSelected ==False:\n",
    "        print(genres[np.argmax(USE_FC_sum[index])])\n",
    "        print(USE_FC_sum[index][i]/5)\n",
    "        \n",
    "    print()\n",
    "    print(\"Actual:\")\n",
    "    for i in range(10):\n",
    "        if actual[index][i] == 1:\n",
    "            print(genres[i])\n",
    "    print()\n",
    "    print(\"Plot:\")\n",
    "    print(test_set.iloc[index][\"plots\"])\n",
    "    \n",
    "    #print()\n",
    "    #print(\"Tokens\")\n",
    "    #print(dev_set.iloc[index][\"USE_tokens_sentences_padded\"])\n",
    "    #print(dev_set.iloc[index][\"tokenized_words\"])"
   ]
  },
  {
   "cell_type": "code",
   "execution_count": 55,
   "metadata": {},
   "outputs": [
    {
     "name": "stdout",
     "output_type": "stream",
     "text": [
      "Record 1\n",
      "Predicted:\n",
      "HAN:\n",
      "Drama\n",
      "0.5080879688262939\n",
      "USE + HAN:\n",
      "Drama\n",
      "0.5326623439788818\n",
      "USE + FC:\n",
      "Comedy\n",
      "0.12696411609649658\n",
      "\n",
      "Actual:\n",
      "Drama\n",
      "\n",
      "Plot:\n",
      "A couple and a dog. They live not far from Mexico City. Strange things happen in the house. She is in love. She'd like to be pregnant. He is busy and tired. The woman is undressing inside the house. He falls asleep. She pours wine on his face. A strange visitor dances outside. She stares at us, under the waterfall. They are imagining things. They might be happy in a near future. The film was inspired by a famous Edward Hopper painting, 'Summer evening'. \n"
     ]
    }
   ],
   "source": [
    "compareEnsemblePred(HAN_sum, USE_HAN_sum, USE_FC_sum, y_test, test_set, 1)"
   ]
  },
  {
   "cell_type": "code",
   "execution_count": 64,
   "metadata": {},
   "outputs": [
    {
     "name": "stdout",
     "output_type": "stream",
     "text": [
      "Record 18705\n",
      "Predicted:\n",
      "HAN:\n",
      "Drama\n",
      "0.9321073532104492\n",
      "USE + HAN:\n",
      "Drama\n",
      "0.5588393211364746\n",
      "USE + FC:\n",
      "Drama\n",
      "0.5573939323425293\n",
      "\n",
      "Actual:\n",
      "Drama\n",
      "\n",
      "Plot:\n",
      "On the edge of a rocky desolate Mexican border town is a makeshift bar and brothel called \"Las Mujeres de Troya,\" whose only patrons are soldiers from the other side. Doña Hecuba, the bar's proprietress, routinely overlooks the preparations for the night shift. But this evening fate intervenes in the form of Agamemnon, a powerful General from across the border, who has sent for Doña Hecuba's uncorrupted, enigmatic daughter, Cassandra. Doña Hecuba's desperate pleas are powerless against Cassandra's mysterious and fateful volition, which compels her to submit to Agamemnon. Her decision to cross the border takes us beyond the barriers of the flesh to the very limits of perception. \n"
     ]
    }
   ],
   "source": [
    "compareEnsemblePred(HAN_sum, USE_HAN_sum, USE_FC_sum, y_test, test_set)"
   ]
  },
  {
   "cell_type": "code",
   "execution_count": 62,
   "metadata": {},
   "outputs": [
    {
     "name": "stdout",
     "output_type": "stream",
     "text": [
      "Record 14\n",
      "Predicted:\n",
      "HAN:\n",
      "Thriller\n",
      "0.6639695644378663\n",
      "USE + HAN:\n",
      "Thriller\n",
      "0.46327505111694334\n",
      "USE + FC:\n",
      "Drama\n",
      "0.4540302276611328\n",
      "\n",
      "Actual:\n",
      "Drama\n",
      "\n",
      "Plot:\n",
      "Dr. Wayne is a brilliant surgeon. He is jealous of his friend Bowen, who may be paying too much attention to Pat, the surgeon's seductive spouse. When Wayne must perform an emergency operation, and the patient dies, he is suspected of murder. \n"
     ]
    }
   ],
   "source": [
    "compareEnsemblePred(HAN_sum, USE_HAN_sum, USE_FC_sum, y_test, test_set, 14)"
   ]
  },
  {
   "cell_type": "code",
   "execution_count": 61,
   "metadata": {},
   "outputs": [
    {
     "name": "stdout",
     "output_type": "stream",
     "text": [
      "Record 15\n",
      "Predicted:\n",
      "HAN:\n",
      "Drama\n",
      "0.8375716209411621\n",
      "Romance\n",
      "0.5462236881256104\n",
      "USE + HAN:\n",
      "Comedy\n",
      "0.5423326969146729\n",
      "Romance\n",
      "0.6655119895935059\n",
      "USE + FC:\n",
      "Romance\n",
      "0.5684175491333008\n",
      "\n",
      "Actual:\n",
      "Drama\n",
      "Romance\n",
      "\n",
      "Plot:\n",
      "Sadie is trapped in an abusive relationship with a man she can't help but love. After Jake falls through the ice of a river and drowns, Sadie, lost and alone in the woods, discovers duplicates of both herself and Jake as if nothing ever happened: but with a twist. This Jake is kind and loving. Could this be Sadie's chance at getting the life she's always wanted? \n"
     ]
    }
   ],
   "source": [
    "compareEnsemblePred(HAN_sum, USE_HAN_sum, USE_FC_sum, y_test, test_set, 15)"
   ]
  },
  {
   "cell_type": "code",
   "execution_count": 96,
   "metadata": {},
   "outputs": [
    {
     "name": "stdout",
     "output_type": "stream",
     "text": [
      "Predicted:\n",
      "HAN:\n",
      "Comedy\n",
      "0.671903419494629\n",
      "USE + HAN:\n",
      "Comedy\n",
      "0.21234722137451173\n",
      "USE + FC:\n",
      "Drama\n",
      "0.26304049491882325\n",
      "\n",
      "Actual:\n",
      "Comedy\n",
      "\n",
      "Plot:\n",
      "When naive teen rapper Young Flaccid is shot at an awards show by his nemesis, the washed-up old school rapper Lil' Unkle, he is shocked to wake up in the hospital and find that his record company faked his death in order to sell more posthumous records. \n"
     ]
    }
   ],
   "source": [
    "compareEnsemblePred(HAN_sum, USE_HAN_sum, USE_FC_sum, y_test, test_set, 45)"
   ]
  },
  {
   "cell_type": "code",
   "execution_count": 97,
   "metadata": {},
   "outputs": [
    {
     "name": "stdout",
     "output_type": "stream",
     "text": [
      "Predicted:\n",
      "HAN:\n",
      "Horror\n",
      "0.9829551696777343\n",
      "USE + HAN:\n",
      "Horror\n",
      "0.8792496681213379\n",
      "USE + FC:\n",
      "Horror\n",
      "0.84317045211792\n",
      "Thriller\n",
      "0.6335912704467773\n",
      "\n",
      "Actual:\n",
      "Horror\n",
      "Thriller\n",
      "\n",
      "Plot:\n",
      "Five youngsters are on their way back home. They stop the car for no reason and they begin to disappear, one by one. Some of them leave a trail of blood behind. There's a sick maniac around who just wants torture them, killing them and have a little fun with their misery. The camera they bring with them records everything. Until the end... \n"
     ]
    }
   ],
   "source": [
    "compareEnsemblePred(HAN_sum, USE_HAN_sum, USE_FC_sum, y_test, test_set, 55)"
   ]
  },
  {
   "cell_type": "code",
   "execution_count": 101,
   "metadata": {},
   "outputs": [
    {
     "name": "stdout",
     "output_type": "stream",
     "text": [
      "Record 18646\n",
      "Predicted:\n",
      "HAN:\n",
      "Comedy\n",
      "0.9463046073913575\n",
      "Romance\n",
      "0.6670489311218262\n",
      "USE + HAN:\n",
      "Comedy\n",
      "0.7440277099609375\n",
      "Drama\n",
      "0.5314347267150878\n",
      "Romance\n",
      "0.686713695526123\n",
      "USE + FC:\n",
      "Comedy\n",
      "0.5145308971405029\n",
      "Drama\n",
      "0.6171409606933593\n",
      "\n",
      "Actual:\n",
      "Comedy\n",
      "\n",
      "Plot:\n",
      "After 30 years together, Henry's parents are finally getting married. As the responsible oldest son he wants everything to be perfect on their big day. But his youngest brother Tom can barely stay conscious and George (the middle brother) can't stop thinking about his ex-wife long enough to focus on the wedding. To complicate things further, Rhonda, the wedding coordinator chooses today to tell George that she's loved him for 10 years. Can Henry pull everyone together in time for the wedding? And what will his parents do if he can't? \n"
     ]
    }
   ],
   "source": [
    "compareEnsemblePred(HAN_sum, USE_HAN_sum, USE_FC_sum, y_test, test_set)"
   ]
  },
  {
   "cell_type": "code",
   "execution_count": 103,
   "metadata": {},
   "outputs": [
    {
     "name": "stdout",
     "output_type": "stream",
     "text": [
      "Record 17481\n",
      "Predicted:\n",
      "HAN:\n",
      "Drama\n",
      "0.9336017608642578\n",
      "USE + HAN:\n",
      "Drama\n",
      "0.8640570640563965\n",
      "Family\n",
      "0.5481149196624756\n",
      "USE + FC:\n",
      "Drama\n",
      "0.8474091529846192\n",
      "\n",
      "Actual:\n",
      "Drama\n",
      "Romance\n",
      "\n",
      "Plot:\n",
      "Eric, an American-born Asian college graduate, must steal a younger student's identity in order to take back the one last year of baseball eligibility that he lost when his dad passed away. Monica, his Coach's All-American co-ed daughter, must ascertain her own questionable identity in order to come to terms with the years of abuse that she suffered after her mother passed away. Through cultural, ethical, and generational challenges, Eric and Monica hide their true selves from one another as long as they can. But can he ground her increasingly self- destructive behavior back to reality in order to avoid even further traumatic consequences? \n"
     ]
    }
   ],
   "source": [
    "compareEnsemblePred(HAN_sum, USE_HAN_sum, USE_FC_sum, y_test, test_set)"
   ]
  },
  {
   "cell_type": "code",
   "execution_count": 104,
   "metadata": {},
   "outputs": [
    {
     "name": "stdout",
     "output_type": "stream",
     "text": [
      "Record 13534\n",
      "Predicted:\n",
      "HAN:\n",
      "Comedy\n",
      "0.5201759815216065\n",
      "USE + HAN:\n",
      "Drama\n",
      "0.0821851372718811\n",
      "USE + FC:\n",
      "Drama\n",
      "0.06991367936134338\n",
      "\n",
      "Actual:\n",
      "Comedy\n",
      "\n",
      "Plot:\n",
      "Don Herculano, un viejo verde, decide enamorarse de la esposa del molinero del pueblo, una muchacha joven y hermosa. El molinero al enterarse, planea vengarse y comienza a seducir a la esposa del viejo para colocarlo en ridiculo frente al pueblo. \n"
     ]
    }
   ],
   "source": [
    "compareEnsemblePred(HAN_sum, USE_HAN_sum, USE_FC_sum, y_test, test_set)"
   ]
  },
  {
   "cell_type": "code",
   "execution_count": 105,
   "metadata": {},
   "outputs": [
    {
     "name": "stdout",
     "output_type": "stream",
     "text": [
      "Record 2630\n",
      "Predicted:\n",
      "HAN:\n",
      "Drama\n",
      "0.9434134483337402\n",
      "USE + HAN:\n",
      "Drama\n",
      "0.7769200325012207\n",
      "USE + FC:\n",
      "Drama\n",
      "0.7935019493103027\n",
      "Romance\n",
      "0.5418951988220215\n",
      "\n",
      "Actual:\n",
      "Drama\n",
      "Romance\n",
      "\n",
      "Plot:\n",
      "After some years of tension, Richard begins a sexual relationship with his sister Natalie, who is now married. The relationship between Richard and Natalie proves dangerously obsessional. Their private intensity (& working class origins) contrast with the middle-class, inhibited, stuffy public scenes we see in the Richmond world into which Natalie has moved with her marriage. As the guilt and intensity of the siblings increases we seem to be heading for disaster, especially when Natalie's husband Sinclair finds out. \n"
     ]
    }
   ],
   "source": [
    "compareEnsemblePred(HAN_sum, USE_HAN_sum, USE_FC_sum, y_test, test_set)"
   ]
  },
  {
   "cell_type": "code",
   "execution_count": 106,
   "metadata": {},
   "outputs": [
    {
     "name": "stdout",
     "output_type": "stream",
     "text": [
      "Record 2971\n",
      "Predicted:\n",
      "HAN:\n",
      "Horror\n",
      "0.952242088317871\n",
      "Thriller\n",
      "0.7569305419921875\n",
      "USE + HAN:\n",
      "Horror\n",
      "0.9257663726806641\n",
      "Thriller\n",
      "0.6404680728912353\n",
      "USE + FC:\n",
      "Horror\n",
      "0.8416253089904785\n",
      "Thriller\n",
      "0.5259698867797852\n",
      "\n",
      "Actual:\n",
      "Drama\n",
      "Thriller\n",
      "\n",
      "Plot:\n",
      "When his publishers tell him he owes them one last book, Edward Sheehan (Michael Madsen) has little choice but to isolate himself in a cabin on a New England lake. Though his fans have come to expect truly terrifying stories from the mind of Edward, they are unaware of the morbid method he takes to get them on paper. He fears the inner depths he'll have to reach in order to make it to the final chapter. With only himself and his demons, he slowly drives himself crazy as he creates the most sinister book of his career: Gabrielle. \n"
     ]
    }
   ],
   "source": [
    "compareEnsemblePred(HAN_sum, USE_HAN_sum, USE_FC_sum, y_test, test_set)"
   ]
  },
  {
   "cell_type": "code",
   "execution_count": 107,
   "metadata": {},
   "outputs": [
    {
     "name": "stdout",
     "output_type": "stream",
     "text": [
      "Record 11370\n",
      "Predicted:\n",
      "HAN:\n",
      "Drama\n",
      "0.6258431434631347\n",
      "USE + HAN:\n",
      "Drama\n",
      "0.08882547616958618\n",
      "USE + FC:\n",
      "Drama\n",
      "0.06462981700897216\n",
      "\n",
      "Actual:\n",
      "Drama\n",
      "\n",
      "Plot:\n",
      "'Mahendra Singh Dhoni' (qv) is a goalkeeper in school football team.Bannerjee a school cricket coach asks him to join his cricket team and practice daily with him for two hours time passes and he becomes a big state level cricketer but for a long time his luck doesn't favor him to become a member of Indian Cricket team.Dhoni takes up a job in Indian Railways as a ticket checker and plays cricket for the railways after long wait of 4 years he gets selected in Indian Cricket team and turns to be one of the best cricketing captains in history of Indian Cricket. \n"
     ]
    }
   ],
   "source": [
    "compareEnsemblePred(HAN_sum, USE_HAN_sum, USE_FC_sum, y_test, test_set)"
   ]
  },
  {
   "cell_type": "code",
   "execution_count": 108,
   "metadata": {},
   "outputs": [
    {
     "name": "stdout",
     "output_type": "stream",
     "text": [
      "Record 1774\n",
      "Predicted:\n",
      "HAN:\n",
      "Crime\n",
      "0.9577314376831054\n",
      "Drama\n",
      "0.9195327758789062\n",
      "USE + HAN:\n",
      "Crime\n",
      "0.5950496196746826\n",
      "Drama\n",
      "0.6737801551818847\n",
      "USE + FC:\n",
      "Crime\n",
      "0.5614498615264892\n",
      "Drama\n",
      "0.6798087596893311\n",
      "\n",
      "Actual:\n",
      "Action\n",
      "Adventure\n",
      "Crime\n",
      "Drama\n",
      "\n",
      "Plot:\n",
      "Tim Kerry, a cop on the beat in Hell's Kitchen, welcomes his grown son Ritzy home after a two-year prison term. Ritzy's former friends and his ex-girl Julia join with Tim in hoping he'll go straight. But local gang leader Claire Morelli (the former boss's widow) knows of Ritzy's talents from other ex-cons, and makes him an offer hard to refuse. A chain of double-crosses seems to make tragedy inevitable... \n"
     ]
    }
   ],
   "source": [
    "compareEnsemblePred(HAN_sum, USE_HAN_sum, USE_FC_sum, y_test, test_set)"
   ]
  },
  {
   "cell_type": "code",
   "execution_count": 109,
   "metadata": {},
   "outputs": [
    {
     "name": "stdout",
     "output_type": "stream",
     "text": [
      "Record 16315\n",
      "Predicted:\n",
      "HAN:\n",
      "Comedy\n",
      "0.9959463119506836\n",
      "USE + HAN:\n",
      "Comedy\n",
      "0.8002121925354004\n",
      "USE + FC:\n",
      "Comedy\n",
      "0.795903205871582\n",
      "\n",
      "Actual:\n",
      "Comedy\n",
      "\n",
      "Plot:\n",
      "Asaf Rotem is an aspiring producer, waiting for his breakthrough. For his meeting with Moshe, a local TV station manager, he prepared notes about a great show with pretentious concepts. But Moshe, who's interested in ratings rather than notions, already made other plans: He teams Asaf with Yaniv and Aharon. The first is an inept wedding photographer, the other is a lame soundman, and neither one with real experience. So the trio is on to make \"Star Trek\" - interviews with celebrities at their own homes. In each segment they'll somehow manage to ruin either the production, or their relationship with the interviewee (and usually both). \n"
     ]
    }
   ],
   "source": [
    "compareEnsemblePred(HAN_sum, USE_HAN_sum, USE_FC_sum, y_test, test_set)"
   ]
  },
  {
   "cell_type": "code",
   "execution_count": 110,
   "metadata": {},
   "outputs": [
    {
     "name": "stdout",
     "output_type": "stream",
     "text": [
      "Record 2288\n",
      "Predicted:\n",
      "HAN:\n",
      "Comedy\n",
      "0.8818771362304687\n",
      "Drama\n",
      "0.7000470161437988\n",
      "USE + HAN:\n",
      "Drama\n",
      "0.5838805675506592\n",
      "Romance\n",
      "0.5482110500335693\n",
      "USE + FC:\n",
      "Drama\n",
      "0.6637689590454101\n",
      "\n",
      "Actual:\n",
      "Comedy\n",
      "\n",
      "Plot:\n",
      "'A Sensitive Subject' is a comedic short film that examines the importance of being honest and forthright in relationships. It is the story of a neurotic man attempting to ignore his anxieties as he tries sweep a beautiful young woman off of her feet. Allen knows that everyone has a past though he does his best to deny it. While on a date with Claire, he discovers that some people have more of a past than others. Terrified with what he has learned, Allen begins to question whether or not he is 'qualified ' to continue seeing Claire. Armed with bad advice and a bag of prophylactics, Allen decides to pursue a romance with Claire even if it means coming face to face with what and who he fears the most. \n"
     ]
    }
   ],
   "source": [
    "compareEnsemblePred(HAN_sum, USE_HAN_sum, USE_FC_sum, y_test, test_set)"
   ]
  },
  {
   "cell_type": "code",
   "execution_count": 111,
   "metadata": {},
   "outputs": [
    {
     "name": "stdout",
     "output_type": "stream",
     "text": [
      "Record 206\n",
      "Predicted:\n",
      "HAN:\n",
      "Drama\n",
      "0.6056915760040283\n",
      "Family\n",
      "0.7499758720397949\n",
      "USE + HAN:\n",
      "Drama\n",
      "0.5312854290008545\n",
      "Family\n",
      "0.6008799076080322\n",
      "USE + FC:\n",
      "Drama\n",
      "0.6729323387145996\n",
      "Family\n",
      "0.6228350639343262\n",
      "\n",
      "Actual:\n",
      "Drama\n",
      "\n",
      "Plot:\n",
      "Based on the real life journey of Joy Womack, JOY is the story of a young ballerina from Texas who realizes the only way to achieve her dream of becoming the best is to make a leap of faith and move to Moscow where she becomes the first American to train at the famed Bolshoi Ballet Academy. At the age of fifteen and with nothing but the support of her family and her own determination, Joy makes the courageous move to Russia by herself and learns to navigate the intense politics, difficult language and unique way of life that come with her new home. As her belief in herself is continually tested, Joy's faith and her passion for dance propel her to center stage and allow her to find the hidden beauty of a mysterious new country and an inner strength she never knew she had. \n"
     ]
    }
   ],
   "source": [
    "compareEnsemblePred(HAN_sum, USE_HAN_sum, USE_FC_sum, y_test, test_set)"
   ]
  },
  {
   "cell_type": "code",
   "execution_count": 112,
   "metadata": {},
   "outputs": [
    {
     "name": "stdout",
     "output_type": "stream",
     "text": [
      "Record 22335\n",
      "Predicted:\n",
      "HAN:\n",
      "Drama\n",
      "0.5438747882843018\n",
      "USE + HAN:\n",
      "Drama\n",
      "0.5837928771972656\n",
      "USE + FC:\n",
      "Comedy\n",
      "0.5586716651916503\n",
      "\n",
      "Actual:\n",
      "Drama\n",
      "\n",
      "Plot:\n",
      "Riccardo is a child with Down syndrome with a burning passion for the theatre. Each afternoon, with the collusion of Mr. De Angelis, he sneaks into the small-town theatre in order to witness rehearsals featuring Mattia as he prepares for a show inspired by Marcel Marceau. The young Mattia, however, is hiding a secret that no one suspects. \n"
     ]
    }
   ],
   "source": [
    "compareEnsemblePred(HAN_sum, USE_HAN_sum, USE_FC_sum, y_test, test_set)"
   ]
  },
  {
   "cell_type": "code",
   "execution_count": 113,
   "metadata": {},
   "outputs": [
    {
     "name": "stdout",
     "output_type": "stream",
     "text": [
      "Record 2607\n",
      "Predicted:\n",
      "HAN:\n",
      "Drama\n",
      "0.5823805809020997\n",
      "USE + HAN:\n",
      "Drama\n",
      "0.6484965324401856\n",
      "USE + FC:\n",
      "Drama\n",
      "0.6357914447784424\n",
      "\n",
      "Actual:\n",
      "Drama\n",
      "\n",
      "Plot:\n",
      "Paco Chavez's life is careless and charming. It's a life of illicit drugs and a forbidden love affair he carries with Lucia, his former high school sweetheart, now married to another man. One night, Paco and his younger brother Luis, enter their parent's home to steal a porcelain horse to pawn in order to score more drugs. Their father catches them and a fight ensues. The consequences of that fight will haunt both brothers forever. \n"
     ]
    }
   ],
   "source": [
    "compareEnsemblePred(HAN_sum, USE_HAN_sum, USE_FC_sum, y_test, test_set)"
   ]
  },
  {
   "cell_type": "code",
   "execution_count": 114,
   "metadata": {},
   "outputs": [
    {
     "name": "stdout",
     "output_type": "stream",
     "text": [
      "Record 11170\n",
      "Predicted:\n",
      "HAN:\n",
      "Action\n",
      "0.726656150817871\n",
      "Crime\n",
      "0.7168906211853028\n",
      "Thriller\n",
      "0.6963237762451172\n",
      "USE + HAN:\n",
      "Drama\n",
      "0.516370439529419\n",
      "Thriller\n",
      "0.6439319610595703\n",
      "USE + FC:\n",
      "Drama\n",
      "0.588694715499878\n",
      "\n",
      "Actual:\n",
      "Thriller\n",
      "\n",
      "Plot:\n",
      "Money makes the world go round for Jett Gavallon, a high-tech entrepreneur who's on the brink of bringing a Russian telecom startup to market with an IPO worth billions. But when his best friend and second-in-command disappears after Gavallon sends him to Moscow to make sure the new company is on the up and up, Jett begins to have second thoughts, which are exactly what his Russian partners can't afford. Beset by an FBI task force looking into Mercury Broadband's financing by Russian mobsters, rumors of fraud being circulated by a Drudge-like online financial gossip columnist, and the discovery that his former lover is not who he thought she was, Jett puts his fortune on the line in a desperate attempt to save his company, and ultimately, his life. An exciting, fast-paced adventure by an author who puts his experience in international banking to work in the service of this carefully plotted thriller. \n"
     ]
    }
   ],
   "source": [
    "compareEnsemblePred(HAN_sum, USE_HAN_sum, USE_FC_sum, y_test, test_set)"
   ]
  },
  {
   "cell_type": "code",
   "execution_count": 74,
   "metadata": {},
   "outputs": [
    {
     "name": "stdout",
     "output_type": "stream",
     "text": [
      "Record 1600\n",
      "Predicted:\n",
      "HAN:\n",
      "Action\n",
      "0.5134472370147705\n",
      "Adventure\n",
      "0.5167732238769531\n",
      "Drama\n",
      "0.686297607421875\n",
      "USE + HAN:\n",
      "Drama\n",
      "0.50898756980896\n",
      "Family\n",
      "0.5164819717407226\n",
      "USE + FC:\n",
      "Family\n",
      "0.6193256855010987\n",
      "\n",
      "Actual:\n",
      "Comedy\n",
      "\n",
      "Plot:\n",
      "Jimmy Bancroft, a fighter pilot, who is recovering from injuries sustained during the Battle of Britain, and his nurse Hazel Broome, come across a pair of rare birds nestling in a field. After a run in with the army, and a couple of thieves, they, with the cooperation of the village people and the Ornithology Society, help the eggs to hatch. A wonderful look at life in a small village, during World War II. \n"
     ]
    }
   ],
   "source": [
    "compareEnsemblePred(HAN_sum, USE_HAN_sum, USE_FC_sum, y_test, test_set)"
   ]
  },
  {
   "cell_type": "code",
   "execution_count": 82,
   "metadata": {},
   "outputs": [
    {
     "name": "stdout",
     "output_type": "stream",
     "text": [
      "Record 18132\n",
      "Predicted:\n",
      "HAN:\n",
      "Action\n",
      "0.8316841125488281\n",
      "Sci-Fi\n",
      "0.9772924423217774\n",
      "USE + HAN:\n",
      "Sci-Fi\n",
      "0.9067022323608398\n",
      "USE + FC:\n",
      "Sci-Fi\n",
      "0.6863724708557128\n",
      "\n",
      "Actual:\n",
      "Sci-Fi\n",
      "\n",
      "Plot:\n",
      "It is the year 2037 and the world has seen a decade of global peace and prosperity. One day, one moment changed everything. What was once a beaming society, is now no more than ash and rumble. The nuclear holocaust spared a few, Dallas and his wife Mary were among those that survived the end of the world. Just as this husband lost the life he knew, his only companion in this Hell on earth is taken by men that police the New World Order, where debauchery and mayhem runs rapid. Dallas sets out on a quest to rescue his wife while traversing an apocalyptic landscape in the wild wild West, composed of blood thirsty cannibals and radiation infected sub-humans. What lies before him is an impossible task, but he is determined and willing to do anything and everything to be by his wife's side. This journey will take him to his limits, this journey will take him to Dirt City. \n"
     ]
    }
   ],
   "source": [
    "compareEnsemblePred(HAN_sum, USE_HAN_sum, USE_FC_sum, y_test, test_set)"
   ]
  },
  {
   "cell_type": "code",
   "execution_count": 117,
   "metadata": {},
   "outputs": [
    {
     "name": "stdout",
     "output_type": "stream",
     "text": [
      "0.90159565\n"
     ]
    }
   ],
   "source": [
    "cosine_sim = np.sum(HAN_sum*USE_HAN_sum, axis = 1)/(np.linalg.norm(HAN_sum, axis = 1)*np.linalg.norm(USE_HAN_sum, axis = 1))\n",
    "average_cosine_sim = np.average(cosine_sim)\n",
    "print(average_cosine_sim)"
   ]
  },
  {
   "cell_type": "code",
   "execution_count": 118,
   "metadata": {},
   "outputs": [
    {
     "name": "stdout",
     "output_type": "stream",
     "text": [
      "0.8868555\n"
     ]
    }
   ],
   "source": [
    "cosine_sim = np.sum(HAN_sum*USE_FC_sum, axis = 1)/(np.linalg.norm(HAN_sum, axis = 1)*np.linalg.norm(USE_FC_sum, axis = 1))\n",
    "average_cosine_sim = np.average(cosine_sim)\n",
    "print(average_cosine_sim)"
   ]
  },
  {
   "cell_type": "code",
   "execution_count": 119,
   "metadata": {},
   "outputs": [
    {
     "name": "stdout",
     "output_type": "stream",
     "text": [
      "0.9643225\n"
     ]
    }
   ],
   "source": [
    "cosine_sim = np.sum(USE_FC_sum*USE_HAN_sum, axis = 1)/(np.linalg.norm(USE_FC_sum, axis = 1)*np.linalg.norm(USE_HAN_sum, axis = 1))\n",
    "average_cosine_sim = np.average(cosine_sim)\n",
    "print(average_cosine_sim)"
   ]
  },
  {
   "cell_type": "code",
   "execution_count": 70,
   "metadata": {},
   "outputs": [],
   "source": [
    "def indiv_class_scores_ensemble_of_ensembles(HAN_sum, USE_HAN_sum, USE_FC_sum, y_true, threshold):\n",
    "    \"\"\"y_pred is a dictionary of predictions while\n",
    "        y_true is an array of predictions for the dev or test set\"\"\"\n",
    "    \n",
    "    list_of_predictions = []\n",
    "    \n",
    "    for preds in list(HAN_sum.values()):\n",
    "        max_pred = np.array(preds.max(axis = 1)).reshape(-1,1)\n",
    "    \n",
    "        #Cant predict 0 for all classes - pick max val as label if all preds below threshold\n",
    "        for i in range(len(max_pred)): \n",
    "            if max_pred[i] > threshold:\n",
    "                max_pred[i] = threshold\n",
    "            else:\n",
    "                pass\n",
    "        list_of_predictions.append(preds >= max_pred)\n",
    "    \n",
    "    voted_preds = sum(list_of_predictions)\n",
    "    \n",
    "    max_voted_preds = np.array(voted_preds.max(axis = 1)).reshape(-1,1)\n",
    "    \n",
    "    for i in range(len(max_voted_preds)): \n",
    "        if max_voted_preds[i] > 2.5:\n",
    "            max_voted_preds[i] = 2.5\n",
    "        else:\n",
    "            pass\n",
    "    \n",
    "    y_pred_HAN = np.where(voted_preds >= max_voted_preds, 1, 0) #3 for yes is needed to predict a class\n",
    "    \n",
    "        \n",
    "    list_of_predictions = []\n",
    "    \n",
    "    for preds in list(USE_HAN_sum.values()):\n",
    "        max_pred = np.array(preds.max(axis = 1)).reshape(-1,1)\n",
    "    \n",
    "        #Cant predict 0 for all classes - pick max val as label if all preds below threshold\n",
    "        for i in range(len(max_pred)): \n",
    "            if max_pred[i] > threshold:\n",
    "                max_pred[i] = threshold\n",
    "            else:\n",
    "                pass\n",
    "        list_of_predictions.append(preds >= max_pred)\n",
    "    \n",
    "    voted_preds = sum(list_of_predictions)\n",
    "    \n",
    "    max_voted_preds = np.array(voted_preds.max(axis = 1)).reshape(-1,1)\n",
    "    \n",
    "    for i in range(len(max_voted_preds)): \n",
    "        if max_voted_preds[i] > 2.5:\n",
    "            max_voted_preds[i] = 2.5\n",
    "        else:\n",
    "            pass\n",
    "    \n",
    "    y_pred_USE_HAN = np.where(voted_preds >= max_voted_preds, 1, 0) #3 for yes is needed to predict a cla\n",
    "    \n",
    "        \n",
    "    list_of_predictions = []\n",
    "    \n",
    "    for preds in list(USE_FC_sum.values()):\n",
    "        max_pred = np.array(preds.max(axis = 1)).reshape(-1,1)\n",
    "    \n",
    "        #Cant predict 0 for all classes - pick max val as label if all preds below threshold\n",
    "        for i in range(len(max_pred)): \n",
    "            if max_pred[i] > threshold:\n",
    "                max_pred[i] = threshold\n",
    "            else:\n",
    "                pass\n",
    "        list_of_predictions.append(preds >= max_pred)\n",
    "    \n",
    "    voted_preds = sum(list_of_predictions)\n",
    "    \n",
    "    max_voted_preds = np.array(voted_preds.max(axis = 1)).reshape(-1,1)\n",
    "    \n",
    "    for i in range(len(max_voted_preds)): \n",
    "        if max_voted_preds[i] > 2.5:\n",
    "            max_voted_preds[i] = 2.5\n",
    "        else:\n",
    "            pass\n",
    "    \n",
    "    y_pred_USE_FC = np.where(voted_preds >= max_voted_preds, 1, 0) #3 for yes is needed to predict a cla\n",
    "    \n",
    "    y_pred_sum = (y_pred_HAN + y_pred_USE_HAN + y_pred_USE_FC)\n",
    "    \n",
    "    y_pred = np.where(y_pred_sum >=1.5, 1, 0)\n",
    "    \n",
    "    for i in range(len(mlb.classes_)):\n",
    "        score = precision_score(y_true[:,i], y_pred[:,i])\n",
    "        print(\"The precision for {} is {}\".format(mlb.classes_[i], score))\n",
    "    \n",
    "    for i in range(len(mlb.classes_)):  \n",
    "        score = recall_score(y_true[:,i], y_pred[:,i])\n",
    "        print(\"The recall for {} is {}\".format(mlb.classes_[i], score))\n",
    "        \n",
    "    for i in range(len(mlb.classes_)): \n",
    "        score = f1_score(y_true[:,i], y_pred[:,i])\n",
    "        print(\"The f1 for {} is {}\".format(mlb.classes_[i], score))\n",
    "    \n",
    "    micro_precision = precision_score(y_true, y_pred, average = 'micro')\n",
    "    weighted_macro_precision = precision_score(y_true, y_pred, average = 'weighted')\n",
    "    micro_recall = recall_score(y_true, y_pred, average = 'micro')\n",
    "    weighted_macro_recall = recall_score(y_true, y_pred, average = 'weighted')\n",
    "    micro_f1 = f1_score(y_true, y_pred, average = 'micro')\n",
    "    weighted_macro_f1 = f1_score(y_true, y_pred, average = 'weighted')\n",
    "    print(\"The micro precision is\", micro_precision)\n",
    "    print(\"The weighted macro precision is\", weighted_macro_precision)\n",
    "    print(\"The micro recall is\", micro_recall)\n",
    "    print(\"The weighted macro recall is\", weighted_macro_recall)\n",
    "    print(\"The micro f1 is\", micro_f1)\n",
    "    print(\"The weighted macro f1 is\", weighted_macro_f1)\n",
    "    \n",
    "    num_preds = y_pred.sum(axis = 1)\n",
    "    avg_genre_per_pred = np.average(num_preds)\n",
    "    median_genre_per_pred = np.median(num_preds)\n",
    "    print(\"The average number of genres per movie is\", avg_genre_per_pred)\n",
    "    print(\"The median number of genres per movie is\", median_genre_per_pred)\n",
    "        \n",
    "    #return list_of_predictions"
   ]
  },
  {
   "cell_type": "code",
   "execution_count": 71,
   "metadata": {},
   "outputs": [
    {
     "name": "stdout",
     "output_type": "stream",
     "text": [
      "The precision for Action is 0.5368754956383822\n",
      "The precision for Adventure is 0.4700906344410876\n",
      "The precision for Comedy is 0.6975735175960148\n",
      "The precision for Crime is 0.4175392670157068\n",
      "The precision for Drama is 0.7109765329295988\n",
      "The precision for Family is 0.43192692474989125\n",
      "The precision for Horror is 0.5964556962025317\n",
      "The precision for Romance is 0.3910564225690276\n",
      "The precision for Sci-Fi is 0.5929319371727748\n",
      "The precision for Thriller is 0.4762652020400157\n",
      "The recall for Action is 0.557660626029654\n",
      "The recall for Adventure is 0.429123000551572\n",
      "The recall for Comedy is 0.6132222065263455\n",
      "The recall for Crime is 0.5325542570951586\n",
      "The recall for Drama is 0.7988432423237221\n",
      "The recall for Family is 0.49874434957307884\n",
      "The recall for Horror is 0.6097308488612836\n",
      "The recall for Romance is 0.4643620812544547\n",
      "The recall for Sci-Fi is 0.6574746008708273\n",
      "The recall for Thriller is 0.42050571527537234\n",
      "The f1 for Action is 0.547070707070707\n",
      "The f1 for Adventure is 0.4486735870818916\n",
      "The f1 for Comedy is 0.6526838069463239\n",
      "The f1 for Crime is 0.46808510638297873\n",
      "The f1 for Drama is 0.7523531061000521\n",
      "The f1 for Family is 0.46293706293706294\n",
      "The f1 for Horror is 0.6030202201177375\n",
      "The f1 for Romance is 0.4245682632779407\n",
      "The f1 for Sci-Fi is 0.6235375086028906\n",
      "The f1 for Thriller is 0.4466519499632083\n",
      "The micro precision is 0.5964081415458294\n",
      "The weighted macro precision is 0.5995556260978314\n",
      "The micro recall is 0.6249581799933088\n",
      "The weighted macro recall is 0.6249581799933088\n",
      "The micro f1 is 0.6103494751746015\n",
      "The weighted macro f1 is 0.609887535821354\n",
      "The average number of genres per movie is 1.6755828986670234\n",
      "The median number of genres per movie is 2.0\n"
     ]
    }
   ],
   "source": [
    "indiv_class_scores_ensemble_of_ensembles(HAN_preds, USE_HAN_preds, USE_FC_preds, y_test, 0.5)"
   ]
  },
  {
   "cell_type": "code",
   "execution_count": null,
   "metadata": {},
   "outputs": [],
   "source": []
  }
 ],
 "metadata": {
  "kernelspec": {
   "display_name": "Python 3",
   "language": "python",
   "name": "python3"
  },
  "language_info": {
   "codemirror_mode": {
    "name": "ipython",
    "version": 3
   },
   "file_extension": ".py",
   "mimetype": "text/x-python",
   "name": "python",
   "nbconvert_exporter": "python",
   "pygments_lexer": "ipython3",
   "version": "3.6.5"
  }
 },
 "nbformat": 4,
 "nbformat_minor": 2
}
