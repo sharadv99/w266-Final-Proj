{
 "cells": [
  {
   "cell_type": "code",
   "execution_count": 55,
   "metadata": {},
   "outputs": [],
   "source": [
    "import numpy as np\n",
    "import pandas as pd\n",
    "#import dill as pkl\n",
    "from matplotlib import pyplot as plt\n",
    "from collections import defaultdict\n",
    "import nltk\n",
    "import re\n",
    "import itertools\n",
    "import unittest\n",
    "import RegexTester\n",
    "%matplotlib inline"
   ]
  },
  {
   "cell_type": "markdown",
   "metadata": {},
   "source": [
    "# Raw Data - will not use"
   ]
  },
  {
   "cell_type": "code",
   "execution_count": 2,
   "metadata": {
    "collapsed": true
   },
   "outputs": [],
   "source": [
    "data1 = pd.read_csv('genres.csv', header=None, encoding = \"ISO-8859-1\")\n",
    "data2 = pd.read_csv('genres2.csv', header=None, encoding = \"ISO-8859-1\")\n",
    "data3 = pd.read_csv('genres3.csv', header=None, encoding = \"ISO-8859-1\")\n",
    "\n",
    "data = pd.concat([data1, data2, data3])"
   ]
  },
  {
   "cell_type": "code",
   "execution_count": 34,
   "metadata": {
    "collapsed": true
   },
   "outputs": [],
   "source": [
    "data = data.reset_index(drop=True)\n",
    "data.groupby(1)[0].nunique()"
   ]
  },
  {
   "cell_type": "markdown",
   "metadata": {},
   "source": [
    "# ACTUAL Data"
   ]
  },
  {
   "cell_type": "markdown",
   "metadata": {},
   "source": [
    "## Read in train and test txt files"
   ]
  },
  {
   "cell_type": "code",
   "execution_count": 3,
   "metadata": {},
   "outputs": [],
   "source": [
    "train_genres = open(\"train_genres.txt\", encoding=\"utf-8\").read().split('\\n')\n",
    "train_plots = open(\"train_plots.txt\", encoding=\"utf-8\").read().split('\\n')"
   ]
  },
  {
   "cell_type": "code",
   "execution_count": 4,
   "metadata": {},
   "outputs": [],
   "source": [
    "train_data = pd.DataFrame({\"genres\": train_genres, \"plots\": train_plots})"
   ]
  },
  {
   "cell_type": "code",
   "execution_count": 5,
   "metadata": {},
   "outputs": [
    {
     "data": {
      "text/plain": [
       "204682"
      ]
     },
     "execution_count": 5,
     "metadata": {},
     "output_type": "execute_result"
    }
   ],
   "source": [
    "len(train_data)"
   ]
  },
  {
   "cell_type": "code",
   "execution_count": 6,
   "metadata": {},
   "outputs": [
    {
     "data": {
      "text/plain": [
       "['Adventure', 'Animation', 'Comedy', '']"
      ]
     },
     "execution_count": 6,
     "metadata": {},
     "output_type": "execute_result"
    }
   ],
   "source": [
    "train_data.loc[4][\"genres\"].split(\" \")"
   ]
  },
  {
   "cell_type": "code",
   "execution_count": 7,
   "metadata": {},
   "outputs": [],
   "source": [
    "test_genres = open(\"test_genres.txt\", encoding=\"utf-8\").read().split('\\n')\n",
    "test_plots = open(\"test_plots.txt\", encoding=\"utf-8\").read().split('\\n')"
   ]
  },
  {
   "cell_type": "code",
   "execution_count": 8,
   "metadata": {},
   "outputs": [],
   "source": [
    "test_data = pd.DataFrame({\"genres\": test_genres, \"plots\": test_plots})"
   ]
  },
  {
   "cell_type": "code",
   "execution_count": 9,
   "metadata": {},
   "outputs": [
    {
     "data": {
      "text/plain": [
       "51171"
      ]
     },
     "execution_count": 9,
     "metadata": {},
     "output_type": "execute_result"
    }
   ],
   "source": [
    "len(test_data)"
   ]
  },
  {
   "cell_type": "code",
   "execution_count": 10,
   "metadata": {},
   "outputs": [],
   "source": [
    "#Concat dataframes\n",
    "full_data = pd.concat([train_data, test_data], ignore_index= True)"
   ]
  },
  {
   "cell_type": "markdown",
   "metadata": {},
   "source": [
    "# BRIEF EDA"
   ]
  },
  {
   "cell_type": "code",
   "execution_count": 11,
   "metadata": {},
   "outputs": [],
   "source": [
    "#Convert genres to list for easier analysis\n",
    "def list_genres(row):\n",
    "    return row[\"genres\"].split(\" \")[:-1]"
   ]
  },
  {
   "cell_type": "code",
   "execution_count": 12,
   "metadata": {},
   "outputs": [],
   "source": [
    "full_data[\"list_genres\"] = full_data.apply(lambda row: list_genres(row), axis = 1)"
   ]
  },
  {
   "cell_type": "code",
   "execution_count": 13,
   "metadata": {},
   "outputs": [],
   "source": [
    "count_dict = defaultdict(int)"
   ]
  },
  {
   "cell_type": "code",
   "execution_count": 14,
   "metadata": {},
   "outputs": [],
   "source": [
    "#Count num of movies per genre\n",
    "def dict_count(row):\n",
    "    global count_dict\n",
    "    for genre in row[\"list_genres\"]:\n",
    "        count_dict[genre] += 1"
   ]
  },
  {
   "cell_type": "code",
   "execution_count": 15,
   "metadata": {},
   "outputs": [],
   "source": [
    "#RUN ONLY ONCE!!!\n",
    "count_val_series = full_data.apply(lambda row: dict_count(row), axis = 1)"
   ]
  },
  {
   "cell_type": "code",
   "execution_count": 16,
   "metadata": {},
   "outputs": [
    {
     "name": "stdout",
     "output_type": "stream",
     "text": [
      "27.88% of the movies are Comedy\n",
      "45.84% of the movies are Drama\n",
      "2.37% of the movies are Western\n",
      "7.00% of the movies are Adventure\n",
      "6.21% of the movies are Animation\n",
      "9.71% of the movies are Action\n",
      "11.18% of the movies are Thriller\n",
      "8.08% of the movies are Family\n",
      "11.01% of the movies are Romance\n",
      "5.89% of the movies are Fantasy\n",
      "7.77% of the movies are Horror\n",
      "4.77% of the movies are History\n",
      "4.95% of the movies are Music\n",
      "5.60% of the movies are Sci-Fi\n",
      "2.85% of the movies are War\n",
      "7.27% of the movies are Crime\n",
      "2.23% of the movies are Musical\n",
      "5.18% of the movies are Biography\n",
      "5.40% of the movies are Mystery\n",
      "2.37% of the movies are Sport\n"
     ]
    },
    {
     "data": {
      "text/plain": [
       "[Text(0,0,'Comedy'),\n",
       " Text(0,0,'Drama'),\n",
       " Text(0,0,'Western'),\n",
       " Text(0,0,'Adventure'),\n",
       " Text(0,0,'Animation'),\n",
       " Text(0,0,'Action'),\n",
       " Text(0,0,'Thriller'),\n",
       " Text(0,0,'Family'),\n",
       " Text(0,0,'Romance'),\n",
       " Text(0,0,'Fantasy'),\n",
       " Text(0,0,'Horror'),\n",
       " Text(0,0,'History'),\n",
       " Text(0,0,'Music'),\n",
       " Text(0,0,'Sci-Fi'),\n",
       " Text(0,0,'War'),\n",
       " Text(0,0,'Crime'),\n",
       " Text(0,0,'Musical'),\n",
       " Text(0,0,'Biography'),\n",
       " Text(0,0,'Mystery'),\n",
       " Text(0,0,'Sport')]"
      ]
     },
     "execution_count": 16,
     "metadata": {},
     "output_type": "execute_result"
    },
    {
     "data": {
      "image/png": "[encoded data removed]",
      "text/plain": [
       "<Figure size 432x288 with 1 Axes>"
      ]
     },
     "metadata": {},
     "output_type": "display_data"
    }
   ],
   "source": [
    "#Count num of movies per genre\n",
    "for key,val in count_dict.items():\n",
    "    print(\"{:0.2f}% of the movies are {}\".format(100*val/len(full_data), key))\n",
    "\n",
    "\n",
    "\n",
    "fig, ax = plt.subplots(1,1) \n",
    "ax.bar(range(len(count_dict.keys())), list(count_dict.values()))\n",
    "ax.set_xticks(range(len(count_dict.keys())))\n",
    "ax.set_xticklabels(list(count_dict.keys()), rotation='vertical', fontsize=18)\n",
    "\n"
   ]
  },
  {
   "cell_type": "code",
   "execution_count": 17,
   "metadata": {},
   "outputs": [
    {
     "name": "stdout",
     "output_type": "stream",
     "text": [
      "Avg num of genres: 1.835858872086706\n",
      "Median num of genres: 1.0\n",
      "Max number of genres: 11\n",
      "Min number of genres: 1\n"
     ]
    },
    {
     "data": {
      "text/plain": [
       "(array([1.29306e+05, 6.44310e+04, 4.38940e+04, 1.29500e+04, 3.96000e+03,\n",
       "        1.01100e+03, 2.36000e+02, 5.20000e+01, 6.00000e+00, 7.00000e+00]),\n",
       " array([ 1.,  2.,  3.,  4.,  5.,  6.,  7.,  8.,  9., 10., 11.]),\n",
       " <a list of 10 Patch objects>)"
      ]
     },
     "execution_count": 17,
     "metadata": {},
     "output_type": "execute_result"
    },
    {
     "data": {
      "image/png": "[encoded data removed]",
      "text/plain": [
       "<Figure size 432x288 with 1 Axes>"
      ]
     },
     "metadata": {},
     "output_type": "display_data"
    }
   ],
   "source": [
    "#Number of genres per movie\n",
    "genre_labels = full_data[\"list_genres\"].str.len()\n",
    "print(\"Avg num of genres:\", np.mean(genre_labels))\n",
    "print(\"Median num of genres:\", np.median(genre_labels))\n",
    "print(\"Max number of genres:\", np.max(genre_labels))\n",
    "print(\"Min number of genres:\", np.min(genre_labels))\n",
    "\n",
    "\n",
    "plt.hist(genre_labels)"
   ]
  },
  {
   "cell_type": "markdown",
   "metadata": {},
   "source": [
    "# Preprocessing"
   ]
  },
  {
   "cell_type": "code",
   "execution_count": 18,
   "metadata": {},
   "outputs": [
    {
     "name": "stdout",
     "output_type": "stream",
     "text": [
      "[nltk_data] Downloading package stopwords to\n",
      "[nltk_data]     /home/akhil.patel1896/nltk_data...\n",
      "[nltk_data]   Unzipping corpora/stopwords.zip.\n"
     ]
    }
   ],
   "source": [
    "#Explore removing stopwords\n",
    "nltk.download('stopwords')\n",
    "stop = nltk.corpus.stopwords.words('english')\n",
    "stop = [word.replace(\"'\",\"\") for word in stop]"
   ]
  },
  {
   "cell_type": "code",
   "execution_count": 229,
   "metadata": {},
   "outputs": [],
   "source": [
    "def tokenize(plots):\n",
    "    \n",
    "    def re_sub(pattern, replace):\n",
    "        return re.sub(pattern, replace, plots)\n",
    "    \n",
    "    plots = plots.lower() #lowercase\n",
    "    plots = re_sub(r\"[-+]?[.\\d]*[\\d]+[:,/.\\d]*\", \"<number>\") #generic tag for numbers\n",
    "    plots = re_sub(r\"([!?.]){2,}\", r\"\\1\") #Convert multiple punctuations to the last punctuation mark\n",
    "    plots = plots.replace('-',' ') #separating hyphenated words\n",
    "    plots = re_sub(r'(?<!\\w)([a-zA-Z])\\.', r'\\1') #remove periods from abbreviations\n",
    "    plots = re_sub('[^\\w\\s\\.\\<>\\?\\!]','') #remove punctuation besides sentence completers and <> for generic number\n",
    "    plots = plots.lower().split()\n",
    "    output = list(itertools.chain(*[re.split(r'([^\\w<>])', x) for x in plots if x not in stop])) #split sentence enders and remove stopwords\n",
    "    return [item for item in output if item != ''] \n"
   ]
  },
  {
   "cell_type": "code",
   "execution_count": 56,
   "metadata": {},
   "outputs": [],
   "source": [
    "def run_tests(test_module, test_names, reload=True):\n",
    "    import unittest\n",
    "    if reload:\n",
    "        import importlib\n",
    "        importlib.reload(test_module)\n",
    "    unittest.TextTestRunner(verbosity=2).run(unittest.TestLoader().loadTestsFromNames(test_names, test_module))"
   ]
  },
  {
   "cell_type": "code",
   "execution_count": 72,
   "metadata": {},
   "outputs": [
    {
     "name": "stderr",
     "output_type": "stream",
     "text": [
      "test_currency (RegexTester.NumberRegex) ... ok\n",
      "test_decimalInSentence (RegexTester.NumberRegex) ... ok\n",
      "test_decimalWithoutLeadingZeroInSentence (RegexTester.NumberRegex) ... ok\n",
      "test_fractionInSentence (RegexTester.NumberRegex) ... ok\n",
      "test_numberInSentence (RegexTester.NumberRegex) ... ok\n",
      "test_timeStamp (RegexTester.NumberRegex) ... ok\n",
      "test_withNegativeSign (RegexTester.NumberRegex) ... ok\n",
      "test_withPositiveSign (RegexTester.NumberRegex) ... ok\n",
      "\n",
      "----------------------------------------------------------------------\n",
      "Ran 8 tests in 0.010s\n",
      "\n",
      "OK\n",
      "test_ellipsis (RegexTester.RepeatedPunctuationRegex) ... ok\n",
      "test_exclamation (RegexTester.RepeatedPunctuationRegex) ... ok\n",
      "test_questionMark (RegexTester.RepeatedPunctuationRegex) ... ok\n",
      "\n",
      "----------------------------------------------------------------------\n",
      "Ran 3 tests in 0.004s\n",
      "\n",
      "OK\n",
      "test_hyphen (RegexTester.HyphenRegex) ... ok\n",
      "\n",
      "----------------------------------------------------------------------\n",
      "Ran 1 test in 0.001s\n",
      "\n",
      "OK\n",
      "test_abbrev (RegexTester.AbbreviationRegex) ... ok\n",
      "test_newSentence (RegexTester.AbbreviationRegex) ... ok\n",
      "test_newSentenceNoSpace (RegexTester.AbbreviationRegex) ... ok\n",
      "test_newSentenceNoSpaceLowerCase (RegexTester.AbbreviationRegex) ... ok\n",
      "\n",
      "----------------------------------------------------------------------\n",
      "Ran 4 tests in 0.006s\n",
      "\n",
      "OK\n",
      "test_french (RegexTester.PunctuationRemovalRegex) ... ok\n",
      "test_punctuation (RegexTester.PunctuationRemovalRegex) ... ok\n",
      "test_underscore (RegexTester.PunctuationRemovalRegex) ... ok\n",
      "\n",
      "----------------------------------------------------------------------\n",
      "Ran 3 tests in 0.004s\n",
      "\n",
      "OK\n"
     ]
    }
   ],
   "source": [
    "run_tests(RegexTester, [\"NumberRegex\"])\n",
    "run_tests(RegexTester, [\"RepeatedPunctuationRegex\"])\n",
    "run_tests(RegexTester, [\"HyphenRegex\"])\n",
    "run_tests(RegexTester, [\"AbbreviationRegex\"])\n",
    "run_tests(RegexTester, [\"PunctuationRemovalRegex\"])"
   ]
  },
  {
   "cell_type": "code",
   "execution_count": 213,
   "metadata": {
    "scrolled": true
   },
   "outputs": [
    {
     "name": "stdout",
     "output_type": "stream",
     "text": [
      "['hello', 'dear', '<number><number>', 'hello', '?', '<number>', 'aja', 'what', '?']\n",
      "\n",
      "\n",
      "A stranded theatrical troupe manages to get back home through the leading man finding a glass eye. An idea strikes him. He buys a bag of walnuts and the comedian later also buys a bag. The leading man then goes to the fruit dealer, offering him $100 for the return of his glass eye, and saying he will return later in view of his finding it. The comedian enters, stating he found a glass eye in the bag of walnuts he bought. The fruit seller pays him $50 for it. He is still waiting for the $100 and the troupe is back in New York. \n",
      "\n",
      "\n",
      "['stranded', 'theatrical', 'troupe', 'manages', 'get', 'back', 'home', 'leading', 'man', 'finding', 'glass', 'eye', '.', 'idea', 'strikes', 'him', '.', 'buys', 'bag', 'walnuts', 'comedian', 'later', 'also', 'buys', 'bag', '.', 'leading', 'man', 'goes', 'fruit', 'dealer', 'offering', '<number>', 'return', 'glass', 'eye', 'saying', 'return', 'later', 'view', 'finding', 'it', '.', 'comedian', 'enters', 'stating', 'found', 'glass', 'eye', 'bag', 'walnuts', 'bought', '.', 'fruit', 'seller', 'pays', '<number>', 'it', '.', 'still', 'waiting', '<number>', 'troupe', 'back', 'new', 'york', '.']\n"
     ]
    }
   ],
   "source": [
    "#Test Tokenizer\n",
    "print(tokenize(\"Hello, MYself dear $$20-30 hello? 2,00.0 A.J.A what??\"))\n",
    "print(\"\\n\")\n",
    "print(full_data[\"plots\"][0])\n",
    "print(\"\\n\")\n",
    "print(tokenize(full_data[\"plots\"][0]))"
   ]
  },
  {
   "cell_type": "code",
   "execution_count": 231,
   "metadata": {},
   "outputs": [],
   "source": [
    "full_data[\"plots_processed\"] = full_data[\"plots\"].apply(lambda row: tokenize(row))"
   ]
  },
  {
   "cell_type": "code",
   "execution_count": 232,
   "metadata": {},
   "outputs": [
    {
     "data": {
      "text/plain": [
       "0    [stranded, theatrical, troupe, manages, get, b...\n",
       "1    [waiting, bus, stop, woman, intends, marry, ja...\n",
       "2    [dissatisfied, ranch, hand, becomes, bounty, h...\n",
       "3    [policeman, lasse, rehabilitates, young, priso...\n",
       "4    [patricia, isobelle, osullivan, arrives, st, ....\n",
       "Name: plots_processed, dtype: object"
      ]
     },
     "execution_count": 232,
     "metadata": {},
     "output_type": "execute_result"
    }
   ],
   "source": [
    "full_data[\"plots_processed\"].head()"
   ]
  },
  {
   "cell_type": "code",
   "execution_count": 217,
   "metadata": {
    "collapsed": true
   },
   "outputs": [],
   "source": [
    "x = pkl.load(open(\"vocab060000.pkl\", \"rb\"))"
   ]
  },
  {
   "cell_type": "markdown",
   "metadata": {},
   "source": [
    "# Load Word Embeddings"
   ]
  },
  {
   "cell_type": "code",
   "execution_count": 228,
   "metadata": {
    "collapsed": true
   },
   "outputs": [],
   "source": [
    "def loadEmbed(file):\n",
    "    print(\"Loading Embeddings\")\n",
    "    f = open(file, 'r', encoding='utf-8')\n",
    "    model = {}\n",
    "    status_every = 100000\n",
    "    for i, line in enumerate(f):\n",
    "        if i%status_every == 0:\n",
    "            print('Processing line {:,}'.format(i))\n",
    "        splitLine = line.split()\n",
    "        word = splitLine[0]\n",
    "        embedding = np.array([float(val) for val in splitLine[1:]])\n",
    "        model[word] = embedding\n",
    "    print(\"Done.\",'{:,}'.format(len(model)),\" words loaded!\")\n",
    "    return model"
   ]
  },
  {
   "cell_type": "code",
   "execution_count": null,
   "metadata": {
    "collapsed": true
   },
   "outputs": [],
   "source": [
    "#TOO LARGE TO PUSH TO GIT, DOWNLOAD SEPARATLEY FROM https://github.com/stanfordnlp/GloVe\n",
    "glove_dir = './glove.6B/'\n",
    "glove_filename = 'glove.6B.50d.txt'\n",
    "glove_fullpath = glove_dir + glove_filename\n",
    "glove_dd = loadEmbed(glove_fullpath)"
   ]
  },
  {
   "cell_type": "markdown",
   "metadata": {},
   "source": [
    "**Can also use assignment 2 code for glove embeddings since we are using the same embeddings**"
   ]
  },
  {
   "cell_type": "code",
   "execution_count": null,
   "metadata": {
    "collapsed": true
   },
   "outputs": [],
   "source": []
  }
 ],
 "metadata": {
  "kernelspec": {
   "display_name": "Python 3",
   "language": "python",
   "name": "python3"
  },
  "language_info": {
   "codemirror_mode": {
    "name": "ipython",
    "version": 3
   },
   "file_extension": ".py",
   "mimetype": "text/x-python",
   "name": "python",
   "nbconvert_exporter": "python",
   "pygments_lexer": "ipython3",
   "version": "3.6.5"
  }
 },
 "nbformat": 4,
 "nbformat_minor": 2
}
