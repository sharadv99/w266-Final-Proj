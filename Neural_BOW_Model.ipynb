{
 "cells": [
  {
   "cell_type": "code",
   "execution_count": 1,
   "metadata": {},
   "outputs": [
    {
     "name": "stdout",
     "output_type": "stream",
     "text": [
      "Requirement already satisfied: Keras in /home/sharadv/anaconda3/lib/python3.6/site-packages (2.2.4)\n",
      "Requirement already satisfied: keras-preprocessing>=1.0.5 in /home/sharadv/anaconda3/lib/python3.6/site-packages (from Keras) (1.0.9)\n",
      "Requirement already satisfied: keras-applications>=1.0.6 in /home/sharadv/anaconda3/lib/python3.6/site-packages (from Keras) (1.0.7)\n",
      "Requirement already satisfied: six>=1.9.0 in /home/sharadv/anaconda3/lib/python3.6/site-packages (from Keras) (1.11.0)\n",
      "Requirement already satisfied: numpy>=1.9.1 in /home/sharadv/anaconda3/lib/python3.6/site-packages (from Keras) (1.14.3)\n",
      "Requirement already satisfied: scipy>=0.14 in /home/sharadv/anaconda3/lib/python3.6/site-packages (from Keras) (1.1.0)\n",
      "Requirement already satisfied: h5py in /home/sharadv/anaconda3/lib/python3.6/site-packages (from Keras) (2.7.1)\n",
      "Requirement already satisfied: pyyaml in /home/sharadv/anaconda3/lib/python3.6/site-packages (from Keras) (3.12)\n",
      "\u001b[33mYou are using pip version 18.1, however version 19.0.3 is available.\n",
      "You should consider upgrading via the 'pip install --upgrade pip' command.\u001b[0m\n"
     ]
    },
    {
     "name": "stderr",
     "output_type": "stream",
     "text": [
      "/home/sharadv/anaconda3/lib/python3.6/site-packages/h5py/__init__.py:36: FutureWarning: Conversion of the second argument of issubdtype from `float` to `np.floating` is deprecated. In future, it will be treated as `np.float64 == np.dtype(float).type`.\n",
      "  from ._conv import register_converters as _register_converters\n",
      "Using TensorFlow backend.\n"
     ]
    }
   ],
   "source": [
    "!pip install Keras\n",
    "import time\n",
    "import numpy as np\n",
    "import pandas as pd\n",
    "import operator\n",
    "#import dill as pkl\n",
    "import pickle as pkl\n",
    "from matplotlib import pyplot as plt\n",
    "from collections import defaultdict\n",
    "#import nltk\n",
    "#import re\n",
    "import itertools\n",
    "#import unittest\n",
    "#import RegexTester\n",
    "#from nltk.stem import WordNetLemmatizer\n",
    "#import nltk\n",
    "#from nltk.corpus import wordnet\n",
    "%matplotlib inline\n",
    "from keras.preprocessing.text import Tokenizer, text_to_word_sequence\n",
    "#from keras.preprocessing.sequence import pad_sequences\n",
    "#from keras.utils.np_utils import to_categorical\n",
    "#from keras.optimizers import SGD\n",
    "\n",
    "#from keras.layers import Embedding\n",
    "from keras.layers import Dense, Input, Flatten\n",
    "from keras.layers import Dropout\n",
    "from keras.models import Model, load_model, Sequential\n",
    "#from keras import backend as K\n",
    "from keras.engine.topology import Layer, InputSpec\n",
    "from keras import initializers, regularizers, optimizers\n",
    "#from keras.callbacks import History, CSVLogger\n",
    "from sklearn.model_selection import train_test_split\n",
    "from sklearn.preprocessing import MultiLabelBinarizer\n",
    "from sklearn.metrics import precision_score, recall_score, f1_score, precision_recall_curve, average_precision_score, auc"
   ]
  },
  {
   "cell_type": "markdown",
   "metadata": {},
   "source": [
    "# LOAD Pre-processed DATA from Analysis notebook"
   ]
  },
  {
   "cell_type": "code",
   "execution_count": 2,
   "metadata": {},
   "outputs": [],
   "source": [
    "full_data = pd.read_pickle(\"./full_data.pkl\")\n",
    "full_data = full_data.reset_index()"
   ]
  },
  {
   "cell_type": "markdown",
   "metadata": {},
   "source": [
    "# TRAIN/TEST SPLIT"
   ]
  },
  {
   "cell_type": "code",
   "execution_count": 3,
   "metadata": {},
   "outputs": [],
   "source": [
    "train_set, test_set = train_test_split(full_data, test_size=0.10, random_state=42)\n",
    "\n",
    "#Separate training set into train and dev. Roughly 80% of original data is train, 10% dev, 10% test\n",
    "train_set, dev_set = train_test_split(train_set, test_size=0.11, random_state=42)"
   ]
  },
  {
   "cell_type": "markdown",
   "metadata": {},
   "source": [
    "# Oversampling algorithm - multi-label splitting"
   ]
  },
  {
   "cell_type": "code",
   "execution_count": 30,
   "metadata": {},
   "outputs": [],
   "source": [
    "def oversample(df, max_records = 10):\n",
    "    max_per_genre = int(max_records/10)\n",
    "    new_df = pd.DataFrame(columns=list(df.columns))\n",
    "    genre_count = defaultdict(int)\n",
    "    record_count = 0\n",
    "    while record_count < max_records:\n",
    "        counter = 0\n",
    "        sample = df.sample(1, replace = True)\n",
    "        for i in list(itertools.chain(*sample[\"list_genres_consol\"])):\n",
    "            if genre_count[i] == max_per_genre:\n",
    "                df = df[~df[\"list_genres_consol\"].apply(lambda x: str(i) in x)]\n",
    "                continue\n",
    "            else:\n",
    "                counter += 1\n",
    "        if counter == len(sample[\"list_genres_consol\"]):\n",
    "            new_df = new_df.append(sample)\n",
    "            record_count += 1\n",
    "            for i in list(itertools.chain(*sample[\"list_genres_consol\"])):\n",
    "                genre_count[i] += 1\n",
    "    return new_df"
   ]
  },
  {
   "cell_type": "code",
   "execution_count": 28,
   "metadata": {},
   "outputs": [],
   "source": [
    "train_set = train_set[[\"flattened_tokens\", \"list_genres_consol\", \"binarized_labels\"]]"
   ]
  },
  {
   "cell_type": "code",
   "execution_count": 31,
   "metadata": {},
   "outputs": [
    {
     "ename": "KeyboardInterrupt",
     "evalue": "",
     "output_type": "error",
     "traceback": [
      "\u001b[0;31m---------------------------------------------------------------------------\u001b[0m",
      "\u001b[0;31mKeyboardInterrupt\u001b[0m                         Traceback (most recent call last)",
      "\u001b[0;32m<ipython-input-31-d41920bd7a25>\u001b[0m in \u001b[0;36m<module>\u001b[0;34m()\u001b[0m\n\u001b[1;32m      1\u001b[0m \u001b[0;31m#Generate sample\u001b[0m\u001b[0;34m\u001b[0m\u001b[0;34m\u001b[0m\u001b[0m\n\u001b[1;32m      2\u001b[0m \u001b[0mstart\u001b[0m \u001b[0;34m=\u001b[0m \u001b[0mtime\u001b[0m\u001b[0;34m.\u001b[0m\u001b[0mtime\u001b[0m\u001b[0;34m(\u001b[0m\u001b[0;34m)\u001b[0m\u001b[0;34m\u001b[0m\u001b[0m\n\u001b[0;32m----> 3\u001b[0;31m \u001b[0msample_df\u001b[0m \u001b[0;34m=\u001b[0m \u001b[0moversample\u001b[0m\u001b[0;34m(\u001b[0m\u001b[0mtrain_set\u001b[0m\u001b[0;34m,\u001b[0m \u001b[0mmax_records\u001b[0m\u001b[0;34m=\u001b[0m\u001b[0;36m50000\u001b[0m\u001b[0;34m)\u001b[0m\u001b[0;34m\u001b[0m\u001b[0m\n\u001b[0m\u001b[1;32m      4\u001b[0m \u001b[0mend\u001b[0m \u001b[0;34m=\u001b[0m \u001b[0mtime\u001b[0m\u001b[0;34m.\u001b[0m\u001b[0mtime\u001b[0m\u001b[0;34m(\u001b[0m\u001b[0;34m)\u001b[0m\u001b[0;34m\u001b[0m\u001b[0m\n\u001b[1;32m      5\u001b[0m \u001b[0mprint\u001b[0m\u001b[0;34m(\u001b[0m\u001b[0;34m\"Duration in seconds: \"\u001b[0m\u001b[0;34m,\u001b[0m \u001b[0mend\u001b[0m\u001b[0;34m-\u001b[0m\u001b[0mstart\u001b[0m\u001b[0;34m)\u001b[0m\u001b[0;34m\u001b[0m\u001b[0m\n",
      "\u001b[0;32m<ipython-input-30-baadfe5a736f>\u001b[0m in \u001b[0;36moversample\u001b[0;34m(df, max_records)\u001b[0m\n\u001b[1;32m     14\u001b[0m                 \u001b[0mcounter\u001b[0m \u001b[0;34m+=\u001b[0m \u001b[0;36m1\u001b[0m\u001b[0;34m\u001b[0m\u001b[0m\n\u001b[1;32m     15\u001b[0m         \u001b[0;32mif\u001b[0m \u001b[0mcounter\u001b[0m \u001b[0;34m==\u001b[0m \u001b[0mlen\u001b[0m\u001b[0;34m(\u001b[0m\u001b[0msample\u001b[0m\u001b[0;34m[\u001b[0m\u001b[0;34m\"list_genres_consol\"\u001b[0m\u001b[0;34m]\u001b[0m\u001b[0;34m)\u001b[0m\u001b[0;34m:\u001b[0m\u001b[0;34m\u001b[0m\u001b[0m\n\u001b[0;32m---> 16\u001b[0;31m             \u001b[0mnew_df\u001b[0m \u001b[0;34m=\u001b[0m \u001b[0mnew_df\u001b[0m\u001b[0;34m.\u001b[0m\u001b[0mappend\u001b[0m\u001b[0;34m(\u001b[0m\u001b[0msample\u001b[0m\u001b[0;34m)\u001b[0m\u001b[0;34m\u001b[0m\u001b[0m\n\u001b[0m\u001b[1;32m     17\u001b[0m             \u001b[0mrecord_count\u001b[0m \u001b[0;34m+=\u001b[0m \u001b[0;36m1\u001b[0m\u001b[0;34m\u001b[0m\u001b[0m\n\u001b[1;32m     18\u001b[0m             \u001b[0;32mfor\u001b[0m \u001b[0mi\u001b[0m \u001b[0;32min\u001b[0m \u001b[0mlist\u001b[0m\u001b[0;34m(\u001b[0m\u001b[0mitertools\u001b[0m\u001b[0;34m.\u001b[0m\u001b[0mchain\u001b[0m\u001b[0;34m(\u001b[0m\u001b[0;34m*\u001b[0m\u001b[0msample\u001b[0m\u001b[0;34m[\u001b[0m\u001b[0;34m\"list_genres_consol\"\u001b[0m\u001b[0;34m]\u001b[0m\u001b[0;34m)\u001b[0m\u001b[0;34m)\u001b[0m\u001b[0;34m:\u001b[0m\u001b[0;34m\u001b[0m\u001b[0m\n",
      "\u001b[0;32m~/anaconda3/lib/python3.6/site-packages/pandas/core/frame.py\u001b[0m in \u001b[0;36mappend\u001b[0;34m(self, other, ignore_index, verify_integrity, sort)\u001b[0m\n\u001b[1;32m   6199\u001b[0m         return concat(to_concat, ignore_index=ignore_index,\n\u001b[1;32m   6200\u001b[0m                       \u001b[0mverify_integrity\u001b[0m\u001b[0;34m=\u001b[0m\u001b[0mverify_integrity\u001b[0m\u001b[0;34m,\u001b[0m\u001b[0;34m\u001b[0m\u001b[0m\n\u001b[0;32m-> 6201\u001b[0;31m                       sort=sort)\n\u001b[0m\u001b[1;32m   6202\u001b[0m \u001b[0;34m\u001b[0m\u001b[0m\n\u001b[1;32m   6203\u001b[0m     def join(self, other, on=None, how='left', lsuffix='', rsuffix='',\n",
      "\u001b[0;32m~/anaconda3/lib/python3.6/site-packages/pandas/core/reshape/concat.py\u001b[0m in \u001b[0;36mconcat\u001b[0;34m(objs, axis, join, join_axes, ignore_index, keys, levels, names, verify_integrity, sort, copy)\u001b[0m\n\u001b[1;32m    224\u001b[0m                        \u001b[0mverify_integrity\u001b[0m\u001b[0;34m=\u001b[0m\u001b[0mverify_integrity\u001b[0m\u001b[0;34m,\u001b[0m\u001b[0;34m\u001b[0m\u001b[0m\n\u001b[1;32m    225\u001b[0m                        copy=copy, sort=sort)\n\u001b[0;32m--> 226\u001b[0;31m     \u001b[0;32mreturn\u001b[0m \u001b[0mop\u001b[0m\u001b[0;34m.\u001b[0m\u001b[0mget_result\u001b[0m\u001b[0;34m(\u001b[0m\u001b[0;34m)\u001b[0m\u001b[0;34m\u001b[0m\u001b[0m\n\u001b[0m\u001b[1;32m    227\u001b[0m \u001b[0;34m\u001b[0m\u001b[0m\n\u001b[1;32m    228\u001b[0m \u001b[0;34m\u001b[0m\u001b[0m\n",
      "\u001b[0;32m~/anaconda3/lib/python3.6/site-packages/pandas/core/reshape/concat.py\u001b[0m in \u001b[0;36mget_result\u001b[0;34m(self)\u001b[0m\n\u001b[1;32m    421\u001b[0m             new_data = concatenate_block_managers(\n\u001b[1;32m    422\u001b[0m                 \u001b[0mmgrs_indexers\u001b[0m\u001b[0;34m,\u001b[0m \u001b[0mself\u001b[0m\u001b[0;34m.\u001b[0m\u001b[0mnew_axes\u001b[0m\u001b[0;34m,\u001b[0m \u001b[0mconcat_axis\u001b[0m\u001b[0;34m=\u001b[0m\u001b[0mself\u001b[0m\u001b[0;34m.\u001b[0m\u001b[0maxis\u001b[0m\u001b[0;34m,\u001b[0m\u001b[0;34m\u001b[0m\u001b[0m\n\u001b[0;32m--> 423\u001b[0;31m                 copy=self.copy)\n\u001b[0m\u001b[1;32m    424\u001b[0m             \u001b[0;32mif\u001b[0m \u001b[0;32mnot\u001b[0m \u001b[0mself\u001b[0m\u001b[0;34m.\u001b[0m\u001b[0mcopy\u001b[0m\u001b[0;34m:\u001b[0m\u001b[0;34m\u001b[0m\u001b[0m\n\u001b[1;32m    425\u001b[0m                 \u001b[0mnew_data\u001b[0m\u001b[0;34m.\u001b[0m\u001b[0m_consolidate_inplace\u001b[0m\u001b[0;34m(\u001b[0m\u001b[0;34m)\u001b[0m\u001b[0;34m\u001b[0m\u001b[0m\n",
      "\u001b[0;32m~/anaconda3/lib/python3.6/site-packages/pandas/core/internals.py\u001b[0m in \u001b[0;36mconcatenate_block_managers\u001b[0;34m(mgrs_indexers, axes, concat_axis, copy)\u001b[0m\n\u001b[1;32m   5423\u001b[0m         \u001b[0mblocks\u001b[0m\u001b[0;34m.\u001b[0m\u001b[0mappend\u001b[0m\u001b[0;34m(\u001b[0m\u001b[0mb\u001b[0m\u001b[0;34m)\u001b[0m\u001b[0;34m\u001b[0m\u001b[0m\n\u001b[1;32m   5424\u001b[0m \u001b[0;34m\u001b[0m\u001b[0m\n\u001b[0;32m-> 5425\u001b[0;31m     \u001b[0;32mreturn\u001b[0m \u001b[0mBlockManager\u001b[0m\u001b[0;34m(\u001b[0m\u001b[0mblocks\u001b[0m\u001b[0;34m,\u001b[0m \u001b[0maxes\u001b[0m\u001b[0;34m)\u001b[0m\u001b[0;34m\u001b[0m\u001b[0m\n\u001b[0m\u001b[1;32m   5426\u001b[0m \u001b[0;34m\u001b[0m\u001b[0m\n\u001b[1;32m   5427\u001b[0m \u001b[0;34m\u001b[0m\u001b[0m\n",
      "\u001b[0;32m~/anaconda3/lib/python3.6/site-packages/pandas/core/internals.py\u001b[0m in \u001b[0;36m__init__\u001b[0;34m(self, blocks, axes, do_integrity_check)\u001b[0m\n\u001b[1;32m   3282\u001b[0m             \u001b[0mself\u001b[0m\u001b[0;34m.\u001b[0m\u001b[0m_verify_integrity\u001b[0m\u001b[0;34m(\u001b[0m\u001b[0;34m)\u001b[0m\u001b[0;34m\u001b[0m\u001b[0m\n\u001b[1;32m   3283\u001b[0m \u001b[0;34m\u001b[0m\u001b[0m\n\u001b[0;32m-> 3284\u001b[0;31m         \u001b[0mself\u001b[0m\u001b[0;34m.\u001b[0m\u001b[0m_consolidate_check\u001b[0m\u001b[0;34m(\u001b[0m\u001b[0;34m)\u001b[0m\u001b[0;34m\u001b[0m\u001b[0m\n\u001b[0m\u001b[1;32m   3285\u001b[0m \u001b[0;34m\u001b[0m\u001b[0m\n\u001b[1;32m   3286\u001b[0m         \u001b[0mself\u001b[0m\u001b[0;34m.\u001b[0m\u001b[0m_rebuild_blknos_and_blklocs\u001b[0m\u001b[0;34m(\u001b[0m\u001b[0;34m)\u001b[0m\u001b[0;34m\u001b[0m\u001b[0m\n",
      "\u001b[0;32m~/anaconda3/lib/python3.6/site-packages/pandas/core/internals.py\u001b[0m in \u001b[0;36m_consolidate_check\u001b[0;34m(self)\u001b[0m\n\u001b[1;32m   3783\u001b[0m \u001b[0;34m\u001b[0m\u001b[0m\n\u001b[1;32m   3784\u001b[0m     \u001b[0;32mdef\u001b[0m \u001b[0m_consolidate_check\u001b[0m\u001b[0;34m(\u001b[0m\u001b[0mself\u001b[0m\u001b[0;34m)\u001b[0m\u001b[0;34m:\u001b[0m\u001b[0;34m\u001b[0m\u001b[0m\n\u001b[0;32m-> 3785\u001b[0;31m         \u001b[0mftypes\u001b[0m \u001b[0;34m=\u001b[0m \u001b[0;34m[\u001b[0m\u001b[0mblk\u001b[0m\u001b[0;34m.\u001b[0m\u001b[0mftype\u001b[0m \u001b[0;32mfor\u001b[0m \u001b[0mblk\u001b[0m \u001b[0;32min\u001b[0m \u001b[0mself\u001b[0m\u001b[0;34m.\u001b[0m\u001b[0mblocks\u001b[0m\u001b[0;34m]\u001b[0m\u001b[0;34m\u001b[0m\u001b[0m\n\u001b[0m\u001b[1;32m   3786\u001b[0m         \u001b[0mself\u001b[0m\u001b[0;34m.\u001b[0m\u001b[0m_is_consolidated\u001b[0m \u001b[0;34m=\u001b[0m \u001b[0mlen\u001b[0m\u001b[0;34m(\u001b[0m\u001b[0mftypes\u001b[0m\u001b[0;34m)\u001b[0m \u001b[0;34m==\u001b[0m \u001b[0mlen\u001b[0m\u001b[0;34m(\u001b[0m\u001b[0mset\u001b[0m\u001b[0;34m(\u001b[0m\u001b[0mftypes\u001b[0m\u001b[0;34m)\u001b[0m\u001b[0;34m)\u001b[0m\u001b[0;34m\u001b[0m\u001b[0m\n\u001b[1;32m   3787\u001b[0m         \u001b[0mself\u001b[0m\u001b[0;34m.\u001b[0m\u001b[0m_known_consolidated\u001b[0m \u001b[0;34m=\u001b[0m \u001b[0;32mTrue\u001b[0m\u001b[0;34m\u001b[0m\u001b[0m\n",
      "\u001b[0;32m~/anaconda3/lib/python3.6/site-packages/pandas/core/internals.py\u001b[0m in \u001b[0;36m<listcomp>\u001b[0;34m(.0)\u001b[0m\n\u001b[1;32m   3783\u001b[0m \u001b[0;34m\u001b[0m\u001b[0m\n\u001b[1;32m   3784\u001b[0m     \u001b[0;32mdef\u001b[0m \u001b[0m_consolidate_check\u001b[0m\u001b[0;34m(\u001b[0m\u001b[0mself\u001b[0m\u001b[0;34m)\u001b[0m\u001b[0;34m:\u001b[0m\u001b[0;34m\u001b[0m\u001b[0m\n\u001b[0;32m-> 3785\u001b[0;31m         \u001b[0mftypes\u001b[0m \u001b[0;34m=\u001b[0m \u001b[0;34m[\u001b[0m\u001b[0mblk\u001b[0m\u001b[0;34m.\u001b[0m\u001b[0mftype\u001b[0m \u001b[0;32mfor\u001b[0m \u001b[0mblk\u001b[0m \u001b[0;32min\u001b[0m \u001b[0mself\u001b[0m\u001b[0;34m.\u001b[0m\u001b[0mblocks\u001b[0m\u001b[0;34m]\u001b[0m\u001b[0;34m\u001b[0m\u001b[0m\n\u001b[0m\u001b[1;32m   3786\u001b[0m         \u001b[0mself\u001b[0m\u001b[0;34m.\u001b[0m\u001b[0m_is_consolidated\u001b[0m \u001b[0;34m=\u001b[0m \u001b[0mlen\u001b[0m\u001b[0;34m(\u001b[0m\u001b[0mftypes\u001b[0m\u001b[0;34m)\u001b[0m \u001b[0;34m==\u001b[0m \u001b[0mlen\u001b[0m\u001b[0;34m(\u001b[0m\u001b[0mset\u001b[0m\u001b[0;34m(\u001b[0m\u001b[0mftypes\u001b[0m\u001b[0;34m)\u001b[0m\u001b[0;34m)\u001b[0m\u001b[0;34m\u001b[0m\u001b[0m\n\u001b[1;32m   3787\u001b[0m         \u001b[0mself\u001b[0m\u001b[0;34m.\u001b[0m\u001b[0m_known_consolidated\u001b[0m \u001b[0;34m=\u001b[0m \u001b[0;32mTrue\u001b[0m\u001b[0;34m\u001b[0m\u001b[0m\n",
      "\u001b[0;32m~/anaconda3/lib/python3.6/site-packages/pandas/core/internals.py\u001b[0m in \u001b[0;36mftype\u001b[0;34m(self)\u001b[0m\n\u001b[1;32m    356\u001b[0m     \u001b[0;34m@\u001b[0m\u001b[0mproperty\u001b[0m\u001b[0;34m\u001b[0m\u001b[0m\n\u001b[1;32m    357\u001b[0m     \u001b[0;32mdef\u001b[0m \u001b[0mftype\u001b[0m\u001b[0;34m(\u001b[0m\u001b[0mself\u001b[0m\u001b[0;34m)\u001b[0m\u001b[0;34m:\u001b[0m\u001b[0;34m\u001b[0m\u001b[0m\n\u001b[0;32m--> 358\u001b[0;31m         \u001b[0;32mreturn\u001b[0m \u001b[0;34m\"{dtype}:{ftype}\"\u001b[0m\u001b[0;34m.\u001b[0m\u001b[0mformat\u001b[0m\u001b[0;34m(\u001b[0m\u001b[0mdtype\u001b[0m\u001b[0;34m=\u001b[0m\u001b[0mself\u001b[0m\u001b[0;34m.\u001b[0m\u001b[0mdtype\u001b[0m\u001b[0;34m,\u001b[0m \u001b[0mftype\u001b[0m\u001b[0;34m=\u001b[0m\u001b[0mself\u001b[0m\u001b[0;34m.\u001b[0m\u001b[0m_ftype\u001b[0m\u001b[0;34m)\u001b[0m\u001b[0;34m\u001b[0m\u001b[0m\n\u001b[0m\u001b[1;32m    359\u001b[0m \u001b[0;34m\u001b[0m\u001b[0m\n\u001b[1;32m    360\u001b[0m     \u001b[0;32mdef\u001b[0m \u001b[0mmerge\u001b[0m\u001b[0;34m(\u001b[0m\u001b[0mself\u001b[0m\u001b[0;34m,\u001b[0m \u001b[0mother\u001b[0m\u001b[0;34m)\u001b[0m\u001b[0;34m:\u001b[0m\u001b[0;34m\u001b[0m\u001b[0m\n",
      "\u001b[0;31mKeyboardInterrupt\u001b[0m: "
     ]
    }
   ],
   "source": [
    "#Generate sample\n",
    "start = time.time()\n",
    "sample_df = oversample(train_set, max_records=50000)\n",
    "end = time.time()\n",
    "print(\"Duration in seconds: \", end-start)"
   ]
  },
  {
   "cell_type": "code",
   "execution_count": 40,
   "metadata": {},
   "outputs": [],
   "source": [
    "sample_count = defaultdict(int)\n",
    "\n",
    "def count_genres(row):\n",
    "    for i in row: \n",
    "        sample_count[i]+=1"
   ]
  },
  {
   "cell_type": "code",
   "execution_count": 41,
   "metadata": {},
   "outputs": [
    {
     "data": {
      "text/plain": [
       "50000"
      ]
     },
     "execution_count": 41,
     "metadata": {},
     "output_type": "execute_result"
    }
   ],
   "source": [
    "len(sample_df)"
   ]
  },
  {
   "cell_type": "code",
   "execution_count": 42,
   "metadata": {},
   "outputs": [
    {
     "name": "stdout",
     "output_type": "stream",
     "text": [
      "10.00% of the movies are Comedy\n",
      "10.00% of the movies are Drama\n",
      "10.00% of the movies are Thriller\n",
      "10.00% of the movies are Adventure\n",
      "10.00% of the movies are Sci-Fi\n",
      "10.00% of the movies are Horror\n",
      "10.00% of the movies are Family\n",
      "10.00% of the movies are Action\n",
      "10.00% of the movies are Crime\n",
      "10.00% of the movies are Romance\n"
     ]
    },
    {
     "data": {
      "text/plain": [
       "[Text(0,0,'Comedy'),\n",
       " Text(0,0,'Drama'),\n",
       " Text(0,0,'Thriller'),\n",
       " Text(0,0,'Adventure'),\n",
       " Text(0,0,'Sci-Fi'),\n",
       " Text(0,0,'Horror'),\n",
       " Text(0,0,'Family'),\n",
       " Text(0,0,'Action'),\n",
       " Text(0,0,'Crime'),\n",
       " Text(0,0,'Romance')]"
      ]
     },
     "execution_count": 42,
     "metadata": {},
     "output_type": "execute_result"
    },
    {
     "data": {
      "image/png": "[encoded data removed]",
      "text/plain": [
       "<Figure size 432x288 with 1 Axes>"
      ]
     },
     "metadata": {},
     "output_type": "display_data"
    }
   ],
   "source": [
    "sample_df[\"list_genres_consol\"].apply(lambda row: count_genres(row))\n",
    "\n",
    "for key,val in sample_count.items():\n",
    "    print(\"{:0.2f}% of the movies are {}\".format(100*val/len(sample_df), key))\n",
    "\n",
    "\n",
    "\n",
    "fig, ax = plt.subplots(1,1) \n",
    "ax.bar(range(len(sample_count.keys())), list(sample_count.values()))\n",
    "ax.set_xticks(range(len(sample_count.keys())))\n",
    "ax.set_xticklabels(list(sample_count.keys()), rotation='vertical', fontsize=18)"
   ]
  },
  {
   "cell_type": "markdown",
   "metadata": {},
   "source": [
    "# Undersampling"
   ]
  },
  {
   "cell_type": "code",
   "execution_count": 43,
   "metadata": {},
   "outputs": [
    {
     "data": {
      "text/plain": [
       "[('Sci-Fi', 11473),\n",
       " ('Adventure', 14310),\n",
       " ('Crime', 14942),\n",
       " ('Horror', 15978),\n",
       " ('Family', 16595),\n",
       " ('Action', 19939),\n",
       " ('Romance', 22628),\n",
       " ('Thriller', 22904),\n",
       " ('Comedy', 57193),\n",
       " ('Drama', 93987)]"
      ]
     },
     "execution_count": 43,
     "metadata": {},
     "output_type": "execute_result"
    }
   ],
   "source": [
    "#Distribution of Genres - imbalanced \n",
    "count_dict_norm = defaultdict(int)\n",
    "\n",
    "def dict_count(row, count_dict):\n",
    "    for genre in row:\n",
    "        count_dict[genre] += 1\n",
    "\n",
    "        \n",
    "count_dict_series = train_set[\"list_genres_consol\"].apply(lambda row: dict_count(row, count_dict_norm))\n",
    "\n",
    "sorted(count_dict_norm.items(), key=operator.itemgetter(1))"
   ]
  },
  {
   "cell_type": "code",
   "execution_count": 44,
   "metadata": {},
   "outputs": [],
   "source": [
    "def undersample_w_replacement(df, genre_counts):\n",
    "    \"\"\"There can be duplicates within genre samples, but not across genre samples\"\"\"\n",
    "    max_records = sorted(genre_counts.items(), key=operator.itemgetter(1))[0][1] #num records for min class\n",
    "    new_df = pd.DataFrame(columns=list(df.columns))\n",
    "    for i in list(genre_counts.keys()):\n",
    "        print(i)\n",
    "        sample_df = df[df[\"list_genres_consol\"].apply(lambda x: str(i) in x)]\n",
    "        new_df = new_df.append(sample_df.sample(max_records, replace = True))\n",
    "        df = df[~df[\"list_genres_consol\"].apply(lambda x: str(i) in x)]\n",
    "    return new_df.sample(frac=1) #shuffles the sample dataframe\n",
    "\n",
    "def undersample_w_out_replacement(df, genre_counts):\n",
    "    \"\"\"There can be duplicates across genre samples, but not within genre samples\"\"\"\n",
    "    max_records = sorted(genre_counts.items(), key=operator.itemgetter(1))[0][1] #num records for min class\n",
    "    new_df = pd.DataFrame(columns=list(df.columns))\n",
    "    for i in list(genre_counts.keys()):\n",
    "        print(i)\n",
    "        sample_df = df[df[\"list_genres_consol\"].apply(lambda x: str(i) in x)]\n",
    "        new_df = new_df.append(sample_df.sample(max_records, replace = False))\n",
    "    return new_df.sample(frac=1) #shuffles the sample dataframe"
   ]
  },
  {
   "cell_type": "code",
   "execution_count": 45,
   "metadata": {},
   "outputs": [
    {
     "name": "stdout",
     "output_type": "stream",
     "text": [
      "Drama\n",
      "Action\n",
      "Romance\n",
      "Horror\n",
      "Comedy\n",
      "Sci-Fi\n",
      "Family\n",
      "Adventure\n",
      "Thriller\n",
      "Crime\n",
      "total time:  6.428191661834717 seconds\n"
     ]
    }
   ],
   "source": [
    "start = time.time()\n",
    "sample_df = undersample_w_out_replacement(train_set, count_dict_norm)\n",
    "end = time.time()\n",
    "print(\"total time: \", end-start, \"seconds\")"
   ]
  },
  {
   "cell_type": "code",
   "execution_count": 46,
   "metadata": {},
   "outputs": [
    {
     "data": {
      "text/plain": [
       "defaultdict(int,\n",
       "            {'Adventure': 21593,\n",
       "             'Drama': 49207,\n",
       "             'Comedy': 33091,\n",
       "             'Sci-Fi': 19394,\n",
       "             'Family': 17495,\n",
       "             'Action': 27972,\n",
       "             'Crime': 20436,\n",
       "             'Horror': 19118,\n",
       "             'Thriller': 27672,\n",
       "             'Romance': 21061})"
      ]
     },
     "execution_count": 46,
     "metadata": {},
     "output_type": "execute_result"
    }
   ],
   "source": [
    "#Sample without replacement - more balanced\n",
    "count_dict_undersample_w_out_replacement = defaultdict(int)\n",
    "count_val_series_2 = sample_df[\"list_genres_consol\"].apply(lambda row: dict_count(row, count_dict_undersample_w_out_replacement))\n",
    "count_dict_undersample_w_out_replacement"
   ]
  },
  {
   "cell_type": "code",
   "execution_count": 47,
   "metadata": {},
   "outputs": [
    {
     "data": {
      "text/plain": [
       "[Text(0,0,'Adventure'),\n",
       " Text(0,0,'Drama'),\n",
       " Text(0,0,'Comedy'),\n",
       " Text(0,0,'Sci-Fi'),\n",
       " Text(0,0,'Family'),\n",
       " Text(0,0,'Action'),\n",
       " Text(0,0,'Crime'),\n",
       " Text(0,0,'Horror'),\n",
       " Text(0,0,'Thriller'),\n",
       " Text(0,0,'Romance')]"
      ]
     },
     "execution_count": 47,
     "metadata": {},
     "output_type": "execute_result"
    },
    {
     "data": {
      "image/png": "[encoded data removed]",
      "text/plain": [
       "<Figure size 432x288 with 1 Axes>"
      ]
     },
     "metadata": {},
     "output_type": "display_data"
    }
   ],
   "source": [
    "fig, ax = plt.subplots(1,1) \n",
    "ax.bar(range(len(count_dict_undersample_w_out_replacement.keys())), list(count_dict_undersample_w_out_replacement.values()))\n",
    "ax.set_xticks(range(len(count_dict_undersample_w_out_replacement.keys())))\n",
    "ax.set_xticklabels(list(count_dict_undersample_w_out_replacement.keys()), rotation='vertical', fontsize=18)"
   ]
  },
  {
   "cell_type": "code",
   "execution_count": 55,
   "metadata": {},
   "outputs": [
    {
     "name": "stdout",
     "output_type": "stream",
     "text": [
      "Drama\n",
      "Action\n",
      "Romance\n",
      "Horror\n",
      "Comedy\n",
      "Sci-Fi\n",
      "Family\n",
      "Adventure\n",
      "Thriller\n",
      "Crime\n",
      "total time:  4.863096714019775 seconds\n"
     ]
    }
   ],
   "source": [
    "#Sample with replacement - even more balanced but less variance within genres \n",
    "start = time.time()\n",
    "sample_df = undersample_w_replacement(train_set, count_dict_norm)\n",
    "end = time.time()\n",
    "print(\"total time: \", end-start, \"seconds\")"
   ]
  },
  {
   "cell_type": "code",
   "execution_count": 56,
   "metadata": {},
   "outputs": [
    {
     "data": {
      "text/plain": [
       "defaultdict(int,\n",
       "            {'Drama': 11473,\n",
       "             'Action': 12356,\n",
       "             'Sci-Fi': 16186,\n",
       "             'Comedy': 24595,\n",
       "             'Horror': 13303,\n",
       "             'Romance': 14044,\n",
       "             'Thriller': 20722,\n",
       "             'Adventure': 19631,\n",
       "             'Crime': 17512,\n",
       "             'Family': 15525})"
      ]
     },
     "execution_count": 56,
     "metadata": {},
     "output_type": "execute_result"
    }
   ],
   "source": [
    "count_dict_undersample_w_replacement = defaultdict(int)\n",
    "count_val_series_2 = sample_df[\"list_genres_consol\"].apply(lambda row: dict_count(row, count_dict_undersample_w_replacement))\n",
    "count_dict_undersample_w_replacement"
   ]
  },
  {
   "cell_type": "code",
   "execution_count": 57,
   "metadata": {},
   "outputs": [
    {
     "data": {
      "text/plain": [
       "[Text(0,0,'Drama'),\n",
       " Text(0,0,'Action'),\n",
       " Text(0,0,'Sci-Fi'),\n",
       " Text(0,0,'Comedy'),\n",
       " Text(0,0,'Horror'),\n",
       " Text(0,0,'Romance'),\n",
       " Text(0,0,'Thriller'),\n",
       " Text(0,0,'Adventure'),\n",
       " Text(0,0,'Crime'),\n",
       " Text(0,0,'Family')]"
      ]
     },
     "execution_count": 57,
     "metadata": {},
     "output_type": "execute_result"
    },
    {
     "data": {
      "image/png": "[encoded data removed]",
      "text/plain": [
       "<Figure size 432x288 with 1 Axes>"
      ]
     },
     "metadata": {},
     "output_type": "display_data"
    }
   ],
   "source": [
    "fig, ax = plt.subplots(1,1) \n",
    "ax.bar(range(len(count_dict_undersample_w_replacement.keys())), list(count_dict_undersample_w_replacement.values()))\n",
    "ax.set_xticks(range(len(count_dict_undersample_w_replacement.keys())))\n",
    "ax.set_xticklabels(list(count_dict_undersample_w_replacement.keys()), rotation='vertical', fontsize=18)"
   ]
  },
  {
   "cell_type": "markdown",
   "metadata": {},
   "source": [
    "# BoW TFIDF"
   ]
  },
  {
   "cell_type": "code",
   "execution_count": 4,
   "metadata": {},
   "outputs": [],
   "source": [
    "mlb = MultiLabelBinarizer()\n",
    "y_train = mlb.fit_transform(full_data[\"list_genres_consol\"])\n",
    "\n",
    "MAX_NB_WORDS = 80000\n",
    "tokenizer = Tokenizer(num_words=MAX_NB_WORDS)\n",
    "tokenizer.fit_on_texts(train_set['flattened_tokens'])\n",
    "\n",
    "# tokenizer.fit_on_texts(sample_df['flattened_tokens'])"
   ]
  },
  {
   "cell_type": "code",
   "execution_count": 54,
   "metadata": {},
   "outputs": [
    {
     "name": "stdout",
     "output_type": "stream",
     "text": [
      "(114730, 80000)\n",
      "(22206, 80000)\n",
      "(22431, 80000)\n"
     ]
    }
   ],
   "source": [
    "# x_train_bow = tokenizer.texts_to_matrix(train_set[\"flattened_tokens\"], mode=\"tfidf\")\n",
    "# print(x_train_bow.shape)\n",
    "# x_dev_bow = tokenizer.texts_to_matrix(dev_set[\"flattened_tokens\"], mode=\"tfidf\")\n",
    "# print(x_dev_bow.shape)\n",
    "# x_test_bow = tokenizer.texts_to_matrix(test_set[\"flattened_tokens\"], mode = \"tfidf\")\n",
    "# print(x_test_bow.shape)\n",
    "\n",
    "#---Sample Data----\n",
    "x_train_bow = tokenizer.texts_to_matrix(sample_df[\"flattened_tokens\"], mode=\"tfidf\")\n",
    "print(x_train_bow.shape)\n",
    "x_dev_bow = tokenizer.texts_to_matrix(dev_set[\"flattened_tokens\"], mode=\"tfidf\")\n",
    "print(x_dev_bow.shape)\n",
    "x_test_bow = tokenizer.texts_to_matrix(test_set[\"flattened_tokens\"], mode = \"tfidf\")\n",
    "print(x_test_bow.shape)"
   ]
  },
  {
   "cell_type": "code",
   "execution_count": 55,
   "metadata": {},
   "outputs": [],
   "source": [
    "#BoW TFIDF \n",
    "model = Sequential()\n",
    "model.add(Dense(50, input_shape=(x_train_bow.shape[1],), activation='tanh'))\n",
    "model.add(Dropout(0.5))\n",
    "model.add(Dense(mlb.classes_.shape[0], activation='sigmoid'))\n",
    "model.compile(loss='binary_crossentropy', optimizer='adam', metrics = [\"accuracy\"])"
   ]
  },
  {
   "cell_type": "code",
   "execution_count": 56,
   "metadata": {},
   "outputs": [
    {
     "name": "stdout",
     "output_type": "stream",
     "text": [
      "Epoch 1/10\n",
      "114730/114730 [==============================] - 106s 923us/step - loss: 0.4832 - acc: 0.7953\n",
      "Epoch 2/10\n",
      "114730/114730 [==============================] - 86s 754us/step - loss: 0.3541 - acc: 0.8672\n",
      "Epoch 3/10\n",
      "114730/114730 [==============================] - 85s 740us/step - loss: 0.3063 - acc: 0.8873\n",
      "Epoch 4/10\n",
      "114730/114730 [==============================] - 86s 749us/step - loss: 0.2750 - acc: 0.9011\n",
      "Epoch 5/10\n",
      "114730/114730 [==============================] - 85s 744us/step - loss: 0.2522 - acc: 0.9117\n",
      "Epoch 6/10\n",
      "114730/114730 [==============================] - 87s 760us/step - loss: 0.2337 - acc: 0.9197\n",
      "Epoch 7/10\n",
      "114730/114730 [==============================] - 86s 751us/step - loss: 0.2187 - acc: 0.9265\n",
      "Epoch 8/10\n",
      "114730/114730 [==============================] - 87s 756us/step - loss: 0.2057 - acc: 0.9315\n",
      "Epoch 9/10\n",
      "114730/114730 [==============================] - 86s 746us/step - loss: 0.1940 - acc: 0.9364\n",
      "Epoch 10/10\n",
      "114730/114730 [==============================] - 86s 751us/step - loss: 0.1840 - acc: 0.9404\n"
     ]
    },
    {
     "data": {
      "text/plain": [
       "<keras.callbacks.History at 0x7f21d568dc18>"
      ]
     },
     "execution_count": 56,
     "metadata": {},
     "output_type": "execute_result"
    }
   ],
   "source": [
    "#Fit model\n",
    "\n",
    "#----Single Dataset to fit----\n",
    "model.fit(x_train_bow, np.stack(sample_df[\"binarized_labels\"]), epochs = 10, batch_size = 10000)\n",
    "# model.fit(x_train_bow, np.stack(train_set[\"binarized_labels\"]), epochs = 10, batch_size = 10000)\n",
    "\n",
    "#----Multiple Datasets (Over/UnderSampling)---\n"
   ]
  },
  {
   "cell_type": "code",
   "execution_count": 57,
   "metadata": {},
   "outputs": [],
   "source": [
    "preds = model.predict(x_dev_bow)"
   ]
  },
  {
   "cell_type": "code",
   "execution_count": 58,
   "metadata": {},
   "outputs": [],
   "source": [
    "from keras.models import load_model\n",
    "model.save(\"BOW_tfidf_50dim_10kbatch_dropout_undersample_w_replace.h5\")"
   ]
  },
  {
   "cell_type": "markdown",
   "metadata": {},
   "source": [
    "# EVAL METRICS"
   ]
  },
  {
   "cell_type": "code",
   "execution_count": 23,
   "metadata": {},
   "outputs": [],
   "source": [
    "#Load previously stored models if desired\n",
    "\n",
    "model = load_model('BOW_tfidf_75dim_1kbatch.h5')\n",
    "preds = model.predict(x_dev_bow)"
   ]
  },
  {
   "cell_type": "code",
   "execution_count": 32,
   "metadata": {},
   "outputs": [],
   "source": [
    "def indiv_class_scores(y_true, y_pred, threshold, metric = None):\n",
    "    max_pred = np.array(y_pred.max(axis = 1)).reshape(-1,1)\n",
    "    \n",
    "    #Cant predict 0 for all classes - pick max val as label if all preds below threshold\n",
    "    for i in range(len(max_pred)): \n",
    "        if max_pred[i] > threshold:\n",
    "            max_pred[i] = threshold\n",
    "        else:\n",
    "            pass\n",
    "        \n",
    "    y_pred = y_pred >= max_pred\n",
    "    \n",
    "    for i in range(len(mlb.classes_)):\n",
    "        if metric == \"precision\":\n",
    "            score = precision_score(y_true[:,i], y_pred[:,i])\n",
    "            print(\"The {} for {} is {}\".format(metric, mlb.classes_[i], score))\n",
    "        elif metric == \"recall\":\n",
    "            score = recall_score(y_true[:,i], y_pred[:,i])\n",
    "            print(\"The {} for {} is {}\".format(metric, mlb.classes_[i], score))\n",
    "        elif metric == \"f1\":\n",
    "            score = f1_score(y_true[:,i], y_pred[:,i])\n",
    "            print(\"The {} for {} is {}\".format(metric, mlb.classes_[i], score))\n",
    "        else:\n",
    "            return \"Not a valid metric\""
   ]
  },
  {
   "cell_type": "code",
   "execution_count": 59,
   "metadata": {},
   "outputs": [
    {
     "name": "stdout",
     "output_type": "stream",
     "text": [
      "The precision for Action is 0.6032818532818532\n",
      "The precision for Adventure is 0.3867435158501441\n",
      "The precision for Comedy is 0.6186666666666667\n",
      "The precision for Crime is 0.42150395778364114\n",
      "The precision for Drama is 0.8551601423487545\n",
      "The precision for Family is 0.3847139197267293\n",
      "The precision for Horror is 0.6214046822742475\n",
      "The precision for Romance is 0.40328563857975624\n",
      "The precision for Sci-Fi is 0.574265289912629\n",
      "The precision for Thriller is 0.3356246264196055\n",
      "The recall for Action is 0.2513067953357459\n",
      "The recall for Adventure is 0.3731924360400445\n",
      "The recall for Comedy is 0.6235676899137077\n",
      "The recall for Crime is 0.3428111587982833\n",
      "The recall for Drama is 0.20844899375433726\n",
      "The recall for Family is 0.42986641221374045\n",
      "The recall for Horror is 0.4706180344478217\n",
      "The recall for Romance is 0.2791636096845194\n",
      "The recall for Sci-Fi is 0.48818365968939903\n",
      "The recall for Thriller is 0.3978037548707049\n",
      "The f1 for Action is 0.35481124042009654\n",
      "The f1 for Adventure is 0.3798471553920181\n",
      "The f1 for Comedy is 0.621107510215584\n",
      "The f1 for Crime is 0.37810650887573966\n",
      "The f1 for Drama is 0.335193192913935\n",
      "The f1 for Family is 0.4060387561964849\n",
      "The f1 for Horror is 0.535601037763044\n",
      "The f1 for Romance is 0.32993713418599613\n",
      "The f1 for Sci-Fi is 0.5277372262773723\n",
      "The f1 for Thriller is 0.3640784568001297\n"
     ]
    }
   ],
   "source": [
    "indiv_class_scores(np.stack(dev_set[\"binarized_labels\"]), preds, threshold = 0.5, metric = \"precision\")\n",
    "indiv_class_scores(np.stack(dev_set[\"binarized_labels\"]), preds, threshold=0.5, metric = \"recall\")\n",
    "indiv_class_scores(np.stack(dev_set[\"binarized_labels\"]), preds, threshold= 0.5, metric= \"f1\")"
   ]
  },
  {
   "cell_type": "code",
   "execution_count": 60,
   "metadata": {},
   "outputs": [
    {
     "name": "stdout",
     "output_type": "stream",
     "text": [
      "The micro precision is 0.6168607632022266\n",
      "The weighted macro precision is 0.6885585135095638\n",
      "The micro recall is 0.23494950622105673\n",
      "The weighted macro recall is 0.23494950622105673\n",
      "The micro f1 is 0.3402897028222792\n",
      "The weighted macro f1 is 0.3123432564327975\n"
     ]
    }
   ],
   "source": [
    "y_pred = preds >= 0.5\n",
    "micro_precision = precision_score(np.stack(dev_set[\"binarized_labels\"]), y_pred, average = 'micro')\n",
    "weighted_macro_precision = precision_score(np.stack(dev_set[\"binarized_labels\"]), y_pred, average = 'weighted')\n",
    "micro_recall = recall_score(np.stack(dev_set[\"binarized_labels\"]), y_pred, average = 'micro')\n",
    "weighted_macro_recall = recall_score(np.stack(dev_set[\"binarized_labels\"]), y_pred, average = 'weighted')\n",
    "micro_f1 = f1_score(np.stack(dev_set[\"binarized_labels\"]), y_pred, average = 'micro')\n",
    "weighted_macro_f1 = f1_score(np.stack(dev_set[\"binarized_labels\"]), y_pred, average = 'weighted')\n",
    "print(\"The micro precision is\", micro_precision)\n",
    "print(\"The weighted macro precision is\", weighted_macro_precision)\n",
    "print(\"The micro recall is\", micro_recall)\n",
    "print(\"The weighted macro recall is\", weighted_macro_recall)\n",
    "print(\"The micro f1 is\", micro_f1)\n",
    "print(\"The weighted macro f1 is\", weighted_macro_f1)\n"
   ]
  },
  {
   "cell_type": "code",
   "execution_count": 33,
   "metadata": {},
   "outputs": [],
   "source": [
    "def auc_pr(y_true, y_pred):\n",
    "    scores = []\n",
    "    for i in range(len(mlb.classes_)):\n",
    "        p, r, d = precision_recall_curve(y_true[:,i], y_pred[:,i])\n",
    "        score = auc(r,p)\n",
    "        scores.append(score)\n",
    "        print(\"The AUC for {} is {}\".format(mlb.classes_[i], score))\n",
    "    macro_score = np.mean(scores)\n",
    "    y_true_raveled = np.ravel(y_true)\n",
    "    y_pred_raveled = np.ravel(y_pred)\n",
    "    p, r, d = precision_recall_curve(y_true_raveled, y_pred_raveled)\n",
    "    micro_score = auc(r,p)\n",
    "    print(\"The micro-avg AUC is {}\".format(micro_score))\n",
    "    print(\"The macro-avg AUC is {}\".format(macro_score))\n",
    "\n"
   ]
  },
  {
   "cell_type": "code",
   "execution_count": 61,
   "metadata": {},
   "outputs": [
    {
     "name": "stdout",
     "output_type": "stream",
     "text": [
      "The AUC for Action is 0.4696243611021378\n",
      "The AUC for Adventure is 0.3710614922066198\n",
      "The AUC for Comedy is 0.674724504811205\n",
      "The AUC for Crime is 0.37310093060426786\n",
      "The AUC for Drama is 0.7254241229009942\n",
      "The AUC for Family is 0.4170249457169868\n",
      "The AUC for Horror is 0.5770437674191291\n",
      "The AUC for Romance is 0.31974960745007497\n",
      "The AUC for Sci-Fi is 0.5413224444601781\n",
      "The AUC for Thriller is 0.329758385514635\n",
      "The micro-avg AUC is 0.48519439162806854\n",
      "The macro-avg AUC is 0.47988345621862294\n"
     ]
    }
   ],
   "source": [
    "auc_pr(np.stack(dev_set[\"binarized_labels\"]), preds)"
   ]
  },
  {
   "cell_type": "markdown",
   "metadata": {},
   "source": [
    "# BOW-Neural sum of embeddings"
   ]
  },
  {
   "cell_type": "markdown",
   "metadata": {},
   "source": [
    "## Load Word Embeddings"
   ]
  },
  {
   "cell_type": "code",
   "execution_count": 3,
   "metadata": {},
   "outputs": [],
   "source": [
    "def loadEmbed(file):\n",
    "    start = time.time()\n",
    "    print(\"Loading Embeddings\")\n",
    "    f = open(file, 'r', encoding='utf-8')\n",
    "    model = {}\n",
    "    status_every = 100000\n",
    "    for i, line in enumerate(f):\n",
    "        if i%status_every == 0:\n",
    "            print('Processing line {:,}'.format(i))\n",
    "        splitLine = line.split()\n",
    "        word = splitLine[0]\n",
    "        embedding = np.array([float(val) for val in splitLine[1:]])\n",
    "        model[word] = embedding\n",
    "    print(\"Done.\",'{:,}'.format(len(model)),\" words loaded!\")\n",
    "    end = time.time()\n",
    "    print(\"Total Time to load embeddings:\", end - start, \"seconds\")\n",
    "    return model"
   ]
  },
  {
   "cell_type": "code",
   "execution_count": 4,
   "metadata": {},
   "outputs": [
    {
     "name": "stdout",
     "output_type": "stream",
     "text": [
      "Loading Embeddings\n",
      "Processing line 0\n",
      "Processing line 100,000\n",
      "Processing line 200,000\n",
      "Processing line 300,000\n",
      "Processing line 400,000\n",
      "Done. 400,001  words loaded!\n",
      "Total Time to load embeddings: 40.277053356170654 seconds\n"
     ]
    }
   ],
   "source": [
    "#TOO LARGE TO PUSH TO GIT, DOWNLOAD SEPARATLEY FROM https://github.com/stanfordnlp/GloVe\n",
    "glove_dir = './glove.6B/'\n",
    "glove_filename = 'glove.6B.300d.txt'\n",
    "glove_fullpath = glove_dir + glove_filename\n",
    "glove_dd = loadEmbed(glove_fullpath)"
   ]
  },
  {
   "cell_type": "code",
   "execution_count": 20,
   "metadata": {},
   "outputs": [],
   "source": [
    "#For unknown values\n",
    "average_vec = np.mean(np.array(list(glove_dd.values())), axis = 0)"
   ]
  },
  {
   "cell_type": "markdown",
   "metadata": {},
   "source": [
    "# Read Full Data and Generate Embeddings for BOW"
   ]
  },
  {
   "cell_type": "code",
   "execution_count": 5,
   "metadata": {},
   "outputs": [],
   "source": [
    "full_data[\"plot_lengths\"] = full_data[\"flattened_tokens\"].apply(lambda row: len(row))"
   ]
  },
  {
   "cell_type": "code",
   "execution_count": 6,
   "metadata": {},
   "outputs": [
    {
     "name": "stdout",
     "output_type": "stream",
     "text": [
      "62.0\n"
     ]
    },
    {
     "data": {
      "text/plain": [
       "(array([6.0170e+03, 9.1429e+04, 6.5346e+04, 3.5824e+04, 1.8519e+04,\n",
       "        6.5880e+03, 4.9200e+02, 4.5000e+01, 3.5000e+01, 8.0000e+00]),\n",
       " array([  4. ,  22.4,  40.8,  59.2,  77.6,  96. , 114.4, 132.8, 151.2,\n",
       "        169.6, 188. ]),\n",
       " <a list of 10 Patch objects>)"
      ]
     },
     "execution_count": 6,
     "metadata": {},
     "output_type": "execute_result"
    },
    {
     "data": {
      "image/png": "[encoded data removed]",
      "text/plain": [
       "<Figure size 432x288 with 1 Axes>"
      ]
     },
     "metadata": {},
     "output_type": "display_data"
    }
   ],
   "source": [
    "print(np.percentile(full_data[\"plot_lengths\"],75))\n",
    "plt.hist(full_data[\"plot_lengths\"])"
   ]
  },
  {
   "cell_type": "code",
   "execution_count": 7,
   "metadata": {},
   "outputs": [
    {
     "data": {
      "text/plain": [
       "224303"
      ]
     },
     "execution_count": 7,
     "metadata": {},
     "output_type": "execute_result"
    }
   ],
   "source": [
    "len(full_data)"
   ]
  },
  {
   "cell_type": "code",
   "execution_count": 22,
   "metadata": {},
   "outputs": [],
   "source": [
    "def embed_plot_BOW(plot):\n",
    "    word_embeddings = np.array([glove_dd.get(word, average_vec) for word in plot]).astype(np.float32)\n",
    "    sentence_embedding = [sum(dim) for dim in zip(*word_embeddings)]\n",
    "    return np.array(sentence_embedding)"
   ]
  },
  {
   "cell_type": "code",
   "execution_count": 23,
   "metadata": {},
   "outputs": [
    {
     "name": "stdout",
     "output_type": "stream",
     "text": [
      "Embedding plots...\n",
      "Total Time to embed plots: 702.6706018447876 seconds\n"
     ]
    }
   ],
   "source": [
    "print(\"Embedding plots...\")\n",
    "start = time.time()\n",
    "full_data[\"flattened_embeddings\"] = full_data[\"flattened_tokens\"].apply(lambda row: embed_plot_BOW(row))\n",
    "end = time.time()\n",
    "print(\"Total Time to embed plots:\", end - start, \"seconds\")"
   ]
  },
  {
   "cell_type": "code",
   "execution_count": null,
   "metadata": {},
   "outputs": [],
   "source": [
    "#full_data.to_pickle(\"./full_data_w_flattened_embeddings.pkl\")"
   ]
  },
  {
   "cell_type": "code",
   "execution_count": null,
   "metadata": {},
   "outputs": [],
   "source": [
    "#full_data = pd.read_pickle(\"./full_data_w_flattened_embeddings.pkl\")"
   ]
  },
  {
   "cell_type": "code",
   "execution_count": null,
   "metadata": {},
   "outputs": [],
   "source": [
    "full_data_sample = full_data.iloc[0:2] #sample to start with"
   ]
  },
  {
   "cell_type": "code",
   "execution_count": 24,
   "metadata": {},
   "outputs": [],
   "source": [
    "train_set, test_set = train_test_split(full_data, test_size=0.10, random_state=42)\n",
    "\n",
    "#Separate training set into train and dev. Roughly 80% of original data is train, 10% dev, 10% test\n",
    "train_set, dev_set = train_test_split(train_set, test_size=0.11, random_state=42)\n",
    "\n",
    "mlb = MultiLabelBinarizer()\n",
    "y_train = mlb.fit_transform(full_data[\"list_genres_consol\"])"
   ]
  },
  {
   "cell_type": "code",
   "execution_count": 58,
   "metadata": {},
   "outputs": [],
   "source": [
    "# x_train_bow_embed = np.stack(train_set[\"flattened_embeddings\"])\n",
    "# x_dev_bow_embed = np.stack(dev_set[\"flattened_embeddings\"])\n",
    "# x_test_bow_embed = np.stack(test_set[\"flattened_embeddings\"])\n",
    "\n",
    "#----Sampled Data---\n",
    "x_train_bow_embed = np.stack(sample_df[\"flattened_embeddings\"])\n",
    "#y_train = np.stack(y_train.values)\n",
    "x_dev_bow_embed = np.stack(dev_set[\"flattened_embeddings\"])\n",
    "#y_test = np.stack(y_test.values)\n",
    "x_test_bow_embed = np.stack(test_set[\"flattened_embeddings\"])\n"
   ]
  },
  {
   "cell_type": "code",
   "execution_count": 59,
   "metadata": {},
   "outputs": [
    {
     "name": "stdout",
     "output_type": "stream",
     "text": [
      "(114730, 300)\n",
      "(22206, 300)\n",
      "(22431, 300)\n"
     ]
    }
   ],
   "source": [
    "print(x_train_bow_embed.shape)\n",
    "print(x_dev_bow_embed.shape)\n",
    "print(x_test_bow_embed.shape)"
   ]
  },
  {
   "cell_type": "markdown",
   "metadata": {},
   "source": [
    "# MODEL"
   ]
  },
  {
   "cell_type": "code",
   "execution_count": 60,
   "metadata": {},
   "outputs": [],
   "source": [
    "model_bow_embed = Sequential()\n",
    "model_bow_embed.add(Dense(100, input_shape=(x_train_bow_embed.shape[1],), activation='tanh'))\n",
    "model_bow_embed.add(Dropout(0.5))\n",
    "model_bow_embed.add(Dense(mlb.classes_.shape[0], activation='sigmoid'))\n",
    "model_bow_embed.compile(loss='binary_crossentropy', optimizer='adam', metrics = [\"accuracy\"])\n"
   ]
  },
  {
   "cell_type": "code",
   "execution_count": 61,
   "metadata": {},
   "outputs": [
    {
     "name": "stdout",
     "output_type": "stream",
     "text": [
      "Epoch 1/10\n",
      "114730/114730 [==============================] - 2s 19us/step - loss: 0.4492 - acc: 0.8265\n",
      "Epoch 2/10\n",
      "114730/114730 [==============================] - 1s 10us/step - loss: 0.3671 - acc: 0.8541\n",
      "Epoch 3/10\n",
      "114730/114730 [==============================] - 1s 10us/step - loss: 0.3423 - acc: 0.8624\n",
      "Epoch 4/10\n",
      "114730/114730 [==============================] - 1s 10us/step - loss: 0.3302 - acc: 0.8671\n",
      "Epoch 5/10\n",
      "114730/114730 [==============================] - 1s 10us/step - loss: 0.3228 - acc: 0.8696\n",
      "Epoch 6/10\n",
      "114730/114730 [==============================] - 1s 10us/step - loss: 0.3187 - acc: 0.8712\n",
      "Epoch 7/10\n",
      "114730/114730 [==============================] - 1s 10us/step - loss: 0.3160 - acc: 0.8723\n",
      "Epoch 8/10\n",
      "114730/114730 [==============================] - 1s 10us/step - loss: 0.3139 - acc: 0.8730\n",
      "Epoch 9/10\n",
      "114730/114730 [==============================] - 1s 10us/step - loss: 0.3123 - acc: 0.8738\n",
      "Epoch 10/10\n",
      "114730/114730 [==============================] - 1s 10us/step - loss: 0.3106 - acc: 0.8744\n"
     ]
    },
    {
     "data": {
      "text/plain": [
       "<keras.callbacks.History at 0x7fdd581e1438>"
      ]
     },
     "execution_count": 61,
     "metadata": {},
     "output_type": "execute_result"
    }
   ],
   "source": [
    "# model_bow_embed.fit(x_train_bow_embed, np.stack(train_set[\"binarized_labels\"]), epochs = 10, batch_size = 1000)\n",
    "model_bow_embed.fit(x_train_bow_embed, np.stack(sample_df[\"binarized_labels\"]), epochs = 10, batch_size = 1000)"
   ]
  },
  {
   "cell_type": "code",
   "execution_count": 63,
   "metadata": {},
   "outputs": [],
   "source": [
    "preds_bow_embed = model_bow_embed.predict(x_dev_bow_embed)"
   ]
  },
  {
   "cell_type": "code",
   "execution_count": 64,
   "metadata": {},
   "outputs": [],
   "source": [
    "from keras.models import load_model\n",
    "model_bow_embed.save(\"BOW_embed_100dim_1kbatch_dropout_undersample_w_replace.h5\")"
   ]
  },
  {
   "cell_type": "code",
   "execution_count": 65,
   "metadata": {},
   "outputs": [
    {
     "name": "stdout",
     "output_type": "stream",
     "text": [
      "The precision for Action is 0.6363636363636364\n",
      "The precision for Adventure is 0.3517823639774859\n",
      "The precision for Comedy is 0.5891117478510028\n",
      "The precision for Crime is 0.36946386946386944\n",
      "The precision for Drama is 0.8955094991364422\n",
      "The precision for Family is 0.3481418197351559\n",
      "The precision for Horror is 0.5847808105872622\n",
      "The precision for Romance is 0.3748898678414097\n",
      "The precision for Sci-Fi is 0.4993638676844784\n",
      "The precision for Thriller is 0.34317032040472173\n",
      "The recall for Action is 0.18576598311218334\n",
      "The recall for Adventure is 0.41713014460511677\n",
      "The recall for Comedy is 0.5816947234403734\n",
      "The recall for Crime is 0.5101931330472103\n",
      "The recall for Drama is 0.08995489243580847\n",
      "The recall for Family is 0.38883587786259544\n",
      "The recall for Horror is 0.35815602836879434\n",
      "The recall for Romance is 0.31217901687454147\n",
      "The recall for Sci-Fi is 0.5300472653612424\n",
      "The recall for Thriller is 0.2883457314913213\n",
      "The f1 for Action is 0.2875816993464052\n",
      "The f1 for Adventure is 0.38167938931297707\n",
      "The f1 for Comedy is 0.5853797423304149\n",
      "The f1 for Crime is 0.42857142857142855\n",
      "The f1 for Drama is 0.1634873088443954\n",
      "The f1 for Family is 0.3673653369393734\n",
      "The f1 for Horror is 0.44423499842915487\n",
      "The f1 for Romance is 0.34067253803042435\n",
      "The f1 for Sci-Fi is 0.5142482803799541\n",
      "The f1 for Thriller is 0.31337824831568817\n",
      "The micro precision is 0.6032354591359641\n",
      "The weighted macro precision is 0.7392298389108497\n",
      "The micro recall is 0.17996429169223901\n",
      "The weighted macro recall is 0.17996429169223901\n",
      "The micro f1 is 0.27722389342501075\n",
      "The weighted macro f1 is 0.24029972116184078\n",
      "The AUC for Action is 0.4788934361165572\n",
      "The AUC for Adventure is 0.3799963992795139\n",
      "The AUC for Comedy is 0.6415930319525831\n",
      "The AUC for Crime is 0.41311828865528444\n",
      "The AUC for Drama is 0.7515188056281183\n",
      "The AUC for Family is 0.3776123178879564\n",
      "The AUC for Horror is 0.5153000597200604\n",
      "The AUC for Romance is 0.31535472764582617\n",
      "The AUC for Sci-Fi is 0.5434575047259117\n",
      "The AUC for Thriller is 0.3647008882624623\n",
      "The micro-avg AUC is 0.4448023576061344\n",
      "The macro-avg AUC is 0.47815454598742735\n"
     ]
    }
   ],
   "source": [
    "indiv_class_scores(np.stack(dev_set[\"binarized_labels\"]), preds_bow_embed, threshold = 0.5, metric = \"precision\")\n",
    "indiv_class_scores(np.stack(dev_set[\"binarized_labels\"]), preds_bow_embed, threshold=0.5, metric = \"recall\")\n",
    "indiv_class_scores(np.stack(dev_set[\"binarized_labels\"]), preds_bow_embed, threshold= 0.5, metric= \"f1\")\n",
    "\n",
    "y_pred = preds_bow_embed >= 0.5\n",
    "micro_precision = precision_score(np.stack(dev_set[\"binarized_labels\"]), y_pred, average = 'micro')\n",
    "weighted_macro_precision = precision_score(np.stack(dev_set[\"binarized_labels\"]), y_pred, average = 'weighted')\n",
    "micro_recall = recall_score(np.stack(dev_set[\"binarized_labels\"]), y_pred, average = 'micro')\n",
    "weighted_macro_recall = recall_score(np.stack(dev_set[\"binarized_labels\"]), y_pred, average = 'weighted')\n",
    "micro_f1 = f1_score(np.stack(dev_set[\"binarized_labels\"]), y_pred, average = 'micro')\n",
    "weighted_macro_f1 = f1_score(np.stack(dev_set[\"binarized_labels\"]), y_pred, average = 'weighted')\n",
    "print(\"The micro precision is\", micro_precision)\n",
    "print(\"The weighted macro precision is\", weighted_macro_precision)\n",
    "print(\"The micro recall is\", micro_recall)\n",
    "print(\"The weighted macro recall is\", weighted_macro_recall)\n",
    "print(\"The micro f1 is\", micro_f1)\n",
    "print(\"The weighted macro f1 is\", weighted_macro_f1)\n",
    "\n",
    "auc_pr(np.stack(dev_set[\"binarized_labels\"]), preds_bow_embed)\n"
   ]
  },
  {
   "cell_type": "markdown",
   "metadata": {},
   "source": [
    "# BI_DIRECTIONAL LSTM -- IGNORE EVERYTHING BELOW"
   ]
  },
  {
   "cell_type": "code",
   "execution_count": null,
   "metadata": {},
   "outputs": [],
   "source": [
    "embedding_matrix = np.load(\"embed_matrix.npy\")"
   ]
  },
  {
   "cell_type": "code",
   "execution_count": null,
   "metadata": {},
   "outputs": [],
   "source": [
    "MAX_NB_WORDS = 80000\n",
    "EMBEDDING_DIM = 100\n",
    "MAX_SENT_LENGTH = 15\n",
    "REG_PARAM = 1e-13\n",
    "l2_reg = regularizers.l2(REG_PARAM)\n",
    "\n",
    "embedding_layer = Embedding(MAX_NB_WORDS + 1,\n",
    "                            EMBEDDING_DIM,\n",
    "                            weights=[embedding_matrix],\n",
    "                            input_length=75,\n",
    "                            embeddings_regularizer=l2_reg,\n",
    "                            mask_zero = True, #determines whether masking is performed, i.e. whether the layers ignore the padded zeros in shorter documents\n",
    "                            trainable=False) \n",
    "\n",
    "tokenizer = Tokenizer(num_words=MAX_NB_WORDS+1, oov_token='UNK')\n",
    "tokenizer.fit_on_texts(full_data['flattened_tokens'])"
   ]
  },
  {
   "cell_type": "code",
   "execution_count": null,
   "metadata": {},
   "outputs": [],
   "source": [
    "MAX_SENTS = 5\n",
    "data = np.zeros((len(full_data), MAX_SENTS, MAX_SENT_LENGTH), dtype='int32')\n",
    "doc_lst = []\n",
    "\n",
    "# keep the MAX_NB_WORDS most frequent words and replace the rest with 'UNK'\n",
    "# truncate to the first MAX_SENTS sentences per doc and MAX_SENT_LENGTH words per sentence\n",
    "\n",
    "for summary_num, row in full_data.iterrows():\n",
    "    for sent_num, sent in enumerate(row['tokenized_words']):\n",
    "        if sent_num < MAX_SENTS:\n",
    "            #wordTokens = text_to_word_sequence(sent)\n",
    "            word_num = 0\n",
    "            words_in_sent = []\n",
    "            for _, word in enumerate(sent):\n",
    "                if word_num < MAX_SENT_LENGTH: \n",
    "                    if (word in tokenizer.word_index) and (tokenizer.word_index[word] <= MAX_NB_WORDS):\n",
    "                        data[summary_num, sent_num, word_num] = tokenizer.word_index[word]\n",
    "                        words_in_sent.append(word)\n",
    "                    else:\n",
    "                        data[summary_num, sent_num, word_num] = MAX_NB_WORDS\n",
    "                        words_in_sent.append('UNK')\n",
    "                    word_num = word_num + 1\n",
    "            doc_lst.append(words_in_sent)"
   ]
  },
  {
   "cell_type": "code",
   "execution_count": null,
   "metadata": {},
   "outputs": [],
   "source": [
    "lstm_plot_data = data.reshape(len(full_data), -1) #collapse sentence length and max sents into single dimension\n",
    "X_train_lstm, X_test_lstm, y_train_lstm, y_test_lstm = train_test_split(lstm_plot_data, \n",
    "                                                    full_data[\"binarized_labels\"], test_size=0.20, random_state=42)\n",
    "\n",
    "# X_train_lstm = np.stack(X_train_lstm.values)\n",
    "y_train_lstm = np.stack(y_train_lstm.values)\n",
    "# X_test_lstm = np.stack(X_test_lstm.values)\n",
    "y_test_lstm = np.stack(y_test_lstm.values)"
   ]
  },
  {
   "cell_type": "code",
   "execution_count": null,
   "metadata": {},
   "outputs": [],
   "source": [
    "input_layer = Input(shape=(X_train_lstm.shape[1],), dtype='int32')\n",
    "embedded_plot = embedding_layer(input_layer)\n",
    "bilstm_layer = Bidirectional(LSTM(100))(embedded_plot)\n",
    "output_layer = Dense(units=mlb.classes_.shape[0], activation=\"sigmoid\")(bilstm_layer)\n",
    "LSTM_model = Model(inputs=input_layer, outputs= output_layer)\n",
    "LSTM_model.compile(loss='binary_crossentropy', optimizer='adam', metrics = [\"accuracy\"])\n",
    "LSTM_model.fit(X_train_lstm, y_train_lstm, epochs = 1, batch_size = 100)\n",
    "preds_LSTM = LSTM_model.predict(X_test_lstm)"
   ]
  },
  {
   "cell_type": "code",
   "execution_count": null,
   "metadata": {},
   "outputs": [],
   "source": [
    "indiv_class_scores(y_test_lstm, preds_LSTM, threshold = 0.5, metric = \"precision\")"
   ]
  },
  {
   "cell_type": "code",
   "execution_count": null,
   "metadata": {},
   "outputs": [],
   "source": [
    "indiv_class_scores(y_test_lstm, preds_LSTM, threshold = 0.5, metric = \"recall\")"
   ]
  },
  {
   "cell_type": "code",
   "execution_count": null,
   "metadata": {},
   "outputs": [],
   "source": [
    "indiv_class_scores(y_test_lstm, preds_LSTM, threshold = 0.5, metric = \"f1\")"
   ]
  },
  {
   "cell_type": "code",
   "execution_count": null,
   "metadata": {},
   "outputs": [],
   "source": [
    "y_pred_LSTM = preds_LSTM >= 0.5\n",
    "micro_precision = precision_score(y_test_lstm, y_pred_LSTM, average = 'micro')\n",
    "weighted_macro_precision = precision_score(y_test_lstm, y_pred_LSTM, average = 'weighted')\n",
    "micro_recall = recall_score(y_test_lstm, y_pred_LSTM, average = 'micro')\n",
    "weighted_macro_recall = recall_score(y_test_lstm, y_pred_LSTM, average = 'weighted')\n",
    "micro_f1 = f1_score(y_test_lstm, y_pred_LSTM, average = 'micro')\n",
    "weighted_macro_f1 = f1_score(y_test_lstm, y_pred_LSTM, average = 'weighted')"
   ]
  },
  {
   "cell_type": "code",
   "execution_count": null,
   "metadata": {},
   "outputs": [],
   "source": [
    "print(\"The micro precision is\", micro_precision)\n",
    "print(\"The weighted macro precision is\", weighted_macro_precision)\n",
    "print(\"The micro recall is\", micro_recall)\n",
    "print(\"The weighted macro recall is\", weighted_macro_recall)\n",
    "print(\"The micro f1 is\", micro_f1)\n",
    "print(\"The weighted macro f1 is\", weighted_macro_f1)"
   ]
  },
  {
   "cell_type": "code",
   "execution_count": null,
   "metadata": {},
   "outputs": [],
   "source": []
  }
 ],
 "metadata": {
  "kernelspec": {
   "display_name": "Python 3",
   "language": "python",
   "name": "python3"
  },
  "language_info": {
   "codemirror_mode": {
    "name": "ipython",
    "version": 3
   },
   "file_extension": ".py",
   "mimetype": "text/x-python",
   "name": "python",
   "nbconvert_exporter": "python",
   "pygments_lexer": "ipython3",
   "version": "3.6.5"
  }
 },
 "nbformat": 4,
 "nbformat_minor": 2
}
