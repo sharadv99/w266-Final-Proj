{
 "cells": [
  {
   "cell_type": "code",
   "execution_count": 1,
   "metadata": {},
   "outputs": [
    {
     "name": "stdout",
     "output_type": "stream",
     "text": [
      "Requirement already satisfied: Keras in /home/sharadv/anaconda3/lib/python3.6/site-packages (2.2.4)\n",
      "Requirement already satisfied: numpy>=1.9.1 in /home/sharadv/anaconda3/lib/python3.6/site-packages (from Keras) (1.14.3)\n",
      "Requirement already satisfied: keras-preprocessing>=1.0.5 in /home/sharadv/anaconda3/lib/python3.6/site-packages (from Keras) (1.0.9)\n",
      "Requirement already satisfied: scipy>=0.14 in /home/sharadv/anaconda3/lib/python3.6/site-packages (from Keras) (1.1.0)\n",
      "Requirement already satisfied: pyyaml in /home/sharadv/anaconda3/lib/python3.6/site-packages (from Keras) (3.12)\n",
      "Requirement already satisfied: keras-applications>=1.0.6 in /home/sharadv/anaconda3/lib/python3.6/site-packages (from Keras) (1.0.7)\n",
      "Requirement already satisfied: six>=1.9.0 in /home/sharadv/anaconda3/lib/python3.6/site-packages (from Keras) (1.11.0)\n",
      "Requirement already satisfied: h5py in /home/sharadv/anaconda3/lib/python3.6/site-packages (from Keras) (2.7.1)\n",
      "\u001b[33mYou are using pip version 18.1, however version 19.0.3 is available.\n",
      "You should consider upgrading via the 'pip install --upgrade pip' command.\u001b[0m\n"
     ]
    },
    {
     "name": "stderr",
     "output_type": "stream",
     "text": [
      "/home/sharadv/anaconda3/lib/python3.6/site-packages/h5py/__init__.py:36: FutureWarning: Conversion of the second argument of issubdtype from `float` to `np.floating` is deprecated. In future, it will be treated as `np.float64 == np.dtype(float).type`.\n",
      "  from ._conv import register_converters as _register_converters\n",
      "Using TensorFlow backend.\n"
     ]
    }
   ],
   "source": [
    "!pip install Keras\n",
    "import time\n",
    "import numpy as np\n",
    "import pandas as pd\n",
    "import operator\n",
    "#import dill as pkl\n",
    "import pickle as pkl\n",
    "from matplotlib import pyplot as plt\n",
    "from collections import defaultdict\n",
    "#import nltk\n",
    "#import re\n",
    "import itertools\n",
    "#import unittest\n",
    "#import RegexTester\n",
    "#from nltk.stem import WordNetLemmatizer\n",
    "#import nltk\n",
    "#from nltk.corpus import wordnet\n",
    "%matplotlib inline\n",
    "from keras.preprocessing.text import Tokenizer, text_to_word_sequence\n",
    "#from keras.preprocessing.sequence import pad_sequences\n",
    "#from keras.utils.np_utils import to_categorical\n",
    "#from keras.optimizers import SGD\n",
    "\n",
    "#from keras.layers import Embedding\n",
    "from keras.layers import Dense, Input, Flatten\n",
    "from keras.layers import Dropout\n",
    "from keras.models import Model, load_model, Sequential\n",
    "#from keras import backend as K\n",
    "from keras.engine.topology import Layer, InputSpec\n",
    "from keras import initializers, regularizers, optimizers\n",
    "#from keras.callbacks import History, CSVLogger\n",
    "from sklearn.model_selection import train_test_split\n",
    "from sklearn.preprocessing import MultiLabelBinarizer\n",
    "from sklearn.metrics import precision_score, recall_score, f1_score, precision_recall_curve, average_precision_score, auc"
   ]
  },
  {
   "cell_type": "markdown",
   "metadata": {},
   "source": [
    "# LOAD Pre-processed DATA from Analysis notebook"
   ]
  },
  {
   "cell_type": "code",
   "execution_count": 2,
   "metadata": {},
   "outputs": [],
   "source": [
    "full_data = pd.read_pickle(\"./full_data.pkl\")"
   ]
  },
  {
   "cell_type": "markdown",
   "metadata": {},
   "source": [
    "# TRAIN/TEST SPLIT"
   ]
  },
  {
   "cell_type": "code",
   "execution_count": 3,
   "metadata": {},
   "outputs": [],
   "source": [
    "train_set, test_set = train_test_split(full_data, test_size=0.10, random_state=42)\n",
    "\n",
    "#Separate training set into train and dev. Roughly 80% of original data is train, 10% dev, 10% test\n",
    "train_set, dev_set = train_test_split(train_set, test_size=0.11, random_state=42)"
   ]
  },
  {
   "cell_type": "markdown",
   "metadata": {},
   "source": [
    "# Oversampling algorithm - multi-label splitting"
   ]
  },
  {
   "cell_type": "code",
   "execution_count": 33,
   "metadata": {},
   "outputs": [],
   "source": [
    "def oversample(df, max_records = 10):\n",
    "    max_per_genre = int(max_records/10)\n",
    "    new_df = pd.DataFrame(columns=list(df.columns))\n",
    "    genre_count = defaultdict(int)\n",
    "    record_count = 0\n",
    "    while record_count < max_records:\n",
    "        counter = 0\n",
    "        sample = df.sample(1, replace = True)\n",
    "        for i in list(itertools.chain(*sample[\"list_genres_consol\"])):\n",
    "            if genre_count[i] == max_per_genre:\n",
    "                df = df[~df[\"list_genres_consol\"].apply(lambda x: str(i) in x)]\n",
    "                continue\n",
    "            else:\n",
    "                counter += 1\n",
    "        if counter == len(sample[\"list_genres_consol\"]):\n",
    "            new_df = new_df.append(sample)\n",
    "            record_count += 1\n",
    "            for i in list(itertools.chain(*sample[\"list_genres_consol\"])):\n",
    "                genre_count[i] += 1\n",
    "    return new_df"
   ]
  },
  {
   "cell_type": "code",
   "execution_count": null,
   "metadata": {},
   "outputs": [],
   "source": [
    "#Generate sample\n",
    "start = time.time()\n",
    "sample_df = oversample(train_set, max_records=50000)\n",
    "end = time.time()\n",
    "print(\"Duration in seconds: \", end-start)"
   ]
  },
  {
   "cell_type": "code",
   "execution_count": 40,
   "metadata": {},
   "outputs": [],
   "source": [
    "sample_count = defaultdict(int)\n",
    "\n",
    "def count_genres(row):\n",
    "    for i in row: \n",
    "        sample_count[i]+=1"
   ]
  },
  {
   "cell_type": "code",
   "execution_count": 41,
   "metadata": {},
   "outputs": [
    {
     "data": {
      "text/plain": [
       "50000"
      ]
     },
     "execution_count": 41,
     "metadata": {},
     "output_type": "execute_result"
    }
   ],
   "source": [
    "len(sample_df)"
   ]
  },
  {
   "cell_type": "code",
   "execution_count": 42,
   "metadata": {},
   "outputs": [
    {
     "name": "stdout",
     "output_type": "stream",
     "text": [
      "10.00% of the movies are Comedy\n",
      "10.00% of the movies are Drama\n",
      "10.00% of the movies are Thriller\n",
      "10.00% of the movies are Adventure\n",
      "10.00% of the movies are Sci-Fi\n",
      "10.00% of the movies are Horror\n",
      "10.00% of the movies are Family\n",
      "10.00% of the movies are Action\n",
      "10.00% of the movies are Crime\n",
      "10.00% of the movies are Romance\n"
     ]
    },
    {
     "data": {
      "text/plain": [
       "[Text(0,0,'Comedy'),\n",
       " Text(0,0,'Drama'),\n",
       " Text(0,0,'Thriller'),\n",
       " Text(0,0,'Adventure'),\n",
       " Text(0,0,'Sci-Fi'),\n",
       " Text(0,0,'Horror'),\n",
       " Text(0,0,'Family'),\n",
       " Text(0,0,'Action'),\n",
       " Text(0,0,'Crime'),\n",
       " Text(0,0,'Romance')]"
      ]
     },
     "execution_count": 42,
     "metadata": {},
     "output_type": "execute_result"
    },
    {
     "data": {
      "image/png": "[encoded data removed]",
      "text/plain": [
       "<Figure size 432x288 with 1 Axes>"
      ]
     },
     "metadata": {},
     "output_type": "display_data"
    }
   ],
   "source": [
    "sample_df[\"list_genres_consol\"].apply(lambda row: count_genres(row))\n",
    "\n",
    "for key,val in sample_count.items():\n",
    "    print(\"{:0.2f}% of the movies are {}\".format(100*val/len(sample_df), key))\n",
    "\n",
    "\n",
    "\n",
    "fig, ax = plt.subplots(1,1) \n",
    "ax.bar(range(len(sample_count.keys())), list(sample_count.values()))\n",
    "ax.set_xticks(range(len(sample_count.keys())))\n",
    "ax.set_xticklabels(list(sample_count.keys()), rotation='vertical', fontsize=18)"
   ]
  },
  {
   "cell_type": "markdown",
   "metadata": {},
   "source": [
    "# Undersampling"
   ]
  },
  {
   "cell_type": "code",
   "execution_count": null,
   "metadata": {},
   "outputs": [],
   "source": [
    "#Distribution of Genres - imbalanced \n",
    "count_dict_norm = defaultdict(int)\n",
    "\n",
    "def dict_count(row, count_dict):\n",
    "    for genre in row:\n",
    "        count_dict[genre] += 1\n",
    "\n",
    "        \n",
    "count_dict_series = train_set[\"list_genres_consol\"].apply(lambda row: dict_count(row, count_dict_norm))\n",
    "\n",
    "sorted(count_dict_norm.items(), key=operator.itemgetter(1))"
   ]
  },
  {
   "cell_type": "code",
   "execution_count": null,
   "metadata": {},
   "outputs": [],
   "source": [
    "def undersample_w_replacement(df, genre_counts):\n",
    "    \"\"\"There can be duplicates within genre samples, but not across genre samples\"\"\"\n",
    "    max_records = sorted(genre_counts.items(), key=operator.itemgetter(1))[0][1] #num records for min class\n",
    "    new_df = pd.DataFrame(columns=list(data.columns))\n",
    "    for i in list(genre_counts.keys()):\n",
    "        print(i)\n",
    "        sample_df = df[df[\"list_genres_consol\"].apply(lambda x: str(i) in x)]\n",
    "        new_df = new_df.append(sample_df.sample(max_records, replace = True))\n",
    "        df = df[~df[\"list_genres_consol\"].apply(lambda x: str(i) in x)]\n",
    "    return new_df.sample(frac=1) #shuffles the sample dataframe\n",
    "\n",
    "def undersample_w_out_replacement(df, genre_counts):\n",
    "    \"\"\"There can be duplicates across genre samples, but not within genre samples\"\"\"\n",
    "    max_records = sorted(genre_counts.items(), key=operator.itemgetter(1))[0][1] #num records for min class\n",
    "    new_df = pd.DataFrame(columns=list(data.columns))\n",
    "    for i in list(genre_counts.keys()):\n",
    "        print(i)\n",
    "        sample_df = df[df[\"list_genres_consol\"].apply(lambda x: str(i) in x)]\n",
    "        new_df = new_df.append(sample_df.sample(max_records, replace = False))\n",
    "    return new_df.sample(frac=1) #shuffles the sample dataframe"
   ]
  },
  {
   "cell_type": "code",
   "execution_count": null,
   "metadata": {},
   "outputs": [],
   "source": [
    "start = time.time()\n",
    "new_train = undersample_w_out_replacement(train_set, count_dict_norm)\n",
    "end = time.time()\n",
    "print(\"total time: \", end-start, \"seconds\")"
   ]
  },
  {
   "cell_type": "code",
   "execution_count": null,
   "metadata": {},
   "outputs": [],
   "source": [
    "#Sample without replacement - more balanced\n",
    "count_dict_undersample_w_out_replacement = defaultdict(int)\n",
    "count_val_series_2 = new_train[\"list_genres_consol\"].apply(lambda row: dict_count(row, count_dict_undersample_w_out_replacement))\n",
    "count_dict_undersample_w_out_replacement"
   ]
  },
  {
   "cell_type": "code",
   "execution_count": null,
   "metadata": {},
   "outputs": [],
   "source": [
    "fig, ax = plt.subplots(1,1) \n",
    "ax.bar(range(len(count_dict_undersample_w_out_replacement.keys())), list(count_dict_undersample_w_out_replacement.values()))\n",
    "ax.set_xticks(range(len(count_dict_undersample_w_out_replacement.keys())))\n",
    "ax.set_xticklabels(list(count_dict_undersample_w_out_replacement.keys()), rotation='vertical', fontsize=18)"
   ]
  },
  {
   "cell_type": "code",
   "execution_count": null,
   "metadata": {},
   "outputs": [],
   "source": [
    "#Sample with replacement - even more balanced but less variance within genres \n",
    "start = time.time()\n",
    "new_train = undersample_w_replacement(train_set, count_dict_norm)\n",
    "end = time.time()\n",
    "print(\"total time: \", end-start, \"seconds\")"
   ]
  },
  {
   "cell_type": "code",
   "execution_count": null,
   "metadata": {},
   "outputs": [],
   "source": [
    "count_dict_undersample_w_replacement = defaultdict(int)\n",
    "count_val_series_2 = new_train[\"list_genres_consol\"].apply(lambda row: dict_count(row, count_dict_undersample_w_replacement))\n",
    "count_dict_undersample_w_replacement"
   ]
  },
  {
   "cell_type": "code",
   "execution_count": null,
   "metadata": {},
   "outputs": [],
   "source": [
    "fig, ax = plt.subplots(1,1) \n",
    "ax.bar(range(len(count_dict_undersample_w_replacement.keys())), list(count_dict_undersample_w_replacement.values()))\n",
    "ax.set_xticks(range(len(count_dict_undersample_w_replacement.keys())))\n",
    "ax.set_xticklabels(list(count_dict_undersample_w_replacement.keys()), rotation='vertical', fontsize=18)"
   ]
  },
  {
   "cell_type": "markdown",
   "metadata": {},
   "source": [
    "# BoW TFIDF"
   ]
  },
  {
   "cell_type": "code",
   "execution_count": 43,
   "metadata": {},
   "outputs": [],
   "source": [
    "mlb = MultiLabelBinarizer()\n",
    "y_train = mlb.fit_transform(full_data[\"list_genres_consol\"])\n",
    "\n",
    "MAX_NB_WORDS = 80000\n",
    "tokenizer = Tokenizer(num_words=MAX_NB_WORDS)\n",
    "tokenizer.fit_on_texts(train_set['flattened_tokens'])\n",
    "\n",
    "# tokenizer.fit_on_texts(sample_df['flattened_tokens'])"
   ]
  },
  {
   "cell_type": "code",
   "execution_count": 44,
   "metadata": {},
   "outputs": [
    {
     "name": "stdout",
     "output_type": "stream",
     "text": [
      "(50000, 80000)\n",
      "(22206, 80000)\n",
      "(22431, 80000)\n"
     ]
    }
   ],
   "source": [
    "x_train_bow = tokenizer.texts_to_matrix(train_set[\"flattened_tokens\"], mode=\"tfidf\")\n",
    "print(x_train_bow.shape)\n",
    "x_dev_bow = tokenizer.texts_to_matrix(dev_set[\"flattened_tokens\"], mode=\"tfidf\")\n",
    "print(x_dev_bow.shape)\n",
    "x_test_bow = tokenizer.texts_to_matrix(test_set[\"flattened_tokens\"], mode = \"tfidf\")\n",
    "print(x_test_bow.shape)\n",
    "\n",
    "# x_train_bow = tokenizer.texts_to_matrix(sample_df[\"flattened_tokens\"], mode=\"tfidf\")\n",
    "# print(x_train_bow.shape)\n",
    "# x_dev_bow = tokenizer.texts_to_matrix(dev_set[\"flattened_tokens\"], mode=\"tfidf\")\n",
    "# print(x_dev_bow.shape)\n",
    "# x_test_bow = tokenizer.texts_to_matrix(test_set[\"flattened_tokens\"], mode = \"tfidf\")\n",
    "# print(x_test_bow.shape)"
   ]
  },
  {
   "cell_type": "code",
   "execution_count": 46,
   "metadata": {},
   "outputs": [
    {
     "name": "stdout",
     "output_type": "stream",
     "text": [
      "Epoch 1/10\n",
      "50000/50000 [==============================] - 52s 1ms/step - loss: 0.5243 - acc: 0.7640\n",
      "Epoch 2/10\n",
      "50000/50000 [==============================] - 39s 779us/step - loss: 0.3508 - acc: 0.8893\n",
      "Epoch 3/10\n",
      "50000/50000 [==============================] - 41s 819us/step - loss: 0.3029 - acc: 0.9010\n",
      "Epoch 4/10\n",
      "50000/50000 [==============================] - 41s 827us/step - loss: 0.2714 - acc: 0.9098\n",
      "Epoch 5/10\n",
      "50000/50000 [==============================] - 39s 782us/step - loss: 0.2455 - acc: 0.9197\n",
      "Epoch 6/10\n",
      "50000/50000 [==============================] - 39s 790us/step - loss: 0.2265 - acc: 0.9279\n",
      "Epoch 7/10\n",
      "50000/50000 [==============================] - 39s 784us/step - loss: 0.2115 - acc: 0.9341\n",
      "Epoch 8/10\n",
      "50000/50000 [==============================] - 40s 792us/step - loss: 0.1972 - acc: 0.9402\n",
      "Epoch 9/10\n",
      "50000/50000 [==============================] - 40s 796us/step - loss: 0.1864 - acc: 0.9441\n",
      "Epoch 10/10\n",
      "50000/50000 [==============================] - 39s 775us/step - loss: 0.1759 - acc: 0.9481\n"
     ]
    },
    {
     "data": {
      "text/plain": [
       "<keras.callbacks.History at 0x7f5de6ae0278>"
      ]
     },
     "execution_count": 46,
     "metadata": {},
     "output_type": "execute_result"
    }
   ],
   "source": [
    "#BoW TFIDF \n",
    "model = Sequential()\n",
    "model.add(Dense(50, input_shape=(x_train_bow.shape[1],), activation='tanh'))\n",
    "model.add(Dropout(0.5))\n",
    "model.add(Dense(mlb.classes_.shape[0], activation='sigmoid'))\n",
    "model.compile(loss='binary_crossentropy', optimizer='adam', metrics = [\"accuracy\"])"
   ]
  },
  {
   "cell_type": "code",
   "execution_count": null,
   "metadata": {},
   "outputs": [],
   "source": [
    "#Fit model\n",
    "\n",
    "#----Single Dataset to fit----\n",
    "# model.fit(x_train_bow, np.stack(sample_df[\"binarized_labels\"]), epochs = 10, batch_size = 10000)\n",
    "model.fit(x_train_bow, np.stack(train_set[\"binarized_labels\"]), epochs = 10, batch_size = 10000)\n",
    "\n",
    "#----Multiple Datasets (Over/UnderSampling)---\n"
   ]
  },
  {
   "cell_type": "code",
   "execution_count": 47,
   "metadata": {},
   "outputs": [],
   "source": [
    "preds = model.predict(x_dev_bow)"
   ]
  },
  {
   "cell_type": "code",
   "execution_count": 48,
   "metadata": {},
   "outputs": [],
   "source": [
    "from keras.models import load_model\n",
    "model.save(\"BOW_tfidf_50dim_10kbatch_dropout_oversample.h5\")"
   ]
  },
  {
   "cell_type": "markdown",
   "metadata": {},
   "source": [
    "# EVAL METRICS"
   ]
  },
  {
   "cell_type": "code",
   "execution_count": null,
   "metadata": {},
   "outputs": [],
   "source": [
    "#Load previously stored models if desired\n",
    "\n",
    "# model = load_model('BOW_tfidf_100dim_10kbatch.h5')\n",
    "# preds = model.predict(x_dev_bow)"
   ]
  },
  {
   "cell_type": "code",
   "execution_count": 109,
   "metadata": {},
   "outputs": [],
   "source": [
    "def indiv_class_scores(y_true, y_pred, threshold, metric = None):\n",
    "    max_pred = np.array(y_pred.max(axis = 1)).reshape(-1,1)\n",
    "    \n",
    "    #Cant predict 0 for all classes - pick max val as label if all preds below threshold\n",
    "    for i in range(len(max_pred)): \n",
    "        if max_pred[i] > threshold:\n",
    "            max_pred[i] = threshold\n",
    "        else:\n",
    "            pass\n",
    "        \n",
    "    y_pred = y_pred >= max_pred\n",
    "    \n",
    "    for i in range(len(mlb.classes_)):\n",
    "        if metric == \"precision\":\n",
    "            score = precision_score(y_true[:,i], y_pred[:,i])\n",
    "            print(\"The {} for {} is {}\".format(metric, mlb.classes_[i], score))\n",
    "        elif metric == \"recall\":\n",
    "            score = recall_score(y_true[:,i], y_pred[:,i])\n",
    "            print(\"The {} for {} is {}\".format(metric, mlb.classes_[i], score))\n",
    "        elif metric == \"f1\":\n",
    "            score = f1_score(y_true[:,i], y_pred[:,i])\n",
    "            print(\"The {} for {} is {}\".format(metric, mlb.classes_[i], score))\n",
    "        else:\n",
    "            return \"Not a valid metric\""
   ]
  },
  {
   "cell_type": "code",
   "execution_count": 110,
   "metadata": {},
   "outputs": [
    {
     "name": "stdout",
     "output_type": "stream",
     "text": [
      "The precision for Action is 0.46673189823874756\n",
      "The precision for Adventure is 0.43405051449953225\n",
      "The precision for Comedy is 0.7043274853801169\n",
      "The precision for Crime is 0.3385636692818346\n",
      "The precision for Drama is 0.8367067833698031\n",
      "The precision for Family is 0.3665276329509906\n",
      "The precision for Horror is 0.4794238683127572\n",
      "The precision for Romance is 0.355225585379783\n",
      "The precision for Sci-Fi is 0.44097995545657015\n",
      "The precision for Thriller is 0.34363411619283063\n",
      "The recall for Action is 0.3835946924004825\n",
      "The recall for Adventure is 0.25806451612903225\n",
      "The recall for Comedy is 0.4259442636865186\n",
      "The recall for Crime is 0.3009656652360515\n",
      "The recall for Drama is 0.26535392088827203\n",
      "The recall for Family is 0.3354007633587786\n",
      "The recall for Horror is 0.5901722391084093\n",
      "The recall for Romance is 0.22817314746881878\n",
      "The recall for Sci-Fi is 0.5347738014854828\n",
      "The recall for Thriller is 0.1969535954658165\n",
      "The f1 for Action is 0.42109909512248944\n",
      "The f1 for Adventure is 0.32368329264039064\n",
      "The f1 for Comedy is 0.5308533145275036\n",
      "The f1 for Crime is 0.3186594717409827\n",
      "The f1 for Drama is 0.40292413066385663\n",
      "The f1 for Family is 0.3502740408570005\n",
      "The f1 for Horror is 0.5290644868301544\n",
      "The f1 for Romance is 0.27786464150100515\n",
      "The f1 for Sci-Fi is 0.48336893500152583\n",
      "The f1 for Thriller is 0.2503940553929295\n"
     ]
    }
   ],
   "source": [
    "indiv_class_scores(np.stack(dev_set[\"binarized_labels\"]), preds, threshold = 0.5, metric = \"precision\")\n",
    "indiv_class_scores(np.stack(dev_set[\"binarized_labels\"]), preds, threshold=0.5, metric = \"recall\")\n",
    "indiv_class_scores(np.stack(dev_set[\"binarized_labels\"]), preds, threshold= 0.5, metric= \"f1\")"
   ]
  },
  {
   "cell_type": "code",
   "execution_count": 51,
   "metadata": {},
   "outputs": [
    {
     "name": "stdout",
     "output_type": "stream",
     "text": [
      "The micro precision is 0.8074074074074075\n",
      "The weighted macro precision is 0.8204505813639429\n",
      "The micro recall is 0.051693354907102605\n",
      "The weighted macro recall is 0.051693354907102605\n",
      "The micro f1 is 0.09716577960724679\n",
      "The weighted macro f1 is 0.09160909217793653\n"
     ]
    }
   ],
   "source": [
    "y_pred = preds >= 0.5\n",
    "micro_precision = precision_score(np.stack(dev_set[\"binarized_labels\"]), y_pred, average = 'micro')\n",
    "weighted_macro_precision = precision_score(np.stack(dev_set[\"binarized_labels\"]), y_pred, average = 'weighted')\n",
    "micro_recall = recall_score(np.stack(dev_set[\"binarized_labels\"]), y_pred, average = 'micro')\n",
    "weighted_macro_recall = recall_score(np.stack(dev_set[\"binarized_labels\"]), y_pred, average = 'weighted')\n",
    "micro_f1 = f1_score(np.stack(dev_set[\"binarized_labels\"]), y_pred, average = 'micro')\n",
    "weighted_macro_f1 = f1_score(np.stack(dev_set[\"binarized_labels\"]), y_pred, average = 'weighted')\n",
    "print(\"The micro precision is\", micro_precision)\n",
    "print(\"The weighted macro precision is\", weighted_macro_precision)\n",
    "print(\"The micro recall is\", micro_recall)\n",
    "print(\"The weighted macro recall is\", weighted_macro_recall)\n",
    "print(\"The micro f1 is\", micro_f1)\n",
    "print(\"The weighted macro f1 is\", weighted_macro_f1)\n"
   ]
  },
  {
   "cell_type": "code",
   "execution_count": 56,
   "metadata": {},
   "outputs": [],
   "source": [
    "def auc_pr(y_true, y_pred):\n",
    "    scores = []\n",
    "    for i in range(len(mlb.classes_)):\n",
    "        p, r, d = precision_recall_curve(y_true[:,i], y_pred[:,i])\n",
    "        score = auc(r,p)\n",
    "        scores.append(score)\n",
    "        print(\"The AUC for {} is {}\".format(mlb.classes_[i], score))\n",
    "    macro_score = np.mean(scores)\n",
    "    y_true_raveled = np.ravel(y_true)\n",
    "    y_pred_raveled = np.ravel(y_pred)\n",
    "    p, r, d = precision_recall_curve(y_true_raveled, y_pred_raveled)\n",
    "    micro_score = auc(r,p)\n",
    "    print(\"The micro-avg AUC is {}\".format(micro_score))\n",
    "    print(\"The macro-avg AUC is {}\".format(macro_score))\n",
    "\n"
   ]
  },
  {
   "cell_type": "code",
   "execution_count": 57,
   "metadata": {},
   "outputs": [
    {
     "name": "stdout",
     "output_type": "stream",
     "text": [
      "The AUC for Action is 0.4404298166696471\n",
      "The AUC for Adventure is 0.30503119881870777\n",
      "The AUC for Comedy is 0.6685707522569782\n",
      "The AUC for Crime is 0.292850583480725\n",
      "The AUC for Drama is 0.7334506500910531\n",
      "The AUC for Family is 0.33637495237237464\n",
      "The AUC for Horror is 0.5651785413887016\n",
      "The AUC for Romance is 0.2684617119448543\n",
      "The AUC for Sci-Fi is 0.5241379554589547\n",
      "The AUC for Thriller is 0.23545241323700378\n",
      "The micro-avg AUC is 0.4483413542011898\n",
      "The macro-avg AUC is 0.43699385757190007\n"
     ]
    }
   ],
   "source": [
    "auc_pr(np.stack(dev_set[\"binarized_labels\"]), preds)"
   ]
  },
  {
   "cell_type": "markdown",
   "metadata": {},
   "source": [
    "# BOW-Neural sum of embeddings"
   ]
  },
  {
   "cell_type": "markdown",
   "metadata": {},
   "source": [
    "## Load Word Embeddings"
   ]
  },
  {
   "cell_type": "code",
   "execution_count": null,
   "metadata": {},
   "outputs": [],
   "source": [
    "def loadEmbed(file):\n",
    "    start = time.time()\n",
    "    print(\"Loading Embeddings\")\n",
    "    f = open(file, 'r', encoding='utf-8')\n",
    "    model = {}\n",
    "    status_every = 100000\n",
    "    for i, line in enumerate(f):\n",
    "        if i%status_every == 0:\n",
    "            print('Processing line {:,}'.format(i))\n",
    "        splitLine = line.split()\n",
    "        word = splitLine[0]\n",
    "        embedding = np.array([float(val) for val in splitLine[1:]])\n",
    "        model[word] = embedding\n",
    "    print(\"Done.\",'{:,}'.format(len(model)),\" words loaded!\")\n",
    "    end = time.time()\n",
    "    print(\"Total Time to load embeddings:\", end - start, \"seconds\")\n",
    "    return model"
   ]
  },
  {
   "cell_type": "code",
   "execution_count": null,
   "metadata": {},
   "outputs": [],
   "source": [
    "#TOO LARGE TO PUSH TO GIT, DOWNLOAD SEPARATLEY FROM https://github.com/stanfordnlp/GloVe\n",
    "glove_dir = './glove.6B/'\n",
    "glove_filename = 'glove.6B.300d.txt'\n",
    "glove_fullpath = glove_dir + glove_filename\n",
    "glove_dd = loadEmbed(glove_fullpath)"
   ]
  },
  {
   "cell_type": "markdown",
   "metadata": {},
   "source": [
    "# Read Full Data and Generate Embeddings for BOW"
   ]
  },
  {
   "cell_type": "code",
   "execution_count": null,
   "metadata": {},
   "outputs": [],
   "source": [
    "full_data[\"plot_lengths\"] = full_data[\"flattened_tokens\"].apply(lambda row: len(row))"
   ]
  },
  {
   "cell_type": "code",
   "execution_count": null,
   "metadata": {},
   "outputs": [],
   "source": [
    "print(np.percentile(full_data[\"plot_lengths\"],75))\n",
    "plt.hist(full_data[\"plot_lengths\"])"
   ]
  },
  {
   "cell_type": "code",
   "execution_count": null,
   "metadata": {},
   "outputs": [],
   "source": [
    "def embed_plot_BOW(plot):\n",
    "    word_embeddings = np.array([glove_dd.get(word, glove_dd.get(\"unk\")) for word in plot]).astype(np.float32)\n",
    "    sentence_embedding = [sum(dim) for dim in zip(*word_embeddings)]\n",
    "    return np.array(sentence_embedding)"
   ]
  },
  {
   "cell_type": "code",
   "execution_count": null,
   "metadata": {},
   "outputs": [],
   "source": [
    "print(\"Embedding plots...\")\n",
    "start = time.time()\n",
    "full_data[\"flattened_embeddings\"] = full_data[\"flattened_tokens\"].apply(lambda row: embed_plot_BOW(row))\n",
    "end = time.time()\n",
    "print(\"Total Time to embed plots:\", end - start, \"seconds\")"
   ]
  },
  {
   "cell_type": "code",
   "execution_count": null,
   "metadata": {},
   "outputs": [],
   "source": [
    "#full_data.to_pickle(\"./full_data_w_flattened_embeddings.pkl\")"
   ]
  },
  {
   "cell_type": "code",
   "execution_count": null,
   "metadata": {},
   "outputs": [],
   "source": [
    "#full_data = pd.read_pickle(\"./full_data_w_flattened_embeddings.pkl\")"
   ]
  },
  {
   "cell_type": "code",
   "execution_count": null,
   "metadata": {},
   "outputs": [],
   "source": [
    "full_data_sample = full_data.iloc[0:2] #sample to start with"
   ]
  },
  {
   "cell_type": "code",
   "execution_count": null,
   "metadata": {},
   "outputs": [],
   "source": [
    "train_set, test_set = train_test_split(full_data, test_size=0.10, random_state=42)\n",
    "\n",
    "#Separate training set into train and dev. Roughly 80% of original data is train, 10% dev, 10% test\n",
    "train_set, dev_set = train_test_split(train_set, test_size=0.11, random_state=42)\n",
    "\n",
    "mlb = MultiLabelBinarizer()\n",
    "y_train = mlb.fit_transform(full_data[\"list_genres_consol\"])"
   ]
  },
  {
   "cell_type": "code",
   "execution_count": null,
   "metadata": {},
   "outputs": [],
   "source": [
    "x_train_bow_embed = np.stack(train_set[\"flattened_embeddings\"])\n",
    "#y_train = np.stack(y_train.values)\n",
    "x_dev_bow_embed = np.stack(dev_set[\"flattened_embeddings\"])\n",
    "#y_test = np.stack(y_test.values)\n",
    "x_test_bow_embed = np.stack(test_set[\"flattened_embeddings\"])"
   ]
  },
  {
   "cell_type": "markdown",
   "metadata": {},
   "source": [
    "# MODEL"
   ]
  },
  {
   "cell_type": "code",
   "execution_count": null,
   "metadata": {},
   "outputs": [],
   "source": [
    "model_bow_embed = Sequential()\n",
    "model_bow_embed.add(Dense(100, input_shape=(x_train_bow_embed[1],), activation='tanh'))\n",
    "model_bow_embed.add(Dropout(0.5))\n",
    "model_bow_embed.add(Dense(mlb.classes_.shape[0], activation='sigmoid'))\n",
    "model_bow_embed.compile(loss='binary_crossentropy', optimizer='adam', metrics = [\"accuracy\"])\n",
    "model_bow_embed.fit(x_train_bow_embed, np.stack(train_set[\"binarized_labels\"]), epochs = 10, batch_size = 1000)\n"
   ]
  },
  {
   "cell_type": "code",
   "execution_count": null,
   "metadata": {},
   "outputs": [],
   "source": [
    "preds_bow_embed = model_bow_embed.predict(x_dev_bow_embed)"
   ]
  },
  {
   "cell_type": "code",
   "execution_count": null,
   "metadata": {},
   "outputs": [],
   "source": [
    "indiv_class_scores(np.stack(dev_set[\"binarized_labels\"]), preds, threshold = 0.5, metric = \"precision\")\n",
    "indiv_class_scores(np.stack(dev_set[\"binarized_labels\"]), preds, threshold=0.5, metric = \"recall\")\n",
    "indiv_class_scores(np.stack(dev_set[\"binarized_labels\"]), preds, threshold= 0.5, metric= \"f1\")\n",
    "\n",
    "y_pred = preds_bow_embed >= 0.5\n",
    "micro_precision = precision_score(np.stack(dev_set[\"binarized_labels\"]), y_pred, average = 'micro')\n",
    "weighted_macro_precision = precision_score(np.stack(dev_set[\"binarized_labels\"]), y_pred, average = 'weighted')\n",
    "micro_recall = recall_score(np.stack(dev_set[\"binarized_labels\"]), y_pred, average = 'micro')\n",
    "weighted_macro_recall = recall_score(np.stack(dev_set[\"binarized_labels\"]), y_pred, average = 'weighted')\n",
    "micro_f1 = f1_score(np.stack(dev_set[\"binarized_labels\"]), y_pred, average = 'micro')\n",
    "weighted_macro_f1 = f1_score(np.stack(dev_set[\"binarized_labels\"]), y_pred, average = 'weighted')\n",
    "print(\"The micro precision is\", micro_precision)\n",
    "print(\"The weighted macro precision is\", weighted_macro_precision)\n",
    "print(\"The micro recall is\", micro_recall)\n",
    "print(\"The weighted macro recall is\", weighted_macro_recall)\n",
    "print(\"The micro f1 is\", micro_f1)\n",
    "print(\"The weighted macro f1 is\", weighted_macro_f1)\n",
    "\n",
    "auc_pr(np.stack(dev_set[\"binarized_labels\"]), preds_bow_embed)\n"
   ]
  },
  {
   "cell_type": "markdown",
   "metadata": {},
   "source": [
    "# BI_DIRECTIONAL LSTM -- IGNORE EVERYTHING BELOW"
   ]
  },
  {
   "cell_type": "code",
   "execution_count": null,
   "metadata": {},
   "outputs": [],
   "source": [
    "embedding_matrix = np.load(\"embed_matrix.npy\")"
   ]
  },
  {
   "cell_type": "code",
   "execution_count": null,
   "metadata": {},
   "outputs": [],
   "source": [
    "MAX_NB_WORDS = 80000\n",
    "EMBEDDING_DIM = 100\n",
    "MAX_SENT_LENGTH = 15\n",
    "REG_PARAM = 1e-13\n",
    "l2_reg = regularizers.l2(REG_PARAM)\n",
    "\n",
    "embedding_layer = Embedding(MAX_NB_WORDS + 1,\n",
    "                            EMBEDDING_DIM,\n",
    "                            weights=[embedding_matrix],\n",
    "                            input_length=75,\n",
    "                            embeddings_regularizer=l2_reg,\n",
    "                            mask_zero = True, #determines whether masking is performed, i.e. whether the layers ignore the padded zeros in shorter documents\n",
    "                            trainable=False) \n",
    "\n",
    "tokenizer = Tokenizer(num_words=MAX_NB_WORDS+1, oov_token='UNK')\n",
    "tokenizer.fit_on_texts(full_data['flattened_tokens'])"
   ]
  },
  {
   "cell_type": "code",
   "execution_count": null,
   "metadata": {},
   "outputs": [],
   "source": [
    "MAX_SENTS = 5\n",
    "data = np.zeros((len(full_data), MAX_SENTS, MAX_SENT_LENGTH), dtype='int32')\n",
    "doc_lst = []\n",
    "\n",
    "# keep the MAX_NB_WORDS most frequent words and replace the rest with 'UNK'\n",
    "# truncate to the first MAX_SENTS sentences per doc and MAX_SENT_LENGTH words per sentence\n",
    "\n",
    "for summary_num, row in full_data.iterrows():\n",
    "    for sent_num, sent in enumerate(row['tokenized_words']):\n",
    "        if sent_num < MAX_SENTS:\n",
    "            #wordTokens = text_to_word_sequence(sent)\n",
    "            word_num = 0\n",
    "            words_in_sent = []\n",
    "            for _, word in enumerate(sent):\n",
    "                if word_num < MAX_SENT_LENGTH: \n",
    "                    if (word in tokenizer.word_index) and (tokenizer.word_index[word] <= MAX_NB_WORDS):\n",
    "                        data[summary_num, sent_num, word_num] = tokenizer.word_index[word]\n",
    "                        words_in_sent.append(word)\n",
    "                    else:\n",
    "                        data[summary_num, sent_num, word_num] = MAX_NB_WORDS\n",
    "                        words_in_sent.append('UNK')\n",
    "                    word_num = word_num + 1\n",
    "            doc_lst.append(words_in_sent)"
   ]
  },
  {
   "cell_type": "code",
   "execution_count": null,
   "metadata": {},
   "outputs": [],
   "source": [
    "lstm_plot_data = data.reshape(len(full_data), -1) #collapse sentence length and max sents into single dimension\n",
    "X_train_lstm, X_test_lstm, y_train_lstm, y_test_lstm = train_test_split(lstm_plot_data, \n",
    "                                                    full_data[\"binarized_labels\"], test_size=0.20, random_state=42)\n",
    "\n",
    "# X_train_lstm = np.stack(X_train_lstm.values)\n",
    "y_train_lstm = np.stack(y_train_lstm.values)\n",
    "# X_test_lstm = np.stack(X_test_lstm.values)\n",
    "y_test_lstm = np.stack(y_test_lstm.values)"
   ]
  },
  {
   "cell_type": "code",
   "execution_count": null,
   "metadata": {},
   "outputs": [],
   "source": [
    "input_layer = Input(shape=(X_train_lstm.shape[1],), dtype='int32')\n",
    "embedded_plot = embedding_layer(input_layer)\n",
    "bilstm_layer = Bidirectional(LSTM(100))(embedded_plot)\n",
    "output_layer = Dense(units=mlb.classes_.shape[0], activation=\"sigmoid\")(bilstm_layer)\n",
    "LSTM_model = Model(inputs=input_layer, outputs= output_layer)\n",
    "LSTM_model.compile(loss='binary_crossentropy', optimizer='adam', metrics = [\"accuracy\"])\n",
    "LSTM_model.fit(X_train_lstm, y_train_lstm, epochs = 1, batch_size = 100)\n",
    "preds_LSTM = LSTM_model.predict(X_test_lstm)"
   ]
  },
  {
   "cell_type": "code",
   "execution_count": null,
   "metadata": {},
   "outputs": [],
   "source": [
    "indiv_class_scores(y_test_lstm, preds_LSTM, threshold = 0.5, metric = \"precision\")"
   ]
  },
  {
   "cell_type": "code",
   "execution_count": null,
   "metadata": {},
   "outputs": [],
   "source": [
    "indiv_class_scores(y_test_lstm, preds_LSTM, threshold = 0.5, metric = \"recall\")"
   ]
  },
  {
   "cell_type": "code",
   "execution_count": null,
   "metadata": {},
   "outputs": [],
   "source": [
    "indiv_class_scores(y_test_lstm, preds_LSTM, threshold = 0.5, metric = \"f1\")"
   ]
  },
  {
   "cell_type": "code",
   "execution_count": null,
   "metadata": {},
   "outputs": [],
   "source": [
    "y_pred_LSTM = preds_LSTM >= 0.5\n",
    "micro_precision = precision_score(y_test_lstm, y_pred_LSTM, average = 'micro')\n",
    "weighted_macro_precision = precision_score(y_test_lstm, y_pred_LSTM, average = 'weighted')\n",
    "micro_recall = recall_score(y_test_lstm, y_pred_LSTM, average = 'micro')\n",
    "weighted_macro_recall = recall_score(y_test_lstm, y_pred_LSTM, average = 'weighted')\n",
    "micro_f1 = f1_score(y_test_lstm, y_pred_LSTM, average = 'micro')\n",
    "weighted_macro_f1 = f1_score(y_test_lstm, y_pred_LSTM, average = 'weighted')"
   ]
  },
  {
   "cell_type": "code",
   "execution_count": null,
   "metadata": {},
   "outputs": [],
   "source": [
    "print(\"The micro precision is\", micro_precision)\n",
    "print(\"The weighted macro precision is\", weighted_macro_precision)\n",
    "print(\"The micro recall is\", micro_recall)\n",
    "print(\"The weighted macro recall is\", weighted_macro_recall)\n",
    "print(\"The micro f1 is\", micro_f1)\n",
    "print(\"The weighted macro f1 is\", weighted_macro_f1)"
   ]
  },
  {
   "cell_type": "code",
   "execution_count": null,
   "metadata": {},
   "outputs": [],
   "source": []
  }
 ],
 "metadata": {
  "kernelspec": {
   "display_name": "Python 3",
   "language": "python",
   "name": "python3"
  },
  "language_info": {
   "codemirror_mode": {
    "name": "ipython",
    "version": 3
   },
   "file_extension": ".py",
   "mimetype": "text/x-python",
   "name": "python",
   "nbconvert_exporter": "python",
   "pygments_lexer": "ipython3",
   "version": "3.6.5"
  }
 },
 "nbformat": 4,
 "nbformat_minor": 2
}
