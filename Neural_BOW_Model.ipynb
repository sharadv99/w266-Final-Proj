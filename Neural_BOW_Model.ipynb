{
 "cells": [
  {
   "cell_type": "code",
   "execution_count": 4,
   "metadata": {},
   "outputs": [
    {
     "name": "stdout",
     "output_type": "stream",
     "text": [
      "Requirement already satisfied: Keras in /home/sharadv/anaconda3/lib/python3.6/site-packages (2.2.4)\n",
      "Requirement already satisfied: numpy>=1.9.1 in /home/sharadv/anaconda3/lib/python3.6/site-packages (from Keras) (1.14.3)\n",
      "Requirement already satisfied: keras-preprocessing>=1.0.5 in /home/sharadv/anaconda3/lib/python3.6/site-packages (from Keras) (1.0.9)\n",
      "Requirement already satisfied: pyyaml in /home/sharadv/anaconda3/lib/python3.6/site-packages (from Keras) (3.12)\n",
      "Requirement already satisfied: scipy>=0.14 in /home/sharadv/anaconda3/lib/python3.6/site-packages (from Keras) (1.1.0)\n",
      "Requirement already satisfied: h5py in /home/sharadv/anaconda3/lib/python3.6/site-packages (from Keras) (2.7.1)\n",
      "Requirement already satisfied: keras-applications>=1.0.6 in /home/sharadv/anaconda3/lib/python3.6/site-packages (from Keras) (1.0.7)\n",
      "Requirement already satisfied: six>=1.9.0 in /home/sharadv/anaconda3/lib/python3.6/site-packages (from Keras) (1.11.0)\n",
      "\u001b[33mYou are using pip version 18.1, however version 19.0.3 is available.\n",
      "You should consider upgrading via the 'pip install --upgrade pip' command.\u001b[0m\n"
     ]
    }
   ],
   "source": [
    "!pip install Keras\n",
    "import time\n",
    "import numpy as np\n",
    "import pandas as pd\n",
    "#import dill as pkl\n",
    "import pickle as pkl\n",
    "from matplotlib import pyplot as plt\n",
    "from collections import defaultdict\n",
    "import nltk\n",
    "import re\n",
    "import itertools\n",
    "import unittest\n",
    "import RegexTester\n",
    "from nltk.stem import WordNetLemmatizer\n",
    "import nltk\n",
    "from nltk.corpus import wordnet\n",
    "%matplotlib inline\n",
    "from keras.preprocessing.text import Tokenizer, text_to_word_sequence\n",
    "from keras.preprocessing.sequence import pad_sequences\n",
    "from keras.utils.np_utils import to_categorical\n",
    "from keras.optimizers import SGD\n",
    "\n",
    "from keras.layers import Embedding\n",
    "from keras.layers import Dense, Input, Flatten\n",
    "from keras.layers import Conv1D, MaxPooling1D, Embedding, Dropout, LSTM, GRU, Bidirectional, TimeDistributed\n",
    "from keras.models import Model, load_model, Sequential\n",
    "from keras import backend as K\n",
    "from keras.engine.topology import Layer, InputSpec\n",
    "from keras import initializers, regularizers, optimizers\n",
    "from keras.callbacks import History, CSVLogger\n",
    "from sklearn.model_selection import train_test_split\n",
    "from sklearn.preprocessing import MultiLabelBinarizer\n",
    "from sklearn.metrics import precision_score, recall_score, f1_score, precision_recall_curve, average_precision_score, auc"
   ]
  },
  {
   "cell_type": "markdown",
   "metadata": {},
   "source": [
    "# LOAD Pre-processed DATA from Analysis notebook"
   ]
  },
  {
   "cell_type": "code",
   "execution_count": 2,
   "metadata": {},
   "outputs": [],
   "source": [
    "full_data = pd.read_pickle(\"./full_data.pkl\")"
   ]
  },
  {
   "cell_type": "markdown",
   "metadata": {},
   "source": [
    "# TRAIN/TEST SPLIT"
   ]
  },
  {
   "cell_type": "code",
   "execution_count": 5,
   "metadata": {},
   "outputs": [],
   "source": [
    "train_set, test_set = train_test_split(full_data, test_size=0.10, random_state=42)\n",
    "\n",
    "#Separate training set into train and dev. Roughly 80% of original data is train, 10% dev, 10% test\n",
    "train_set, dev_set = train_test_split(train_set, test_size=0.11, random_state=42)"
   ]
  },
  {
   "cell_type": "markdown",
   "metadata": {},
   "source": [
    "# BoW TFIDF"
   ]
  },
  {
   "cell_type": "code",
   "execution_count": 6,
   "metadata": {},
   "outputs": [],
   "source": [
    "mlb = MultiLabelBinarizer()\n",
    "y_train = mlb.fit_transform(full_data[\"list_genres_consol\"])\n",
    "\n",
    "MAX_NB_WORDS = 80000\n",
    "tokenizer = Tokenizer(num_words=MAX_NB_WORDS)\n",
    "tokenizer.fit_on_texts(train_set['flattened_tokens'])"
   ]
  },
  {
   "cell_type": "code",
   "execution_count": 7,
   "metadata": {},
   "outputs": [
    {
     "name": "stdout",
     "output_type": "stream",
     "text": [
      "(179666, 80000)\n",
      "(22206, 80000)\n",
      "(22431, 80000)\n"
     ]
    }
   ],
   "source": [
    "x_train_bow = tokenizer.texts_to_matrix(train_set[\"flattened_tokens\"], mode=\"tfidf\")\n",
    "print(x_train_bow.shape)\n",
    "x_dev_bow = tokenizer.texts_to_matrix(dev_set[\"flattened_tokens\"], mode=\"tfidf\")\n",
    "print(x_dev_bow.shape)\n",
    "x_test_bow = tokenizer.texts_to_matrix(test_set[\"flattened_tokens\"], mode = \"tfidf\")\n",
    "print(x_test_bow.shape)"
   ]
  },
  {
   "cell_type": "code",
   "execution_count": 16,
   "metadata": {},
   "outputs": [
    {
     "name": "stdout",
     "output_type": "stream",
     "text": [
      "Epoch 1/10\n",
      "179666/179666 [==============================] - 144s 799us/step - loss: 0.3802 - acc: 0.8440\n",
      "Epoch 2/10\n",
      "179666/179666 [==============================] - 144s 800us/step - loss: 0.2649 - acc: 0.8947\n",
      "Epoch 3/10\n",
      "179666/179666 [==============================] - 143s 796us/step - loss: 0.2306 - acc: 0.9090\n",
      "Epoch 4/10\n",
      "179666/179666 [==============================] - 143s 795us/step - loss: 0.2066 - acc: 0.9193\n",
      "Epoch 5/10\n",
      "179666/179666 [==============================] - 143s 797us/step - loss: 0.1876 - acc: 0.9284\n",
      "Epoch 6/10\n",
      "179666/179666 [==============================] - 143s 798us/step - loss: 0.1718 - acc: 0.9357\n",
      "Epoch 7/10\n",
      "179666/179666 [==============================] - 143s 796us/step - loss: 0.1584 - acc: 0.9419\n",
      "Epoch 8/10\n",
      "179666/179666 [==============================] - 143s 798us/step - loss: 0.1469 - acc: 0.9473\n",
      "Epoch 9/10\n",
      "179666/179666 [==============================] - 143s 797us/step - loss: 0.1367 - acc: 0.9519\n",
      "Epoch 10/10\n",
      "179666/179666 [==============================] - 144s 800us/step - loss: 0.1277 - acc: 0.9560\n"
     ]
    },
    {
     "data": {
      "text/plain": [
       "<keras.callbacks.History at 0x7f7c7187c240>"
      ]
     },
     "execution_count": 16,
     "metadata": {},
     "output_type": "execute_result"
    }
   ],
   "source": [
    "model = Sequential()\n",
    "model.add(Dense(100, input_shape=(x_train_bow.shape[1],), activation='tanh'))\n",
    "model.add(Dense(mlb.classes_.shape[0], activation='sigmoid'))\n",
    "model.compile(loss='binary_crossentropy', optimizer='adam', metrics = [\"accuracy\"])\n",
    "model.fit(x_train_bow, np.stack(train_set[\"binarized_labels\"]), epochs = 10, batch_size = 10000)"
   ]
  },
  {
   "cell_type": "code",
   "execution_count": 18,
   "metadata": {},
   "outputs": [],
   "source": [
    "preds = model.predict(x_dev_bow)"
   ]
  },
  {
   "cell_type": "code",
   "execution_count": 27,
   "metadata": {},
   "outputs": [],
   "source": [
    "from keras.models import load_model\n",
    "model.save(\"BOW_tfidf_100dim_10kbatch.h5\")"
   ]
  },
  {
   "cell_type": "markdown",
   "metadata": {},
   "source": [
    "# EVAL METRICS"
   ]
  },
  {
   "cell_type": "code",
   "execution_count": 19,
   "metadata": {},
   "outputs": [],
   "source": [
    "def indiv_class_scores(y_true, y_pred, threshold, metric = None):\n",
    "    y_pred = y_pred >= threshold\n",
    "    for i in range(len(mlb.classes_)):\n",
    "        if metric == \"precision\":\n",
    "            score = precision_score(y_true[:,i], y_pred[:,i])\n",
    "            print(\"The {} for {} is {}\".format(metric, mlb.classes_[i], score))\n",
    "        elif metric == \"recall\":\n",
    "            score = recall_score(y_true[:,i], y_pred[:,i])\n",
    "            print(\"The {} for {} is {}\".format(metric, mlb.classes_[i], score))\n",
    "        elif metric == \"f1\":\n",
    "            score = f1_score(y_true[:,i], y_pred[:,i])\n",
    "            print(\"The {} for {} is {}\".format(metric, mlb.classes_[i], score))\n",
    "        else:\n",
    "            return \"Not a valid metric\""
   ]
  },
  {
   "cell_type": "code",
   "execution_count": 21,
   "metadata": {},
   "outputs": [
    {
     "name": "stdout",
     "output_type": "stream",
     "text": [
      "The precision for Action is 0.5737704918032787\n",
      "The precision for Adventure is 0.5289017341040463\n",
      "The precision for Comedy is 0.6805076778439361\n",
      "The precision for Crime is 0.5335786568537259\n",
      "The precision for Drama is 0.7062103929024081\n",
      "The precision for Family is 0.5303030303030303\n",
      "The precision for Horror is 0.6755994358251057\n",
      "The precision for Romance is 0.4307795698924731\n",
      "The precision for Sci-Fi is 0.7091295116772823\n",
      "The precision for Thriller is 0.4425319267073848\n",
      "The recall for Action is 0.4221954161640531\n",
      "The recall for Adventure is 0.3053392658509455\n",
      "The recall for Comedy is 0.6143726128165229\n",
      "The recall for Crime is 0.3111587982832618\n",
      "The recall for Drama is 0.7250173490631506\n",
      "The recall for Family is 0.3172709923664122\n",
      "The recall for Horror is 0.48530901722391084\n",
      "The recall for Romance is 0.2351430667644901\n",
      "The recall for Sci-Fi is 0.4510465901417961\n",
      "The recall for Thriller is 0.2823237690400283\n",
      "The f1 for Action is 0.4864489228630994\n",
      "The f1 for Adventure is 0.38716502115655854\n",
      "The f1 for Comedy is 0.6457512452605755\n",
      "The f1 for Crime is 0.3930870891223314\n",
      "The f1 for Drama is 0.7154903051834096\n",
      "The f1 for Family is 0.3970149253731343\n",
      "The f1 for Horror is 0.5648584905660378\n",
      "The f1 for Romance is 0.30422401518747033\n",
      "The f1 for Sci-Fi is 0.5513825835740817\n",
      "The f1 for Thriller is 0.3447231833910035\n"
     ]
    }
   ],
   "source": [
    "indiv_class_scores(np.stack(dev_set[\"binarized_labels\"]), preds, threshold = 0.5, metric = \"precision\")\n",
    "indiv_class_scores(np.stack(dev_set[\"binarized_labels\"]), preds, threshold=0.5, metric = \"recall\")\n",
    "indiv_class_scores(np.stack(dev_set[\"binarized_labels\"]), preds, threshold= 0.5, metric= \"f1\")"
   ]
  },
  {
   "cell_type": "code",
   "execution_count": 23,
   "metadata": {},
   "outputs": [
    {
     "name": "stdout",
     "output_type": "stream",
     "text": [
      "The micro precision is 0.6400343938091143\n",
      "The weighted macro precision is 0.6205202062354715\n",
      "The micro recall is 0.5191374211906489\n",
      "The weighted macro recall is 0.5191374211906489\n",
      "The micro f1 is 0.5732813727453366\n",
      "The weighted macro f1 is 0.5584406367955116\n"
     ]
    }
   ],
   "source": [
    "y_pred = preds >= 0.5\n",
    "micro_precision = precision_score(np.stack(dev_set[\"binarized_labels\"]), y_pred, average = 'micro')\n",
    "weighted_macro_precision = precision_score(np.stack(dev_set[\"binarized_labels\"]), y_pred, average = 'weighted')\n",
    "micro_recall = recall_score(np.stack(dev_set[\"binarized_labels\"]), y_pred, average = 'micro')\n",
    "weighted_macro_recall = recall_score(np.stack(dev_set[\"binarized_labels\"]), y_pred, average = 'weighted')\n",
    "micro_f1 = f1_score(np.stack(dev_set[\"binarized_labels\"]), y_pred, average = 'micro')\n",
    "weighted_macro_f1 = f1_score(np.stack(dev_set[\"binarized_labels\"]), y_pred, average = 'weighted')\n",
    "print(\"The micro precision is\", micro_precision)\n",
    "print(\"The weighted macro precision is\", weighted_macro_precision)\n",
    "print(\"The micro recall is\", micro_recall)\n",
    "print(\"The weighted macro recall is\", weighted_macro_recall)\n",
    "print(\"The micro f1 is\", micro_f1)\n",
    "print(\"The weighted macro f1 is\", weighted_macro_f1)\n"
   ]
  },
  {
   "cell_type": "code",
   "execution_count": 24,
   "metadata": {},
   "outputs": [
    {
     "name": "stdout",
     "output_type": "stream",
     "text": [
      "The AUC for Action is 0.5163846595510063\n",
      "The AUC for Adventure is 0.39430045355531806\n",
      "The AUC for Comedy is 0.7200882911332489\n",
      "The AUC for Crime is 0.41472152644324606\n",
      "The AUC for Drama is 0.7539749320764856\n",
      "The AUC for Family is 0.44027039078746344\n",
      "The AUC for Horror is 0.6114856955684589\n",
      "The AUC for Romance is 0.33176161535522886\n",
      "The AUC for Sci-Fi is 0.5880351494945427\n",
      "The AUC for Thriller is 0.37894109698092066\n",
      "The micro-avg AUC is 0.620593828076398\n",
      "The macro-avg AUC is 0.5149963810945919\n"
     ]
    }
   ],
   "source": [
    "def auc_pr(y_true, y_pred):\n",
    "    scores = []\n",
    "    for i in range(len(mlb.classes_)):\n",
    "        p, r, d = precision_recall_curve(y_true[:,i], y_pred[:,i])\n",
    "        score = auc(r,p)\n",
    "        scores.append(score)\n",
    "        print(\"The AUC for {} is {}\".format(mlb.classes_[i], score))\n",
    "    macro_score = np.mean(scores)\n",
    "    y_true_raveled = np.ravel(y_true)\n",
    "    y_pred_raveled = np.ravel(y_pred)\n",
    "    p, r, d = precision_recall_curve(y_true_raveled, y_pred_raveled)\n",
    "    micro_score = auc(r,p)\n",
    "    print(\"The micro-avg AUC is {}\".format(micro_score))\n",
    "    print(\"The macro-avg AUC is {}\".format(macro_score))\n",
    "\n",
    "auc_pr(np.stack(dev_set[\"binarized_labels\"]), preds)"
   ]
  },
  {
   "cell_type": "markdown",
   "metadata": {},
   "source": [
    "# Load Word Embeddings"
   ]
  },
  {
   "cell_type": "code",
   "execution_count": 2,
   "metadata": {},
   "outputs": [],
   "source": [
    "def loadEmbed(file):\n",
    "    start = time.time()\n",
    "    print(\"Loading Embeddings\")\n",
    "    f = open(file, 'r', encoding='utf-8')\n",
    "    model = {}\n",
    "    status_every = 100000\n",
    "    for i, line in enumerate(f):\n",
    "        if i%status_every == 0:\n",
    "            print('Processing line {:,}'.format(i))\n",
    "        splitLine = line.split()\n",
    "        word = splitLine[0]\n",
    "        embedding = np.array([float(val) for val in splitLine[1:]])\n",
    "        model[word] = embedding\n",
    "    print(\"Done.\",'{:,}'.format(len(model)),\" words loaded!\")\n",
    "    end = time.time()\n",
    "    print(\"Total Time to load embeddings:\", end - start, \"seconds\")\n",
    "    return model"
   ]
  },
  {
   "cell_type": "code",
   "execution_count": 3,
   "metadata": {},
   "outputs": [
    {
     "name": "stdout",
     "output_type": "stream",
     "text": [
      "Loading Embeddings\n",
      "Processing line 0\n",
      "Processing line 100,000\n",
      "Processing line 200,000\n",
      "Processing line 300,000\n",
      "Processing line 400,000\n",
      "Done. 400,001  words loaded!\n",
      "Total Time to load embeddings: 42.814167976379395 seconds\n"
     ]
    }
   ],
   "source": [
    "#TOO LARGE TO PUSH TO GIT, DOWNLOAD SEPARATLEY FROM https://github.com/stanfordnlp/GloVe\n",
    "glove_dir = './glove.6B/'\n",
    "glove_filename = 'glove.6B.300d.txt'\n",
    "glove_fullpath = glove_dir + glove_filename\n",
    "glove_dd = loadEmbed(glove_fullpath)"
   ]
  },
  {
   "cell_type": "markdown",
   "metadata": {},
   "source": [
    "# Read Full Data and Generate Embeddings for BOW"
   ]
  },
  {
   "cell_type": "code",
   "execution_count": 8,
   "metadata": {},
   "outputs": [],
   "source": [
    "full_data[\"plot_lengths\"] = full_data[\"flattened_tokens\"].apply(lambda row: len(row))"
   ]
  },
  {
   "cell_type": "code",
   "execution_count": 41,
   "metadata": {},
   "outputs": [
    {
     "name": "stdout",
     "output_type": "stream",
     "text": [
      "61.0\n"
     ]
    },
    {
     "data": {
      "text/plain": [
       "(array([7.0940e+03, 1.0725e+05, 7.3764e+04, 4.0858e+04, 1.9968e+04,\n",
       "        6.4460e+03, 3.8200e+02, 4.9000e+01, 3.4000e+01, 8.0000e+00]),\n",
       " array([  4. ,  22.4,  40.8,  59.2,  77.6,  96. , 114.4, 132.8, 151.2,\n",
       "        169.6, 188. ]),\n",
       " <a list of 10 Patch objects>)"
      ]
     },
     "execution_count": 41,
     "metadata": {},
     "output_type": "execute_result"
    },
    {
     "data": {
      "image/png": "[encoded data removed]",
      "text/plain": [
       "<Figure size 432x288 with 1 Axes>"
      ]
     },
     "metadata": {},
     "output_type": "display_data"
    }
   ],
   "source": [
    "print(np.percentile(full_data[\"plot_lengths\"],75))\n",
    "plt.hist(full_data[\"plot_lengths\"])"
   ]
  },
  {
   "cell_type": "code",
   "execution_count": 126,
   "metadata": {},
   "outputs": [],
   "source": [
    "def embed_plot_BOW(plot):\n",
    "    word_embeddings = np.array([glove_dd.get(word, glove_dd.get(\"unk\")) for word in plot]).astype(np.float32)\n",
    "    sentence_embedding = [sum(dim) for dim in zip(*word_embeddings)]\n",
    "    return np.array(sentence_embedding)"
   ]
  },
  {
   "cell_type": "code",
   "execution_count": 128,
   "metadata": {},
   "outputs": [
    {
     "name": "stdout",
     "output_type": "stream",
     "text": [
      "Embedding plots...\n",
      "Total Time to embed plots: 813.7513613700867 seconds\n"
     ]
    }
   ],
   "source": [
    "print(\"Embedding plots...\")\n",
    "start = time.time()\n",
    "full_data[\"flattened_embeddings\"] = full_data[\"flattened_tokens\"].apply(lambda row: embed_plot_BOW(row))\n",
    "end = time.time()\n",
    "print(\"Total Time to embed plots:\", end - start, \"seconds\")"
   ]
  },
  {
   "cell_type": "code",
   "execution_count": 129,
   "metadata": {},
   "outputs": [],
   "source": [
    "full_data.to_pickle(\"./full_data_w_flattened_embeddings.pkl\")"
   ]
  },
  {
   "cell_type": "code",
   "execution_count": 9,
   "metadata": {},
   "outputs": [],
   "source": [
    "full_data = pd.read_pickle(\"./full_data_w_flattened_embeddings.pkl\")"
   ]
  },
  {
   "cell_type": "code",
   "execution_count": 10,
   "metadata": {},
   "outputs": [],
   "source": [
    "full_data_sample = full_data.iloc[0:2] #sample to start with"
   ]
  },
  {
   "cell_type": "code",
   "execution_count": 11,
   "metadata": {},
   "outputs": [],
   "source": [
    "from sklearn.model_selection import train_test_split\n",
    "X_train, X_test, y_train, y_test = train_test_split(full_data[\"flattened_embeddings\"], \n",
    "                                                    full_data[\"binarized_labels\"], test_size=0.20, random_state=42)\n",
    "#x_train = np.stack(full_data_sample[\"flattened_embeddings\"].values)"
   ]
  },
  {
   "cell_type": "code",
   "execution_count": 12,
   "metadata": {},
   "outputs": [],
   "source": [
    "X_train_sample = np.stack(X_train[0:100].values)\n",
    "y_train_sample = np.stack(y_train[0:100].values)\n",
    "X_test_sample = np.stack(X_test[0:100].values)\n",
    "y_test_sample = np.stack(y_test[0:100].values)\n",
    "X_train = np.stack(X_train.values)\n",
    "y_train = np.stack(y_train.values)\n",
    "X_test = np.stack(X_test.values)\n",
    "y_test = np.stack(y_test.values)"
   ]
  },
  {
   "cell_type": "markdown",
   "metadata": {},
   "source": [
    "# MODEL"
   ]
  },
  {
   "cell_type": "code",
   "execution_count": 13,
   "metadata": {},
   "outputs": [
    {
     "name": "stdout",
     "output_type": "stream",
     "text": [
      "Epoch 1/5\n",
      "204682/204682 [==============================] - 8s 41us/step - loss: 0.2120 - acc: 0.9198\n",
      "Epoch 2/5\n",
      "204682/204682 [==============================] - 7s 33us/step - loss: 0.1981 - acc: 0.9236\n",
      "Epoch 3/5\n",
      "204682/204682 [==============================] - 7s 34us/step - loss: 0.1961 - acc: 0.9242\n",
      "Epoch 4/5\n",
      "204682/204682 [==============================] - 7s 33us/step - loss: 0.1951 - acc: 0.9245\n",
      "Epoch 5/5\n",
      "204682/204682 [==============================] - 7s 33us/step - loss: 0.1943 - acc: 0.9248\n"
     ]
    }
   ],
   "source": [
    "model = Sequential()\n",
    "model.add(Dense(100, input_shape=(X_train.shape[1],), activation='tanh'))\n",
    "model.add(Dense(mlb.classes_.shape[0], activation='sigmoid'))\n",
    "model.compile(loss='binary_crossentropy', optimizer='adam', metrics = [\"accuracy\"])\n",
    "model.fit(X_train, y_train, epochs = 5, batch_size = 100)\n",
    "preds = model.predict(X_test)"
   ]
  },
  {
   "cell_type": "markdown",
   "metadata": {},
   "source": [
    "# BI_DIRECTIONAL LSTM"
   ]
  },
  {
   "cell_type": "code",
   "execution_count": 34,
   "metadata": {},
   "outputs": [],
   "source": [
    "embedding_matrix = np.load(\"embed_matrix.npy\")"
   ]
  },
  {
   "cell_type": "code",
   "execution_count": 66,
   "metadata": {},
   "outputs": [],
   "source": [
    "MAX_NB_WORDS = 80000\n",
    "EMBEDDING_DIM = 100\n",
    "MAX_SENT_LENGTH = 15\n",
    "REG_PARAM = 1e-13\n",
    "l2_reg = regularizers.l2(REG_PARAM)\n",
    "\n",
    "embedding_layer = Embedding(MAX_NB_WORDS + 1,\n",
    "                            EMBEDDING_DIM,\n",
    "                            weights=[embedding_matrix],\n",
    "                            input_length=75,\n",
    "                            embeddings_regularizer=l2_reg,\n",
    "                            mask_zero = True, #determines whether masking is performed, i.e. whether the layers ignore the padded zeros in shorter documents\n",
    "                            trainable=False) \n",
    "\n",
    "tokenizer = Tokenizer(num_words=MAX_NB_WORDS+1, oov_token='UNK')\n",
    "tokenizer.fit_on_texts(full_data['flattened_tokens'])"
   ]
  },
  {
   "cell_type": "code",
   "execution_count": 67,
   "metadata": {},
   "outputs": [],
   "source": [
    "MAX_SENTS = 5\n",
    "data = np.zeros((len(full_data), MAX_SENTS, MAX_SENT_LENGTH), dtype='int32')\n",
    "doc_lst = []\n",
    "\n",
    "# keep the MAX_NB_WORDS most frequent words and replace the rest with 'UNK'\n",
    "# truncate to the first MAX_SENTS sentences per doc and MAX_SENT_LENGTH words per sentence\n",
    "\n",
    "for summary_num, row in full_data.iterrows():\n",
    "    for sent_num, sent in enumerate(row['tokenized_words']):\n",
    "        if sent_num < MAX_SENTS:\n",
    "            #wordTokens = text_to_word_sequence(sent)\n",
    "            word_num = 0\n",
    "            words_in_sent = []\n",
    "            for _, word in enumerate(sent):\n",
    "                if word_num < MAX_SENT_LENGTH: \n",
    "                    if (word in tokenizer.word_index) and (tokenizer.word_index[word] <= MAX_NB_WORDS):\n",
    "                        data[summary_num, sent_num, word_num] = tokenizer.word_index[word]\n",
    "                        words_in_sent.append(word)\n",
    "                    else:\n",
    "                        data[summary_num, sent_num, word_num] = MAX_NB_WORDS\n",
    "                        words_in_sent.append('UNK')\n",
    "                    word_num = word_num + 1\n",
    "            doc_lst.append(words_in_sent)"
   ]
  },
  {
   "cell_type": "code",
   "execution_count": 68,
   "metadata": {},
   "outputs": [],
   "source": [
    "lstm_plot_data = data.reshape(len(full_data), -1) #collapse sentence length and max sents into single dimension\n",
    "X_train_lstm, X_test_lstm, y_train_lstm, y_test_lstm = train_test_split(lstm_plot_data, \n",
    "                                                    full_data[\"binarized_labels\"], test_size=0.20, random_state=42)\n",
    "\n",
    "# X_train_lstm = np.stack(X_train_lstm.values)\n",
    "y_train_lstm = np.stack(y_train_lstm.values)\n",
    "# X_test_lstm = np.stack(X_test_lstm.values)\n",
    "y_test_lstm = np.stack(y_test_lstm.values)"
   ]
  },
  {
   "cell_type": "code",
   "execution_count": 72,
   "metadata": {},
   "outputs": [
    {
     "name": "stdout",
     "output_type": "stream",
     "text": [
      "Epoch 1/1\n",
      "204682/204682 [==============================] - 1319s 6ms/step - loss: 0.2538 - acc: 0.9111\n"
     ]
    }
   ],
   "source": [
    "input_layer = Input(shape=(X_train_lstm.shape[1],), dtype='int32')\n",
    "embedded_plot = embedding_layer(input_layer)\n",
    "bilstm_layer = Bidirectional(LSTM(100))(embedded_plot)\n",
    "output_layer = Dense(units=mlb.classes_.shape[0], activation=\"sigmoid\")(bilstm_layer)\n",
    "LSTM_model = Model(inputs=input_layer, outputs= output_layer)\n",
    "LSTM_model.compile(loss='binary_crossentropy', optimizer='adam', metrics = [\"accuracy\"])\n",
    "LSTM_model.fit(X_train_lstm, y_train_lstm, epochs = 1, batch_size = 100)\n",
    "preds_LSTM = LSTM_model.predict(X_test_lstm)"
   ]
  },
  {
   "cell_type": "code",
   "execution_count": 73,
   "metadata": {},
   "outputs": [
    {
     "name": "stdout",
     "output_type": "stream",
     "text": [
      "The precision for Action is 0.6\n",
      "The precision for Adventure is 0.5\n",
      "The precision for Animation is 0.7567567567567568\n",
      "The precision for Biography is 0.5192307692307693\n",
      "The precision for Comedy is 0.6819727891156463\n",
      "The precision for Crime is 0.4148936170212766\n",
      "The precision for Drama is 0.6397024397856734\n",
      "The precision for Family is 0.0\n",
      "The precision for Fantasy is 0.0\n",
      "The precision for History is 0.5517241379310345\n",
      "The precision for Horror is 1.0\n",
      "The precision for Music is 0.7223719676549866\n",
      "The precision for Musical is 0.0\n",
      "The precision for Mystery is 0.0\n",
      "The precision for Romance is 0.5348837209302325\n",
      "The precision for Sci-Fi is 0.7784810126582279\n",
      "The precision for Sport is 0.6666666666666666\n",
      "The precision for Thriller is 0.5586206896551724\n",
      "The precision for War is 0.5291479820627802\n",
      "The precision for Western is 0.0\n"
     ]
    },
    {
     "name": "stderr",
     "output_type": "stream",
     "text": [
      "/home/sharadv/anaconda3/lib/python3.6/site-packages/sklearn/metrics/classification.py:1135: UndefinedMetricWarning: Precision is ill-defined and being set to 0.0 due to no predicted samples.\n",
      "  'precision', 'predicted', average, warn_for)\n"
     ]
    }
   ],
   "source": [
    "indiv_class_scores(y_test_lstm, preds_LSTM, threshold = 0.5, metric = \"precision\")"
   ]
  },
  {
   "cell_type": "code",
   "execution_count": 74,
   "metadata": {},
   "outputs": [
    {
     "name": "stdout",
     "output_type": "stream",
     "text": [
      "The recall for Action is 0.009626955475330927\n",
      "The recall for Adventure is 0.0005635390250774866\n",
      "The recall for Animation is 0.017789072426937738\n",
      "The recall for Biography is 0.010044642857142858\n",
      "The recall for Comedy is 0.13960451190641973\n",
      "The recall for Crime is 0.01047823750671682\n",
      "The recall for Drama is 0.5216118769883351\n",
      "The recall for Family is 0.0\n",
      "The recall for Fantasy is 0.0\n",
      "The recall for History is 0.006415396952686447\n",
      "The recall for Horror is 0.0018036588508116465\n",
      "The recall for Music is 0.3182897862232779\n",
      "The recall for Musical is 0.0\n",
      "The recall for Mystery is 0.0\n",
      "The recall for Romance is 0.02459016393442623\n",
      "The recall for Sci-Fi is 0.043647977288857345\n",
      "The recall for Sport is 0.0016992353440951572\n",
      "The recall for Thriller is 0.014263074484944533\n",
      "The recall for War is 0.07914151576123407\n",
      "The recall for Western is 0.0\n"
     ]
    }
   ],
   "source": [
    "indiv_class_scores(y_test_lstm, preds_LSTM, threshold = 0.5, metric = \"recall\")"
   ]
  },
  {
   "cell_type": "code",
   "execution_count": 75,
   "metadata": {},
   "outputs": [
    {
     "name": "stdout",
     "output_type": "stream",
     "text": [
      "The f1 for Action is 0.0189498618239242\n",
      "The f1 for Adventure is 0.001125809175344779\n",
      "The f1 for Animation is 0.03476101800124147\n",
      "The f1 for Biography is 0.01970802919708029\n",
      "The f1 for Comedy is 0.2317651138596694\n",
      "The f1 for Crime is 0.020440251572327043\n",
      "The f1 for Drama is 0.5746530211692135\n",
      "The f1 for Family is 0.0\n",
      "The f1 for Fantasy is 0.0\n",
      "The f1 for History is 0.012683313515655966\n",
      "The f1 for Horror is 0.0036008230452674894\n",
      "The f1 for Music is 0.4418796372629843\n",
      "The f1 for Musical is 0.0\n",
      "The f1 for Mystery is 0.0\n",
      "The f1 for Romance is 0.047018739352640546\n",
      "The f1 for Sci-Fi is 0.08266129032258064\n",
      "The f1 for Sport is 0.0033898305084745766\n",
      "The f1 for Thriller is 0.027815934065934064\n",
      "The f1 for War is 0.13768961493582263\n",
      "The f1 for Western is 0.0\n"
     ]
    },
    {
     "name": "stderr",
     "output_type": "stream",
     "text": [
      "/home/sharadv/anaconda3/lib/python3.6/site-packages/sklearn/metrics/classification.py:1135: UndefinedMetricWarning: F-score is ill-defined and being set to 0.0 due to no predicted samples.\n",
      "  'precision', 'predicted', average, warn_for)\n"
     ]
    }
   ],
   "source": [
    "indiv_class_scores(y_test_lstm, preds_LSTM, threshold = 0.5, metric = \"f1\")"
   ]
  },
  {
   "cell_type": "code",
   "execution_count": 76,
   "metadata": {},
   "outputs": [
    {
     "name": "stderr",
     "output_type": "stream",
     "text": [
      "/home/sharadv/anaconda3/lib/python3.6/site-packages/sklearn/metrics/classification.py:1135: UndefinedMetricWarning: Precision is ill-defined and being set to 0.0 in labels with no predicted samples.\n",
      "  'precision', 'predicted', average, warn_for)\n",
      "/home/sharadv/anaconda3/lib/python3.6/site-packages/sklearn/metrics/classification.py:1135: UndefinedMetricWarning: F-score is ill-defined and being set to 0.0 in labels with no predicted samples.\n",
      "  'precision', 'predicted', average, warn_for)\n"
     ]
    }
   ],
   "source": [
    "y_pred_LSTM = preds_LSTM >= 0.5\n",
    "micro_precision = precision_score(y_test_lstm, y_pred_LSTM, average = 'micro')\n",
    "weighted_macro_precision = precision_score(y_test_lstm, y_pred_LSTM, average = 'weighted')\n",
    "micro_recall = recall_score(y_test_lstm, y_pred_LSTM, average = 'micro')\n",
    "weighted_macro_recall = recall_score(y_test_lstm, y_pred_LSTM, average = 'weighted')\n",
    "micro_f1 = f1_score(y_test_lstm, y_pred_LSTM, average = 'micro')\n",
    "weighted_macro_f1 = f1_score(y_test_lstm, y_pred_LSTM, average = 'weighted')"
   ]
  },
  {
   "cell_type": "code",
   "execution_count": 77,
   "metadata": {},
   "outputs": [
    {
     "name": "stdout",
     "output_type": "stream",
     "text": [
      "The micro precision is 0.6459451706757365\n",
      "The weighted macro precision is 0.5534187077225805\n",
      "The micro recall is 0.16780216738699993\n",
      "The weighted macro recall is 0.16780216738699993\n",
      "The micro f1 is 0.2663996417133538\n",
      "The weighted macro f1 is 0.2048039333371301\n"
     ]
    }
   ],
   "source": [
    "print(\"The micro precision is\", micro_precision)\n",
    "print(\"The weighted macro precision is\", weighted_macro_precision)\n",
    "print(\"The micro recall is\", micro_recall)\n",
    "print(\"The weighted macro recall is\", weighted_macro_recall)\n",
    "print(\"The micro f1 is\", micro_f1)\n",
    "print(\"The weighted macro f1 is\", weighted_macro_f1)"
   ]
  },
  {
   "cell_type": "code",
   "execution_count": null,
   "metadata": {},
   "outputs": [],
   "source": []
  }
 ],
 "metadata": {
  "kernelspec": {
   "display_name": "Python 3",
   "language": "python",
   "name": "python3"
  },
  "language_info": {
   "codemirror_mode": {
    "name": "ipython",
    "version": 3
   },
   "file_extension": ".py",
   "mimetype": "text/x-python",
   "name": "python",
   "nbconvert_exporter": "python",
   "pygments_lexer": "ipython3",
   "version": "3.6.5"
  }
 },
 "nbformat": 4,
 "nbformat_minor": 2
}
